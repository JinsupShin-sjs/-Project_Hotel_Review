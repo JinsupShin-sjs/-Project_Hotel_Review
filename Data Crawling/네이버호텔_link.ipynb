{
 "cells": [
  {
   "cell_type": "code",
   "execution_count": 1,
   "id": "b60bceaa",
   "metadata": {},
   "outputs": [],
   "source": [
    "from bs4 import BeautifulSoup\n",
    "import pandas as pd\n",
    "import time \n",
    "from selenium import webdriver\n",
    "import chromedriver_autoinstaller\n",
    "from selenium.webdriver.common.keys import Keys  \n",
    "from selenium.webdriver.common.by import By\n",
    "import os"
   ]
  },
  {
   "cell_type": "code",
   "execution_count": 2,
   "id": "83ff7e23",
   "metadata": {},
   "outputs": [
    {
     "name": "stdout",
     "output_type": "stream",
     "text": [
      "113\n"
     ]
    }
   ],
   "source": [
    "chrome_ver =chromedriver_autoinstaller.get_chrome_version().split('.')[0]\n",
    "print(chrome_ver)"
   ]
  },
  {
   "cell_type": "code",
   "execution_count": 3,
   "id": "e83db2c3",
   "metadata": {},
   "outputs": [
    {
     "name": "stderr",
     "output_type": "stream",
     "text": [
      "C:\\Users\\tjoeun\\AppData\\Local\\Temp\\ipykernel_9416\\3010569745.py:2: DeprecationWarning: executable_path has been deprecated, please pass in a Service object\n",
      "  crawler = webdriver.Chrome(f'./{chrome_ver}/chromedriver.exe')\n"
     ]
    }
   ],
   "source": [
    "try :\n",
    "    crawler = webdriver.Chrome(f'./{chrome_ver}/chromedriver.exe')\n",
    "except :\n",
    "    chromedriver_autoinstaller.install(True)\n",
    "    crawler = webdriver.Chrome(f'./{chrome_ver}/chromedriver.exe')\n",
    "crawler.implicitly_wait(10)\n",
    "crawler.get('https://hotels.naver.com/')"
   ]
  },
  {
   "cell_type": "code",
   "execution_count": 4,
   "id": "f6e77e88",
   "metadata": {},
   "outputs": [],
   "source": [
    "crawler.find_element(By.XPATH, r'//*[@id=\"__next\"]/div/div[2]/div/div[2]/button[2]').click()\n",
    "crawler.find_element(By.XPATH, r'//*[@id=\"__next\"]/div/div[1]/div[2]/div/div/div/div[1]/button').click()\n",
    "engine = crawler.find_element(By.XPATH, r'//*[@id=\"__next\"]/div/div[2]/div[1]/div/input')\n",
    "engine.send_keys('제주')"
   ]
  },
  {
   "cell_type": "code",
   "execution_count": 5,
   "id": "1643acde",
   "metadata": {},
   "outputs": [],
   "source": [
    "crawler.find_element(By.XPATH, r'//*[@id=\"__next\"]/div/div[2]/div[2]/section/ul/li[2]/a/div/b/mark').click()\n",
    "crawler.find_element(By.XPATH, r'//*[@id=\"__next\"]/div/div[1]/div[2]/div/div/button').click()"
   ]
  },
  {
   "cell_type": "code",
   "execution_count": 6,
   "id": "1aca39e2",
   "metadata": {},
   "outputs": [
    {
     "name": "stdout",
     "output_type": "stream",
     "text": [
      "4828\n"
     ]
    }
   ],
   "source": [
    "links  =[]\n",
    "\n",
    "for i in range(-1,0):\n",
    "    crawler.get('https://hotels.naver.com/list?placeFileName=place%3AJeju_Province&adultCnt=2&includeTax=false&sortField=popularityKR&sortDirection=descending&pageIndex={0}')\n",
    "    #print(i)\n",
    "    while True:\n",
    "        bh = crawler.execute_script(\"return document.body.scrollHeight\")\n",
    "        print(bh)\n",
    "        time.sleep(4)\n",
    "        crawler.execute_script(\"window.scrollTo(0,document.body.scrollHeight)\")\n",
    "        time.sleep(2)\n",
    "        ah = crawler.execute_script(\"return document.body.scrollHeight\")\n",
    "        if ah == bh:\n",
    "            break\n",
    "        bh = ah\n",
    "    infos = crawler.find_elements(By.CSS_SELECTOR,'.Detail_Thumbnail__NYaJI' )\n",
    "    for info in infos:\n",
    "        try:\n",
    "            link = info.find_element(By.CSS_SELECTOR, 'a.ThumbnailImage_img_wrap__UAKF5').get_attribute(\"href\") \n",
    "            links.append(link)\n",
    "        except:\n",
    "            print(\"Exception\")\n",
    "crawler.close()"
   ]
  },
  {
   "cell_type": "code",
   "execution_count": 7,
   "id": "dbcf9bd2",
   "metadata": {},
   "outputs": [
    {
     "data": {
      "text/plain": [
       "['https://hotels.naver.com/item/photo?hotelFileName=hotel%3AParnas_Hotel_Jeju&adultCnt=2&includeTax=false',\n",
       " 'https://hotels.naver.com/item/photo?hotelFileName=hotel%3AThe_Shilla_Jeju&adultCnt=2&includeTax=false',\n",
       " 'https://hotels.naver.com/item/photo?hotelFileName=hotel%3ALanding_Jeju_Shinhwa_World_HotelsResorts&adultCnt=2&includeTax=false',\n",
       " 'https://hotels.naver.com/item/photo?hotelFileName=hotel%3AMaison_Glad_Jeju&adultCnt=2&includeTax=false',\n",
       " 'https://hotels.naver.com/item/photo?hotelFileName=hotel%3ALotte_Hotel_Jeju&adultCnt=2&includeTax=false',\n",
       " 'https://hotels.naver.com/item/photo?hotelFileName=hotel%3ARamada_Plaza_Jeju_Hotel&adultCnt=2&includeTax=false',\n",
       " 'https://hotels.naver.com/item/photo?hotelFileName=hotel%3AShilla_Stay_Jeju&adultCnt=2&includeTax=false',\n",
       " 'https://hotels.naver.com/item/photo?hotelFileName=hotel%3AGrand_Hyatt_Jeju&adultCnt=2&includeTax=false',\n",
       " 'https://hotels.naver.com/item/photo?hotelFileName=hotel%3AUtop_Ubless_Hotel&adultCnt=2&includeTax=false',\n",
       " 'https://hotels.naver.com/item/photo?hotelFileName=hotel%3AGrand_Josun_Jeju&adultCnt=2&includeTax=false',\n",
       " 'https://hotels.naver.com/item/photo?hotelFileName=hotel%3AEcoland_Hotel&adultCnt=2&includeTax=false',\n",
       " 'https://hotels.naver.com/item/photo?hotelFileName=hotel%3AHotel_Whistlelark_by_Bestwestern_Signature_Collection&adultCnt=2&includeTax=false',\n",
       " 'https://hotels.naver.com/item/photo?hotelFileName=hotel%3ABest_Western_Jeju_Hotel&adultCnt=2&includeTax=false',\n",
       " 'https://hotels.naver.com/item/photo?hotelFileName=hotel%3ATamna_Stay_Hotel_Jeju&adultCnt=2&includeTax=false',\n",
       " 'https://hotels.naver.com/item/photo?hotelFileName=hotel%3ARamada_Jeju_City_Hotel&adultCnt=2&includeTax=false',\n",
       " 'https://hotels.naver.com/item/photo?hotelFileName=hotel%3AShinhwa_Jeju_Shinhwa_World_Hotels_Resorts&adultCnt=2&includeTax=false',\n",
       " 'https://hotels.naver.com/item/photo?hotelFileName=hotel%3AHaevichi_Hotel_Resort_Jeju&adultCnt=2&includeTax=false',\n",
       " 'https://hotels.naver.com/item/photo?hotelFileName=hotel%3AHotel_Regent_Marine_The_Blue&adultCnt=2&includeTax=false',\n",
       " 'https://hotels.naver.com/item/photo?hotelFileName=hotel%3ABrown_Suites_Jeju&adultCnt=2&includeTax=false',\n",
       " 'https://hotels.naver.com/item/photo?hotelFileName=hotel%3ASomerset_Jeju_Shinhwa_World&adultCnt=2&includeTax=false']"
      ]
     },
     "execution_count": 7,
     "metadata": {},
     "output_type": "execute_result"
    }
   ],
   "source": [
    "links"
   ]
  },
  {
   "cell_type": "code",
   "execution_count": 10,
   "id": "09e6ea29",
   "metadata": {},
   "outputs": [
    {
     "name": "stdout",
     "output_type": "stream",
     "text": [
      "                                                 link\n",
      "0   https://hotels.naver.com/item/photo?hotelFileN...\n",
      "1   https://hotels.naver.com/item/photo?hotelFileN...\n",
      "2   https://hotels.naver.com/item/photo?hotelFileN...\n",
      "3   https://hotels.naver.com/item/photo?hotelFileN...\n",
      "4   https://hotels.naver.com/item/photo?hotelFileN...\n",
      "5   https://hotels.naver.com/item/photo?hotelFileN...\n",
      "6   https://hotels.naver.com/item/photo?hotelFileN...\n",
      "7   https://hotels.naver.com/item/photo?hotelFileN...\n",
      "8   https://hotels.naver.com/item/photo?hotelFileN...\n",
      "9   https://hotels.naver.com/item/photo?hotelFileN...\n",
      "10  https://hotels.naver.com/item/photo?hotelFileN...\n",
      "11  https://hotels.naver.com/item/photo?hotelFileN...\n",
      "12  https://hotels.naver.com/item/photo?hotelFileN...\n",
      "13  https://hotels.naver.com/item/photo?hotelFileN...\n",
      "14  https://hotels.naver.com/item/photo?hotelFileN...\n",
      "15  https://hotels.naver.com/item/photo?hotelFileN...\n",
      "16  https://hotels.naver.com/item/photo?hotelFileN...\n",
      "17  https://hotels.naver.com/item/photo?hotelFileN...\n",
      "18  https://hotels.naver.com/item/photo?hotelFileN...\n",
      "19  https://hotels.naver.com/item/photo?hotelFileN...\n"
     ]
    }
   ],
   "source": [
    "df = pd.DataFrame(links, columns=['link'])\n",
    "print(df)"
   ]
  },
  {
   "cell_type": "code",
   "execution_count": 8,
   "id": "fc272596",
   "metadata": {},
   "outputs": [],
   "source": [
    "# df_l=pd.DataFrame([{'link':links}])\n",
    "# print(df_l)"
   ]
  },
  {
   "cell_type": "code",
   "execution_count": 12,
   "id": "eda97b12",
   "metadata": {},
   "outputs": [],
   "source": [
    "df.to_csv(\"c:/프로젝트/Hotel Review/link_1.csv\", sep=',', encoding=\"utf-8-sig\")"
   ]
  }
 ],
 "metadata": {
  "kernelspec": {
   "display_name": "Python 3 (ipykernel)",
   "language": "python",
   "name": "python3"
  },
  "language_info": {
   "codemirror_mode": {
    "name": "ipython",
    "version": 3
   },
   "file_extension": ".py",
   "mimetype": "text/x-python",
   "name": "python",
   "nbconvert_exporter": "python",
   "pygments_lexer": "ipython3",
   "version": "3.9.16"
  }
 },
 "nbformat": 4,
 "nbformat_minor": 5
}
