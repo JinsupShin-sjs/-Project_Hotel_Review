{
 "cells": [
  {
   "cell_type": "code",
   "execution_count": 1,
   "id": "b60bceaa",
   "metadata": {},
   "outputs": [],
   "source": [
    "from bs4 import BeautifulSoup\n",
    "import pandas as pd\n",
    "import time \n",
    "from selenium import webdriver\n",
    "import chromedriver_autoinstaller\n",
    "from selenium.webdriver.common.keys import Keys  \n",
    "from selenium.webdriver.common.by import By\n",
    "import os"
   ]
  },
  {
   "cell_type": "code",
   "execution_count": 2,
   "id": "83ff7e23",
   "metadata": {},
   "outputs": [
    {
     "name": "stdout",
     "output_type": "stream",
     "text": [
      "113\n"
     ]
    }
   ],
   "source": [
    "chrome_ver =chromedriver_autoinstaller.get_chrome_version().split('.')[0]\n",
    "print(chrome_ver)"
   ]
  },
  {
   "cell_type": "code",
   "execution_count": 3,
   "id": "e83db2c3",
   "metadata": {},
   "outputs": [
    {
     "name": "stderr",
     "output_type": "stream",
     "text": [
      "C:\\Users\\tjoeun\\AppData\\Local\\Temp\\ipykernel_2420\\3010569745.py:2: DeprecationWarning: executable_path has been deprecated, please pass in a Service object\n",
      "  crawler = webdriver.Chrome(f'./{chrome_ver}/chromedriver.exe')\n"
     ]
    }
   ],
   "source": [
    "try :\n",
    "    crawler = webdriver.Chrome(f'./{chrome_ver}/chromedriver.exe')\n",
    "except :\n",
    "    chromedriver_autoinstaller.install(True)\n",
    "    crawler = webdriver.Chrome(f'./{chrome_ver}/chromedriver.exe')\n",
    "crawler.implicitly_wait(10)\n",
    "crawler.get('https://hotels.naver.com/')"
   ]
  },
  {
   "cell_type": "code",
   "execution_count": 4,
   "id": "f6e77e88",
   "metadata": {},
   "outputs": [],
   "source": [
    "crawler.find_element(By.XPATH, r'//*[@id=\"__next\"]/div/div[2]/div/div[2]/button[2]').click()\n",
    "crawler.find_element(By.XPATH, r'//*[@id=\"__next\"]/div/div[1]/div[2]/div/div/div/div[1]/button').click()\n",
    "engine = crawler.find_element(By.XPATH, r'//*[@id=\"__next\"]/div/div[2]/div[1]/div/input')\n",
    "engine.send_keys('제주')"
   ]
  },
  {
   "cell_type": "code",
   "execution_count": 5,
   "id": "1643acde",
   "metadata": {},
   "outputs": [],
   "source": [
    "crawler.find_element(By.XPATH, r'//*[@id=\"__next\"]/div/div[2]/div[2]/section/ul/li[2]/a/div/b/mark').click()\n",
    "crawler.find_element(By.XPATH, r'//*[@id=\"__next\"]/div/div[1]/div[2]/div/div/button').click()"
   ]
  },
  {
   "cell_type": "code",
   "execution_count": 6,
   "id": "4b2dbd45",
   "metadata": {},
   "outputs": [
    {
     "name": "stdout",
     "output_type": "stream",
     "text": [
      "4828\n",
      "Exception\n",
      "4828\n",
      "Exception\n",
      "4828\n",
      "Exception\n"
     ]
    }
   ],
   "source": [
    "total = []\n",
    "\n",
    "for i in range(1,4):\n",
    "    crawler.get('https://hotels.naver.com/list?placeFileName=place%3AJeju_Province&adultCnt=2&includeTax=false&sortField=popularityKR&sortDirection=descending&pageIndex={i}')\n",
    "    #print(i)\n",
    "    while True:\n",
    "        bh = crawler.execute_script(\"return document.body.scrollHeight\")\n",
    "        print(bh)\n",
    "        time.sleep(10)\n",
    "        crawler.execute_script(\"window.scrollTo(0,document.body.scrollHeight)\")\n",
    "        time.sleep(4)\n",
    "        ah = crawler.execute_script(\"return document.body.scrollHeight\")\n",
    "        if ah == bh:\n",
    "            break\n",
    "        bh = ah\n",
    "    infos = crawler.find_elements(By.CSS_SELECTOR,'.Detail_InfoArea__uZ4qT' )\n",
    "    for info in infos:\n",
    "        try:\n",
    "            name = info.find_element(By.CSS_SELECTOR,'.Detail_title__40_dz').text\n",
    "            # names.append(name)\n",
    "            prov = info.find_element(By.CSS_SELECTOR,'.Detail_location__u3_N6').text.strip(', 대한민국')\n",
    "            # provs.append(prov)\n",
    "            score = info.find_element(By.CSS_SELECTOR, '.Detail_score__UxnqZ').text\n",
    "            # scores.append(score)\n",
    "            grade = info.find_element(By.CSS_SELECTOR, '.Detail_grade__y5BmJ').text\n",
    "            # grades.append(grade)\n",
    "            total.append([name, prov,score,grade])\n",
    "            \n",
    "        except:\n",
    "            print(\"Exception\")\n",
    "crawler.close()\n",
    "            \n",
    "        \n",
    "    \n"
   ]
  },
  {
   "cell_type": "code",
   "execution_count": 7,
   "id": "e8a7bb25",
   "metadata": {},
   "outputs": [
    {
     "name": "stdout",
     "output_type": "stream",
     "text": [
      "                         name prov score grade\n",
      "0                  파르나스 호텔 제주  서귀포   9.2   5성급\n",
      "1                    제주 신라 호텔  서귀포   9.0   5성급\n",
      "2           랜딩관 제주신화월드 호텔앤리조트  서귀포   8.3   5성급\n",
      "3                   메종 글래드 제주   제주   8.1   5성급\n",
      "4                    롯데 호텔 제주  서귀포   8.8   5성급\n",
      "5               라마다 프라자 제주 호텔   제주   8.2   5성급\n",
      "6                    신라스테이 제주   제주   8.0   4성급\n",
      "7                  그랜드 하얏트 제주   제주   8.8   5성급\n",
      "8                   유탑 유블레스호텔   제주   8.0   4성급\n",
      "9                   그랜드 조선 제주  서귀포   8.9   5성급\n",
      "10  호텔 휘슬락 바이 베스트웨스턴 시그니처 컬렉션   제주   7.7   4성급\n",
      "11                베스트웨스턴 제주호텔   제주   7.6   4성급\n",
      "12                탐라스테이 호텔 제주   제주   7.7   4성급\n",
      "13               라마다 제주 시티 호텔   제주   8.1   4성급\n",
      "14          신화관 제주신화월드 호텔앤리조트  서귀포   8.3   5성급\n",
      "15               해비치 호텔 & 리조트  서귀포   8.6   5성급\n",
      "16             호텔 리젠트 마린 더 블루   제주   8.2   4성급\n",
      "17                 브라운 스위트 제주  서귀포   7.3   4성급\n",
      "18                 서머셋 제주신화월드  서귀포   8.6   5성급\n",
      "19                 파르나스 호텔 제주  서귀포   9.2   5성급\n",
      "20                   제주 신라 호텔  서귀포   9.0   5성급\n",
      "21          랜딩관 제주신화월드 호텔앤리조트  서귀포   8.3   5성급\n",
      "22                  메종 글래드 제주   제주   8.1   5성급\n",
      "23                   롯데 호텔 제주  서귀포   8.8   5성급\n",
      "24              라마다 프라자 제주 호텔   제주   8.2   5성급\n",
      "25                   신라스테이 제주   제주   8.0   4성급\n",
      "26                 그랜드 하얏트 제주   제주   8.8   5성급\n",
      "27                  유탑 유블레스호텔   제주   8.0   4성급\n",
      "28                  그랜드 조선 제주  서귀포   8.9   5성급\n",
      "29  호텔 휘슬락 바이 베스트웨스턴 시그니처 컬렉션   제주   7.7   4성급\n",
      "30                베스트웨스턴 제주호텔   제주   7.6   4성급\n",
      "31                탐라스테이 호텔 제주   제주   7.7   4성급\n",
      "32               라마다 제주 시티 호텔   제주   8.1   4성급\n",
      "33          신화관 제주신화월드 호텔앤리조트  서귀포   8.3   5성급\n",
      "34               해비치 호텔 & 리조트  서귀포   8.6   5성급\n",
      "35             호텔 리젠트 마린 더 블루   제주   8.2   4성급\n",
      "36                 브라운 스위트 제주  서귀포   7.3   4성급\n",
      "37                 서머셋 제주신화월드  서귀포   8.6   5성급\n",
      "38                 파르나스 호텔 제주  서귀포   9.2   5성급\n",
      "39                   제주 신라 호텔  서귀포   9.0   5성급\n",
      "40          랜딩관 제주신화월드 호텔앤리조트  서귀포   8.3   5성급\n",
      "41                  메종 글래드 제주   제주   8.1   5성급\n",
      "42                   롯데 호텔 제주  서귀포   8.8   5성급\n",
      "43              라마다 프라자 제주 호텔   제주   8.2   5성급\n",
      "44                   신라스테이 제주   제주   8.0   4성급\n",
      "45                 그랜드 하얏트 제주   제주   8.8   5성급\n",
      "46                  유탑 유블레스호텔   제주   8.0   4성급\n",
      "47                  그랜드 조선 제주  서귀포   8.9   5성급\n",
      "48  호텔 휘슬락 바이 베스트웨스턴 시그니처 컬렉션   제주   7.7   4성급\n",
      "49                베스트웨스턴 제주호텔   제주   7.6   4성급\n",
      "50                탐라스테이 호텔 제주   제주   7.7   4성급\n",
      "51               라마다 제주 시티 호텔   제주   8.1   4성급\n",
      "52          신화관 제주신화월드 호텔앤리조트  서귀포   8.3   5성급\n",
      "53               해비치 호텔 & 리조트  서귀포   8.6   5성급\n",
      "54             호텔 리젠트 마린 더 블루   제주   8.2   4성급\n",
      "55                 브라운 스위트 제주  서귀포   7.3   4성급\n",
      "56                 서머셋 제주신화월드  서귀포   8.6   5성급\n"
     ]
    }
   ],
   "source": [
    "df = pd.DataFrame(total, columns=['name', 'prov', 'score', 'grade'])\n",
    "print(df)"
   ]
  },
  {
   "cell_type": "code",
   "execution_count": 8,
   "id": "5eababcd",
   "metadata": {},
   "outputs": [],
   "source": [
    "# data = [{'name':names, 'prov':provs, 'score':scores, 'grade':grades}]\n",
    "# df1 = pd.DataFrame(data)\n",
    "# print(df1)"
   ]
  },
  {
   "cell_type": "code",
   "execution_count": 9,
   "id": "f237a2f9",
   "metadata": {},
   "outputs": [],
   "source": [
    "#df=pd.DataFrame([{'name':names, 'prov':provs, 'score':scores, 'grade':grades}])\n",
    "#print(df)"
   ]
  },
  {
   "cell_type": "code",
   "execution_count": 10,
   "id": "189e3a7c",
   "metadata": {},
   "outputs": [],
   "source": [
    "#df.to_csv(\"c:/프로젝트/Hotel Review/info.csv\", sep=',', encoding=\"utf-8-sig\")"
   ]
  },
  {
   "cell_type": "code",
   "execution_count": null,
   "id": "009f267d",
   "metadata": {},
   "outputs": [],
   "source": []
  }
 ],
 "metadata": {
  "kernelspec": {
   "display_name": "Python 3 (ipykernel)",
   "language": "python",
   "name": "python3"
  },
  "language_info": {
   "codemirror_mode": {
    "name": "ipython",
    "version": 3
   },
   "file_extension": ".py",
   "mimetype": "text/x-python",
   "name": "python",
   "nbconvert_exporter": "python",
   "pygments_lexer": "ipython3",
   "version": "3.9.16"
  }
 },
 "nbformat": 4,
 "nbformat_minor": 5
}
