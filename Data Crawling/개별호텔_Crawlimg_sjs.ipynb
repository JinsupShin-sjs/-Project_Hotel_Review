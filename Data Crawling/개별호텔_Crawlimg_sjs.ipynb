{
 "cells": [
  {
   "cell_type": "code",
   "execution_count": 1,
   "id": "1de1aaaa",
   "metadata": {},
   "outputs": [],
   "source": [
    "import requests\n",
    "from bs4 import BeautifulSoup\n",
    "import pandas as pd\n",
    "import time\n",
    "from selenium import webdriver\n",
    "from selenium.webdriver.common.keys import Keys\n",
    "from selenium.webdriver.common.by import By\n",
    "from tqdm import tqdm\n",
    "from urllib.parse import quote\n",
    "from folium import *\n",
    "from folium.plugins import MarkerCluster\n",
    "import folium\n",
    "import json"
   ]
  },
  {
   "attachments": {},
   "cell_type": "markdown",
   "id": "4e6ef4cc",
   "metadata": {},
   "source": [
    "### 1. 데이터를 가져오기"
   ]
  },
  {
   "cell_type": "code",
   "execution_count": 2,
   "id": "fec3f827",
   "metadata": {},
   "outputs": [],
   "source": [
    "path = \"c:/python/chromedriver.exe\"\n",
    "driver = webdriver.Chrome()\n",
    "url = 'https://hotels.naver.com/item/photo?hotelFileName=hotel%3AStaz_Hotel_Jeju_Robero&adultCnt=2&includeTax=false'\n",
    "driver.get(url)\n",
    "time.sleep(1)\n",
    "\n",
    "driver.find_element(By.XPATH, r'//*[@id=\"__next\"]/div/div/div[2]/div/a[5]').click()\n",
    "#driver.find_element(By.XPATH, r'//*[@id=\"__next\"]/div/div[1]/div[3]/div/a[5]').click()\n",
    "#driver.find_element(By.XPATH, r'//*[@id=\"__next\"]/div/div[1]/div[2]/div/a[4]').click()"
   ]
  },
  {
   "attachments": {},
   "cell_type": "markdown",
   "id": "3007def4",
   "metadata": {},
   "source": [
    "### 2. 스크롤 내리기"
   ]
  },
  {
   "cell_type": "code",
   "execution_count": 3,
   "id": "f63b2da7",
   "metadata": {},
   "outputs": [
    {
     "name": "stdout",
     "output_type": "stream",
     "text": [
      "2857\n",
      "6134\n"
     ]
    }
   ],
   "source": [
    "while True:\n",
    "    bh = driver.execute_script(\"return document.body.scrollHeight\")\n",
    "    print(bh)\n",
    "    time.sleep(4)\n",
    "    driver.execute_script(\"window.scrollTo(0,document.body.scrollHeight)\")\n",
    "    time.sleep(2)\n",
    "    ah = driver.execute_script(\"return document.body.scrollHeight\")\n",
    "    if ah == bh:\n",
    "        break\n",
    "    bh = ah"
   ]
  },
  {
   "attachments": {},
   "cell_type": "markdown",
   "id": "93e47892",
   "metadata": {},
   "source": [
    "### 2. 원하는 데이터 찾기"
   ]
  },
  {
   "cell_type": "code",
   "execution_count": 4,
   "id": "55b7aa6c",
   "metadata": {},
   "outputs": [],
   "source": [
    "soup = BeautifulSoup(driver.page_source, 'html.parser')"
   ]
  },
  {
   "cell_type": "code",
   "execution_count": 5,
   "id": "c1e068b3",
   "metadata": {},
   "outputs": [
    {
     "data": {
      "text/plain": [
       "30"
      ]
     },
     "execution_count": 5,
     "metadata": {},
     "output_type": "execute_result"
    }
   ],
   "source": [
    "lis = soup.select_one(\".common_ReviewList__4cL43\").find_all('li')\n",
    "len(lis)"
   ]
  },
  {
   "cell_type": "code",
   "execution_count": 6,
   "id": "a15b543e",
   "metadata": {},
   "outputs": [],
   "source": [
    "li = lis[0]"
   ]
  },
  {
   "attachments": {},
   "cell_type": "markdown",
   "id": "8d75ef9d",
   "metadata": {},
   "source": [
    "### 3. 반복문으로 데이터 가져오기"
   ]
  },
  {
   "cell_type": "code",
   "execution_count": 7,
   "id": "bc1ba22c",
   "metadata": {},
   "outputs": [],
   "source": [
    "line = []\n",
    "for li in lis:\n",
    "    title = li.find(attrs={'class':'common_title_txt__Kn91_'}).get_text()\n",
    "    score = li.find('b', attrs={'class':'common_star_txt__3f1Yt'}).get_text()\n",
    "    try : \n",
    "        p_review=li.find('p',attrs={\"class\":\"common_booking_txt___dAYT common_as_positive__8PlLV\"}).get_text()\n",
    "    except:\n",
    "        p_review = \"없음\"\n",
    "    try : \n",
    "        n_review = li.find('p',attrs={\"class\":\"common_booking_txt___dAYT common_as_negative__LjbBo\"}).get_text()\n",
    "    except:\n",
    "        n_review = \"없음\"  \n",
    "    try : \n",
    "        o_review = li.find('p',attrs={\"class\":\"common_txt__2Xcex\"}).get_text()\n",
    "    except:\n",
    "        o_review = \"없음\"  \n",
    "    line.append({'title':title , 'score': score , 'p_review':p_review , 'n_review':n_review,'o_review':o_review  })\n",
    "\n",
    "driver.close()"
   ]
  },
  {
   "attachments": {},
   "cell_type": "markdown",
   "id": "d0e14a9c",
   "metadata": {},
   "source": [
    "### 4. DF 생성  및 저장"
   ]
  },
  {
   "cell_type": "code",
   "execution_count": 8,
   "id": "77fd5170",
   "metadata": {},
   "outputs": [
    {
     "name": "stdout",
     "output_type": "stream",
     "text": [
      "스타즈 호텔 제주 로베로점\n"
     ]
    }
   ],
   "source": [
    "# 호텔명\n",
    "name = soup.select_one('.common_name__TacRt').get_text()\n",
    "print(name)\n",
    "# name = soup.select_one('.common_name__TacRt > strong > div' )\n",
    "# len(lis)"
   ]
  },
  {
   "cell_type": "code",
   "execution_count": 9,
   "id": "9fbcf735",
   "metadata": {
    "collapsed": true
   },
   "outputs": [
    {
     "data": {
      "text/html": [
       "<div>\n",
       "<style scoped>\n",
       "    .dataframe tbody tr th:only-of-type {\n",
       "        vertical-align: middle;\n",
       "    }\n",
       "\n",
       "    .dataframe tbody tr th {\n",
       "        vertical-align: top;\n",
       "    }\n",
       "\n",
       "    .dataframe thead th {\n",
       "        text-align: right;\n",
       "    }\n",
       "</style>\n",
       "<table border=\"1\" class=\"dataframe\">\n",
       "  <thead>\n",
       "    <tr style=\"text-align: right;\">\n",
       "      <th></th>\n",
       "      <th>title</th>\n",
       "      <th>score</th>\n",
       "      <th>p_review</th>\n",
       "      <th>n_review</th>\n",
       "      <th>o_review</th>\n",
       "    </tr>\n",
       "  </thead>\n",
       "  <tbody>\n",
       "    <tr>\n",
       "      <th>0</th>\n",
       "      <td>\"매우 좋음\"</td>\n",
       "      <td>8</td>\n",
       "      <td>없음</td>\n",
       "      <td>없음</td>\n",
       "      <td>없음</td>\n",
       "    </tr>\n",
       "    <tr>\n",
       "      <th>1</th>\n",
       "      <td>\"강력 추천\"</td>\n",
       "      <td>10</td>\n",
       "      <td>없음</td>\n",
       "      <td>없음</td>\n",
       "      <td>없음</td>\n",
       "    </tr>\n",
       "    <tr>\n",
       "      <th>2</th>\n",
       "      <td>\"좋음\"</td>\n",
       "      <td>7</td>\n",
       "      <td>시장과 가깝고 직원분들이 아주 친절하셨어요\\n아기와 있어 카펫 없는 방을 부탁드렸더...</td>\n",
       "      <td>카펫이었던 바닥이 더러웠고 화장실 문의 경첩이 매끄럽게 마무리되어있지않아 문 열고 ...</td>\n",
       "      <td>없음</td>\n",
       "    </tr>\n",
       "    <tr>\n",
       "      <th>3</th>\n",
       "      <td>\"매우 좋음\"</td>\n",
       "      <td>8</td>\n",
       "      <td>없음</td>\n",
       "      <td>없음</td>\n",
       "      <td>없음</td>\n",
       "    </tr>\n",
       "    <tr>\n",
       "      <th>4</th>\n",
       "      <td>\"매우 좋음\"</td>\n",
       "      <td>8</td>\n",
       "      <td>없음</td>\n",
       "      <td>없음</td>\n",
       "      <td>없음</td>\n",
       "    </tr>\n",
       "  </tbody>\n",
       "</table>\n",
       "</div>"
      ],
      "text/plain": [
       "     title score                                           p_review  \\\n",
       "0  \"매우 좋음\"     8                                                 없음   \n",
       "1  \"강력 추천\"    10                                                 없음   \n",
       "2     \"좋음\"     7  시장과 가깝고 직원분들이 아주 친절하셨어요\\n아기와 있어 카펫 없는 방을 부탁드렸더...   \n",
       "3  \"매우 좋음\"     8                                                 없음   \n",
       "4  \"매우 좋음\"     8                                                 없음   \n",
       "\n",
       "                                            n_review o_review  \n",
       "0                                                 없음       없음  \n",
       "1                                                 없음       없음  \n",
       "2  카펫이었던 바닥이 더러웠고 화장실 문의 경첩이 매끄럽게 마무리되어있지않아 문 열고 ...       없음  \n",
       "3                                                 없음       없음  \n",
       "4                                                 없음       없음  "
      ]
     },
     "execution_count": 9,
     "metadata": {},
     "output_type": "execute_result"
    }
   ],
   "source": [
    "df= pd.DataFrame(line)\n",
    "df.head()"
   ]
  },
  {
   "cell_type": "code",
   "execution_count": 10,
   "id": "c5b8271d",
   "metadata": {},
   "outputs": [
    {
     "data": {
      "text/html": [
       "<div>\n",
       "<style scoped>\n",
       "    .dataframe tbody tr th:only-of-type {\n",
       "        vertical-align: middle;\n",
       "    }\n",
       "\n",
       "    .dataframe tbody tr th {\n",
       "        vertical-align: top;\n",
       "    }\n",
       "\n",
       "    .dataframe thead th {\n",
       "        text-align: right;\n",
       "    }\n",
       "</style>\n",
       "<table border=\"1\" class=\"dataframe\">\n",
       "  <thead>\n",
       "    <tr style=\"text-align: right;\">\n",
       "      <th></th>\n",
       "      <th>title</th>\n",
       "      <th>score</th>\n",
       "      <th>p_review</th>\n",
       "      <th>n_review</th>\n",
       "      <th>o_review</th>\n",
       "      <th>name</th>\n",
       "    </tr>\n",
       "  </thead>\n",
       "  <tbody>\n",
       "    <tr>\n",
       "      <th>0</th>\n",
       "      <td>\"매우 좋음\"</td>\n",
       "      <td>8</td>\n",
       "      <td>없음</td>\n",
       "      <td>없음</td>\n",
       "      <td>없음</td>\n",
       "      <td>스타즈 호텔 제주 로베로점</td>\n",
       "    </tr>\n",
       "    <tr>\n",
       "      <th>1</th>\n",
       "      <td>\"강력 추천\"</td>\n",
       "      <td>10</td>\n",
       "      <td>없음</td>\n",
       "      <td>없음</td>\n",
       "      <td>없음</td>\n",
       "      <td>스타즈 호텔 제주 로베로점</td>\n",
       "    </tr>\n",
       "    <tr>\n",
       "      <th>2</th>\n",
       "      <td>\"좋음\"</td>\n",
       "      <td>7</td>\n",
       "      <td>시장과 가깝고 직원분들이 아주 친절하셨어요\\n아기와 있어 카펫 없는 방을 부탁드렸더...</td>\n",
       "      <td>카펫이었던 바닥이 더러웠고 화장실 문의 경첩이 매끄럽게 마무리되어있지않아 문 열고 ...</td>\n",
       "      <td>없음</td>\n",
       "      <td>스타즈 호텔 제주 로베로점</td>\n",
       "    </tr>\n",
       "    <tr>\n",
       "      <th>3</th>\n",
       "      <td>\"매우 좋음\"</td>\n",
       "      <td>8</td>\n",
       "      <td>없음</td>\n",
       "      <td>없음</td>\n",
       "      <td>없음</td>\n",
       "      <td>스타즈 호텔 제주 로베로점</td>\n",
       "    </tr>\n",
       "    <tr>\n",
       "      <th>4</th>\n",
       "      <td>\"매우 좋음\"</td>\n",
       "      <td>8</td>\n",
       "      <td>없음</td>\n",
       "      <td>없음</td>\n",
       "      <td>없음</td>\n",
       "      <td>스타즈 호텔 제주 로베로점</td>\n",
       "    </tr>\n",
       "  </tbody>\n",
       "</table>\n",
       "</div>"
      ],
      "text/plain": [
       "     title score                                           p_review  \\\n",
       "0  \"매우 좋음\"     8                                                 없음   \n",
       "1  \"강력 추천\"    10                                                 없음   \n",
       "2     \"좋음\"     7  시장과 가깝고 직원분들이 아주 친절하셨어요\\n아기와 있어 카펫 없는 방을 부탁드렸더...   \n",
       "3  \"매우 좋음\"     8                                                 없음   \n",
       "4  \"매우 좋음\"     8                                                 없음   \n",
       "\n",
       "                                            n_review o_review            name  \n",
       "0                                                 없음       없음  스타즈 호텔 제주 로베로점  \n",
       "1                                                 없음       없음  스타즈 호텔 제주 로베로점  \n",
       "2  카펫이었던 바닥이 더러웠고 화장실 문의 경첩이 매끄럽게 마무리되어있지않아 문 열고 ...       없음  스타즈 호텔 제주 로베로점  \n",
       "3                                                 없음       없음  스타즈 호텔 제주 로베로점  \n",
       "4                                                 없음       없음  스타즈 호텔 제주 로베로점  "
      ]
     },
     "execution_count": 10,
     "metadata": {},
     "output_type": "execute_result"
    }
   ],
   "source": [
    "df['name']=name\n",
    "df.head()"
   ]
  },
  {
   "cell_type": "code",
   "execution_count": 11,
   "id": "b18bae26",
   "metadata": {},
   "outputs": [],
   "source": [
    "df.to_csv('c:/프로젝트/Hotel Review/Hotel_review_.csv',encoding=\"utf-8-sig\",index=False)"
   ]
  }
 ],
 "metadata": {
  "kernelspec": {
   "display_name": "Python 3 (ipykernel)",
   "language": "python",
   "name": "python3"
  },
  "language_info": {
   "codemirror_mode": {
    "name": "ipython",
    "version": 3
   },
   "file_extension": ".py",
   "mimetype": "text/x-python",
   "name": "python",
   "nbconvert_exporter": "python",
   "pygments_lexer": "ipython3",
   "version": "3.9.16"
  }
 },
 "nbformat": 4,
 "nbformat_minor": 5
}
