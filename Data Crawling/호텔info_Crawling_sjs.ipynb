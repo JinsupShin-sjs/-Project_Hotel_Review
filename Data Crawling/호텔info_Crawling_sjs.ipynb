{
 "cells": [
  {
   "cell_type": "code",
   "execution_count": 1,
   "id": "b60bceaa",
   "metadata": {},
   "outputs": [],
   "source": [
    "from bs4 import BeautifulSoup\n",
    "import pandas as pd\n",
    "import time \n",
    "from selenium import webdriver\n",
    "import chromedriver_autoinstaller\n",
    "from selenium.webdriver.common.keys import Keys  \n",
    "from selenium.webdriver.common.by import By\n",
    "import os"
   ]
  },
  {
   "attachments": {},
   "cell_type": "markdown",
   "id": "78e0e121",
   "metadata": {},
   "source": [
    "### 1. ChromeDriver 로 네이버호텔 열기"
   ]
  },
  {
   "cell_type": "code",
   "execution_count": 2,
   "id": "83ff7e23",
   "metadata": {},
   "outputs": [
    {
     "name": "stdout",
     "output_type": "stream",
     "text": [
      "114\n"
     ]
    }
   ],
   "source": [
    "chrome_ver =chromedriver_autoinstaller.get_chrome_version().split('.')[0]\n",
    "print(chrome_ver)"
   ]
  },
  {
   "cell_type": "code",
   "execution_count": 3,
   "id": "e83db2c3",
   "metadata": {},
   "outputs": [
    {
     "name": "stderr",
     "output_type": "stream",
     "text": [
      "C:\\Users\\tjoeun\\AppData\\Local\\Temp\\ipykernel_8732\\3010569745.py:2: DeprecationWarning: executable_path has been deprecated, please pass in a Service object\n",
      "  crawler = webdriver.Chrome(f'./{chrome_ver}/chromedriver.exe')\n"
     ]
    }
   ],
   "source": [
    "try :\n",
    "    crawler = webdriver.Chrome(f'./{chrome_ver}/chromedriver.exe')\n",
    "except :\n",
    "    chromedriver_autoinstaller.install(True)\n",
    "    crawler = webdriver.Chrome(f'./{chrome_ver}/chromedriver.exe')\n",
    "crawler.implicitly_wait(10)\n",
    "crawler.get('https://hotels.naver.com/')"
   ]
  },
  {
   "cell_type": "code",
   "execution_count": 4,
   "id": "f6e77e88",
   "metadata": {},
   "outputs": [],
   "source": [
    "crawler.find_element(By.XPATH, r'//*[@id=\"__next\"]/div/div[2]/div/div[2]/button[2]').click()\n",
    "crawler.find_element(By.XPATH, r'//*[@id=\"__next\"]/div/div[1]/div[2]/div/div/div/div[1]/button').click()\n",
    "engine = crawler.find_element(By.XPATH, r'//*[@id=\"__next\"]/div/div[2]/div[1]/div/input')\n",
    "engine.send_keys('제주')"
   ]
  },
  {
   "cell_type": "code",
   "execution_count": 5,
   "id": "1643acde",
   "metadata": {},
   "outputs": [],
   "source": [
    "crawler.find_element(By.XPATH, r'//*[@id=\"__next\"]/div/div[2]/div[2]/section/ul/li[2]/a/div/b/mark').click()\n",
    "crawler.find_element(By.XPATH, r'//*[@id=\"__next\"]/div/div[1]/div[2]/div/div/button').click()"
   ]
  },
  {
   "attachments": {},
   "cell_type": "markdown",
   "id": "91b577ff",
   "metadata": {},
   "source": [
    "### 2. 페이지 스크롤하며 Data 가져오기"
   ]
  },
  {
   "cell_type": "code",
   "execution_count": 7,
   "id": "4b2dbd45",
   "metadata": {},
   "outputs": [
    {
     "name": "stdout",
     "output_type": "stream",
     "text": [
      "4486\n",
      "4828\n",
      "Exception\n",
      "4486\n",
      "Exception\n",
      "4431\n",
      "4486\n",
      "Exception\n",
      "Exception\n",
      "Exception\n",
      "Exception\n",
      "Exception\n",
      "4486\n",
      "Exception\n",
      "4486\n",
      "Exception\n",
      "Exception\n",
      "4486\n",
      "Exception\n",
      "Exception\n",
      "Exception\n",
      "Exception\n",
      "Exception\n",
      "Exception\n",
      "4486\n",
      "Exception\n",
      "Exception\n",
      "Exception\n",
      "4486\n",
      "Exception\n",
      "Exception\n",
      "Exception\n",
      "Exception\n",
      "4486\n"
     ]
    }
   ],
   "source": [
    "base_url = 'https://hotels.naver.com/list?placeFileName=place%3AJeju_Province&adultCnt=2&includeTax=false&sortField=popularityKR&sortDirection=descending&pageIndex={}'\n",
    "\n",
    "total = []\n",
    "\n",
    "for i in range(-1,130):\n",
    "    url = base_url.format(i+1)\n",
    "    crawler.get(url)\n",
    "    #print(i)\n",
    "    while True:\n",
    "        bh = crawler.execute_script(\"return document.body.scrollHeight\")\n",
    "        print(bh)\n",
    "        time.sleep(4)\n",
    "        crawler.execute_script(\"window.scrollTo(0,document.body.scrollHeight)\")\n",
    "        time.sleep(2)\n",
    "        ah = crawler.execute_script(\"return document.body.scrollHeight\")\n",
    "        if ah == bh:\n",
    "            break\n",
    "        bh = ah\n",
    "    infos = crawler.find_elements(By.CSS_SELECTOR,'.Detail_InfoArea__uZ4qT' )\n",
    "    for info in infos:\n",
    "        try:\n",
    "            name = info.find_element(By.CSS_SELECTOR,'.Detail_title__40_dz').text\n",
    "            # names.append(name)\n",
    "            prov = info.find_element(By.CSS_SELECTOR,'.Detail_location__u3_N6').text.strip(', 대한민국')\n",
    "            # provs.append(prov)\n",
    "            score = info.find_element(By.CSS_SELECTOR, '.Detail_score__UxnqZ').text\n",
    "            # scores.append(score)\n",
    "            grade = info.find_element(By.CSS_SELECTOR, '.Detail_grade__y5BmJ').text\n",
    "            # grades.append(grade)\n",
    "            total.append([name, prov,score,grade])\n",
    "            \n",
    "        except:\n",
    "            print(\"Exception\")\n",
    "crawler.close()\n",
    "            \n",
    "        \n",
    "    \n"
   ]
  },
  {
   "attachments": {},
   "cell_type": "markdown",
   "id": "5666595b",
   "metadata": {},
   "source": [
    "### 3. DF 생성 및 저장"
   ]
  },
  {
   "cell_type": "code",
   "execution_count": null,
   "id": "e8a7bb25",
   "metadata": {},
   "outputs": [],
   "source": [
    "df = pd.DataFrame(total, columns=['name', 'prov', 'score', 'grade'])\n",
    "print(df)"
   ]
  },
  {
   "cell_type": "code",
   "execution_count": null,
   "id": "189e3a7c",
   "metadata": {},
   "outputs": [],
   "source": [
    "df.to_csv(\"c:/프로젝트/Hotel Review/Hotel_info_all.csv\", sep=',', encoding=\"utf-8-sig\")"
   ]
  },
  {
   "attachments": {},
   "cell_type": "markdown",
   "id": "590161d6",
   "metadata": {},
   "source": []
  }
 ],
 "metadata": {
  "kernelspec": {
   "display_name": "Python 3 (ipykernel)",
   "language": "python",
   "name": "python3"
  },
  "language_info": {
   "codemirror_mode": {
    "name": "ipython",
    "version": 3
   },
   "file_extension": ".py",
   "mimetype": "text/x-python",
   "name": "python",
   "nbconvert_exporter": "python",
   "pygments_lexer": "ipython3",
   "version": "3.9.16"
  }
 },
 "nbformat": 4,
 "nbformat_minor": 5
}
