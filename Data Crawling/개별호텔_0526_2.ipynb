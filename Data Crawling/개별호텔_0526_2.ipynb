{
 "cells": [
  {
   "cell_type": "code",
   "execution_count": null,
   "id": "1de1aaaa",
   "metadata": {},
   "outputs": [],
   "source": [
    "import requests\n",
    "from bs4 import BeautifulSoup\n",
    "import pandas as pd\n",
    "import time\n",
    "from selenium import webdriver\n",
    "from selenium.webdriver.common.keys import Keys\n",
    "from selenium.webdriver.common.by import By\n",
    "from tqdm import tqdm\n",
    "from urllib.parse import quote\n",
    "from folium import *\n",
    "from folium.plugins import MarkerCluster\n",
    "import folium\n",
    "import json"
   ]
  },
  {
   "attachments": {},
   "cell_type": "markdown",
   "id": "4e6ef4cc",
   "metadata": {},
   "source": [
    "### 1. 데이터를 가져오기"
   ]
  },
  {
   "cell_type": "code",
   "execution_count": null,
   "id": "f4226628",
   "metadata": {},
   "outputs": [],
   "source": [
    "# url = pd.read_csv(\"c:/프로젝트/Hotel Review//link_1.csv\")\n",
    "# url.head()"
   ]
  },
  {
   "cell_type": "code",
   "execution_count": null,
   "id": "74ddc4b5",
   "metadata": {},
   "outputs": [],
   "source": [
    "# site = url['link']\n",
    "\n",
    "# details = []\n",
    "\n",
    "# for link in links :\n",
    "      "
   ]
  },
  {
   "cell_type": "code",
   "execution_count": null,
   "id": "fec3f827",
   "metadata": {},
   "outputs": [],
   "source": [
    "path = \"c:/python/chromedriver.exe\"\n",
    "driver = webdriver.Chrome()\n",
    "url = 'https://hotels.naver.com/item/photo?hotelFileName=hotel%3AParnas_Hotel_Jeju&adultCnt=2&includeTax=false'\n",
    "driver.get(url)\n",
    "time.sleep(1)\n",
    "\n",
    "driver.find_element(By.XPATH, r'//*[@id=\"__next\"]/div/div/div[2]/div/a[5]').click()"
   ]
  },
  {
   "cell_type": "code",
   "execution_count": null,
   "id": "e9bdad49",
   "metadata": {},
   "outputs": [],
   "source": [
    "# url = f'https://hotels.naver.com/item/photo?hotelFileName=hotel%3AParnas_Hotel_Jeju&adultCnt=2&includeTax=false'\n",
    "# req = requests.get(url)\n",
    "# html = req.text"
   ]
  },
  {
   "cell_type": "code",
   "execution_count": null,
   "id": "a08355fc",
   "metadata": {},
   "outputs": [],
   "source": [
    "# path = \"c:/python/chromedriver.exe\"\n",
    "# driver = webdriver.Chrome()\n",
    "# url = 'https://hotels.naver.com/item/photo?hotelFileName=hotel%3AParnas_Hotel_Jeju&adultCnt=2&includeTax=false'\n",
    "# driver.get(url)"
   ]
  },
  {
   "attachments": {},
   "cell_type": "markdown",
   "id": "93e47892",
   "metadata": {},
   "source": [
    "### 2. 원하는 데이터 찾기"
   ]
  },
  {
   "cell_type": "code",
   "execution_count": null,
   "id": "55b7aa6c",
   "metadata": {},
   "outputs": [],
   "source": [
    "soup = BeautifulSoup(driver.page_source, 'html.parser')"
   ]
  },
  {
   "cell_type": "code",
   "execution_count": null,
   "id": "67dfb79e",
   "metadata": {},
   "outputs": [],
   "source": [
    "lis = soup.find_all('li')\n",
    "len(lis)"
   ]
  },
  {
   "cell_type": "code",
   "execution_count": null,
   "id": "29060594",
   "metadata": {},
   "outputs": [],
   "source": [
    "# 호텔명\n",
    "name = soup.select_one('.common_name__TacRt').get_text()\n",
    "print(name)\n",
    "# name = soup.select_one('.common_name__TacRt > strong > div' )\n",
    "# len(lis)"
   ]
  },
  {
   "cell_type": "code",
   "execution_count": null,
   "id": "c1e068b3",
   "metadata": {},
   "outputs": [],
   "source": [
    "lis1 = soup.select_one(\".common_ReviewList__4cL43\").find_all('li')\n",
    "# lis = soup.find_all('li')\n",
    "len(lis1)"
   ]
  },
  {
   "cell_type": "code",
   "execution_count": null,
   "id": "f77d1904",
   "metadata": {},
   "outputs": [],
   "source": [
    "lis = soup.select('.common_ReviewList__4cL43 > li' )\n",
    "#lis = soup.find_all('li', attrs={\"class\":\"common_item__BzEBu\"}) \n",
    "len(lis)"
   ]
  },
  {
   "cell_type": "code",
   "execution_count": null,
   "id": "a15b543e",
   "metadata": {},
   "outputs": [],
   "source": [
    "li = lis1[0]"
   ]
  },
  {
   "cell_type": "code",
   "execution_count": null,
   "id": "96092806",
   "metadata": {},
   "outputs": [],
   "source": [
    "# 리뷰제목\n",
    "#scroll()\n",
    "#title = soup.select_one(\".common_title_txt__Kn91_\").get_text()\n",
    "title = li.find(attrs={'class':'common_title_txt__Kn91_'}).get_text()\n",
    "# for title in titles :\n",
    "#     print(title.get_text())\n",
    "print(title)"
   ]
  },
  {
   "cell_type": "code",
   "execution_count": null,
   "id": "ec6ae05e",
   "metadata": {},
   "outputs": [],
   "source": [
    "# 평점\n",
    "score = float(li.find('b', attrs={'class':'common_star_txt__3f1Yt'}).get_text())\n",
    "# for score in scores :\n",
    "#     print(score.get_text()) \n",
    "#score = soup.select_one(\"b.common_star_txt__3f1Yt\").get_text() \n",
    "print(score)"
   ]
  },
  {
   "cell_type": "code",
   "execution_count": null,
   "id": "dcf3a6c5",
   "metadata": {},
   "outputs": [],
   "source": [
    "# 긍정리뷰\n",
    "p_review=li.find('p',attrs={\"class\":\"common_booking_txt___dAYT common_as_positive__8PlLV\"}).get_text()\n",
    "#review_p = soup.select_one(\"p.common_booking_txt___dAYT common_as_positive__8PlLV\").string\n",
    "# for p_review in p_reviews : \n",
    "#     print(p_review.get_text())\n",
    "print(p_review)"
   ]
  },
  {
   "cell_type": "code",
   "execution_count": null,
   "id": "44ae2c73",
   "metadata": {},
   "outputs": [],
   "source": [
    "# 부정리뷰\n",
    "n_review = li.find('p',attrs={\"class\":\"common_booking_txt___dAYT common_as_negative__LjbBo\"}).get_text() \n",
    "# for n_review in n_reviews :\n",
    "#     print(n_review.get_text()) \n",
    "print(n_review)"
   ]
  },
  {
   "cell_type": "code",
   "execution_count": null,
   "id": "7f3f4baa",
   "metadata": {},
   "outputs": [],
   "source": [
    "# place = li.select_one('.cate').get_text().split('/')[0].strip()\n",
    "# place"
   ]
  },
  {
   "attachments": {},
   "cell_type": "markdown",
   "id": "8d75ef9d",
   "metadata": {},
   "source": [
    "### 3. 반복문으로 데이터 전부 가져오기"
   ]
  },
  {
   "cell_type": "code",
   "execution_count": null,
   "id": "b77f4bdf",
   "metadata": {},
   "outputs": [],
   "source": [
    "# 스크롤 수 지정하기\n",
    "def scroll () :\n",
    "    #last_height = driver.execute_script(\"return document.body.scrollHeight\")\n",
    "    scroll_location = driver.execute_script(\"return document.body.scrollHeight\")\n",
    "    before_location = driver.execute_script(\"return window.pageYOffset\")\n",
    "    while True:\n",
    "        #driver.execute_script(\"window.scrollTo(0, document.body.scrollHeight);\")\n",
    "        driver.execute_script(\"window.scrollTo(0,{})\".format(scroll_location + 40))\n",
    "        # 끝까지 스크롤 내리기\n",
    "        time.sleep(60)\n",
    "        # 스크롤 내린 후 스크롤 높이 다시 가져옴\n",
    "        #new_height = driver.execute_script(\"return document.body.scrollHeight\")\n",
    "        after_location = driver.execute_script(\"return window.pageYOffset\")\n",
    "        #if new_height == last_height:\n",
    "        if before_location == after_location:\n",
    "            break\n",
    "        else :\n",
    "            before_location = driver.execute_script(\"return window.pageYOffset\")\n",
    "        #last_height = new_height"
   ]
  },
  {
   "cell_type": "code",
   "execution_count": null,
   "id": "bc1ba22c",
   "metadata": {},
   "outputs": [],
   "source": [
    "# 반복문으로 가져오기\n",
    "scroll()\n",
    "line = []\n",
    "\n",
    "for li in lis1:\n",
    "    #name = li.select_one('.common_name__TacRt' ).get_text() \n",
    "    title = li.find(attrs={'class':'common_title_txt__Kn91_'}).get_text()\n",
    "    score = li.find('b', attrs={'class':'common_star_txt__3f1Yt'}).get_text()\n",
    "    try : \n",
    "        p_review=li.find('p',attrs={\"class\":\"common_booking_txt___dAYT common_as_positive__8PlLV\"}).get_text()\n",
    "    except:\n",
    "        p_review = \"없음\"\n",
    "    try : \n",
    "        n_review = li.find('p',attrs={\"class\":\"common_booking_txt___dAYT common_as_negative__LjbBo\"}).get_text()\n",
    "    except:\n",
    "        n_review = \"없음\"   \n",
    "    line.append({'title':title , 'score': score , 'p_review':p_review , 'n_review':n_review })\n",
    "\n",
    "driver.close()"
   ]
  },
  {
   "attachments": {},
   "cell_type": "markdown",
   "id": "d0e14a9c",
   "metadata": {},
   "source": [
    "### 4. DF 생성  및 저장"
   ]
  },
  {
   "cell_type": "code",
   "execution_count": null,
   "id": "9fbcf735",
   "metadata": {
    "collapsed": true
   },
   "outputs": [],
   "source": [
    "df= pd.DataFrame(line)\n",
    "df.head()"
   ]
  },
  {
   "cell_type": "code",
   "execution_count": null,
   "id": "c5b8271d",
   "metadata": {},
   "outputs": [],
   "source": [
    "df['name']=name\n",
    "df.head()"
   ]
  },
  {
   "cell_type": "code",
   "execution_count": null,
   "id": "b18bae26",
   "metadata": {},
   "outputs": [],
   "source": [
    "df.to_csv('c:/프로젝트/Hotel Review/review_2.csv',encoding=\"utf-8-sig\",index=False)"
   ]
  }
 ],
 "metadata": {
  "kernelspec": {
   "display_name": "Python 3 (ipykernel)",
   "language": "python",
   "name": "python3"
  },
  "language_info": {
   "codemirror_mode": {
    "name": "ipython",
    "version": 3
   },
   "file_extension": ".py",
   "mimetype": "text/x-python",
   "name": "python",
   "nbconvert_exporter": "python",
   "pygments_lexer": "ipython3",
   "version": "3.9.16"
  }
 },
 "nbformat": 4,
 "nbformat_minor": 5
}
