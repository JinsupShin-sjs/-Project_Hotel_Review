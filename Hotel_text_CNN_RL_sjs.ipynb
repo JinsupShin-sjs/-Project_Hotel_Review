{
 "cells": [
  {
   "cell_type": "code",
   "execution_count": 1,
   "metadata": {},
   "outputs": [],
   "source": [
    "import pandas as pd\n",
    "\n",
    "train_data = pd.read_csv('c:/프로젝트/Hotel Review/Data/review_jeju50_train_0601.csv',encoding='ms949')\n",
    "test_data = pd.read_csv('c:/프로젝트/Hotel Review/Data/review_jeju50_test_0601.csv',encoding='ms949')"
   ]
  },
  {
   "cell_type": "code",
   "execution_count": 2,
   "metadata": {},
   "outputs": [
    {
     "data": {
      "text/plain": [
       "20000"
      ]
     },
     "execution_count": 2,
     "metadata": {},
     "output_type": "execute_result"
    }
   ],
   "source": [
    "len(train_data)"
   ]
  },
  {
   "cell_type": "code",
   "execution_count": 3,
   "metadata": {},
   "outputs": [
    {
     "data": {
      "text/html": [
       "<div>\n",
       "<style scoped>\n",
       "    .dataframe tbody tr th:only-of-type {\n",
       "        vertical-align: middle;\n",
       "    }\n",
       "\n",
       "    .dataframe tbody tr th {\n",
       "        vertical-align: top;\n",
       "    }\n",
       "\n",
       "    .dataframe thead th {\n",
       "        text-align: right;\n",
       "    }\n",
       "</style>\n",
       "<table border=\"1\" class=\"dataframe\">\n",
       "  <thead>\n",
       "    <tr style=\"text-align: right;\">\n",
       "      <th></th>\n",
       "      <th>name</th>\n",
       "      <th>title</th>\n",
       "      <th>score</th>\n",
       "      <th>label</th>\n",
       "      <th>review</th>\n",
       "    </tr>\n",
       "  </thead>\n",
       "  <tbody>\n",
       "    <tr>\n",
       "      <th>0</th>\n",
       "      <td>랜딩관 제주신화월드 호텔앤리조트</td>\n",
       "      <td>3603</td>\n",
       "      <td>8.0</td>\n",
       "      <td>0</td>\n",
       "      <td>시설도 깨끗하고 객실 뷰도 좋았어요!!! 수영장도 시설이 너무 좋았어요. 주차시설이...</td>\n",
       "    </tr>\n",
       "    <tr>\n",
       "      <th>1</th>\n",
       "      <td>메리어트관 제주신화월드 호텔앤리조트</td>\n",
       "      <td>3603</td>\n",
       "      <td>8.0</td>\n",
       "      <td>0</td>\n",
       "      <td>시설도 깨끗하고 객실 뷰도 좋았어요!!! 수영장도 시설이 너무 좋았어요. 주차시설이...</td>\n",
       "    </tr>\n",
       "    <tr>\n",
       "      <th>2</th>\n",
       "      <td>랜딩관 제주신화월드 호텔앤리조트</td>\n",
       "      <td>1051745507</td>\n",
       "      <td>8.0</td>\n",
       "      <td>0</td>\n",
       "      <td>돌담집을 제외한 다른 모든 면에서 만족스러운 호텔이었음(돌담집에서 고객을 응대하는 ...</td>\n",
       "    </tr>\n",
       "  </tbody>\n",
       "</table>\n",
       "</div>"
      ],
      "text/plain": [
       "                  name       title  score  label  \\\n",
       "0    랜딩관 제주신화월드 호텔앤리조트        3603    8.0      0   \n",
       "1  메리어트관 제주신화월드 호텔앤리조트        3603    8.0      0   \n",
       "2    랜딩관 제주신화월드 호텔앤리조트  1051745507    8.0      0   \n",
       "\n",
       "                                              review  \n",
       "0  시설도 깨끗하고 객실 뷰도 좋았어요!!! 수영장도 시설이 너무 좋았어요. 주차시설이...  \n",
       "1  시설도 깨끗하고 객실 뷰도 좋았어요!!! 수영장도 시설이 너무 좋았어요. 주차시설이...  \n",
       "2  돌담집을 제외한 다른 모든 면에서 만족스러운 호텔이었음(돌담집에서 고객을 응대하는 ...  "
      ]
     },
     "execution_count": 3,
     "metadata": {},
     "output_type": "execute_result"
    }
   ],
   "source": [
    "train_data[:3] "
   ]
  },
  {
   "cell_type": "code",
   "execution_count": 4,
   "metadata": {},
   "outputs": [
    {
     "data": {
      "text/plain": [
       "10000"
      ]
     },
     "execution_count": 4,
     "metadata": {},
     "output_type": "execute_result"
    }
   ],
   "source": [
    "len(test_data)"
   ]
  },
  {
   "cell_type": "code",
   "execution_count": 5,
   "metadata": {},
   "outputs": [
    {
     "data": {
      "text/html": [
       "<div>\n",
       "<style scoped>\n",
       "    .dataframe tbody tr th:only-of-type {\n",
       "        vertical-align: middle;\n",
       "    }\n",
       "\n",
       "    .dataframe tbody tr th {\n",
       "        vertical-align: top;\n",
       "    }\n",
       "\n",
       "    .dataframe thead th {\n",
       "        text-align: right;\n",
       "    }\n",
       "</style>\n",
       "<table border=\"1\" class=\"dataframe\">\n",
       "  <thead>\n",
       "    <tr style=\"text-align: right;\">\n",
       "      <th></th>\n",
       "      <th>name</th>\n",
       "      <th>title</th>\n",
       "      <th>score</th>\n",
       "      <th>label</th>\n",
       "      <th>review</th>\n",
       "    </tr>\n",
       "  </thead>\n",
       "  <tbody>\n",
       "    <tr>\n",
       "      <th>0</th>\n",
       "      <td>호텔 샬롬 제주</td>\n",
       "      <td>매우 좋음</td>\n",
       "      <td>8.0</td>\n",
       "      <td>0</td>\n",
       "      <td>제주 시내에 위치하여 걸어서 주변 시내를 돌아다닐 수 있습니다 식당도 많고 산책겸 ...</td>\n",
       "    </tr>\n",
       "    <tr>\n",
       "      <th>1</th>\n",
       "      <td>아스타 호텔</td>\n",
       "      <td>매우 좋음</td>\n",
       "      <td>8.0</td>\n",
       "      <td>0</td>\n",
       "      <td>제주 시내에 위치한 가성비 호텔</td>\n",
       "    </tr>\n",
       "    <tr>\n",
       "      <th>2</th>\n",
       "      <td>신라스테이 제주</td>\n",
       "      <td>매우 좋음</td>\n",
       "      <td>8.0</td>\n",
       "      <td>0</td>\n",
       "      <td>제주 시내에 있어 접근성이 좋습니다. 렌트카로 갔지만 대중교통이나 택시를 이용해서도...</td>\n",
       "    </tr>\n",
       "  </tbody>\n",
       "</table>\n",
       "</div>"
      ],
      "text/plain": [
       "       name  title  score  label  \\\n",
       "0  호텔 샬롬 제주  매우 좋음    8.0      0   \n",
       "1    아스타 호텔  매우 좋음    8.0      0   \n",
       "2  신라스테이 제주  매우 좋음    8.0      0   \n",
       "\n",
       "                                              review  \n",
       "0  제주 시내에 위치하여 걸어서 주변 시내를 돌아다닐 수 있습니다 식당도 많고 산책겸 ...  \n",
       "1                                  제주 시내에 위치한 가성비 호텔  \n",
       "2  제주 시내에 있어 접근성이 좋습니다. 렌트카로 갔지만 대중교통이나 택시를 이용해서도...  "
      ]
     },
     "execution_count": 5,
     "metadata": {},
     "output_type": "execute_result"
    }
   ],
   "source": [
    "test_data[:3]"
   ]
  },
  {
   "cell_type": "code",
   "execution_count": 6,
   "metadata": {},
   "outputs": [
    {
     "data": {
      "text/plain": [
       "(17781, 2)"
      ]
     },
     "execution_count": 6,
     "metadata": {},
     "output_type": "execute_result"
    }
   ],
   "source": [
    "train_data['review'].nunique(),train_data['label'].nunique()"
   ]
  },
  {
   "cell_type": "code",
   "execution_count": 7,
   "metadata": {},
   "outputs": [
    {
     "data": {
      "text/plain": [
       "17781"
      ]
     },
     "execution_count": 7,
     "metadata": {},
     "output_type": "execute_result"
    }
   ],
   "source": [
    "#중복값 제거\n",
    "train_data.drop_duplicates(subset=['review'],inplace=True)\n",
    "len(train_data)"
   ]
  },
  {
   "cell_type": "code",
   "execution_count": 8,
   "metadata": {},
   "outputs": [
    {
     "data": {
      "image/png": "[encoded data removed]",
      "text/plain": [
       "<Figure size 640x480 with 1 Axes>"
      ]
     },
     "metadata": {},
     "output_type": "display_data"
    }
   ],
   "source": [
    "import matplotlib.pyplot as plt\n",
    "train_data['label'].value_counts().plot(kind = 'bar')\n",
    "plt.show()"
   ]
  },
  {
   "cell_type": "code",
   "execution_count": 9,
   "metadata": {},
   "outputs": [
    {
     "data": {
      "text/html": [
       "<div>\n",
       "<style scoped>\n",
       "    .dataframe tbody tr th:only-of-type {\n",
       "        vertical-align: middle;\n",
       "    }\n",
       "\n",
       "    .dataframe tbody tr th {\n",
       "        vertical-align: top;\n",
       "    }\n",
       "\n",
       "    .dataframe thead th {\n",
       "        text-align: right;\n",
       "    }\n",
       "</style>\n",
       "<table border=\"1\" class=\"dataframe\">\n",
       "  <thead>\n",
       "    <tr style=\"text-align: right;\">\n",
       "      <th></th>\n",
       "      <th>name</th>\n",
       "      <th>title</th>\n",
       "      <th>score</th>\n",
       "      <th>label</th>\n",
       "      <th>review</th>\n",
       "    </tr>\n",
       "  </thead>\n",
       "  <tbody>\n",
       "  </tbody>\n",
       "</table>\n",
       "</div>"
      ],
      "text/plain": [
       "Empty DataFrame\n",
       "Columns: [name, title, score, label, review]\n",
       "Index: []"
      ]
     },
     "execution_count": 9,
     "metadata": {},
     "output_type": "execute_result"
    }
   ],
   "source": [
    "train_data.loc[train_data.review.isnull()]"
   ]
  },
  {
   "cell_type": "code",
   "execution_count": 10,
   "metadata": {},
   "outputs": [
    {
     "name": "stderr",
     "output_type": "stream",
     "text": [
      "C:\\Users\\tjoeun\\AppData\\Local\\Temp\\ipykernel_10124\\2866373672.py:2: FutureWarning: The default value of regex will change from True to False in a future version.\n",
      "  train_data['review'] =train_data['review'].str.replace(\"[^ㄱ-ㅎㅏ-ㅣ가-힣 A-Za-z]\",\"\")\n",
      "C:\\Users\\tjoeun\\AppData\\Local\\Temp\\ipykernel_10124\\2866373672.py:3: FutureWarning: The default value of regex will change from True to False in a future version.\n",
      "  train_data['review'] =train_data['review'].str.replace('[.,!?\"\\':;~()]','')\n"
     ]
    },
    {
     "data": {
      "text/html": [
       "<div>\n",
       "<style scoped>\n",
       "    .dataframe tbody tr th:only-of-type {\n",
       "        vertical-align: middle;\n",
       "    }\n",
       "\n",
       "    .dataframe tbody tr th {\n",
       "        vertical-align: top;\n",
       "    }\n",
       "\n",
       "    .dataframe thead th {\n",
       "        text-align: right;\n",
       "    }\n",
       "</style>\n",
       "<table border=\"1\" class=\"dataframe\">\n",
       "  <thead>\n",
       "    <tr style=\"text-align: right;\">\n",
       "      <th></th>\n",
       "      <th>name</th>\n",
       "      <th>title</th>\n",
       "      <th>score</th>\n",
       "      <th>label</th>\n",
       "      <th>review</th>\n",
       "    </tr>\n",
       "  </thead>\n",
       "  <tbody>\n",
       "    <tr>\n",
       "      <th>0</th>\n",
       "      <td>랜딩관 제주신화월드 호텔앤리조트</td>\n",
       "      <td>3603</td>\n",
       "      <td>8.0</td>\n",
       "      <td>0</td>\n",
       "      <td>시설도 깨끗하고 객실 뷰도 좋았어요 수영장도 시설이 너무 좋았어요 주차시설이 너무 ...</td>\n",
       "    </tr>\n",
       "    <tr>\n",
       "      <th>2</th>\n",
       "      <td>랜딩관 제주신화월드 호텔앤리조트</td>\n",
       "      <td>1051745507</td>\n",
       "      <td>8.0</td>\n",
       "      <td>0</td>\n",
       "      <td>돌담집을 제외한 다른 모든 면에서 만족스러운 호텔이었음돌담집에서 고객을 응대하는 방...</td>\n",
       "    </tr>\n",
       "    <tr>\n",
       "      <th>5</th>\n",
       "      <td>히든 클리프 호텔&amp;네이쳐</td>\n",
       "      <td>-</td>\n",
       "      <td>3.0</td>\n",
       "      <td>0</td>\n",
       "      <td>아침식사와 직원분들은 친절하셨습니다</td>\n",
       "    </tr>\n",
       "  </tbody>\n",
       "</table>\n",
       "</div>"
      ],
      "text/plain": [
       "                name       title  score  label  \\\n",
       "0  랜딩관 제주신화월드 호텔앤리조트        3603    8.0      0   \n",
       "2  랜딩관 제주신화월드 호텔앤리조트  1051745507    8.0      0   \n",
       "5      히든 클리프 호텔&네이쳐           -    3.0      0   \n",
       "\n",
       "                                              review  \n",
       "0  시설도 깨끗하고 객실 뷰도 좋았어요 수영장도 시설이 너무 좋았어요 주차시설이 너무 ...  \n",
       "2  돌담집을 제외한 다른 모든 면에서 만족스러운 호텔이었음돌담집에서 고객을 응대하는 방...  \n",
       "5                                아침식사와 직원분들은 친절하셨습니다  "
      ]
     },
     "execution_count": 10,
     "metadata": {},
     "output_type": "execute_result"
    }
   ],
   "source": [
    "#특수문자,기호 제거\n",
    "train_data['review'] =train_data['review'].str.replace(\"[^ㄱ-ㅎㅏ-ㅣ가-힣 A-Za-z]\",\"\")\n",
    "train_data['review'] =train_data['review'].str.replace('[.,!?\"\\':;~()]','')\n",
    "train_data[:3]"
   ]
  },
  {
   "cell_type": "code",
   "execution_count": 11,
   "metadata": {},
   "outputs": [
    {
     "name": "stderr",
     "output_type": "stream",
     "text": [
      "C:\\Users\\tjoeun\\AppData\\Local\\Temp\\ipykernel_10124\\298783350.py:3: FutureWarning: The default value of regex will change from True to False in a future version.\n",
      "  train_data['review'] =train_data['review'].str.replace('^ +', \"\")\n"
     ]
    },
    {
     "data": {
      "text/plain": [
       "name       0\n",
       "title      0\n",
       "score      0\n",
       "label      0\n",
       "review    56\n",
       "dtype: int64"
      ]
     },
     "execution_count": 11,
     "metadata": {},
     "output_type": "execute_result"
    }
   ],
   "source": [
    "import numpy as np\n",
    "#공백 제거\n",
    "train_data['review'] =train_data['review'].str.replace('^ +', \"\")\n",
    "train_data['review'].replace('', np.nan, inplace=True)\n",
    "train_data.isnull().sum()"
   ]
  },
  {
   "cell_type": "code",
   "execution_count": 12,
   "metadata": {},
   "outputs": [
    {
     "data": {
      "text/html": [
       "<div>\n",
       "<style scoped>\n",
       "    .dataframe tbody tr th:only-of-type {\n",
       "        vertical-align: middle;\n",
       "    }\n",
       "\n",
       "    .dataframe tbody tr th {\n",
       "        vertical-align: top;\n",
       "    }\n",
       "\n",
       "    .dataframe thead th {\n",
       "        text-align: right;\n",
       "    }\n",
       "</style>\n",
       "<table border=\"1\" class=\"dataframe\">\n",
       "  <thead>\n",
       "    <tr style=\"text-align: right;\">\n",
       "      <th></th>\n",
       "      <th>name</th>\n",
       "      <th>title</th>\n",
       "      <th>score</th>\n",
       "      <th>label</th>\n",
       "      <th>review</th>\n",
       "    </tr>\n",
       "  </thead>\n",
       "  <tbody>\n",
       "    <tr>\n",
       "      <th>1435</th>\n",
       "      <td>롯데 호텔 제주</td>\n",
       "      <td>家族でも、友達とでも</td>\n",
       "      <td>6.0</td>\n",
       "      <td>0</td>\n",
       "      <td>NaN</td>\n",
       "    </tr>\n",
       "    <tr>\n",
       "      <th>1546</th>\n",
       "      <td>롯데 호텔 제주</td>\n",
       "      <td>家族連れにはぴったり</td>\n",
       "      <td>8.0</td>\n",
       "      <td>0</td>\n",
       "      <td>NaN</td>\n",
       "    </tr>\n",
       "    <tr>\n",
       "      <th>1895</th>\n",
       "      <td>더 베스트 제주 성산</td>\n",
       "      <td>价格?惠，但房??小，??人住有点??。</td>\n",
       "      <td>5.0</td>\n",
       "      <td>0</td>\n",
       "      <td>NaN</td>\n",
       "    </tr>\n",
       "  </tbody>\n",
       "</table>\n",
       "</div>"
      ],
      "text/plain": [
       "             name                 title  score  label review\n",
       "1435     롯데 호텔 제주            家族でも、友達とでも    6.0      0    NaN\n",
       "1546     롯데 호텔 제주            家族連れにはぴったり    8.0      0    NaN\n",
       "1895  더 베스트 제주 성산  价格?惠，但房??小，??人住有点??。    5.0      0    NaN"
      ]
     },
     "execution_count": 12,
     "metadata": {},
     "output_type": "execute_result"
    }
   ],
   "source": [
    "train_data.loc[train_data.review.isnull()][:3]"
   ]
  },
  {
   "cell_type": "code",
   "execution_count": 13,
   "metadata": {},
   "outputs": [
    {
     "data": {
      "text/plain": [
       "17725"
      ]
     },
     "execution_count": 13,
     "metadata": {},
     "output_type": "execute_result"
    }
   ],
   "source": [
    "train_data = train_data.dropna(how = 'any')\n",
    "len(train_data)"
   ]
  },
  {
   "cell_type": "code",
   "execution_count": 14,
   "metadata": {},
   "outputs": [],
   "source": [
    "# test_data에도 동일한 과정 적용\n",
    "test_data.drop_duplicates(subset = ['review'],inplace=True)\n"
   ]
  },
  {
   "cell_type": "code",
   "execution_count": 15,
   "metadata": {},
   "outputs": [
    {
     "name": "stderr",
     "output_type": "stream",
     "text": [
      "C:\\Users\\tjoeun\\AppData\\Local\\Temp\\ipykernel_10124\\833855062.py:1: FutureWarning: The default value of regex will change from True to False in a future version.\n",
      "  test_data['review'] = test_data['review'].str.replace(\"[^ㄱ-ㅎㅏ-ㅣ가-힣 ]\",\"\")\n",
      "C:\\Users\\tjoeun\\AppData\\Local\\Temp\\ipykernel_10124\\833855062.py:2: FutureWarning: The default value of regex will change from True to False in a future version.\n",
      "  test_data['review'] =test_data['review'].str.replace('[.,!?\"\\':;~()]','')\n"
     ]
    }
   ],
   "source": [
    "test_data['review'] = test_data['review'].str.replace(\"[^ㄱ-ㅎㅏ-ㅣ가-힣 ]\",\"\")\n",
    "test_data['review'] =test_data['review'].str.replace('[.,!?\"\\':;~()]','')"
   ]
  },
  {
   "cell_type": "code",
   "execution_count": 16,
   "metadata": {},
   "outputs": [
    {
     "name": "stderr",
     "output_type": "stream",
     "text": [
      "C:\\Users\\tjoeun\\AppData\\Local\\Temp\\ipykernel_10124\\2836428721.py:1: FutureWarning: The default value of regex will change from True to False in a future version.\n",
      "  test_data['review'] =train_data['review'].str.replace('^ +', \"\")\n"
     ]
    }
   ],
   "source": [
    "test_data['review'] =train_data['review'].str.replace('^ +', \"\")"
   ]
  },
  {
   "cell_type": "code",
   "execution_count": 17,
   "metadata": {},
   "outputs": [
    {
     "data": {
      "text/plain": [
       "7933"
      ]
     },
     "execution_count": 17,
     "metadata": {},
     "output_type": "execute_result"
    }
   ],
   "source": [
    "test_data['review'].replace('', np.nan, inplace=True)\n",
    "test_data = test_data.dropna(how='any')\n",
    "len(test_data)"
   ]
  },
  {
   "cell_type": "code",
   "execution_count": 18,
   "metadata": {},
   "outputs": [],
   "source": [
    "stopwords =['의','가','이','은','들','는','좀','잘','걍','과','도','를','으로','자','에','와','한','하다','제주', '제주도', '호텔', '리뷰', '숙소', '여행', '트립']"
   ]
  },
  {
   "cell_type": "code",
   "execution_count": 19,
   "metadata": {},
   "outputs": [],
   "source": [
    "from konlpy.tag import Okt\n",
    "okt = Okt()\n",
    "X_train = []\n",
    "for sentence in train_data['review']:\n",
    "    temp_X = okt.morphs(sentence, stem=True)\n",
    "    temp_X = [word for word in temp_X if not word in stopwords] \n",
    "    X_train.append(temp_X)"
   ]
  },
  {
   "cell_type": "code",
   "execution_count": 20,
   "metadata": {},
   "outputs": [
    {
     "name": "stdout",
     "output_type": "stream",
     "text": [
      "[['시설', '깨끗하다', '객실', '뷰', '좋다', '수영장', '시설', '너무', '좋다', '주차', '시설', '너무', '좋다', '또', '오다', '싶다', '애', '방학', '을', '맞이', '오다', '담', '또', '오다', '싶다'], ['돌담', '집', '을', '제외', '다른', '모든', '면', '에서', '만족스럽다', '이다', '돌담', '집', '에서', '고객', '을', '응대', '방법', '일반', '여관', '이하', '수준', '이다'], ['아침식사', '직원', '분들', '친절하다']]\n"
     ]
    }
   ],
   "source": [
    "print(X_train[:3])"
   ]
  },
  {
   "cell_type": "code",
   "execution_count": 21,
   "metadata": {},
   "outputs": [],
   "source": [
    "X_test = []\n",
    "for sentence in test_data['review']:\n",
    "    temp_X = okt.morphs(sentence, stem=True)\n",
    "    temp_X = [word for word in temp_X if not word in\n",
    "    stopwords]\n",
    "    X_test.append(temp_X)"
   ]
  },
  {
   "cell_type": "code",
   "execution_count": 22,
   "metadata": {},
   "outputs": [],
   "source": [
    "from tensorflow.keras.preprocessing.text import Tokenizer\n",
    "tokenizer = Tokenizer()\n",
    "tokenizer.fit_on_texts(X_train)"
   ]
  },
  {
   "cell_type": "code",
   "execution_count": 23,
   "metadata": {},
   "outputs": [
    {
     "name": "stdout",
     "output_type": "stream",
     "text": [
      "{'좋다': 1, '있다': 2, '너무': 3, '을': 4, '이다': 5, '없다': 6, '위치': 7, '직원': 8, '에서': 9, '시설': 10, '친절하다': 11, '조식': 12, '않다': 13, '객실': 14, '이용': 15, '로': 16, '깨끗하다': 17, '같다': 18, '되다': 19, '아쉽다': 20, '자다': 21, '오다': 22, '보다': 23, '가격': 24, '수영장': 25, '다': 26, '것': 27, '뷰': 28, '비': 29, '수': 30, '가족': 31, '넓다': 32, '가다': 33, '되어다': 34, '가성': 35, '많다': 36, '가깝다': 37, '곳': 38, '인': 39, '적': 40, '침대': 41, '편하다': 42, '분들': 43, '룸': 44, '안': 45, '조금': 46, '깔끔하다': 47, '방': 48, '때': 49, '주차': 50, '매우': 51, '하고': 52, '아이': 53, '해주다': 54, '고': 55, '정말': 56, '분': 57, '점': 58, '불편하다': 59, '주변': 60, '이라': 61, '더': 62, '공항': 63, '생각': 64, '방문': 65, '다음': 66, '만': 67, '주차장': 68, '먹다': 69, '서비스': 70, '까지': 71, '최고': 72, '맛있다': 73, '요': 74, '층': 75, '들다': 76, '등': 77, '화장실': 78, '만족하다': 79, '또': 80, '싶다': 81, '아주': 82, '바다': 83, '괜찮다': 84, '모두': 85, '아니다': 86, '바로': 87, '못': 88, '정도': 89, '청소': 90, '편안하다': 91, '나': 92, '많이': 93, '신화': 94, '대비': 95, '시간': 96, '그리고': 97, '안되다': 98, '크다': 99, '체크': 100, '에도': 101, '침구': 102, '내': 103, '보이다': 104, '만족스럽다': 105, '예약': 106, '컨디션': 107, '근처': 108, '앞': 109, '다른': 110, '숙박': 111, '아침': 112, '시': 113, '청결': 114, '거리': 115, '월드': 116, '에는': 117, '조용하다': 118, '리조트': 119, '편의점': 120, '식당': 121, '제': 122, '냄새': 123, '다시': 124, '라': 125, '욕실': 126, '그렇다': 127, '추천': 128, '그': 129, '특히': 130, '청결하다': 131, '사용': 132, '상태': 133, '편리하다': 134, '소리': 135, '시장': 136, '느낌': 137, '개': 138, '받다': 139, '이나': 140, '모든': 141, '좁다': 142, '문': 143, '방이': 144, '인데': 145, '음식': 146, '방음': 147, '주다': 148, '작다': 149, '서': 150, '묵다': 151, '넘다': 152, '박': 153, '면': 154, '날': 155, '게': 156, '샤워': 157, '전망': 158, '저렴하다': 159, '중': 160, '별로': 161, '옆': 162, '부분': 163, '친절': 164, '쉬다': 165, '함께': 166, '이랑': 167, '식사': 168, '하나': 169, '다양하다': 170, '두': 171, '및': 172, '일': 173, '만족': 174, '전반': 175, '기': 176, '쾌적하다': 177, '즐기다': 178, '나다': 179, '랑': 180, '바닥': 181, '수건': 182, '안내': 183, '시내': 184, '물': 185, '감사하다': 186, '공간': 187, '편의': 188, '대': 189, '기분': 190, '투숙': 191, '성': 192, '지내다': 193, '주': 194, '부터': 195, '엔': 196, '함': 197, '나오다': 198, '훌륭하다': 199, '저녁': 200, '사람': 201, '없이': 202, '때문': 203, '처음': 204, '비다': 205, '밤': 206, '올': 207, '갈다': 208, '이동': 209, '로비': 210, '관리': 211, '온': 212, '가능하다': 213, '건물': 214, '서머셋': 215, '소음': 216, '부대': 217, '전체': 218, '꼭': 219, '놀다': 220, '맛': 221, '맛집': 222, '마음': 223, '저': 224, '산책': 225, 'ㅠㅠ': 226, 'ㅎㅎ': 227, '오션': 228, '좋아하다': 229, '여서': 230, '내부': 231, '이번': 232, '동': 233, '듯': 234, '다만': 235, '메뉴': 236, '쪽': 237, '뷔페': 238, '필요하다': 239, '먼지': 240, '번': 241, '요청': 242, '늦다': 243, '그냥': 244, '걸다': 245, '방도': 246, '욕조': 247, '부족하다': 248, '선택': 249, '찾다': 250, '약간': 251, '엄청': 252, '무료': 253, '모르다': 254, '급': 255, '재': 256, '한라산': 257, '잠': 258, '아침식사': 259, '오래되다': 260, '보내다': 261, '나가다': 262, '응대': 263, '거': 264, '해': 265, '느끼다': 266, '장': 267, '즐겁다': 268, '하': 269, '크기': 270, '머물다': 271, '지': 272, '실내': 273, '다니다': 274, '객': 275, '마다': 276, '물이': 277, '아기': 278, '들어가다': 279, '차다': 280, '프론트': 281, '창문': 282, '들리다': 283, '분위기': 284, '파크': 285, '드리다': 286, '차': 287, '진짜': 288, '성산일출봉': 289, '명': 290, '이상': 291, '멀다': 292, '코로나': 293, '하루': 294, '테마': 295, '부모님': 296, '후': 297, '이고': 298, '여러': 299, '따뜻하다': 300, '알다': 301, '종류': 302, '떨어지다': 303, '네': 304, '비싸다': 305, '무엇': 306, '에어컨': 307, '말': 308, '롯데': 309, '힘들다': 310, '여기': 311, '들어오다': 312, '높다': 313, '서귀포': 314, '조': 315, '접근성': 316, '제공': 317, '식': 318, '야외': 319, '저희': 320, '빼다': 321, '또한': 322, '딱': 323, '여': 324, '전': 325, '워터파크': 326, '아쉬움': 327, '인지': 328, '랜딩관': 329, '돼다': 330, '문제': 331, '시끄럽다': 332, '니': 333, '한번': 334, '풀': 335, '쉬': 336, '하지만': 337, '그래도': 338, '인하다': 339, '장이': 340, '집': 341, '가장': 342, '준비': 343, '신경': 344, '중문': 345, '외': 346, '테라스': 347, '복도': 348, '움': 349, '전혀': 350, '업그레이드': 351, '완전': 352, '어메니티': 353, '테이블': 354, '기대': 355, '랜딩': 356, '맘': 357, '냉장고': 358, '끄다': 359, '가기': 360, '굿': 361, '주차공간': 362, '도착': 363, '추가': 364, '의사': 365, '동안': 366, '해결': 367, '에게': 368, '낡다': 369, '류': 370, '편이': 371, '계속': 372, '따로': 373, '칫솔': 374, '임': 375, '배정': 376, '다소': 377, '굉장하다': 378, '일단': 379, '밖에': 380, '수영': 381, '딱하다': 382, '크게': 383, '버스': 384, '온도': 385, '체크아웃': 386, '밖': 387, '항상': 388, '해보다': 389, '지하': 390, '나쁘다': 391, '심하다': 392, '외부': 393, '사우나': 394, '같이': 395, '위': 396, '적다': 397, 'ㅠ': 398, '지만': 399, '카페': 400, '살짝': 401, '수압': 402, '갖추다': 403, '관광지': 404, '맞다': 405, '어': 406, '난방': 407, '산책로': 408, '보고': 409, '이에요': 410, '레시': 411, '열다': 412, '간': 413, '운영': 414, '충분하다': 415, '적당하다': 416, '덕분': 417, '친구': 418, '짐': 419, '다녀오다': 420, '미리': 421, '커피': 422, '편': 423, '라서': 424, '걱정': 425, '개선': 426, '택시': 427, '월': 428, '관광': 429, '쓰다': 430, '불편': 431, '제대로': 432, '구': 433, '애': 434, '옆방': 435, '경우': 436, '이불': 437, '덥다': 438, '기억': 439, '날씨': 440, '일정': 441, '머무르다': 442, '라고': 443, '룸서비스': 444, '환경': 445, '우리': 446, '처럼': 447, '볼': 448, '에요': 449, '이어서': 450, '규모': 451, '두다': 452, '야하다': 453, '예정': 454, '써다': 455, '박일': 456, '수준': 457, '할인': 458, '비치': 459, '느껴지다': 460, '입구': 461, '추다': 462, '세면대': 463, '엘리베이터': 464, '마지막': 465, '사진': 466, 'ㅎ': 467, '노후': 468, '약하다': 469, '주방': 470, '어렵다': 471, '제일': 472, '일찍': 473, '걸리다': 474, '곰팡이': 475, '이라고': 476, '교통': 477, '대한': 478, '안좋다': 479, '음식점': 480, '가보다': 481, '멋지다': 482, '바람': 483, '설명': 484, '스럽다': 485, '예쁘다': 486, '치약': 487, '이네': 488, '놓다': 489, '남다': 490, '연': 491, '공': 492, '장점': 493, '커서': 494, '닫다': 495, '교체': 496, '푹신하다': 497, '키즈': 498, '머리카락': 499, '성산': 500, '해변': 501, '멀리': 502, '잡다': 503, '여름': 504, '포함': 505, '가지': 506, '타': 507, '바닷가': 508, '자리': 509, '걸': 510, '힐링': 511, '변기': 512, '인테리어': 513, 'ㅜㅜ': 514, '말다': 515, '나서다': 516, '뭐': 517, '완벽하다': 518, '원': 519, '개인': 520, '계획': 521, '추억': 522, '단지': 523, '세탁기': 524, '레스토랑': 525, '기본': 526, '단점': 527, '건': 528, '매일': 529, '수풀': 530, '거의': 531, '바꾸다': 532, '행복하다': 533, '감동': 534, '단': 535, '도보': 536, '비교': 537, '자체': 538, '신라': 539, '정원': 540, '성비': 541, '먹거리': 542, '그대로': 543, '기다': 544, '라마': 545, '구비': 546, '조명': 547, '의자': 548, '지다': 549, '역시': 550, '부족': 551, '놀라다': 552, '겨울': 553, '고객': 554, '만원': 555, '간단하다': 556, '생기다': 557, '습': 558, '챙기다': 559, '여유': 560, '보': 561, '타워': 562, '티비': 563, '관': 564, '담배': 565, '춥다': 566, '기대하다': 567, '서다': 568, '새벽': 569, '퀄리티': 570, '베드': 571, '이지만': 572, '눈': 573, '예요': 574, '더블': 575, '굳이': 576, '리': 577, '샤워실': 578, '자주': 579, '슬리퍼': 580, '짱': 581, '어리다': 582, '세': 583, '상': 584, '해주시': 585, '시키다': 586, '필요': 587, '모시': 588, '내다': 589, '고급스럽다': 590, '보이': 591, '첫': 592, '차갑다': 593, '낮다': 594, '아늑하다': 595, '이라서': 596, '풍경': 597, '너무나': 598, '에서는': 599, '아': 600, '어디': 601, '이렇다': 602, 'ㅋㅋ': 603, '님': 604, '더럽다': 605, '기계': 606, '깔다': 607, '비행기': 608, '늘다': 609, '빠지다': 610, '만들다': 611, '확인': 612, '커튼': 613, '신': 614, '라면': 615, '돈': 616, '금액': 617, '알': 618, '손님': 619, '끼리': 620, '오기': 621, '디럭스': 622, '차량': 623, '코스': 624, '만큼': 625, '예': 626, '연결': 627, '사항': 628, '새롭다': 629, '정리': 630, '위해': 631, '실망': 632, '카펫': 633, '부스': 634, '거실': 635, '등등': 636, '올레': 637, '오래': 638, '물론': 639, '사이즈': 640, '살': 641, '휴가': 642, '기다리다': 643, '동문': 644, '오픈': 645, '에서도': 646, '특별하다': 647, '충전': 648, '답답하다': 649, '넉넉하다': 650, '이틀': 651, '다르다': 652, '불다': 653, '협소': 654, '상당하다': 655, '타고': 656, '꽤': 657, '티': 658, '싱글': 659, '제주시': 660, '아직': 661, '스타벅스': 662, '나름': 663, '둘': 664, '가까이': 665, '후기': 666, '첫날': 667, '환기': 668, '모습': 669, '공사': 670, '휴식': 671, '장소': 672, '타다': 673, '가운': 674, '강추': 675, '년': 676, '데리': 677, '카페트': 678, '몇': 679, '메리어트': 680, '얼마': 681, '공기': 682, '콘센트': 683, '새': 684, '더욱': 685, '기도': 686, '쓸다': 687, '와인': 688, '식도': 689, '인사': 690, '혼자': 691, 'ㅋ': 692, '주위': 693, '직접': 694, '우선': 695, '비용': 696, '줄': 697, '바': 698, '께서': 699, '도로': 700, '별': 701, '부페': 702, '아름답다': 703, '고장': 704, '샴푸': 705, '원하다': 706, '두번째': 707, '강': 708, '붙다': 709, '모기': 710, '모델링': 711, '인상': 712, '건지다': 713, '사': 714, '길': 715, '뚜벅': 716, '내려가다': 717, '내내': 718, '열': 719, '이마트': 720, '너': 721, '그래서': 722, '전화': 723, '감사': 724, '추하다': 725, '경치': 726, '주시': 727, '놀': 728, '씩': 729, '어떻다': 730, '이며': 731, '약': 732, '잇다': 733, '며': 734, '그것': 735, '가면': 736, '정': 737, '어둡다': 738, '달라': 739, '구조': 740, '보통': 741, '고민': 742, '만족도': 743, '펴다': 744, '적극': 745, '늘': 746, '루프': 747, '대다': 748, '담': 749, '갑': 750, '편안함': 751, '데스크': 752, '위생': 753, '구경': 754, '이쁘다': 755, '가능': 756, '상황': 757, '캐리어': 758, '호캉스': 759, '배려': 760, '벽': 761, '패밀리': 762, '지금': 763, '베개': 764, '작년': 765, '얘기': 766, '께': 767, '탑': 768, '침실': 769, '특급': 770, '기회': 771, '당황': 772, '합리': 773, '전기차': 774, '이후': 775, '쇼핑': 776, '맥주': 777, '빠르다': 778, '보기': 779, '깨끗': 780, '영': 781, '설치': 782, '볼거리': 783, '어른': 784, '용': 785, '문의': 786, '용품': 787, '반': 788, '불친절하다': 789, '공연': 790, '최상': 791, '엄마': 792, '무척': 793, '박하다': 794, '짧다': 795, '경험': 796, '불쾌하다': 797, '뿐': 798, '좀더': 799, '무조건': 800, '조절': 801, '이렇게': 802, '일출': 803, '밝다': 804, '김밥': 805, '에서의': 806, '앉다': 807, '밥': 808, '아들': 809, '고급': 810, '도와주다': 811, '라운지': 812, '최악': 813, '수기': 814, '전부': 815, '놀이': 816, '와이파이': 817, '매트리스': 818, '남': 819, '달다': 820, '옮기다': 821, '인근': 822, '근데': 823, '작동': 824, '데': 825, '으로는': 826, 'tv': 827, '중간': 828, '오랜': 829, '프런트': 830, '시티': 831, '싸다': 832, '빵': 833, '라는': 834, '회': 835, '대중교통': 836, '음료': 837, '스': 838, '아무': 839, '사실': 840, '다이닝': 841, '연락': 842, '시원하다': 843, '일반': 844, '부족함': 845, '얼룩': 846, '처리': 847, '대해': 848, '참고': 849, '보다는': 850, '구성': 851, '석식': 852, '렌트카': 853, '자고': 854, '훨씬': 855, '비데': 856, '화': 857, '건조하다': 858, '베란다': 859, '난타': 860, '버스정류장': 861, '지인': 862, '돌아다니다': 863, '먹기': 864, '불구': 865, '야경': 866, '용하다': 867, 'ㅜ': 868, '오는': 869, '셋': 870, '고층': 871, '바라보다': 872, '올라오다': 873, '넣다': 874, '묶다': 875, '마트': 876, '이벤트': 877, '지저분하다': 878, '사이': 879, '이해': 880, '물때': 881, '급하다': 882, '방안': 883, '물놀이': 884, '바디': 885, '에서만': 886, '렌트': 887, '돌아오다': 888, '요금': 889, '구매': 890, '중심': 891, '개월': 892, '작고': 893, '시작': 894, '푹': 895, '자기': 896, '결제': 897, '어려움': 898, '계시다': 899, '성인': 900, '채우다': 901, '유료': 902, '마스크': 903, '그리다': 904, '한적하다': 905, '공원': 906, '차로': 907, '어쩔': 908, '써주다': 909, '옷': 910, '신혼여행': 911, '실': 912, '뒤': 913, '오': 914, '부탁드리다': 915, '수가': 916, '대체로': 917, '드라이기': 918, '경관': 919, '한식': 920, '가게': 921, '일회용': 922, '왜': 923, '화장': 924, '유명하다': 925, '꾸다': 926, '단위': 927, '뜨다': 928, '요다음': 929, '뭔가': 930, '물품': 931, '셔틀': 932, '도움': 933, '동선': 934, '씻다': 935, '작': 936, '당': 937, '쓰이다': 938, '등반': 939, '도심': 940, '리셉션': 941, '찾기': 942, '난': 943, '대부분': 944, '신축': 945, '수도': 946, '번째': 947, '음': 948, '부실하다': 949, '걸어가다': 950, '여기다': 951, '물어보다': 952, '로는': 953, '들어서다': 954, '변경': 955, '쯤': 956, '대가': 957, '하우스': 958, '본관': 959, '이유': 960, '과의': 961, '세심': 962, '시스템': 963, '바라다': 964, '신청': 965, '쿠폰': 966, '딸': 967, '무난': 968, '모텔': 969, '식기세척기': 970, '새다': 971, '안락하다': 972, '묻다': 973, '곳도': 974, '든': 975, '비도': 976, '권': 977, '남자': 978, '그러나': 979, '식구': 980, '빨리': 981, '으로도': 982, '세탁': 983, '타월': 984, '요즘': 985, '그게': 986, '돼지': 987, '거울': 988, '안해': 989, '애매하다': 990, '커버': 991, '온돌': 992, '별도': 993, '신관': 994, '버리다': 995, '힘드다': 996, '인원': 997, '이름': 998, '프로그램': 999, '대로': 1000, '말고는': 1001, '덜': 1002, '목적': 1003, '이르다': 1004, '섭지코지': 1005, '협소해': 1006, '흑': 1007, '주심': 1008, '와도': 1009, '가야': 1010, '벌레': 1011, '어매니티': 1012, '째': 1013, '못자다': 1014, '중앙': 1015, '이런': 1016, '위트': 1017, '포근하다': 1018, '밑': 1019, '워낙': 1020, '망': 1021, '이라는': 1022, '에게는': 1023, '부담': 1024, '길이': 1025, '이라도': 1026, '광': 1027, '딱이다': 1028, '스위트룸': 1029, '맞이': 1030, '진행': 1031, '체적': 1032, '외관': 1033, '해오다': 1034, '깨다': 1035, '통해': 1036, '인시': 1037, '형': 1038, '애기': 1039, '하수': 1040, '배수': 1041, '한잔': 1042, '중요하다': 1043, '전화하다': 1044, '여행객': 1045, '점도': 1046, '컵': 1047, '풀이': 1048, '배치': 1049, '대기': 1050, '발': 1051, '굳다': 1052, '따르다': 1053, '거기': 1054, '대여': 1055, '짜다': 1056, '기간': 1057, '패키지': 1058, '그거': 1059, '길다': 1060, '빌리다': 1061, '온수': 1062, '막히다': 1063, '몸': 1064, '움직이다': 1065, '입장': 1066, '시기': 1067, '미흡하다': 1068, '그렇게': 1069, '깊다': 1070, '배': 1071, '하니': 1072, '동반': 1073, '시트': 1074, '가구': 1075, '마루': 1076, '생수': 1077, '아프다': 1078, '예민하다': 1079, '여러가지': 1080, '최적': 1081, '향': 1082, '고맙다': 1083, '이제': 1084, '소': 1085, '편리': 1086, '재밌다': 1087, '잠자리': 1088, '실외': 1089, '각종': 1090, '맞추다': 1091, '분리': 1092, '숙면': 1093, '오후': 1094, '먼저': 1095, '비누': 1096, '식이': 1097, '다룸': 1098, '트윈': 1099, '숲': 1100, '위로': 1101, '곳곳': 1102, '감': 1103, '뜨겁다': 1104, '관련': 1105, '중국': 1106, '키': 1107, '발코니': 1108, '엘레베이터': 1109, '찜질방': 1110, '가드': 1111, '해도': 1112, '오히려': 1113, '이면': 1114, '일이': 1115, '오전': 1116, '보임': 1117, '협소하': 1118, '센터': 1119, '치다': 1120, '커플': 1121, '요리': 1122, '정돈': 1123, '전날': 1124, '환상': 1125, '간다': 1126, '편입': 1127, '매번': 1128, '이야기': 1129, '원래': 1130, '딱딱하다': 1131, '양호': 1132, '그런': 1133, '프라자': 1134, '묵고': 1135, 'ㅋㅋㅋ': 1136, '과도': 1137, '피로': 1138, '출장': 1139, '낙후': 1140, '나머지': 1141, '여기저기': 1142, '산': 1143, '창': 1144, '아무래도': 1145, '돌아가다': 1146, '유지': 1147, '부킹': 1148, '히': 1149, '머리': 1150, '묵': 1151, '꿀잠': 1152, '에만': 1153, '입실': 1154, '자연': 1155, '신선하다': 1156, '나중': 1157, '올레길': 1158, '지는': 1159, '유아': 1160, '깜짝': 1161, '그런데': 1162, '아깝다': 1163, '가습기': 1164, '땐': 1165, '온돌방': 1166, '달': 1167, '실망하다': 1168, '웃다': 1169, '손': 1170, '번화가': 1171, '업무': 1172, '또는': 1173, '밤새': 1174, '꺼지다': 1175, '떠나다': 1176, '스위트': 1177, '아래': 1178, '외출': 1179, '닷컴': 1180, '답': 1181, '가짓수': 1182, '폭': 1183, '여직원': 1184, '발렛': 1185, '치기': 1186, '윗': 1187, '접근': 1188, '인접': 1189, '함덕': 1190, '알차다': 1191, '제외': 1192, '킹': 1193, '빌라': 1194, '천원': 1195, '살다': 1196, '불': 1197, '바쁘다': 1198, '바뀌다': 1199, '베다': 1200, '대응': 1201, '나무': 1202, '충전기': 1203, '히터': 1204, '순간': 1205, '병': 1206, '일어나다': 1207, '옥상': 1208, '아예': 1209, '요가': 1210, '둘째': 1211, '신나다': 1212, '쌓이다': 1213, '매트': 1214, '이중섭': 1215, '선': 1216, '이전': 1217, '닫히다': 1218, '갈수': 1219, '심지어': 1220, '보다도': 1221, '지역': 1222, '풍': 1223, '사전': 1224, '한다는': 1225, '부탁': 1226, '인거': 1227, '닦다': 1228, '피트니스': 1229, '끝': 1230, '실내수영장': 1231, '주말': 1232, '단체': 1233, '일출봉': 1234, '일부': 1235, '심': 1236, '내리다': 1237, '올라가다': 1238, '측': 1239, '알아보다': 1240, '생일': 1241, '싫다': 1242, '적합하다': 1243, '결국': 1244, '군데': 1245, '햇': 1246, '질': 1247, 'ㅎㅎㅎ': 1248, '행시': 1249, '끼다': 1250, '양': 1251, '통': 1252, '스테이': 1253, '낮': 1254, '꼼꼼하다': 1255, '미니바': 1256, '빨래': 1257, '헬스장': 1258, '일회용품': 1259, '카운터': 1260, '쏘다': 1261, '끝나다': 1262, '시청': 1263, '남편': 1264, '엘베': 1265, '속': 1266, '제한': 1267, '공용': 1268, '매': 1269, '종일': 1270, '비추다': 1271, '어느': 1272, '물건': 1273, '발견': 1274, '유리': 1275, '남기다': 1276, '호': 1277, '용이하다': 1278, '이기다': 1279, '피곤하다': 1280, '비즈니스': 1281, '떠들다': 1282, '최신': 1283, '복잡하다': 1284, '설치다': 1285, '라도': 1286, '불친절': 1287, '도구': 1288, '흔적': 1289, '찾아가다': 1290, '이건': 1291, '체험': 1292, '숙박시설': 1293, '올해': 1294, '좋아지다': 1295, '겸': 1296, '트이다': 1297, '박다': 1298, '말씀': 1299, '안쪽': 1300, '고려': 1301, '듭니': 1302, '따다': 1303, '가도': 1304, '미소': 1305, '당연하다': 1306, '자세하다': 1307, '한지': 1308, '술': 1309, '기대다': 1310, '갑자기': 1311, '천': 1312, '차이': 1313, '적절하다': 1314, '대신': 1315, '막': 1316, '쓰기': 1317, '태도': 1318, '모던': 1319, '강력': 1320, '틀다': 1321, '그럭저럭': 1322, '면도기': 1323, '이용도': 1324, '연식': 1325, '실제': 1326, '웰컴': 1327, '화관': 1328, '취소': 1329, '귀찮다': 1330, '올리다': 1331, '한가지': 1332, '정류장': 1333, '프로': 1334, '린스': 1335, '대형': 1336, '비지니스': 1337, '금방': 1338, '착하다': 1339, '치우다': 1340, '대박': 1341, '내용': 1342, '드': 1343, '치고': 1344, '니당다': 1345, '찝찝하다': 1346, '켜다': 1347, '소파': 1348, '마무리': 1349, '이외': 1350, '방과': 1351, '카드': 1352, '천장': 1353, '모': 1354, '비슷하다': 1355, '감안': 1356, '우도': 1357, '어린이': 1358, '세다': 1359, '열리다': 1360, '붙이다': 1361, '부엌': 1362, '해봤다': 1363, '기타': 1364, '개다': 1365, '고르다': 1366, '행사': 1367, '태풍': 1368, '정갈하다': 1369, '창밖': 1370, '매년': 1371, '불만': 1372, '동시': 1373, '붐비다': 1374, '모시다': 1375, '선물': 1376, '배달': 1377, '습하다': 1378, '안전': 1379, '콘도': 1380, '지도': 1381, '기념': 1382, '정수기': 1383, '이지': 1384, '칭찬': 1385, '대화': 1386, '흔들리다': 1387, '자국': 1388, '불량': 1389, '세면': 1390, '걷기': 1391, '층간소음': 1392, '과일': 1393, '뛰어나다': 1394, '니까': 1395, '해수욕장': 1396, '가볍다': 1397, '수영복': 1398, '잊다': 1399, '무': 1400, '식당가': 1401, '해당': 1402, '굿굿': 1403, '당일': 1404, '야간': 1405, '진입': 1406, '최근': 1407, '우': 1408, '개별': 1409, '에선': 1410, '벽지': 1411, '환풍기': 1412, '들어주다': 1413, '결정': 1414, '예전': 1415, '주문': 1416, '자꾸': 1417, '멋있다': 1418, '인피니티': 1419, '횟집': 1420, '상품': 1421, '크리스마스': 1422, 'suv': 1423, '보이지': 1424, '지불': 1425, '옷장': 1426, '걸이': 1427, '발생': 1428, '사다': 1429, '검색': 1430, '도시': 1431, '봄': 1432, 'a': 1433, '입': 1434, '이상하다': 1435, '여자': 1436, '방개': 1437, '쇼파': 1438, '잠깐': 1439, '럭셔리': 1440, '잠자다': 1441, '스럽지': 1442, '더하다': 1443, '디너': 1444, '돌다': 1445, '간식': 1446, '다행': 1447, '쓰레기': 1448, '시국': 1449, '운전': 1450, '거슬리다': 1451, '인가': 1452, '구석구석': 1453, '되게': 1454, '지나가다': 1455, '아웃': 1456, '야': 1457, '들이다': 1458, '조치': 1459, '지나다': 1460, '포장': 1461, '날다': 1462, '신발': 1463, '답변': 1464, '모로': 1465, '방향': 1466, '코인': 1467, '처': 1468, '실수': 1469, '쫌': 1470, '믿다': 1471, '요구': 1472, '블룸': 1473, '에서부터': 1474, '부부': 1475, '광장': 1476, '타일': 1477, '전경': 1478, '잡히다': 1479, '말고': 1480, '빗': 1481, '무섭다': 1482, '트윈룸': 1483, '신분': 1484, '안전하다': 1485, '직하다': 1486, '아파트': 1487, '식기': 1488, '써머': 1489, '만의': 1490, '그랜드': 1491, '탁월하다': 1492, '구분': 1493, '입다': 1494, '갖다': 1495, '스벅': 1496, '피': 1497, '한참': 1498, '위주': 1499, '솔직하다': 1500, '여전하다': 1501, '요원': 1502, '가요': 1503, '인터넷': 1504, '비품': 1505, '엄청나다': 1506, '후회': 1507, '거나': 1508, '해안': 1509, '바로바로': 1510, '불가': 1511, '트': 1512, '똑같다': 1513, '미치다': 1514, '분도': 1515, '내년': 1516, '말투': 1517, '이미지': 1518, '놀래다': 1519, '까지는': 1520, '자쿠': 1521, '확실하다': 1522, '전복죽': 1523, '에게도': 1524, '쉽다': 1525, '덕': 1526, '우수하다': 1527, '번거롭다': 1528, '프로모션': 1529, '클럽': 1530, '총': 1531, '프라이': 1532, '몇번': 1533, '고치다': 1534, '말씀드리다': 1535, '지난': 1536, '가득하다': 1537, '자쿠지': 1538, '혜택': 1539, '마감': 1540, '각': 1541, '판매': 1542, '여행자': 1543, '잠도': 1544, '안나': 1545, '커텐': 1546, '본': 1547, '잘나오다': 1548, '가득': 1549, '듣다': 1550, '정비': 1551, '용이': 1552, '공기청정기': 1553, '마주치다': 1554, '진심': 1555, '흡연': 1556, '동네': 1557, '상관없다': 1558, '세번': 1559, '너무나도': 1560, '동생': 1561, '서울': 1562, 'good': 1563, '잠들다': 1564, '슴': 1565, '스파': 1566, '이하': 1567, '이미': 1568, '그때': 1569, '누르다': 1570, '개장': 1571, '바깥': 1572, '기구': 1573, '찍다': 1574, '삼': 1575, '미끄럽다': 1576, '그나마': 1577, '지은지': 1578, '한편': 1579, '버튼': 1580, '정상': 1581, '자마자': 1582, '해외': 1583, '그닥': 1584, '이용권': 1585, '깨': 1586, '오븐': 1587, '채널': 1588, '정보': 1589, '제품': 1590, '코너': 1591, '디': 1592, '잘못': 1593, '한테': 1594, '냉': 1595, '커피포트': 1596, '가든': 1597, '다정': 1598, '표시': 1599, '센스': 1600, '찾아보다': 1601, '주신': 1602, '구입': 1603, '골목': 1604, '액': 1605, '코': 1606, '경': 1607, '끝내주다': 1608, '겁니다': 1609, '현관': 1610, '베이커리': 1611, '갈아': 1612, '대처': 1613, '키핑': 1614, '무리': 1615, '년전': 1616, '스럽게': 1617, '값': 1618, '에겐': 1619, '세우다': 1620, '치': 1621, '예상': 1622, '끼': 1623, '전달': 1624, '전용': 1625, '보수': 1626, '불안하다': 1627, '방충': 1628, '무슨': 1629, '마시다': 1630, '평가': 1631, '다시다': 1632, '자동': 1633, '줄다': 1634, '이만': 1635, '치킨': 1636, '인프라': 1637, '채': 1638, '왠만하다': 1639, '신고': 1640, '음악': 1641, '여유롭다': 1642, '래시': 1643, '고생': 1644, '브랜드': 1645, '변': 1646, '기능': 1647, '어머니': 1648, '흠': 1649, '유용하다': 1650, '근접': 1651, '박동': 1652, '방해': 1653, '금': 1654, '머': 1655, '맥도날드': 1656, '마치': 1657, '선생님': 1658, '조심하다': 1659, '잠시': 1660, '워시': 1661, '이기': 1662, '세월': 1663, '푸드코트': 1664, '요조': 1665, '게다가': 1666, '오설록': 1667, '주의': 1668, '재료': 1669, '저렴': 1670, '미흡': 1671, '엉망': 1672, '궁금하다': 1673, '헷갈리다': 1674, '교육': 1675, '욕': 1676, '평일': 1677, '찢어지다': 1678, '료': 1679, '평': 1680, '그다지': 1681, '기준': 1682, '잔': 1683, '그만큼': 1684, '아무리': 1685, '병원': 1686, '점검': 1687, '가시다': 1688, '배다': 1689, '공지': 1690, '구멍': 1691, '물다': 1692, '과는': 1693, '근접하다': 1694, '취사': 1695, '수리': 1696, '바베큐': 1697, '벌써': 1698, '서쪽': 1699, '활용': 1700, '막상': 1701, '출발': 1702, '와이프': 1703, '국': 1704, '자녀': 1705, '즐': 1706, '장기': 1707, '풀다': 1708, '선반': 1709, '눕다': 1710, '저녁식사': 1711, '포트': 1712, '둘러보다': 1713, '자동차': 1714, '컴': 1715, '취하': 1716, '겠다': 1717, '하늘': 1718, '가져가다': 1719, '는걸': 1720, '운동': 1721, '문자': 1722, '완벽': 1723, '담다': 1724, '까페': 1725, '세탁실': 1726, '업': 1727, '각자': 1728, '모이다': 1729, '죠': 1730, '언제': 1731, '첨': 1732, '터': 1733, '틀': 1734, '필요없다': 1735, '허리': 1736, '양식': 1737, '해장국': 1738, '친철': 1739, '국내': 1740, '위층': 1741, '아저씨': 1742, '여행지': 1743, '나누다': 1744, '해안가': 1745, '착용': 1746, '퇴': 1747, '협': 1748, '닿다': 1749, '뛰다': 1750, '확': 1751, '곧': 1752, '보일러': 1753, '뒷': 1754, '짱짱': 1755, '건조기': 1756, '표정': 1757, '놀이기구': 1758, '냉방': 1759, 'ㅠㅠㅠ': 1760, '탁자': 1761, '디자인': 1762, '애월': 1763, '목욕탕': 1764, '연장': 1765, '그렇다고': 1766, '일간': 1767, '쿵쿵': 1768, '초': 1769, '물질': 1770, '탑동': 1771, '섬': 1772, '순': 1773, '구석': 1774, '보관': 1775, '측면': 1776, '불만족': 1777, '조명도': 1778, '가끔': 1779, '션': 1780, '전자레인지': 1781, '얼리다': 1782, '친정': 1783, '산책길': 1784, '마련': 1785, '얼마나': 1786, '넘어가다': 1787, '목': 1788, '겨우': 1789, '흐르다': 1790, '특성': 1791, '이서': 1792, '드네': 1793, '준': 1794, '매력': 1795, '중이': 1796, '그렇지만': 1797, '어수선하다': 1798, '차라리': 1799, '워': 1800, '관광객': 1801, '위험하다': 1802, '항': 1803, '숲속': 1804, '더블베드': 1805, '씨': 1806, '건너편': 1807, '나가야': 1808, '밤늦다': 1809, '높이': 1810, '도도': 1811, '이점': 1812, '신속하다': 1813, '다치다': 1814, '오늘': 1815, '암': 1816, '쇼핑몰': 1817, '배드': 1818, '걷다': 1819, '다섯': 1820, '방역': 1821, '놀수': 1822, '동쪽': 1823, '유명': 1824, '수질': 1825, '헤드': 1826, '일부러': 1827, '나위': 1828, '매니저': 1829, '이루어지다': 1830, '물리다': 1831, '글': 1832, '기르다': 1833, '지상': 1834, '반갑다': 1835, '절대': 1836, '아빠': 1837, '감탄': 1838, '얇다': 1839, '안타깝다': 1840, '무지': 1841, '반영': 1842, '늘리다': 1843, '침대시트': 1844, '망설이다': 1845, '조금씩': 1846, '재미': 1847, '칼': 1848, '재미있다': 1849, '형편': 1850, '시가': 1851, '하얏트': 1852, '하층': 1853, '기류': 1854, '샐러드': 1855, '그건': 1856, '달리': 1857, '줌': 1858, '약시': 1859, '사이드': 1860, '보지': 1861, '지치다': 1862, '외진': 1863, '매니': 1864, '선호': 1865, '줄이다': 1866, '외국': 1867, '첫째': 1868, '사오다': 1869, '보단': 1870, 'room': 1871, '대가족': 1872, '조경': 1873, '뻔하다': 1874, '장난': 1875, '꾸미다': 1876, '세련되다': 1877, '읍니': 1878, '료칸': 1879, '박만': 1880, '참여': 1881, '주로': 1882, '맨': 1883, '과정': 1884, '본인': 1885, '정신': 1886, '으론': 1887, '열심히': 1888, '베이': 1889, '계단': 1890, '습기': 1891, '핸드폰': 1892, '지나': 1893, '밉다': 1894, '판악': 1895, '집도': 1896, '누가': 1897, '다행하다': 1898, '커피숍': 1899, '아내': 1900, '가지다': 1901, '한데': 1902, '누리다': 1903, '조선': 1904, '부지': 1905, '목욕': 1906, '이니': 1907, '타입': 1908, '노래': 1909, '첫인상': 1910, '띄다': 1911, '스탠다드': 1912, '현장': 1913, '비우다': 1914, '금연': 1915, '주지': 1916, '업글': 1917, '생각나다': 1918, '평범하다': 1919, '고정': 1920, '유리창': 1921, '얼굴': 1922, '의향': 1923, '컨': 1924, '심해': 1925, '생활': 1926, '부터는': 1927, '조만간': 1928, '푸드': 1929, '스트리트': 1930, '만에': 1931, '흠잡다': 1932, '옵션': 1933, '엇': 1934, '빌트': 1935, '지키다': 1936, '진': 1937, '파리': 1938, '나요': 1939, '동남아': 1940, '부가': 1941, '로션': 1942, '얼음': 1943, '풍차': 1944, '펍': 1945, '탕': 1946, '안이': 1947, '도어': 1948, '필수': 1949, '플레인': 1950, '방식': 1951, '셔틀버스': 1952, '운행': 1953, '치고는': 1954, '랄': 1955, '영화': 1956, '스트레스': 1957, '회원': 1958, '이구': 1959, '휴지': 1960, '메인': 1961, '벙커': 1962, '울': 1963, '돌리다': 1964, '정문': 1965, '터지다': 1966, '런가': 1967, '군더더기': 1968, '신다': 1969, '전자렌지': 1970, '탁': 1971, '관계': 1972, '비닐': 1973, '중국인': 1974, '셀러': 1975, '반찬': 1976, '부담스럽다': 1977, '울다': 1978, '아담하다': 1979, '포기': 1980, '부르다': 1981, '통로': 1982, '빛': 1983, '노력': 1984, '뚫리다': 1985, '펼치다': 1986, '로운': 1987, '편임': 1988, '뻔': 1989, '어딜': 1990, '민감하다': 1991, '범섬': 1992, '시어': 1993, '어차피': 1994, '조리': 1995, '스프링': 1996, '뜯다': 1997, '오시': 1998, '전기': 1999, '파티': 2000, '퀸': 2001, '리뉴얼': 2002, '로만': 2003, '만으로도': 2004, '기기': 2005, '긋다': 2006, '연인': 2007, '등산': 2008, '흐리다': 2009, '설정': 2010, '마인드': 2011, '관음사': 2012, '상세': 2013, '장갑': 2014, '프리미엄': 2015, '모임': 2016, '방법': 2017, '의견': 2018, '맡다': 2019, '이동해': 2020, '술집': 2021, '최': 2022, '연휴': 2023, '펜션': 2024, '줍다': 2025, '던지다': 2026, '가방': 2027, '마리': 2028, '주요': 2029, '연속': 2030, '저번': 2031, '식탁': 2032, '정이': 2033, '사이트': 2034, '취향': 2035, '재다': 2036, '락스': 2037, '힐': 2038, '출입': 2039, '형식': 2040, '루': 2041, '잔뜩': 2042, '가운데': 2043, '전등': 2044, '홈페이지': 2045, '편안': 2046, '쓰레기통': 2047, '막다': 2048, '주어': 2049, '점심': 2050, '조차': 2051, '다가': 2052, '든든하다': 2053, '호실': 2054, '꽉': 2055, '지루하다': 2056, '란': 2057, '렌터카': 2058, '레이': 2059, '그릇': 2060, '오름': 2061, '화가': 2062, '투어': 2063, '맛없다': 2064, '움직': 2065, '주년': 2066, '조성': 2067, '정확하다': 2068, '만점': 2069, '짜증': 2070, '소독': 2071, '몰리다': 2072, '강하다': 2073, '휘트니': 2074, '결과': 2075, '이내': 2076, '야시장': 2077, '일주일': 2078, '내려오다': 2079, '소개': 2080, '상권': 2081, '담당': 2082, '뜻': 2083, '쌀국수': 2084, '깊이': 2085, '친': 2086, '오염': 2087, '코앞': 2088, '피다': 2089, '혹은': 2090, '조건': 2091, '풍기': 2092, '비롯': 2093, '건너': 2094, '한국': 2095, '충분': 2096, '홈쇼핑': 2097, '불꽃놀이': 2098, '반드시': 2099, '타임': 2100, '바퀴벌레': 2101, '괜히': 2102, '구역': 2103, '볼링장': 2104, '해달라다': 2105, '젊다': 2106, '넷플릭스': 2107, '번호': 2108, '혹시': 2109, '감상': 2110, '고조': 2111, '차단': 2112, '칠': 2113, '팀': 2114, '반납': 2115, '짓다': 2116, '건조': 2117, '고요': 2118, '이어지다': 2119, '가져다주다': 2120, '감기': 2121, '더러': 2122, '페리': 2123, '메이드': 2124, '휴양': 2125, '끈': 2126, '도시락': 2127, '시야': 2128, '와의': 2129, '품': 2130, '과자': 2131, '꺼리다': 2132, '발렛파킹': 2133, '트리플': 2134, '다해': 2135, '플레이': 2136, '널찍하다': 2137, '고해': 2138, '우산': 2139, '교환': 2140, '황당하다': 2141, '지난번': 2142, '놓이다': 2143, '가동': 2144, '쾌적': 2145, '어요': 2146, '상대': 2147, '헤매다': 2148, '항구': 2149, '낫다': 2150, '길거리': 2151, 'cu': 2152, '해먹': 2153, '결혼': 2154, '의무': 2155, '가시': 2156, '방기': 2157, 'view': 2158, '압도': 2159, '누리': 2160, '평소': 2161, '어머님': 2162, '일행': 2163, '가세': 2164, '바람소리': 2165, '아리아': 2166, '이든': 2167, '허다': 2168, '사고': 2169, '틈': 2170, '여쭈다': 2171, '해드리다': 2172, '섬세하다': 2173, '한쪽': 2174, '블로그': 2175, '왕': 2176, '단연': 2177, '수고': 2178, '주오': 2179, '기존': 2180, '워드': 2181, '오가다': 2182, '들르다': 2183, '면세점': 2184, '딸아이': 2185, '빈약하다': 2186, '피아노': 2187, '유모차': 2188, '출입구': 2189, '눅눅하다': 2190, '간이': 2191, '벗다': 2192, '얻다': 2193, '다방': 2194, '추후': 2195, '번은': 2196, '꺼내다': 2197, '오르다': 2198, '리가': 2199, '아가': 2200, '허니문': 2201, '상냥하다': 2202, '제법': 2203, '지배인': 2204, '탈': 2205, '설비': 2206, '끌': 2207, '조카': 2208, '대체': 2209, '슈': 2210, '젤': 2211, '신랑': 2212, '악취': 2213, '울리다': 2214, '대의': 2215, '뭘': 2216, '간격': 2217, '미술관': 2218, '질문': 2219, '튜브': 2220, '그날': 2221, '미안하다': 2222, '구관': 2223, '남아': 2224, '겪다': 2225, '찬': 2226, '특': 2227, '사기': 2228, '취약': 2229, '품질': 2230, '노선': 2231, '중턱': 2232, '에어콘': 2233, '창가': 2234, '땜': 2235, '로서': 2236, '외다': 2237, '털': 2238, '특유': 2239, '와는': 2240, '느리다': 2241, '스마트': 2242, '곱다': 2243, '뚫다': 2244, '스러운': 2245, '생기': 2246, '서서': 2247, '없어지다': 2248, '각각': 2249, '번잡': 2250, '존': 2251, '어르신': 2252, '바램': 2253, '나무라다': 2254, '캉스': 2255, '계': 2256, '콜': 2257, '실하다': 2258, '휴양지': 2259, '근': 2260, '최대한': 2261, '북적': 2262, '아마': 2263, '플': 2264, '암튼': 2265, '운': 2266, '래': 2267, '심각하다': 2268, '팅': 2269, '터미널': 2270, '책상': 2271, '으로만': 2272, '보시': 2273, '택': 2274, '만나다': 2275, '레이크': 2276, '작성': 2277, '한정': 2278, '음번': 2279, '갑작스럽다': 2280, '비수': 2281, '누군가': 2282, '부드럽다': 2283, '안보': 2284, '마치다': 2285, '의심': 2286, '부모': 2287, '오자': 2288, '할머니': 2289, '차라': 2290, '여분': 2291, '나이': 2292, '수용': 2293, '변화': 2294, '입점': 2295, '상가': 2296, '여느': 2297, '대하': 2298, '사랑': 2299, '젖다': 2300, '개방': 2301, '포인트': 2302, '귀': 2303, '널다': 2304, '파다': 2305, '세트': 2306, '별다르다': 2307, '박물관': 2308, '쿠션': 2309, '와인잔': 2310, '넉': 2311, '인용': 2312, '하룻밤': 2313, '활동': 2314, '상쾌하다': 2315, '베스트': 2316, '한장': 2317, '면적': 2318, '반하다': 2319, '의미': 2320, '뿐이다': 2321, '적임': 2322, '닷': 2323, '쾌쾌': 2324, '매장': 2325, '영업': 2326, '펼쳐지다': 2327, '가리다': 2328, '말소리': 2329, '바퀴': 2330, '이기도': 2331, '당시': 2332, '사먹다': 2333, '걸레': 2334, '호텔리어': 2335, '불가하다': 2336, '따라서': 2337, '이정': 2338, '한가운데': 2339, '내의': 2340, '박일동': 2341, '라인': 2342, '맞은편': 2343, '치가': 2344, '으': 2345, '흘리다': 2346, '수납': 2347, '구가': 2348, '협소함': 2349, '밤시': 2350, '가전': 2351, '카': 2352, '초등학생': 2353, '안심': 2354, '비염': 2355, '놀이동산': 2356, '높이다': 2357, '최적화': 2358, '스프': 2359, '미역국': 2360, '즈': 2361, '놀이터': 2362, '시간대': 2363, '다운': 2364, '분명': 2365, '면서': 2366, '비리다': 2367, '수면': 2368, '며칠': 2369, '혹': 2370, '아아': 2371, '레이스': 2372, '그저': 2373, '데우다': 2374, '비갑': 2375, '특가': 2376, '식다': 2377, 'x': 2378, 'm': 2379, '떨다': 2380, '토스트': 2381, '클리닝': 2382, '만들기': 2383, '끝판': 2384, '용두암': 2385, '평이': 2386, '옵니다': 2387, '더불다': 2388, '생맥주': 2389, 'ㅠㅜ': 2390, '중식': 2391, '안성맞춤': 2392, '감다': 2393, '갓': 2394, '민망하다': 2395, '된거': 2396, '스타일': 2397, '박스': 2398, '야식': 2399, '초등': 2400, '성능': 2401, '사과': 2402, '넘치다': 2403, '거려': 2404, '짜증나다': 2405, '연주': 2406, '조경이': 2407, '깨끗이': 2408, '추석': 2409, '환영': 2410, '등록': 2411, '싱크대': 2412, '업체': 2413, '팬': 2414, '런치': 2415, '하고는': 2416, '동이': 2417, '친정엄마': 2418, '안함': 2419, '라바': 2420, '리프': 2421, '빵빵': 2422, '레드': 2423, '건데': 2424, '완전하다': 2425, '가라': 2426, '불가능하다': 2427, '현재': 2428, '팔다': 2429, '인기': 2430, '오성': 2431, '까진': 2432, '전화기': 2433, '스위치': 2434, '고기': 2435, '중단': 2436, '출렁': 2437, '가을': 2438, '꽂다': 2439, '통창': 2440, '머신': 2441, '뒤척': 2442, '대충': 2443, '안내받다': 2444, '클래식': 2445, '트랜스포머': 2446, '빵집': 2447, '세상': 2448, '리지': 2449, '찍기': 2450, '쪼금': 2451, '고가': 2452, '역': 2453, '메리트': 2454, '미지근하다': 2455, '푸다': 2456, '중산': 2457, '난이': 2458, '선착순': 2459, '까지도': 2460, '전통': 2461, '만큼의': 2462, '약국': 2463, '대단하다': 2464, '서랍': 2465, '탓': 2466, '두운': 2467, '일박': 2468, '서도': 2469, '감수': 2470, '요담': 2471, '계절': 2472, '푹쉬다': 2473, '알러지': 2474, '색다르다': 2475, '어울리다': 2476, '철저하다': 2477, '지르다': 2478, '김치': 2479, '노을': 2480, '어마': 2481, '누구': 2482, '사소하다': 2483, '씨뷰': 2484, '세명': 2485, '찌다': 2486, '앞쪽': 2487, '배경': 2488, '소란': 2489, '리필': 2490, '접시': 2491, 'ㅇ': 2492, '회사': 2493, '맡기다': 2494, 'was': 2495, '가져오다': 2496, '하고도': 2497, '다가오다': 2498, '오믈렛': 2499, '내려다보다': 2500, '풀기': 2501, '맘껏': 2502, '휴대폰': 2503, '돌': 2504, '쾅': 2505, '결혼기념일': 2506, 'the': 2507, '지나치다': 2508, '화려하다': 2509, '놀람': 2510, '애용': 2511, '봉': 2512, '하프': 2513, '케이블': 2514, '참다': 2515, '옴': 2516, '치즈': 2517, '다리': 2518, '자본': 2519, '동료': 2520, '차도': 2521, 'gs': 2522, '내일': 2523, '국적': 2524, '쥬스': 2525, '꽃': 2526, '반복': 2527, '보안': 2528, '지급': 2529, '해지': 2530, '지속': 2531, '온천': 2532, '테': 2533, '불빛': 2534, '끊기다': 2535, '서귀포시': 2536, '안다': 2537, '대리석': 2538, '체인': 2539, '전이': 2540, '뻑뻑': 2541, '통화': 2542, '무겁다': 2543, '웅장': 2544, '기약': 2545, '등급': 2546, '대고': 2547, '수전': 2548, '음식물': 2549, '내야': 2550, '흔들다': 2551, '데리다': 2552, '나아지다': 2553, '우수': 2554, '놔두다': 2555, '포차': 2556, '이드': 2557, '사서': 2558, '한눈': 2559, '수시로': 2560, '군데군데': 2561, '지은': 2562, '잔디': 2563, '어메': 2564, '부도': 2565, '몰다': 2566, '서로': 2567, '어이없다': 2568, '샵': 2569, '리모컨': 2570, '부근': 2571, '합': 2572, '국수': 2573, '페인트': 2574, '홀': 2575, '가나': 2576, 'b': 2577, '대안': 2578, '비록': 2579, '소중하다': 2580, '우연히': 2581, '아동': 2582, '최고급': 2583, '도나': 2584, '부': 2585, '내외': 2586, '올려놓다': 2587, '구도': 2588, '가정': 2589, '컨시어': 2590, '보여주다': 2591, '벽면': 2592, 'in': 2593, '캠프': 2594, '드릴': 2595, '오지': 2596, '박하': 2597, '지고': 2598, '갈치': 2599, '새소리': 2600, '오토바이': 2601, '없슴': 2602, '자재': 2603, '턱': 2604, '튀다': 2605, '차요': 2606, '성하다': 2607, '세척': 2608, '시즌': 2609, 'ㅋㅋㅋㅋ': 2610, '파도': 2611, '무제한': 2612, '쇼': 2613, '부산': 2614, '고프다': 2615, '동행': 2616, '쎄다': 2617, '정면': 2618, '링크': 2619, '대접받다': 2620, '상주': 2621, '웃음': 2622, '좌석': 2623, '백': 2624, '언제나': 2625, '고구마': 2626, '드럼세탁기': 2627, '조기': 2628, '쿰쿰하다': 2629, '해외여행': 2630, '방치': 2631, '로써': 2632, '돋보이다': 2633, '화재': 2634, '아무렇다': 2635, '환하다': 2636, '움직임': 2637, '쐬다': 2638, '손잡이': 2639, '천국': 2640, '노': 2641, '죽다': 2642, '할아버지': 2643, '파리바게트': 2644, '달라지다': 2645, '인포': 2646, '지지다': 2647, '태교여행': 2648, '통제': 2649, '키로': 2650, '상상': 2651, '음가': 2652, '환': 2653, '도민': 2654, '전기포트': 2655, '인덕션': 2656, 'and': 2657, '딱좋다': 2658, '아울렛': 2659, '반기다': 2660, '첨으로': 2661, '마찬가지': 2662, '호불호': 2663, '다수': 2664, '헤어': 2665, '다리미': 2666, '스테이크': 2667, '관덕정': 2668, '소요': 2669, '설다': 2670, '넓이': 2671, '커다랗다': 2672, '컨디셔너': 2673, '넘어서다': 2674, '몇몇': 2675, '기념품': 2676, '위험': 2677, 'out': 2678, '그걸': 2679, '비치다': 2680, '퇴실': 2681, '수심': 2682, '얕다': 2683, '향기': 2684, '공터': 2685, '근무': 2686, '건축': 2687, '수온': 2688, '환불': 2689, '왼쪽': 2690, '그중': 2691, '법원': 2692, '여럿': 2693, '인도': 2694, '날리다': 2695, '하얗다': 2696, '상점': 2697, '정방폭포': 2698, '셀프': 2699, '눈치': 2700, '투': 2701, '관람': 2702, '운치': 2703, '별빛': 2704, '냉동': 2705, '극': 2706, '제로': 2707, '세븐일레븐': 2708, '식빵': 2709, '냥': 2710, '코드': 2711, '탁트인': 2712, '그치다': 2713, '어디서': 2714, '쌀쌀하다': 2715, '라니': 2716, '소소하다': 2717, '지리': 2718, '카트': 2719, '룸상태': 2720, '여행기': 2721, '덤': 2722, '키즈룸': 2723, '새집': 2724, '관심': 2725, '제거': 2726, '픽업': 2727, '추': 2728, '초콜릿': 2729, '수정': 2730, '최소한': 2731, '너무도': 2732, '갈아타다': 2733, '광고': 2734, '가전제품': 2735, '불고기': 2736, '저기': 2737, '매리어트': 2738, '해산물': 2739, '피부': 2740, '수영모': 2741, '기사': 2742, '녹슬다': 2743, '칸': 2744, '이루다': 2745, '지붕': 2746, '든지': 2747, '이보': 2748, '분명하다': 2749, '불어': 2750, '좋았슴': 2751, '유동': 2752, '장마': 2753, '뒤쪽': 2754, '고스': 2755, '실리콘': 2756, '이라니': 2757, '아끼다': 2758, '부재': 2759, '이즈': 2760, '각방': 2761, '즉각': 2762, '가가': 2763, '가치': 2764, '위쪽': 2765, '사계절': 2766, '켜지다': 2767, '아보': 2768, '다양성': 2769, '이용자': 2770, '대표': 2771, '조림': 2772, '여행가': 2773, '우와': 2774, '더욱더': 2775, '어마어마하다': 2776, '일품': 2777, '시계': 2778, '검다': 2779, '기다림': 2780, '널': 2781, '포': 2782, '요강': 2783, '속도': 2784, '이유식': 2785, '쏙': 2786, '직': 2787, '쿠키': 2788, '꼽자': 2789, '산속': 2790, '기전': 2791, '공영': 2792, '차분하다': 2793, '재우다': 2794, '김치찌개': 2795, '키티': 2796, '플라자': 2797, '소문': 2798, '결론': 2799, '마주': 2800, '일어나서': 2801, '속이다': 2802, 'hotel': 2803, '나르다': 2804, '햇빛': 2805, '선풍기': 2806, '냉장': 2807, '전원': 2808, '소가': 2809, '디저트': 2810, '수월하다': 2811, '번창': 2812, '예술': 2813, '둘레길': 2814, '박이상': 2815, '라이브': 2816, '간혹': 2817, '접': 2818, '안개': 2819, '수구': 2820, '표지판': 2821, '화면': 2822, '메이크업': 2823, '거미': 2824, '여성': 2825, '남성': 2826, '닦이다': 2827, '다녀가다': 2828, '장도': 2829, '대답': 2830, '한마디': 2831, '젖병': 2832, '여부': 2833, '구르다': 2834, '한개': 2835, '자유': 2836, '신기하다': 2837, '홀로': 2838, '싹': 2839, '티백': 2840, '집기': 2841, '거품': 2842, '사라지다': 2843, '쓰시': 2844, '면봉': 2845, '식음': 2846, '컨셉': 2847, '책': 2848, '부턴': 2849, '훌륭': 2850, '분실': 2851, '노출': 2852, '동일': 2853, 'usb': 2854, '불량하다': 2855, '뿌리다': 2856, '협소합니': 2857, '체': 2858, '복합': 2859, '웠': 2860, '모자라다': 2861, '알맞다': 2862, '카페나': 2863, '형태': 2864, '금지': 2865, '골든': 2866, '적용': 2867, '물소': 2868, '상관': 2869, '출입문': 2870, '리노': 2871, '은근': 2872, '용감': 2873, '패': 2874, '중심지': 2875, '절로': 2876, '은방': 2877, '가로': 2878, '꼽': 2879, '리모콘': 2880, '유흥가': 2881, '에가': 2882, '오라': 2883, '뛰어놀다': 2884, '갈리다': 2885, '청소기': 2886, '째다': 2887, '미처': 2888, '호스': 2889, '풍부하다': 2890, '빈': 2891, '괴롭다': 2892, '고여': 2893, '차서': 2894, '여파': 2895, '가려지다': 2896, '토스카나': 2897, '기침': 2898, '확보': 2899, '소한': 2900, '어도': 2901, '신호': 2902, '아직도': 2903, '죄송하다': 2904, '날짜': 2905, '땅': 2906, '롭고': 2907, '독채': 2908, '입장권': 2909, '취': 2910, '발전': 2911, '슈퍼': 2912, '키친': 2913, '마사지': 2914, '한산하다': 2915, '망치다': 2916, '지정': 2917, '노래방': 2918, '조리기구': 2919, '건조대': 2920, '오랫': 2921, '판단': 2922, '실컷': 2923, '서부': 2924, '산방산': 2925, 'ㅠㅠㅠㅠ': 2926, '미터': 2927, '둘이서': 2928, '무언가': 2929, '뛰어다니다': 2930, '그러면': 2931, '현금': 2932, '맑은': 2933, '벗겨지다': 2934, '강력하다': 2935, '국물': 2936, '이란': 2937, '전자제품': 2938, '종종': 2939, '자매': 2940, '놀랍다': 2941, '연말': 2942, '뭔': 2943, '추위': 2944, '담그다': 2945, '깜빡': 2946, '웟': 2947, '소도': 2948, '건가': 2949, '용다': 2950, '뚜껑': 2951, '매너': 2952, '이중': 2953, '우풍': 2954, '마자': 2955, '빨르다': 2956, '철': 2957, '작업': 2958, '폭포': 2959, '미숙': 2960, '잔디밭': 2961, '물기': 2962, '별루': 2963, '숲길': 2964, '벗어나다': 2965, '워치': 2966, '빗다': 2967, '일본': 2968, '베리': 2969, '만족감': 2970, '투고': 2971, '회용': 2972, '외곽': 2973, '안고': 2974, '두르다': 2975, '받침': 2976, '만큼은': 2977, '실외수영장': 2978, '요인': 2979, '뿌듯하다': 2980, '푹신푹신': 2981, '여자친구': 2982, '대면': 2983, '방만': 2984, '까다롭다': 2985, '사장': 2986, '평균': 2987, '방지': 2988, '성의': 2989, '으리': 2990, '완비': 2991, '오락실': 2992, '모슬포': 2993, '다양': 2994, '언덕': 2995, '만난': 2996, '구지': 2997, '빙수': 2998, '발열': 2999, '맑다': 3000, '계란': 3001, '바르다': 3002, '괜': 3003, '의외로': 3004, '메': 3005, '시리얼': 3006, '골고루': 3007, '석양': 3008, '시부모': 3009, '명과': 3010, '아버지': 3011, '인생': 3012, '결혼식': 3013, '옆쪽': 3014, '절반': 3015, '투자': 3016, '최소': 3017, '가입': 3018, '밀리다': 3019, '도르다': 3020, '잠기다': 3021, '얼룩지다': 3022, '마운틴뷰': 3023, '변하다': 3024, '공유': 3025, '왓': 3026, '브런치': 3027, '무덥다': 3028, '뒤지다': 3029, '집다': 3030, '시댁': 3031, '베이컨': 3032, '너무하다': 3033, '최대': 3034, '진동': 3035, '미국': 3036, '실용': 3037, '들추다': 3038, '스프레이': 3039, '충격': 3040, '인식': 3041, '둘러보기': 3042, '심심하다': 3043, '스케줄': 3044, '유튜브': 3045, '억': 3046, '입맛': 3047, '석': 3048, '청정기': 3049, '떡': 3050, '래서': 3051, 'c': 3052, '입지': 3053, '꽁초': 3054, 'not': 3055, '소독기': 3056, '게스트하우스': 3057, '메세지': 3058, '감히': 3059, '전문': 3060, '자유롭다': 3061, '종이컵': 3062, '하자': 3063, '아쿠아': 3064, '한계': 3065, '하우스키퍼': 3066, '약속': 3067, '카지노': 3068, '월일': 3069, '동일하다': 3070, '우진': 3071, '사악하다': 3072, '전환': 3073, '이상은': 3074, '가림': 3075, '차원': 3076, '취할': 3077, '열기': 3078, '난리': 3079, '무인': 3080, 'check': 3081, '요전': 3082, '잡고': 3083, '락': 3084, '접다': 3085, '귀엽다': 3086, '어기': 3087, '솔솔': 3088, '옥외': 3089, '녹': 3090, '달걀': 3091, '연기': 3092, '캔': 3093, '한층': 3094, '용해': 3095, '시시': 3096, '명절': 3097, '하라': 3098, '베딩': 3099, '오일장': 3100, '결재': 3101, '아베': 3102, '핸드': 3103, '큐브': 3104, '보충': 3105, '려고': 3106, '문도': 3107, '듬': 3108, '포항': 3109, '만지다': 3110, '역할': 3111, '주무시다': 3112, '최강': 3113, '빠져나가다': 3114, '겹': 3115, '사려': 3116, '전시': 3117, '닥': 3118, '대중': 3119, '말리다': 3120, '조정': 3121, '활짝': 3122, '땀': 3123, '갑갑하다': 3124, '별관': 3125, '행동': 3126, '성산읍': 3127, '그런대로': 3128, '인걸': 3129, '맛보다': 3130, '매너티': 3131, '에다가': 3132, '프라이버시': 3133, '낮추다': 3134, '커넥팅룸': 3135, '새해': 3136, '승강기': 3137, '월말': 3138, '중국어': 3139, '저학년': 3140, '놀러와': 3141, '세가족': 3142, '그동안': 3143, '살수': 3144, '현대': 3145, '고고': 3146, '컷': 3147, '마스터': 3148, '로움': 3149, '연결하다': 3150, '언급': 3151, '케리': 3152, '이니까': 3153, 'so': 3154, '찜찜하다': 3155, '무시': 3156, '오니': 3157, '표현': 3158, '망가지다': 3159, '꿀렁거려': 3160, '즉시': 3161, '널널': 3162, '푹신': 3163, '예상외': 3164, '근방': 3165, '안주': 3166, '아주아주': 3167, '웬만하다': 3168, '부러지다': 3169, '간편하다': 3170, '특색': 3171, '읽다': 3172, '자전거': 3173, '드라이': 3174, '부실': 3175, '뻥': 3176, '착각': 3177, '덮다': 3178, '소재': 3179, '눈뜨다': 3180, '강아지': 3181, '응': 3182, '방파제': 3183, '맨발': 3184, '시도': 3185, '노후하다': 3186, '쿠': 3187, '장식': 3188, '블': 3189, '두기': 3190, '큰소리': 3191, '쉬기': 3192, '트렁크': 3193, '모슬포항': 3194, '인게': 3195, '정거장': 3196, '조그만': 3197, '엿': 3198, '군': 3199, '감성': 3200, '차이다': 3201, '스탠드': 3202, '고지': 3203, '방문객': 3204, '응답': 3205, '케어': 3206, '생선': 3207, '카카오': 3208, '신하': 3209, '난감하다': 3210, '율': 3211, '단둘': 3212, '딸리다': 3213, '구명조끼': 3214, '시경': 3215, '완료': 3216, 'service': 3217, '거절': 3218, '호수': 3219, '걸어오다': 3220, '용량': 3221, '아기자기하다': 3222, '굽다': 3223, '유채꽃': 3224, '욤': 3225, '핫': 3226, '넖': 3227, '마침': 3228, '비행': 3229, '너머': 3230, '콸콸': 3231, '프리미어': 3232, '스카이': 3233, '튀어': 3234, '얼': 3235, '단독': 3236, '결항': 3237, '후회되다': 3238, '미끄러지다': 3239, '수량': 3240, '일몰': 3241, '준수': 3242, '드라이어': 3243, '침': 3244, '상시': 3245, '이신': 3246, '리스트': 3247, '요거트': 3248, '훤히': 3249, '아스타': 3250, '한두': 3251, '눈앞': 3252, '미니': 3253, '꼭대기': 3254, '헬스': 3255, '완성': 3256, '에서나': 3257, '살기': 3258, '트리': 3259, '밥솥': 3260, '모라': 3261, '여정': 3262, '나이트': 3263, '협탁': 3264, '위아래': 3265, '커피잔': 3266, '방바닥': 3267, 'off': 3268, 'for': 3269, 'to': 3270, '늘어나다': 3271, '기온': 3272, '멈추다': 3273, '호텔룸': 3274, '피해': 3275, '보상': 3276, '오붓하다': 3277, '별개': 3278, '외식': 3279, '씨티': 3280, '거여': 3281, '흔하다': 3282, '시반': 3283, '틀어주다': 3284, '장만': 3285, '저가': 3286, '끝방': 3287, '교직원': 3288, '살리다': 3289, '법': 3290, '사인': 3291, '의아': 3292, '자판기': 3293, '잃다': 3294, '쉰내': 3295, '생': 3296, '을해': 3297, '지우다': 3298, '통한': 3299, '더더': 3300, '모처럼': 3301, '점수': 3302, '멘트': 3303, '휼륭하다': 3304, '탈수': 3305, '후시': 3306, '적립': 3307, '기만': 3308, '이라기': 3309, '플라스틱': 3310, '반대': 3311, '요물': 3312, '오리': 3313, '빅': 3314, '녹차': 3315, '치솔': 3316, '화하다': 3317, '삼다수': 3318, '즉석': 3319, '퀴퀴하다': 3320, '표기': 3321, '듯함': 3322, '햇습니': 3323, '껏': 3324, '웨스턴': 3325, '환경보호': 3326, '방가': 3327, '부터가': 3328, '만들어지다': 3329, '헬': 3330, '목적지': 3331, '흰색': 3332, '현지': 3333, '값어치': 3334, '외국인': 3335, '잠옷': 3336, '적히다': 3337, '복판': 3338, '제발': 3339, '시민': 3340, '회관': 3341, '마룻바닥': 3342, '마땅하다': 3343, '진정하다': 3344, '시가지': 3345, '외로': 3346, '이랑은': 3347, '미닫이': 3348, '직전': 3349, '초보': 3350, '이착륙': 3351, '단순하다': 3352, '겨울철': 3353, '가파도': 3354, '마라도': 3355, '입출': 3356, '의문': 3357, '미로': 3358, '만해': 3359, '기념일': 3360, '규': 3361, '오뎅': 3362, '용도': 3363, '아주머니': 3364, 'bbq': 3365, '점점': 3366, '세제': 3367, '내다보다': 3368, '에다': 3369, '베드룸': 3370, '신행': 3371, '태우다': 3372, 'ㅋㅋㅋㅋㅋ': 3373, '빌딩': 3374, '싸우다': 3375, '패스': 3376, '풍구': 3377, '재채기': 3378, '남자친구': 3379, '건강하다': 3380, '서든': 3381, '유쾌하다': 3382, '나니': 3383, '누': 3384, '숨다': 3385, '그늘': 3386, '언': 3387, '랑은': 3388, '시급하다': 3389, '퉁': 3390, '추워지다': 3391, '드림': 3392, '이자': 3393, '적지': 3394, '깔리다': 3395, '투썸': 3396, '또다시': 3397, '발판': 3398, '겉': 3399, '흡족하다': 3400, '주점': 3401, 'ㅅ': 3402, '거듭': 3403, '조심': 3404, '서버': 3405, '티켓': 3406, '성함': 3407, '스포츠': 3408, '최상급': 3409, '제격': 3410, '콕': 3411, '쌈': 3412, '마카롱': 3413, '라기': 3414, '대규모': 3415, '몇개': 3416, '환갑': 3417, '룸청소': 3418, '담당자': 3419, 'up': 3420, '낼': 3421, '카멜리아': 3422, '손편지': 3423, '간만': 3424, '삼다': 3425, '마을': 3426, '빨갛다': 3427, '컨트롤': 3428, '빼': 3429, '당하다': 3430, '간지럽다': 3431, '호에': 3432, '장물': 3433, '확정': 3434, '다다르다': 3435, '삐걱': 3436, '한숨': 3437, '덜다': 3438, '요구사항': 3439, '미지': 3440, '빨다': 3441, '신뢰': 3442, '수박': 3443, '마땅치': 3444, '이크': 3445, '택배': 3446, '주기': 3447, '자락': 3448, '물속': 3449, '그랬는데': 3450, '틀어놓다': 3451, '미온수': 3452, '정해지다': 3453, '고성': 3454, 'of': 3455, '스탭': 3456, '셋째': 3457, '세면기': 3458, '이겠다': 3459, '날아다니다': 3460, '수동': 3461, '프론트직원': 3462, '역쉬': 3463, '초등학교': 3464, '대도': 3465, '까지만': 3466, '양도': 3467, '존맛': 3468, '홍보': 3469, '충족': 3470, '소변': 3471, '카바': 3472, '아무튼': 3473, '앱': 3474, '수도꼭지': 3475, '명도': 3476, '테이크아웃': 3477, '비빔밥': 3478, 'restaurant': 3479, '일차': 3480, '뽀송뽀송하다': 3481, '기운': 3482, '삼일': 3483, '퀘퀘': 3484, '꽉차다': 3485, '발레파킹': 3486, '배우다': 3487, '제설': 3488, '초이스': 3489, '고등어': 3490, '못지않다': 3491, '목욕가운': 3492, '뒤편': 3493, '항목': 3494, '꿈': 3495, '뵙다': 3496, '분만': 3497, '돌아보다': 3498, '놓치다': 3499, '금고': 3500, '아마도': 3501, '감귤': 3502, '일도': 3503, '볼링': 3504, '가이드': 3505, '였음': 3506, '오프너': 3507, '만하': 3508, '갑인': 3509, '살이': 3510, '뷔폐': 3511, '김': 3512, '서두르다': 3513, '이모': 3514, '셧': 3515, '나은': 3516, '멍': 3517, '공연장': 3518, '무뚝뚝하다': 3519, '노트북': 3520, '죽': 3521, '진출': 3522, '소모품': 3523, '서너': 3524, '읍': 3525, '권하다': 3526, '성게': 3527, '해소': 3528, '올드': 3529, '유럽': 3530, '트리스': 3531, '벨': 3532, '범섬뷰': 3533, '햇살': 3534, '밥집': 3535, '탈의실': 3536, '귤': 3537, '지장': 3538, '중심부': 3539, '부영': 3540, '아래층': 3541, '로컬': 3542, '한겨울': 3543, '분실물': 3544, '풍족하다': 3545, '리무진': 3546, '만날': 3547, '많아지다': 3548, '영어': 3549, '마저': 3550, '부럽다': 3551, '연어': 3552, '성산포': 3553, '뜨끈하다': 3554, '뮤지컬': 3555, '방학': 3556, '돌담': 3557, '여관': 3558, '쓴다': 3559, '나마': 3560, '한식당': 3561, '퀄러티': 3562, '지워지다': 3563, '물씬': 3564, '왕복': 3565, '뭉치다': 3566, '후식': 3567, '서우': 3568, '푸른': 3569, '입장료': 3570, '바스락': 3571, '네이버': 3572, '켄싱턴': 3573, '독특하다': 3574, '기억나다': 3575, '사정': 3576, '양해': 3577, '이런저런': 3578, '거대하다': 3579, '칵테일': 3580, '티슈': 3581, '두루': 3582, '행복': 3583, '숫자': 3584, '분분': 3585, '둘쨋': 3586, '모서리': 3587, '상담': 3588, '다다': 3589, '블루투스': 3590, '선정': 3591, '먹이다': 3592, '일전': 3593, '만이': 3594, '차후': 3595, '랜드': 3596, '건의': 3597, '층층': 3598, '재작년': 3599, '유일하다': 3600, '탁하다': 3601, '약품': 3602, '삼성': 3603, '고개': 3604, '반대편': 3605, '메시지': 3606, '나기': 3607, '거주': 3608, '입욕': 3609, '존재': 3610, '캡슐': 3611, '밴드': 3612, '판': 3613, '스타': 3614, '대게': 3615, '무표정': 3616, '트윈베드': 3617, '차일': 3618, '썰렁하다': 3619, '오해': 3620, '여러분': 3621, '쾅쾅': 3622, '카펫트': 3623, '본적': 3624, '얹다': 3625, '야자수': 3626, '컨디셔': 3627, '피자': 3628, '백프로': 3629, '알림': 3630, '보완': 3631, '현': 3632, '지연': 3633, '한국인': 3634, '하버': 3635, '제시': 3636, '아랫': 3637, '무거워': 3638, '반입': 3639, '일대': 3640, 'bar': 3641, '정말로': 3642, '만약': 3643, '뽀송하다': 3644, '았': 3645, '재질': 3646, '경차': 3647, '재차': 3648, '육지': 3649, '죽이다': 3650, '브릭': 3651, '불가능': 3652, '찌들다': 3653, '마냥': 3654, '주스': 3655, '뭐라다': 3656, '품격': 3657, '잘되지': 3658, '이던': 3659, '오신': 3660, '애초': 3661, '신분증': 3662, '려': 3663, '달리다': 3664, '시원시원하다': 3665, '어찌나': 3666, '케': 3667, '올려주다': 3668, '통행': 3669, '털다': 3670, '셋팅': 3671, '운전자': 3672, '평수': 3673, '동부': 3674, '갯수': 3675, '울렁거리다': 3676, '족': 3677, '정체': 3678, '충실하다': 3679, '수없이': 3680, '반응': 3681, '하나라': 3682, '강제': 3683, '심플': 3684, 'cm': 3685, '결코': 3686, '펜': 3687, '낫': 3688, '모닝': 3689, '뽑다': 3690, '낡음': 3691, '중순': 3692, '글구': 3693, '풀바': 3694, '햇음': 3695, '한실': 3696, '잠그다': 3697, '절기': 3698, '정책': 3699, '오랫동안': 3700, '냉온': 3701, '낭비': 3702, '센서': 3703, '떠다니다': 3704, '트렌드': 3705, '끼우다': 3706, '옆집': 3707, '한텐': 3708, '봣': 3709, '서툴다': 3710, '전문성': 3711, '최선': 3712, '케익': 3713, '오락': 3714, '구성원': 3715, '모녀': 3716, '학회': 3717, '이정표': 3718, '지지': 3719, '무리다': 3720, '독립': 3721, '특이': 3722, '거지': 3723, '만끽': 3724, '공간활용': 3725, '찾아오다': 3726, '화장품': 3727, '단조롭다': 3728, '인형': 3729, '난간': 3730, '벤치': 3731, '불쾌감': 3732, '어이': 3733, '어두움': 3734, '신선도': 3735, '누락': 3736, '소통': 3737, '명성': 3738, '전화번호': 3739, '피곤': 3740, '하필': 3741, '과연': 3742, '나머진': 3743, '아이스': 3744, '때리다': 3745, '먹음': 3746, '제어': 3747, '밟다': 3748, '팔': 3749, '까지의': 3750, '하단': 3751, '주택가': 3752, '밀다': 3753, '비상': 3754, '피드백': 3755, '습도': 3756, '남쪽': 3757, '니깐': 3758, '잡기': 3759, '지적': 3760, '부리다': 3761, '더워지다': 3762, '말로': 3763, '일방': 3764, '거치다': 3765, '음으로': 3766, '한여름': 3767, '빨': 3768, '주민': 3769, '층수': 3770, '도보이': 3771, '양쪽': 3772, '신설': 3773, '취해': 3774, '계시': 3775, '듯해': 3776, '몹시': 3777, '가나다': 3778, '바사': 3779, '앤': 3780, '휴': 3781, '남다르다': 3782, '분하다': 3783, '없애다': 3784, '폭신': 3785, '어플': 3786, '저러다': 3787, '수다': 3788, '설계': 3789, '실속': 3790, '일만': 3791, '조작': 3792, 'make': 3793, '나란하다': 3794, '껄': 3795, '오른쪽': 3796, '소등': 3797, '글쎄요': 3798, '거렸': 3799, '따지다': 3800, '삐': 3801, '성은': 3802, '휴지통': 3803, '흥건': 3804, '밤새다': 3805, '출구': 3806, '액자': 3807, '남부': 3808, '뉴': 3809, '최첨단': 3810, '웟습': 3811, '흡연실': 3812, '긁다': 3813, '나뉘다': 3814, '색': 3815, '투명': 3816, '윗방': 3817, '가려진': 3818, '새우': 3819, '미관': 3820, '브레드': 3821, '판이': 3822, '잼': 3823, '좌': 3824, '때매': 3825, '식단': 3826, '지경': 3827, '적어도': 3828, '후문': 3829, '끊다': 3830, '담날': 3831, '편도': 3832, '수업': 3833, '엄두': 3834, '메모': 3835, '에나': 3836, '테라': 3837, '비위생적': 3838, '나타나다': 3839, '꾸준하다': 3840, 'd': 3841, '언니': 3842, '친척': 3843, '사소리': 3844, '밭': 3845, '차림': 3846, '에이스침대': 3847, '블라인드': 3848, '일일': 3849, '딜': 3850, '기한': 3851, '세팅': 3852, '전국': 3853, '미세먼지': 3854, '이소영': 3855, '가슴': 3856, '시라': 3857, '역류': 3858, 'i': 3859, '절': 3860, '평점': 3861, '말르다': 3862, '넘어지다': 3863, '아쿠아플라넷': 3864, '시절': 3865, '비대': 3866, '식식': 3867, '아우르다': 3868, '휘닉스': 3869, '진하다': 3870, '기와': 3871, '잘해주다': 3872, '발레': 3873, '집중': 3874, '듯이': 3875, '숨': 3876, 'ㅎㅎㅎㅎ': 3877, '통째': 3878, '잘리다': 3879, '한글': 3880, '촬영': 3881, '잡': 3882, '붉다': 3883, '세고': 3884, '정중하다': 3885, '느긋하다': 3886, '산뷰': 3887, '대요': 3888, '기획': 3889, '폼': 3890, '룸타입': 3891, '온돌룸': 3892, '열쇠': 3893, '솜': 3894, '하나같이': 3895, '표선': 3896, '마음껏': 3897, '측정': 3898, '불평': 3899, '겁나다': 3900, '기재': 3901, '높아지다': 3902, '산타': 3903, '볶음밥': 3904, '개관': 3905, '계열': 3906, '데이지': 3907, '연동': 3908, '일상': 3909, '도심지': 3910, '세계': 3911, '서빙': 3912, '필터': 3913, '배관': 3914, '혼잡하다': 3915, 'ml': 3916, '만으로': 3917, '어디가': 3918, '한적': 3919, '곤란하다': 3920, '기물': 3921, '룸개': 3922, '룸안': 3923, '입시': 3924, '책자': 3925, '쬐다': 3926, '스크램블': 3927, '외지': 3928, '희망': 3929, '빼놓다': 3930, '컴팩트': 3931, '남친': 3932, '카존': 3933, '헤어드라이어': 3934, '데이': 3935, '다스': 3936, '컴퓨터': 3937, '복층': 3938, '차례': 3939, '햄버거': 3940, '물의': 3941, '노천': 3942, '디테': 3943, '돌아서다': 3944, '볼때': 3945, '자연스럽다': 3946, '차지': 3947, '잘쓰다': 3948, '도하': 3949, '자랑': 3950, '오브': 3951, '화이트': 3952, '씨유': 3953, '항공': 3954, '긴장': 3955, '즐비하다': 3956, '하고프다': 3957, '에그': 3958, '어어': 3959, '희다': 3960, 'sns': 3961, '떠오르다': 3962, '싫어하다': 3963, '신해': 3964, '전시회': 3965, '작품': 3966, '쵝오': 3967, '찾아다니다': 3968, '제이': 3969, '여사': 3970, '키티룸': 3971, '대접': 3972, '케이크': 3973, '월드컵경기': 3974, '오래전': 3975, '익숙하다': 3976, '입점해': 3977, '멤버십': 3978, '유형': 3979, '명확하다': 3980, '방청': 3981, '룸써비스': 3982, '보아': 3983, '그린': 3984, '고전': 3985, '덩달아': 3986, '비닐하우스': 3987, '들뜨다': 3988, '기절': 3989, '현관문': 3990, '여지': 3991, '페이지': 3992, '햄': 3993, '베': 3994, '마시기': 3995, '타겟': 3996, '빡빡': 3997, '치워지다': 3998, '뒤늦다': 3999, '팁': 4000, '회색': 4001, '오거': 4002, '육': 4003, '달랑': 4004, '늦잠': 4005, '깨우다': 4006, '산보': 4007, '방배': 4008, '앤쿡': 4009, '치면': 4010, '벌어지다': 4011, '휴장': 4012, '종식': 4013, '오른': 4014, '낡아지다': 4015, '치안': 4016, '수선': 4017, '촉박하다': 4018, '굿굿굿': 4019, '넘기다': 4020, 'or': 4021, '박해': 4022, '조차도': 4023, '어떤': 4024, '임시': 4025, '문소리': 4026, '탄산': 4027, '검은색': 4028, '태어나다': 4029, '설거지': 4030, '스피커': 4031, '텅': 4032, '시대': 4033, 'thann': 4034, '인터폰': 4035, '랍': 4036, '항공우주': 4037, '내부시': 4038, '상의': 4039, 's': 4040, '만천원': 4041, '지기': 4042, '의치': 4043, '지금껏': 4044, '쾅쾅거리다': 4045, '두시': 4046, '실과': 4047, '마카오': 4048, '모으다': 4049, '다담': 4050, '능이': 4051, '지하가': 4052, '방구': 4053, '웃': 4054, '메다': 4055, '만자': 4056, '골프': 4057, '실시간': 4058, '휘슬': 4059, '찌꺼기': 4060, '흔': 4061, '번의': 4062, '특이하다': 4063, '튤립': 4064, '무릎': 4065, '지라': 4066, '이슈': 4067, '우려': 4068, '소화': 4069, '램프': 4070, '누수': 4071, '밀집': 4072, '대수': 4073, '마': 4074, '어딘가': 4075, '평이하다': 4076, '레지던스': 4077, '당장': 4078, '매점': 4079, '규정': 4080, '꺼': 4081, '코딱지': 4082, '반신': 4083, '스테이션': 4084, '귀신': 4085, '폐허': 4086, '영향': 4087, '하드': 4088, '조심스럽다': 4089, '가하다': 4090, '협소했': 4091, '팝콘': 4092, '사르다': 4093, '청': 4094, '고집': 4095, '경기장': 4096, '소하': 4097, '구류': 4098, '리스': 4099, '밤중': 4100, '훨': 4101, '가로등': 4102, '건설': 4103, '구함': 4104, '자리다': 4105, '필요시': 4106, '급답': 4107, '적정하다': 4108, '차장': 4109, '미만': 4110, '익숙해지다': 4111, '절약': 4112, '자지': 4113, '두껍다': 4114, '룸업글': 4115, '꼽으라': 4116, '돼지고기': 4117, '무적인': 4118, '질도': 4119, '재래시장': 4120, '슥': 4121, '손가락': 4122, '척': 4123, '또다른': 4124, '넒': 4125, '들려오다': 4126, '자서': 4127, '면도': 4128, '마디': 4129, '떼다': 4130, '마운틴': 4131, '주택': 4132, '편지': 4133, '간직': 4134, '대다수': 4135, '여가': 4136, '아시안': 4137, '우연': 4138, '구로': 4139, '완공': 4140, '년도': 4141, '대치': 4142, '수학여행': 4143, '초딩': 4144, '한껏': 4145, 'ㅂ': 4146, '바글바글': 4147, '곤': 4148, '마켓': 4149, '습니다': 4150, '생신': 4151, '문화': 4152, '즐거움': 4153, '거부': 4154, '그러하다': 4155, '지로': 4156, '왠': 4157, '명품': 4158, '뒷쪽': 4159, '법환': 4160, 'ㅈ': 4161, '솔트': 4162, '인지도': 4163, '아이스크림': 4164, '분한': 4165, '중지': 4166, '하나로': 4167, '소금': 4168, '거치': 4169, '애가': 4170, '역대': 4171, '문구': 4172, '쌓다': 4173, '귀가': 4174, '급속': 4175, '공동': 4176, 'mr': 4177, '중인': 4178, '이리저리': 4179, '물들다': 4180, '컵라면': 4181, '물컵': 4182, '도록': 4183, '에라도': 4184, '거름': 4185, '인후': 4186, '관도': 4187, '드레스': 4188, '어색하다': 4189, '덩어리': 4190, '손색': 4191, '모니터': 4192, '피크': 4193, '관리자': 4194, '폭설': 4195, '책임': 4196, '공룡': 4197, '장난감': 4198, '황당': 4199, '전쟁': 4200, '저녁때': 4201, '전자기기': 4202, '평타': 4203, '내면': 4204, '녹이다': 4205, '나눠지다': 4206, '하기는': 4207, '양치': 4208, '아자': 4209, '타파': 4210, '다라': 4211, '대야': 4212, 'go': 4213, '불안': 4214, '경쟁력': 4215, '예방': 4216, '에두': 4217, '라이': 4218, '기타등등': 4219, '정리정돈': 4220, '벽뷰': 4221, '조각': 4222, '슬라이드': 4223, '대서': 4224, '동떨어지다': 4225, '목장': 4226, '샴페인': 4227, '계란후라이': 4228, '불결': 4229, 'do': 4230, 'disturb': 4231, '장마철': 4232, '룸크기': 4233, '그림': 4234, '실로': 4235, '억지로': 4236, '사가': 4237, '사운드': 4238, '기쁨': 4239, '금년': 4240, '공항버스': 4241, '마나': 4242, '칠성로': 4243, '전신': 4244, '썩': 4245, '강풍': 4246, '어떠하다': 4247, '어찌': 4248, '주중': 4249, '폰': 4250, '다기': 4251, '버': 4252, '뻣뻣하다': 4253, '일일이': 4254, '탑바': 4255, '똑같이': 4256, '까운': 4257, '용서': 4258, '스낵': 4259, '지점': 4260, '웨이': 4261, '핀': 4262, '항도': 4263, '대쪽': 4264, '관리직': 4265, '축하': 4266, '경악': 4267, '오래됨': 4268, '웃음소리': 4269, '레노': 4270, '닻': 4271, '덜렁': 4272, '욕탕': 4273, '넘침': 4274, '점등': 4275, '매주': 4276, '쪼끔': 4277, 'wifi': 4278, '평범': 4279, '꽝': 4280, '경이': 4281, '반시': 4282, '골프장': 4283, '도우미': 4284, '바닥나다': 4285, '원룸': 4286, '젓가락': 4287, '퍼지다': 4288, '자연환경': 4289, '엉': 4290, '전면': 4291, '종이': 4292, '달래다': 4293, '성수': 4294, '양옆': 4295, '원활하다': 4296, '차이나다': 4297, '물줄기': 4298, '이구나': 4299, '회신': 4300, '텐데': 4301, '겉보기': 4302, '었는데': 4303, '호델': 4304, '한몫': 4305, '상이': 4306, '키트': 4307, '톤': 4308, '칸막이': 4309, '으뜸': 4310, '주거': 4311, '신규': 4312, '알레르기': 4313, '주네': 4314, '정해': 4315, '잘알다': 4316, '선명하다': 4317, '곁': 4318, '숙이다': 4319, '약실': 4320, '접객': 4321, '보더': 4322, 'clean': 4323, '힘': 4324, '대감': 4325, '효율': 4326, '액체': 4327, '클린': 4328, '취침': 4329, '자세': 4330, '코지': 4331, '십분': 4332, '특징': 4333, '어필': 4334, '유민': 4335, '번가': 4336, '곳임': 4337, '좌우': 4338, '아키': 4339, '분과': 4340, '헤어지다': 4341, '자르다': 4342, '분수': 4343, '말고도': 4344, '풀리다': 4345, '진드기': 4346, '이튿날': 4347, '군대': 4348, '라며': 4349, '레': 4350, '추강': 4351, '시정': 4352, '폐장': 4353, '어서': 4354, '계산': 4355, '등칸': 4356, '제지': 4357, '끌리다': 4358, '임산부': 4359, '마안': 4360, '실시': 4361, '염두': 4362, '노래기': 4363, '설마': 4364, '풍기다': 4365, '찌푸리다': 4366, '뚝뚝': 4367, '문밖': 4368, '건강': 4369, '주방용품': 4370, '천하다': 4371, '소아': 4372, '이간': 4373, '연세': 4374, '절물': 4375, '해피아워': 4376, '용기': 4377, '담기다': 4378, '모래': 4379, '쉬움': 4380, '교원': 4381, '베드로': 4382, '엑스트라': 4383, '도크': 4384, '메일': 4385, '다른사람': 4386, '목소리': 4387, '마르다': 4388, '남녀': 4389, '델리': 4390, '친철함': 4391, '커뮤니케이션': 4392, '개념': 4393, '플리': 4394, '그간': 4395, '예민': 4396, '모자': 4397, '가루': 4398, 'ㅜㅠ': 4399, '감염': 4400, '관계자': 4401, '망고': 4402, '간절하다': 4403, '찍히다': 4404, '스태프': 4405, '이뤄지다': 4406, '반면': 4407, '하진': 4408, '킹스': 4409, '회전': 4410, '창틀': 4411, '인전': 4412, '천천히': 4413, '비비큐': 4414, '배부르다': 4415, '형성': 4416, '따라오다': 4417, '세수': 4418, '듀플렉스': 4419, '먹고다': 4420, '문제점': 4421, '취할수': 4422, '클래스': 4423, '금은': 4424, '끝내다': 4425, '공짜': 4426, '배스': 4427, '디테일': 4428, '기쁘다': 4429, '겨': 4430, '만을': 4431, '섬모': 4432, '레인': 4433, '힐스': 4434, '끼니': 4435, '탑층': 4436, '쉐프': 4437, '전후': 4438, '갈비': 4439, '탐방': 4440, '물가': 4441, '이탈리안': 4442, '록': 4443, '땅콩': 4444, '케이스': 4445, '신지': 4446, 'quality': 4447, '실감': 4448, '속상하다': 4449, '포구': 4450, '미끄럼틀': 4451, '경사': 4452, '적합': 4453, '조깅': 4454, '비자림': 4455, '클라이너': 4456, '주니어': 4457, '안방': 4458, '우리나라': 4459, '다가가다': 4460, '통일': 4461, '자주자주': 4462, '갠': 4463, '초인종': 4464, '짬뽕': 4465, '사무소': 4466, '에이스': 4467, '스스로': 4468, '걸음': 4469, '간도': 4470, '보유': 4471, '공급': 4472, '분위': 4473, '선선': 4474, '화산': 4475, '흔쾌하다': 4476, '화이팅': 4477, '버기카': 4478, '엇어': 4479, '당근': 4480, '샷': 4481, '묘': 4482, '뵈다': 4483, '간단': 4484, '퍼펙트': 4485, '매각': 4486, '던데': 4487, '달려오다': 4488, '수라': 4489, '구나': 4490, '어묵': 4491, '우유': 4492, '복귀': 4493, '숙지': 4494, '히든': 4495, '평안하다': 4496, '잘생기다': 4497, '년월': 4498, '실전': 4499, '중요시': 4500, '뱅글': 4501, '구색': 4502, '담번': 4503, '분유': 4504, '런': 4505, '찍': 4506, '이래서': 4507, '장면': 4508, '땡볕': 4509, '머셋': 4510, '저절로': 4511, '녹다': 4512, '여권': 4513, '방키': 4514, '보송보송하다': 4515, '대륙': 4516, '가르다': 4517, '취식': 4518, 'only': 4519, 'is': 4520, 'they': 4521, 'on': 4522, '꾹': 4523, '서방': 4524, '정가': 4525, '태교': 4526, '기여': 4527, '타이': 4528, '타인': 4529, '콘서트': 4530, '렉': 4531, '열악하다': 4532, '초등생': 4533, '윙': 4534, '라가': 4535, '장보기': 4536, '언어': 4537, '거짓말': 4538, '직장': 4539, '차선': 4540, '다이소': 4541, '남고': 4542, '마이너스': 4543, '분해': 4544, '수수료': 4545, '정기': 4546, '투썸플레이스': 4547, '밀리': 4548, '폐쇄': 4549, '을씨년스럽다': 4550, '장기간': 4551, '부디': 4552, '물리': 4553, '로봇': 4554, '풍선': 4555, '저만': 4556, '부위': 4557, 'we': 4558, 'per': 4559, 'stay': 4560, '두리': 4561, '레쉬': 4562, '뜸': 4563, '하물며': 4564, 'fb': 4565, '틀리다': 4566, '연상': 4567, '함성': 4568, '자진': 4569, '그야말로': 4570, '혜자': 4571, '해마다': 4572, '거르': 4573, '모양': 4574, '리터': 4575, '간편식': 4576, '내륙': 4577, '캡': 4578, '곽': 4579, '특정': 4580, '게스트': 4581, '저리': 4582, '일식': 4583, '여타': 4584, '해수욕': 4585, '일수': 4586, '백화점': 4587, 'ㄴ': 4588, '쓸모': 4589, '향후': 4590, '장가': 4591, '뭉치': 4592, '스케쥴': 4593, '감자': 4594, '달이': 4595, '신건': 4596, '댕댕': 4597, '청정': 4598, '명시': 4599, '도대체': 4600, '입차': 4601, '불리다': 4602, 'ㅁ': 4603, '인적': 4604, '비성': 4605, '깜놀': 4606, '아늑': 4607, '싱글룸': 4608, '아이스커피': 4609, '애매': 4610, '라운드': 4611, '미착': 4612, '최초': 4613, '직행': 4614, '늦어지다': 4615, '적절': 4616, '가지런하다': 4617, '분안': 4618, '인하': 4619, '유의': 4620, '양은': 4621, '구정': 4622, '리기': 4623, '활주로': 4624, '로비나': 4625, '와중': 4626, '소진': 4627, '간신히': 4628, '밤섬': 4629, '라고는': 4630, '외벽': 4631, '장하다': 4632, '온풍': 4633, '리저브': 4634, '몫': 4635, '흉물': 4636, '반적': 4637, '까맣다': 4638, '간의': 4639, '큼직하다': 4640, '지난달': 4641, '적정': 4642, '코팅': 4643, '쏟아지다': 4644, '규칙': 4645, '이해도': 4646, '팡': 4647, '리나': 4648, 'cs': 4649, '예매': 4650, '모자라': 4651, '시원': 4652, '에프킬라': 4653, '페셔널': 4654, '커넥팅': 4655, '어의': 4656, '음료수': 4657, '일찍이': 4658, '복불복': 4659, '낚시': 4660, '맥': 4661, '연령': 4662, '쿵': 4663, '새섬': 4664, '오직': 4665, '고리': 4666, '패밀': 4667, '상자': 4668, '폐': 4669, '도미': 4670, '토리': 4671, '대리': 4672, '헸': 4673, '펑펑': 4674, '원인': 4675, '퀼리티': 4676, '잔돈': 4677, '도저히': 4678, '장비': 4679, '리안': 4680, '사용자': 4681, '콘도미니엄': 4682, '냄비': 4683, '접수': 4684, '돌려주다': 4685, '도중': 4686, '소품': 4687, '너덜너덜하다': 4688, '브레이크': 4689, '멀미': 4690, '지켜보다': 4691, '거미줄': 4692, '공조': 4693, '밤잠': 4694, '지니어스': 4695, '찻잔': 4696, '인공': 4697, '이라고는': 4698, '각도': 4699, '곰': 4700, '파이': 4701, '장터': 4702, '레버': 4703, '비만': 4704, '알람': 4705, '탈때': 4706, '배고프다': 4707, '고양이': 4708, '더니': 4709, '고루': 4710, '남겨지다': 4711, '고무': 4712, '뽀송뽀송': 4713, '집사람': 4714, '시골': 4715, '장인': 4716, 'yg': 4717, '기상': 4718, '공홈': 4719, '삼거리': 4720, '푸줏간': 4721, '매다': 4722, '파손': 4723, '안경': 4724, '이분': 4725, '성도': 4726, '하므다': 4727, '지엄': 4728, '체력': 4729, '어긋나다': 4730, '블러': 4731, '상과': 4732, '급니': 4733, '아버님': 4734, '이륙': 4735, '미취': 4736, '학': 4737, '길찾기': 4738, '한국어': 4739, '밥풀': 4740, '주일': 4741, '킹룸': 4742, '관등': 4743, '반나절': 4744, '벅': 4745, '꼬맹이': 4746, '모델하우스': 4747, '므': 4748, '요시': 4749, 'ㄹㄷ': 4750, '적응': 4751, '애월쪽': 4752, '스트릿': 4753, '장치': 4754, '진정': 4755, 'ev': 4756, '부서': 4757, '뚱하다': 4758, '체인지': 4759, '극도': 4760, '어깨': 4761, '부딪히다': 4762, '어쩌': 4763, '이방': 4764, '퇴치': 4765, '멀티탭': 4766, '보장': 4767, '피하': 4768, '품위': 4769, '장판': 4770, '밝기': 4771, '뭍': 4772, '전복': 4773, '상처': 4774, '주전자': 4775, '블럭': 4776, '간정': 4777, '미적지근하다': 4778, '제재': 4779, '박모': 4780, '헐겁다': 4781, '뒹굴': 4782, '던': 4783, '대지': 4784, '웃기다': 4785, '오물': 4786, '헤메': 4787, '어딘': 4788, '엇습': 4789, '이야': 4790, '심다': 4791, '빌라동': 4792, '다름없다': 4793, '천정': 4794, '유독': 4795, '통과': 4796, '능숙하다': 4797, '센티': 4798, '갇히다': 4799, '선수': 4800, '헤': 4801, '신용카드': 4802, '팔걸이': 4803, '요건': 4804, '쟁이': 4805, '그다음': 4806, '바비큐': 4807, '번갈아': 4808, '차카': 4809, '앙': 4810, '패쓰': 4811, '신의': 4812, '파이다': 4813, '듀': 4814, '난로': 4815, '벽간': 4816, '이득': 4817, '마개': 4818, '인정': 4819, '오구': 4820, '용인': 4821, '위안': 4822, '얼룩덜룩하다': 4823, '젖히다': 4824, '손소독제': 4825, '일지': 4826, '불쾌': 4827, '차단기': 4828, '염려': 4829, '화재경보기': 4830, '방송': 4831, '우왕좌왕': 4832, '도배': 4833, '룸키': 4834, '스티커': 4835, '정류': 4836, '밀폐': 4837, '저하': 4838, '심야': 4839, '뽀얗다': 4840, '관아': 4841, '쇠소깍': 4842, '명소': 4843, '싸구려': 4844, '바깥쪽': 4845, '파라솔': 4846, '비우기': 4847, '배터리': 4848, '홈': 4849, '칠이': 4850, '물바다': 4851, '사회': 4852, '단계': 4853, '보호': 4854, '무드등': 4855, '차별': 4856, '리도': 4857, '바랬': 4858, '바구니': 4859, '어미': 4860, '샴프': 4861, '딴': 4862, '경보': 4863, '여과': 4864, '오버': 4865, '의도': 4866, '문과': 4867, '요망': 4868, '덕지덕지': 4869, '백록담': 4870, '타운': 4871, '중석': 4872, '어우러지다': 4873, '세탁소': 4874, '인과': 4875, '클레': 4876, '차고': 4877, '입국': 4878, '자하': 4879, '바스': 4880, '화나다': 4881, '티나': 4882, '키도': 4883, '거가': 4884, '잠귀': 4885, '벌': 4886, '요소': 4887, '양심': 4888, '한창': 4889, '유치권': 4890, '박후': 4891, '스크래치': 4892, '배민': 4893, '관해': 4894, '지체': 4895, '수제': 4896, '훼손': 4897, '찬물': 4898, '소독약': 4899, '증상': 4900, 'km': 4901, '수목원': 4902, '믄': 4903, '컨텐츠': 4904, '문짝': 4905, '감탄사': 4906, '신식': 4907, '산뜻하다': 4908, 'hdmi': 4909, '법도': 4910, '고갈': 4911, '유익하다': 4912, '부스럭': 4913, '불투명하다': 4914, '은감': 4915, '단정하다': 4916, '당분간': 4917, '금요일': 4918, '굶다': 4919, '배치도': 4920, '잃어버리다': 4921, '메종글래드': 4922, '꼭꼭': 4923, '마당': 4924, '실물': 4925, '내관': 4926, '꺠끗': 4927, '샷시': 4928, '스마트폰': 4929, '이아주': 4930, '한동안': 4931, '곳곳이': 4932, '꼬마': 4933, '음해': 4934, '허전하다': 4935, '과장': 4936, '지원': 4937, '아래쪽': 4938, '이메일': 4939, '샤': 4940, '분전': 4941, '잠잠하다': 4942, '쳐다보다': 4943, '아티': 4944, '승용차': 4945, '가만': 4946, '시달리다': 4947, '깜짝깜짝': 4948, '시체': 4949, '웨이팅': 4950, '초입': 4951, '구간': 4952, '고참': 4953, '계란찜': 4954, '펌프': 4955, '불결하다': 4956, '미끄럼': 4957, '불어오다': 4958, '잦다': 4959, '아메리카노': 4960, '잘만': 4961, '전자': 4962, '모기향': 4963, '전망대': 4964, '구조도': 4965, '어지르다': 4966, '에야': 4967, '똥': 4968, '기름': 4969, '졸업여행': 4970, '왓는데': 4971, '복': 4972, '프레': 4973, '반했어': 4974, '드라이브': 4975, '넘어오다': 4976, '상치': 4977, '파악': 4978, '붙박다': 4979, '받치다': 4980, '사흘': 4981, '고온': 4982, '이리': 4983, '끓이다': 4984, '할부': 4985, '일시': 4986, '덜하다': 4987, '메종글': 4988, '워터': 4989, '밥맛': 4990, '플러그': 4991, '과거': 4992, '동작': 4993, '참으로': 4994, '자정': 4995, '짱짱하다': 4996, '요안': 4997, '깎다': 4998, '겸용': 4999, '쓰리다': 5000, '화장지': 5001, '차질': 5002, '레인지': 5003, '무심하다': 5004, '화단': 5005, '스킨': 5006, '글라스': 5007, '룸메': 5008, '정의': 5009, '사무실': 5010, '정방': 5011, '천지연': 5012, '새연교': 5013, '참조': 5014, '어나': 5015, '옛날': 5016, '공항리무진': 5017, '간결하다': 5018, '포토': 5019, '날개': 5020, '기울어지다': 5021, '요추': 5022, '간절': 5023, '비바람': 5024, '드라마': 5025, '휴대': 5026, '더러워지다': 5027, '설레다': 5028, '고등학교': 5029, '휴양림': 5030, '어지간하다': 5031, '오류': 5032, '수많다': 5033, '이어도': 5034, 'ok': 5035, 'all': 5036, '나들이': 5037, '두세': 5038, '인분': 5039, '원형': 5040, '파': 5041, '체온': 5042, '나뉘어지다': 5043, '응급': 5044, '세부': 5045, '더움': 5046, '지방': 5047, '치우치다': 5048, '에여': 5049, '스타트': 5050, '알뜰하다': 5051, '상업시설': 5052, '물병': 5053, '어쩜': 5054, '치맥': 5055, '기름기': 5056, '담요': 5057, '재개': 5058, '그만하다': 5059, '부합': 5060, '더위': 5061, '찌르다': 5062, '어제': 5063, '믹스': 5064, '만찬': 5065, '한밤중': 5066, '랬': 5067, '산도': 5068, '방사': 5069, '꿀': 5070, '완젼': 5071, '색깔': 5072, '영수증': 5073, '칙': 5074, '샌드위치': 5075, '제등': 5076, '울림': 5077, '오르내리다': 5078, '발바닥': 5079, '갈아입다': 5080, '이여': 5081, '조달': 5082, '힘쓰다': 5083, '캠페인': 5084, '녘': 5085, '고요한': 5086, '분주하다': 5087, '노상': 5088, '주자': 5089, '일자': 5090, '상식': 5091, 'pool': 5092, '파킹': 5093, '표선면': 5094, '컨벤션': 5095, '으로가': 5096, '더라도': 5097, '해주': 5098, '품다': 5099, '세밀': 5100, '종합': 5101, '사다리': 5102, '개운하다': 5103, '횟수': 5104, '즉석요리': 5105, '쵝': 5106, '논': 5107, '죄': 5108, '수저': 5109, '개미': 5110, '난감': 5111, '수도관': 5112, '경계': 5113, '첨부': 5114, '합치다': 5115, '볶음': 5116, '여하튼': 5117, '괜춘': 5118, '세기': 5119, '쭉': 5120, '둘러싸이다': 5121, '니드': 5122, '쩔다': 5123, '휴업': 5124, '고깃집': 5125, '협소한': 5126, '볼일': 5127, '깨꿋': 5128, '찮아다': 5129, '에스': 5130, '해질녘': 5131, '신경안': 5132, '설': 5133, '선지': 5134, '로케이션': 5135, '주류': 5136, '트탑': 5137, '기차': 5138, '로라': 5139, '승마': 5140, '스산': 5141, '억지': 5142, '마저도': 5143, '여겨지다': 5144, '식수': 5145, '보호자': 5146, '시외버스': 5147, '바이': 5148, '텐트': 5149, '미루다': 5150, '중간지점': 5151, '부착': 5152, '에까지': 5153, '빗물': 5154, '고간': 5155, '외각': 5156, '버스킹': 5157, '스텐': 5158, '다드': 5159, '방면': 5160, '자신': 5161, '룸내': 5162, '이끌다': 5163, '가족룸': 5164, '민속촌': 5165, '잣': 5166, '응급실': 5167, '돌이': 5168, '음주': 5169, '올리브영': 5170, '스탭들': 5171, '벚꽃': 5172, '넋': 5173, '수국': 5174, '검사': 5175, '통틀어': 5176, '파묻히다': 5177, '싸': 5178, 'you': 5179, '프렌': 5180, '장관': 5181, '헐리우드': 5182, '여태': 5183, '고풍': 5184, '이부자리': 5185, '드물다': 5186, 'very': 5187, 'concierge': 5188, 'fantastic': 5189, '브': 5190, '월초': 5191, '중상': 5192, '한우': 5193, '명가': 5194, '튀기다': 5195, '게임': 5196, '맥날': 5197, '추측': 5198, '대정읍': 5199, '살때': 5200, '빙': 5201, '바다로': 5202, '경제': 5203, '감각': 5204, '소세지': 5205, '접이식': 5206, '일주': 5207, '금상첨화': 5208, '혼선': 5209, '맛남': 5210, '멋': 5211, '사방': 5212, '조합': 5213, '구내': 5214, '성공': 5215, '반대쪽': 5216, '스케일': 5217, '드럼': 5218, '이주': 5219, '서핑': 5220, '캐': 5221, '무리하다': 5222, '책정': 5223, '날아가다': 5224, '행': 5225, '스텝': 5226, '이웃': 5227, '타운하우스': 5228, '스크린': 5229, '고도': 5230, '막내': 5231, '김기태': 5232, '바게뜨': 5233, '더없이': 5234, '동전': 5235, '써비스': 5236, '개중': 5237, '노랫소리': 5238, '우아하다': 5239, '오입': 5240, '따스하다': 5241, '노형동': 5242, '생맥': 5243, '박보': 5244, '종점': 5245, '으로의': 5246, '어쩌면': 5247, '여요': 5248, '스런': 5249, '닼': 5250, '빵류': 5251, '뺨': 5252, '반수': 5253, '조아': 5254, '회도': 5255, '버터': 5256, '낭만': 5257, '호프': 5258, '뒤론': 5259, '종업원': 5260, '더디다': 5261, '분거': 5262, '모닝커피': 5263, '에서가': 5264, '연로': 5265, '고마움': 5266, '얘': 5267, '다양해지다': 5268, '삭막하다': 5269, '쏵': 5270, '근사하다': 5271, '구이': 5272, '론': 5273, 'ㅗ': 5274, '단단하다': 5275, '왠지': 5276, '봉사': 5277, '추정': 5278, '친근하다': 5279, '슬프다': 5280, '콧물': 5281, '정전': 5282, '메리': 5283, '가신': 5284, '눈물나다': 5285, '와이': 5286, '끓다': 5287, '노곤': 5288, '코멘트': 5289, '주부': 5290, '천연': 5291, '로맨틱': 5292, '동기': 5293, '요기': 5294, '거진': 5295, '돌잔치': 5296, '캔버스': 5297, '블루베리': 5298, '훅': 5299, '자잘하다': 5300, '초밥': 5301, '즉흥': 5302, '세미나': 5303, '상비약': 5304, 'kim': 5305, '가보': 5306, '다물다': 5307, '페닌슐라': 5308, '아쥬': 5309, '어어어어': 5310, '모모': 5311, '야마': 5312, '윗쪽': 5313, '방쪽': 5314, '침대보': 5315, '습지': 5316, '어설프다': 5317, '방장': 5318, '로부터': 5319, '누런': 5320, '먹통': 5321, '맟': 5322, '필요성': 5323, '숨기다': 5324, '세이': 5325, '프티': 5326, '괌': 5327, 'that': 5328, '마다를': 5329, '절절': 5330, '최종': 5331, '협의': 5332, '효': 5333, '룸뷰': 5334, '본방': 5335, '대책': 5336, '으로부터': 5337, '묶이다': 5338, '착륙': 5339, '재밋었어': 5340, '지면': 5341, '당혹스럽다': 5342, '부정': 5343, '밖에는': 5344, '호의': 5345, '구석방': 5346, '버거': 5347, '소시지': 5348, '음원': 5349, '절감': 5350, '증정': 5351, '스며들다': 5352, '가감': 5353, '세지': 5354, '본연': 5355, '애프터눈티': 5356, '앤디': 5357, '미용': 5358, '태고': 5359, '실례': 5360, '두드리다': 5361, '징그럽다': 5362, '저렇게': 5363, '일치': 5364, '프론': 5365, '별하나': 5366, '붓다': 5367, '염색': 5368, '일사이': 5369, '재회': 5370, '명단': 5371, '시전': 5372, '장애인': 5373, '룸앞': 5374, '깝': 5375, '슈페리어룸': 5376, '여름철': 5377, '유가': 5378, '유입': 5379, '안전성': 5380, '앵무새': 5381, '정해진': 5382, '순서대로': 5383, '유도': 5384, '배출': 5385, '어쨌든': 5386, 'when': 5387, 'its': 5388, 'if': 5389, '끊어지다': 5390, '나성': 5391, '절실': 5392, '별거': 5393, '녹슨': 5394, '방객': 5395, '경영': 5396, '화학': 5397, '오로지': 5398, '자격': 5399, '화물': 5400, '삼천원': 5401, '갸우뚱': 5402, '화려': 5403, '틀어지다': 5404, '빛나다': 5405, '광파': 5406, '접촉': 5407, '입력': 5408, '수채': 5409, '축축하다': 5410, '고립': 5411, '메이저': 5412, '쑥': 5413, '낮잠': 5414, '고통': 5415, '만요': 5416, '수백': 5417, '랜덤': 5418, '문턱': 5419, '간시': 5420, '아줌마': 5421, '선착장': 5422, '제곱미터': 5423, '단자': 5424, '가작': 5425, '무성의': 5426, '착오': 5427, '간간히': 5428, '파가': 5429, '소용없다': 5430, 'time': 5431, 'ㅇㅋ': 5432, '튀김': 5433, '라지': 5434, '셰프': 5435, '쌍둥이': 5436, '미세': 5437, '몬': 5438, '론트': 5439, '바이러스': 5440, '구축': 5441, '뚤려': 5442, '문틈': 5443, '기인': 5444, '몰카': 5445, '아일랜드': 5446, '단란주점': 5447, '보도로': 5448, '관리원': 5449, '엇음': 5450, 'dt': 5451, '장산': 5452, '서관': 5453, '이염': 5454, '특산': 5455, '대개': 5456, '벙': 5457, '점룸': 5458, '흘러내리다': 5459, '근본': 5460, '타투': 5461, '무상': 5462, '대변': 5463, '보강': 5464, '변색': 5465, '어딘지': 5466, '적도': 5467, '재촉': 5468, '외주': 5469, '요하': 5470, '정차': 5471, '지독하다': 5472, '혼나다': 5473, '위치위치': 5474, '극장': 5475, '이박정': 5476, '기스': 5477, '부패': 5478, '엠': 5479, '출력': 5480, '비위': 5481, '뒤척일때': 5482, '나라': 5483, '짓': 5484, '풍요': 5485, '극찬': 5486, '스몰': 5487, '더군다나': 5488, '점주': 5489, '시공': 5490, '마음대로': 5491, '플레이스테이션': 5492, '햇볕': 5493, '빈티': 5494, '말리': 5495, '로터리': 5496, '호박': 5497, '스펀지': 5498, '남지': 5499, '해진': 5500, '슬슬': 5501, '스포티지': 5502, '깨끝': 5503, '정시': 5504, '서면': 5505, '스냅': 5506, '불안감': 5507, '몰상식하다': 5508, '직진': 5509, '타구': 5510, '숙련': 5511, '오메': 5512, '인터파크': 5513, '통합': 5514, '사이드바': 5515, '공감': 5516, '다비': 5517, '송': 5518, '기겁': 5519, '나방': 5520, '유선': 5521, '줄눈': 5522, '하이라이트': 5523, '오피스텔': 5524, '버드': 5525, '소홀': 5526, '정작': 5527, '서류': 5528, '조로': 5529, '서해': 5530, '뻘뻘': 5531, '기력': 5532, '능선': 5533, '한소리': 5534, '청해': 5535, '눈물': 5536, '덩': 5537, '덜커덩': 5538, '잔소리': 5539, '능력': 5540, '근거리': 5541, '동의': 5542, '단열': 5543, '급임': 5544, '바라보이다': 5545, '가이드북': 5546, '두어': 5547, '앞집': 5548, '초보자': 5549, '만치': 5550, '멀쩡하다': 5551, '고시원': 5552, '페': 5553, '유치': 5554, '순이': 5555, '차이점': 5556, '딩': 5557, '리퍼블릭': 5558, '삼대': 5559, '괜챦았다': 5560, '참석': 5561, '활기': 5562, '차려': 5563, '인동': 5564, '마이너': 5565, '스위스': 5566, '서머': 5567, '어두컴컴하다': 5568, '다애': 5569, '통신사': 5570, '백만': 5571, '육개장': 5572, '뮤': 5573, '소인': 5574, '서기': 5575, '디즈니': 5576, '활기차다': 5577, 'ㄷㄷ': 5578, '둥이': 5579, '써비': 5580, '들엇어': 5581, '중학생': 5582, '인스턴트': 5583, '프리': 5584, '고등학생': 5585, '협조': 5586, '건너다': 5587, '조개': 5588, '올인원': 5589, '필히': 5590, '규제': 5591, '거닐다': 5592, '행온': 5593, '이롭다': 5594, '반감': 5595, '부스러기': 5596, '곳룸': 5597, '전시장': 5598, '스럼': 5599, '요지': 5600, '거점': 5601, '달콤하다': 5602, 'kate': 5603, '대반': 5604, '공공장소': 5605, '자자하다': 5606, '차주': 5607, '일관': 5608, '구애': 5609, '효과': 5610, '절하': 5611, '울음소리': 5612, '임신': 5613, '어쩌라고': 5614, '귀차니즘': 5615, '부식': 5616, '뛰어나오다': 5617, '핸들': 5618, '떠나오다': 5619, '기록': 5620, '엘레': 5621, '베이트': 5622, '함층': 5623, '런닝머신': 5624, '멀티': 5625, '대강': 5626, '커피점': 5627, '물통': 5628, '단가': 5629, '매끄럽다': 5630, '이었음': 5631, '명색': 5632, '제제': 5633, 'ms': 5634, '권장': 5635, '역사': 5636, '주황색': 5637, '유일': 5638, 'amenity': 5639, '무더위': 5640, '오스': 5641, '건네다': 5642, '갈곳도': 5643, '에드': 5644, '초파리': 5645, '컬러': 5646, '쩐내': 5647, '스페셜': 5648, '떨치다': 5649, '카시트': 5650, '대만': 5651, '환절기': 5652, '소리치다': 5653, 'cctv': 5654, '떄': 5655, '제안': 5656, '경직': 5657, '주소': 5658, '약도': 5659, '초행': 5660, '말끔': 5661, '종료': 5662, '송풍': 5663, 'tea': 5664, '내기': 5665, '중국사람': 5666, '꼴': 5667, '끔찍하다': 5668, '시몬': 5669, '스치다': 5670, '공황': 5671, '분리수거': 5672, '해바라기': 5673, '니니': 5674, '편햇구': 5675, '최지혜': 5676, '비올': 5677, '따끈따끈하다': 5678, '생생하다': 5679, '본드': 5680, '엘리': 5681, '모터': 5682, '만오천원': 5683, '뿌옇다': 5684, '슈페리어킹룸': 5685, '영장': 5686, 'ott': 5687, '한자': 5688, '못함': 5689, '임팩트': 5690, '니트': 5691, '인치': 5692, '만성': 5693, '데크': 5694, '의존': 5695, '표': 5696, '열자': 5697, 'ㅊ': 5698, '음문': 5699, '아픔': 5700, '은지': 5701, '예외': 5702, '링': 5703, '파우더': 5704, '엔지니어': 5705, '온갖': 5706, '냐': 5707, '쿠우': 5708, '구리': 5709, '일리': 5710, '블라인더': 5711, '뻥뚤리다': 5712, '개폐': 5713, '잠기': 5714, '신문': 5715, '분사': 5716, '개조': 5717, '설문지': 5718, '단층': 5719, '어쨋': 5720, '흘러나오다': 5721, '진철': 5722, '컷으': 5723, '덜덜': 5724, '기후': 5725, '광경': 5726, '주목': 5727, '윈드': 5728, '젤로': 5729, '까먹다': 5730, '꼴딱': 5731, '몇대': 5732, '활': 5733, '기관지': 5734, '실랑이': 5735, '이행': 5736, '혐': 5737, '아쿠아리움': 5738, '전해지다': 5739, '드르륵': 5740, '때메': 5741, '멋대로': 5742, '차가워지다': 5743, '산만하다': 5744, '구오': 5745, '룩': 5746, '광화문': 5747, '백퍼': 5748, '가능성': 5749, '부터의': 5750, '사생활': 5751, '조도': 5752, '대놓고': 5753, '재고': 5754, '찜통': 5755, '취객': 5756, '소모': 5757, '푼': 5758, '조율': 5759, '뽕': 5760, '시킴': 5761, '도딱': 5762, '전화통화': 5763, '현저': 5764, '앞방': 5765, '아이두': 5766, 'open': 5767, '어쩌다': 5768, '항의': 5769, '찌린내': 5770, '배수관': 5771, '간접': 5772, '핏': 5773, '방수': 5774, '이남': 5775, '언짢다': 5776, '오징어': 5777, '자제': 5778, '때마침': 5779, '터치': 5780, '청하면': 5781, '이호': 5782, '솝': 5783, '주루룩': 5784, '질리다': 5785, '딸기': 5786, '귀중': 5787, '졸졸졸': 5788, '줄어들다': 5789, '완속': 5790, '깃털': 5791, '샤시': 5792, '선하다': 5793, '시끌시끌하다': 5794, '바가지': 5795, '성과': 5796, '웰빙': 5797, '데스': 5798, 'qr': 5799, '걱정스럽다': 5800, '정일': 5801, '재는': 5802, '블루': 5803, '원대': 5804, '대방': 5805, '자도': 5806, '서늘하다': 5807, '모닝콜': 5808, '거림': 5809, '박수': 5810, 'togo': 5811, '아이디어': 5812, '확산': 5813, '필': 5814, '문의사항': 5815, '밀고': 5816, '하나요': 5817, 'sanitary': 5818, 'bag': 5819, '하수도': 5820, '남침': 5821, '물컹거려': 5822, '운동화': 5823, '시급': 5824, '라떼': 5825, '피닉스': 5826, '망치': 5827, 'front': 5828, 'desk': 5829, '비적': 5830, '베임': 5831, '조리사': 5832, '마케팅': 5833, '감명': 5834, '찜': 5835, '퍽': 5836, '는데': 5837, '습니': 5838, '이따': 5839, '선셋': 5840, 'e': 5841, '졸졸': 5842, '섬유': 5843, '구토': 5844, '응원': 5845, '은색': 5846, '진해': 5847, '젠틀': 5848, '무한': 5849, '깍': 5850, '훌룡': 5851, '홍차': 5852, '데블': 5853, '체트': 5854, '추구': 5855, '부적합하다': 5856, '상위': 5857, '베가': 5858, '반경': 5859, '쌀': 5860, '쓸데없이': 5861, '안감': 5862, '샤워룸': 5863, '티몬': 5864, '흥': 5865, 'ㅠㅠㅠㅠㅠ': 5866, '일요일': 5867, '만석': 5868, '로지은': 5869, '우드': 5870, '넓히다': 5871, '차이나': 5872, '레저': 5873, '갖': 5874, '컨시어즈': 5875, '체감': 5876, '메뉴판': 5877, '프린트': 5878, '틈틈이': 5879, '헬로키티': 5880, '끊임없다': 5881, '피우다': 5882, '로지': 5883, '여자명': 5884, 'facility': 5885, '만발': 5886, '북킹': 5887, '분간': 5888, '빌어': 5889, '보태': 5890, '안락': 5891, '먄': 5892, '출몰': 5893, '세시': 5894, '다섯시': 5895, '생략': 5896, '소규모': 5897, '켜': 5898, '후진': 5899, '악': 5900, '물티슈': 5901, '수북하다': 5902, '퇴실후': 5903, '조그마하다': 5904, 'this': 5905, 'it': 5906, '하위': 5907, '절망': 5908, 'at': 5909, '불면': 5910, '홍수': 5911, '타이밍': 5912, '망하다': 5913, '절도': 5914, '제기': 5915, '진창': 5916, '캐리': 5917, '배정은': 5918, '무려': 5919, '정식': 5920, '마음먹다': 5921, '굽굽': 5922, 'bedding': 5923, '미끌거리다': 5924, '유물': 5925, '였슴': 5926, '낙': 5927, '얼룩덜룩': 5928, '차창': 5929, '첮': 5930, '치명': 5931, '미제': 5932, '보라': 5933, '칙칙하다': 5934, '무례하다': 5935, '두통': 5936, '직윈': 5937, '온통': 5938, '오분': 5939, '실밥': 5940, '옥탑': 5941, '딴판': 5942, '교차': 5943, 'onoff': 5944, '유흥': 5945, '화월': 5946, '유주': 5947, '조화': 5948, '주상절리': 5949, '삼십분': 5950, '감추다': 5951, '당직': 5952, '뜯기다': 5953, '중학교': 5954, '거위': 5955, '데이트': 5956, '불꽃': 5957, '놀때': 5958, '볼곳': 5959, '하여튼': 5960, '쭈욱': 5961, '업종': 5962, '앗': 5963, '출산': 5964, '강츄': 5965, '용머리': 5966, '궂': 5967, '널찍': 5968, '부폐': 5969, '상쇄되': 5970, '룸크리닝': 5971, '만삼천원': 5972, '정수': 5973, '평화롭다': 5974, '놨': 5975, '뷰방': 5976, '별것': 5977, '덧': 5978, '개수': 5979, '소비': 5980, '불로': 5981, '댕': 5982, '야박하다': 5983, '김만복': 5984, '설립': 5985, '랍니': 5986, '뿜뿜': 5987, '파트': 5988, '드롭': 5989, '영아': 5990, '여객선': 5991, '창피하다': 5992, '케니': 5993, '웨딩': 5994, '이라곤': 5995, '깨닫다': 5996, '티포트': 5997, '수단': 5998, '오렌지': 5999, '소박하다': 6000, '박히다': 6001, '진지': 6002, '팔도': 6003, '유지관리': 6004, '개정': 6005, '자가용': 6006, '재활용': 6007, '고체': 6008, '제겐': 6009, '누우': 6010, '고함': 6011, '셈': 6012, '던킨': 6013, '배기': 6014, '주안': 6015, '대명': 6016, '육안': 6017, '안마': 6018, '램': 6019, '무사하다': 6020, 'k': 6021, '박연': 6022, '아찔하다': 6023, '분뒤': 6024, '화상': 6025, '체어': 6026, '체모': 6027, '진곳': 6028, '공부': 6029, '큰아들': 6030, '졸업': 6031, '달전': 6032, '파이브': 6033, '서복': 6034, '전시관': 6035, '항시': 6036, '클렌': 6037, '인가요': 6038, '타도': 6039, '하늘정원': 6040, '요트': 6041, '형광등': 6042, '노랗다': 6043, '초록색': 6044, '초록': 6045, '새끼': 6046, '풍향': 6047, 'recommended': 6048, 'perfect': 6049, '이래도': 6050, '알리': 6051, '명찰': 6052, '종': 6053, '사용권': 6054, '김밥천국': 6055, '직영': 6056, '직관': 6057, '살살': 6058, '마크': 6059, '끼익': 6060, '으로나': 6061, '레져': 6062, '싸이': 6063, '인증': 6064, '겁': 6065, '외딴': 6066, '랍스타': 6067, '불상': 6068, '소스': 6069, '거릴': 6070, '다예': 6071, '주번': 6072, '멤버': 6073, '혼란': 6074, '부속': 6075, '회복': 6076, '콘텐츠': 6077, '프레임': 6078, '셀렉': 6079, '그레이': 6080, '에보니': 6081, '팔이': 6082, '유감': 6083, '커넥션': 6084, '데려오다': 6085, '어르다': 6086, '이편': 6087, '담소': 6088, '글쎄': 6089, '젛': 6090, '으로서': 6091, '께서는': 6092, '상테': 6093, '짜장면': 6094, '가급적': 6095, '익히다': 6096, '업다': 6097, '안도': 6098, '감지기': 6099, '돌출': 6100, '상함': 6101, '날아오다': 6102, '영국': 6103, '유통': 6104, '연하다': 6105, '헤지': 6106, '샘': 6107, '항공기': 6108, '불때': 6109, '불필요하다': 6110, '슬픔': 6111, '당첨': 6112, '드디어': 6113, '뷰임': 6114, '벌이다': 6115, 'soso': 6116, '친환경': 6117, '서투르다': 6118, '주무': 6119, '휑': 6120, '엘': 6121, '실행': 6122, '수평': 6123, '수산': 6124, '엿보다': 6125, '휴게소': 6126, '부과': 6127, '젓갈': 6128, '청겷': 6129, '제때': 6130, '의지': 6131, '레슨': 6132, '다운타운': 6133, '뺴': 6134, '레노베이션': 6135, '수신': 6136, '잖다': 6137, '외풍': 6138, '미비하다': 6139, '촉촉하다': 6140, '그레이드': 6141, '률': 6142, '에러': 6143, '콜비': 6144, 'ㅣ': 6145, '턴': 6146, '계약': 6147, '함뷰': 6148, '설득': 6149, '력': 6150, '안주시': 6151, '떨어뜨리다': 6152, '나로': 6153, '기선': 6154, '이래저래': 6155, '잠금장치': 6156, '조명등': 6157, '몰래': 6158, '일등': 6159, '시멘트': 6160, '산쪽': 6161, '남녕': 6162, '옥': 6163, '뜰': 6164, '미러링': 6165, '가안': 6166, '살피다': 6167, '꾸리': 6168, '앙코르': 6169, '마파두부': 6170, '러': 6171, '촌스럽다': 6172, '온도조절기': 6173, 'ㄱㄱ': 6174, '카톡': 6175, '진원': 6176, '모드': 6177, '탁시': 6178, '꿀렁꿀렁': 6179, '소프트': 6180, '표면': 6181, '싫어지다': 6182, '캐릭터': 6183, '실의': 6184, '굉음': 6185, '어번': 6186, '한라': 6187, '일체': 6188, '비밀': 6189, '언젠가': 6190, '검정색': 6191, '스낵바': 6192, '에이': 6193, '무비': 6194, '헤맷는데': 6195, '고등': 6196, '웟습니': 6197, '요타': 6198, '한결': 6199, '쿠킹': 6200, '통금': 6201, '픽': 6202, '뜻밖': 6203, '만은': 6204, '팬션': 6205, '인성': 6206, '양일간': 6207, '쿵쾅거리다': 6208, '스팟': 6209, '주선': 6210, '수거': 6211, '떡하니': 6212, '장고': 6213, '호첼': 6214, '흡': 6215, '몸살': 6216, '스텐드': 6217, '놓아두다': 6218, '우릴': 6219, '눈웃음': 6220, '장님': 6221, '새로이': 6222, '라던가': 6223, '넒음': 6224, '킥판': 6225, '느므느므': 6226, '바리스타': 6227, '흘러가다': 6228, '있을껀': 6229, '마루라': 6230, '맞닿다': 6231, 'bookingcom': 6232, '월드컵': 6233, '가상': 6234, '지리다': 6235, '최고다': 6236, '저쪽': 6237, '옳다': 6238, '소지품': 6239, '부적절하다': 6240, '주니': 6241, '미용실': 6242, '고기국수': 6243, '드럽다': 6244, '다정하다': 6245, '곤란': 6246, '후라이팬': 6247, '건축물': 6248, '페이': 6249, '쳥결': 6250, '웠습': 6251, '삼겹살': 6252, '아영': 6253, '리아': 6254, '다급하다': 6255, '격': 6256, '갠차다': 6257, '스벅있어': 6258, '덜컹덜컹': 6259, '여니': 6260, '답답': 6261, '유산균': 6262, '평화': 6263, '둥둥': 6264, '녹나무': 6265, 'ㄹㅇ': 6266, '큰길': 6267, '소란스러움': 6268, '훈련': 6269, '모델': 6270, '자유여행': 6271, '고비': 6272, '하나로마트': 6273, '벌다': 6274, '용의': 6275, '방인': 6276, '루프트탑': 6277, '스시': 6278, '비려': 6279, '풀뷰': 6280, '도렐': 6281, '맛있엇어': 6282, '인보이스': 6283, '무크': 6284, '인간': 6285, '붙이': 6286, '져서': 6287, '환경문제': 6288, '융통성': 6289, '탄산수': 6290, '방금': 6291, '퓨저': 6292, '노란색': 6293, '있엇어': 6294, '코고': 6295, '뺴고': 6296, '읍내': 6297, '폐점': 6298, '다이아몬드': 6299, '티어': 6300, '압권': 6301, 'breakfast': 6302, 'pc': 6303, '펀하다': 6304, '건아': 6305, '거들다': 6306, '살균': 6307, '하산': 6308, '장시간': 6309, '다프': 6310, '당기다': 6311, '아쉬웟': 6312, '이라기보다는': 6313, '싱싱하다': 6314, '무게': 6315, '숲뷰': 6316, '동서': 6317, '한가득': 6318, '동동': 6319, '향상': 6320, '맥도널드': 6321, '어중간': 6322, '왈': 6323, '조미료': 6324, '궁': 6325, '계란프라이': 6326, '변동': 6327, '고서': 6328, '반값': 6329, '탑승': 6330, '갠데': 6331, '숨쉬기': 6332, '여행사': 6333, '차비': 6334, '장애': 6335, '미닫이문': 6336, '글씨': 6337, '오르막': 6338, '리해': 6339, '안길': 6340, '온센': 6341, '무적': 6342, '정성': 6343, '유행': 6344, '셋트': 6345, '부딪치다': 6346, '진료': 6347, '뼈': 6348, '부주의': 6349, '욘': 6350, '사설': 6351, '력셔': 6352, '차출': 6353, '급행버스': 6354, '해돋이': 6355, '발망': 6356, '노선도': 6357, '푸근하다': 6358, '삼성혈': 6359, '생필품': 6360, '초기': 6361, '세미': 6362, '상도': 6363, '휘슬락': 6364, '걸치다': 6365, '쫙': 6366, '않았슴': 6367, '깜박': 6368, '질감': 6369, '테니스장': 6370, 'pub': 6371, 'best': 6372, 'locates': 6373, 'be': 6374, '늣데': 6375, '야무지다': 6376, '기호': 6377, '떼': 6378, '설날': 6379, '먼트': 6380, '일월': 6381, '생소하다': 6382, '좋음룸': 6383, '학년': 6384, 'sure': 6385, '채다': 6386, '경도': 6387, '진작': 6388, 'im': 6389, 'nice': 6390, 'star': 6391, '동하': 6392, '수록': 6393, '편차': 6394, '정성은': 6395, '땡큐': 6396, '지안': 6397, '오일': 6398, '리젠트': 6399, '마린': 6400, '협소했어': 6401, '분장': 6402, '적당': 6403, '위락시설': 6404, '주행': 6405, '골': 6406, '구림': 6407, '박물': 6408, '방한': 6409, '엥': 6410, '압': 6411, '무한리필': 6412, '기울이다': 6413, '따름': 6414, '연달': 6415, '움치다': 6416, '특별': 6417, '쌔': 6418, '노소': 6419, '영화관': 6420, '최저': 6421, '가늘다': 6422, '소문나다': 6423, '뽈': 6424, '살집': 6425, '넷이': 6426, '자취': 6427, '가다가': 6428, '환승': 6429, '불투명': 6430, '으로서는': 6431, '천지연폭포': 6432, '유연하다': 6433, '엄격하다': 6434, '멘붕': 6435, '이왕이면': 6436, '낯설다': 6437, '신혼': 6438, '썻': 6439, '지중해': 6440, '어쩌나': 6441, '텐션': 6442, '반전': 6443, '단순': 6444, '기어': 6445, '장인어른': 6446, '장모님': 6447, '수세미': 6448, '으로써는': 6449, '진주': 6450, '우주': 6451, '다이슨': 6452, '쉬는시간': 6453, '어린이날': 6454, '저격': 6455, '토대': 6456, '여자아이': 6457, '캠핑': 6458, '축소': 6459, '한림': 6460, '려면': 6461, '영도': 6462, '아메리칸': 6463, '입학': 6464, '이함': 6465, '믿음': 6466, '채식': 6467, '비건': 6468, '한일': 6469, '안기다': 6470, '흡입': 6471, '죠아': 6472, '잘맞다': 6473, '런트': 6474, '최애': 6475, '못내': 6476, '집안': 6477, '여섯': 6478, '요긴': 6479, '우천': 6480, '반짝': 6481, '힙': 6482, '룸컴디션': 6483, '렵니': 6484, '룸시설': 6485, '기술': 6486, '렌': 6487, '와우': 6488, '연신': 6489, '타지': 6490, '명인': 6491, '빠져들다': 6492, '그릴': 6493, '안타': 6494, '누나': 6495, '더욱이': 6496, '벼': 6497, '식해': 6498, '묵자': 6499, '배송': 6500, '총지배인': 6501, '주사': 6502, '옛': 6503, '인수': 6504, '대학': 6505, '순례': 6506, '창쪽': 6507, '표지': 6508, '장기로': 6509, '전광판': 6510, '오냐': 6511, 'peak': 6512, 'ㅎㅎㅎㅎㅎㅎ': 6513, '어덜트': 6514, '여건': 6515, '고산': 6516, '순위': 6517, '심리': 6518, '넒어': 6519, '싑': 6520, '체계': 6521, '프로페셔널': 6522, '딘': 6523, '넓은룸': 6524, '대우받다': 6525, '로얄': 6526, '재주': 6527, '태': 6528, '확장': 6529, 'vip': 6530, '구름': 6531, '개발': 6532, '도장': 6533, '속편': 6534, '오프': 6535, '슬포': 6536, '엎': 6537, '올렛길': 6538, '에너지': 6539, '리얼': 6540, '차편': 6541, '섶섬': 6542, '파노라마': 6543, '오피스': 6544, '아이템': 6545, '리본': 6546, '야채': 6547, '체인점': 6548, '키판': 6549, '가정식': 6550, '남향': 6551, '동향': 6552, '아침햇살': 6553, '어중간하다': 6554, '매끈하다': 6555, '광도': 6556, '줄곧': 6557, '락커': 6558, '영상': 6559, '래미': 6560, '리트리버': 6561, '손소독': 6562, '앞서': 6563, '불면증': 6564, '맘대로': 6565, '미티': 6566, '산지': 6567, '보고서': 6568, '안정': 6569, '씻기다': 6570, '식성': 6571, '건더기': 6572, '넣기': 6573, '정숙': 6574, '숙성': 6575, '색달': 6576, '훈제': 6577, '주저': 6578, '이제껏': 6579, '데이즈': 6580, '라이트': 6581, '가량': 6582, 'ㅇㅓ': 6583, '가수': 6584, '이예': 6585, '극히': 6586, '초행길': 6587, '실패': 6588, '썸머': 6589, '퍼': 6590, '썻던': 6591, '전반전': 6592, '손글씨': 6593, '호주': 6594, '맘에듬': 6595, '렉카': 6596, '조삭': 6597, '황송': 6598, '간곳': 6599, '이탈리아': 6600, '쿵쾅': 6601, '지루함': 6602, '구획': 6603, '길가': 6604, '린넨': 6605, '비갈': 6606, '프렌들리': 6607, '투입': 6608, '설레임': 6609, '철학': 6610, '헤드셋': 6611, '로얄스': 6612, '장통': 6613, '아련하다': 6614, '가꾸다': 6615, '둘러쌓다': 6616, '기품': 6617, '안남': 6618, '넥팅룸': 6619, '기적': 6620, '손꼽다': 6621, '치도': 6622, '발급': 6623, '떠올리다': 6624, '산길': 6625, '한해': 6626, '천문관': 6627, '폼클렌져': 6628, '유공': 6629, '휴무': 6630, '가르치다': 6631, '열흘': 6632, '질때': 6633, 'ㅏ': 6634, '굴짬뽕': 6635, '트레일': 6636, '졸다': 6637, '뽀숑': 6638, '룸업': 6639, '정오': 6640, '전세': 6641, '말모': 6642, '파르나스': 6643, '개개인': 6644, '의심스럽다': 6645, '요새': 6646, '뽑기': 6647, '유': 6648, '가파른': 6649, '권고': 6650, '부각': 6651, '통창뷰': 6652, '메뉴얼': 6653, '지척': 6654, '수평선': 6655, '은은하다': 6656, '퀄리': 6657, '얼른': 6658, '훈남': 6659, '삼촌': 6660, 'tt': 6661, 'ex': 6662, '장위': 6663, '슬라이딩': 6664, '트레킹': 6665, '등대': 6666, '큰일': 6667, '카노푸스': 6668, '이슬': 6669, '단어': 6670, '엔틱': 6671, '월풀': 6672, '세련': 6673, 'ㅋㅋㅋㅋㅋㅋ': 6674, '왓습': 6675, '재미나': 6676, '손쉽다': 6677, '한밤': 6678, '출근': 6679, '너리': 6680, '브라운': 6681, '지갑': 6682, '호강': 6683, '섭취': 6684, '딸도': 6685, '실화': 6686, '웬': 6687, '시각': 6688, '동그랗다': 6689, '도넛': 6690, '오래간만': 6691, '켑슐': 6692, '케잌': 6693, '첨가': 6694, '찌개': 6695, '총사': 6696, '훈훈하다': 6697, '덩치': 6698, '퇴근': 6699, '수려': 6700, '식기건조기': 6701, '이를': 6702, '르': 6703, '창고': 6704, '다집': 6705, '진행중': 6706, '평온하다': 6707, '세라': 6708, '앞뒤': 6709, '실어': 6710, '탐라': 6711, '여객': 6712, '찿': 6713, '기계로': 6714, '비주': 6715, '동화': 6716, '정겹다': 6717, '파란': 6718, '꽂히다': 6719, '팩': 6720, '깆': 6721, '지겹다': 6722, '다음주': 6723, '때로는': 6724, '사원': 6725, '추어': 6726, '유리컵': 6727, '고품격': 6728, '출퇴근': 6729, '일로': 6730, '과언': 6731, '전의': 6732, '오빠': 6733, '꼽는다': 6734, '널리': 6735, '향기도': 6736, '특화': 6737, '꽉꽉': 6738, '식대': 6739, '산행후': 6740, '구성은': 6741, '다과': 6742, '장염': 6743, '비실': 6744, 'julia': 6745, '참새': 6746, '월달': 6747, '변덕': 6748, '퍼센트': 6749, '토스터': 6750, '효도': 6751, '욕심': 6752, '외모': 6753, '쿠쿠': 6754, '나이프': 6755, '크루': 6756, '제과점': 6757, '콘': 6758, '화징실': 6759, '재활': 6760, '다면': 6761, 'cj': 6762, '리저': 6763, '렌지': 6764, '램딩관': 6765, '신혼부부': 6766, '리서치': 6767, '인대': 6768, '으로써': 6769, '데프론': 6770, '김한솔': 6771, 'tai': 6772, '올인': 6773, '식혜': 6774, '해녀': 6775, '오래도록': 6776, '갤러리': 6777, '양고기': 6778, '설연휴': 6779, '키카': 6780, '엄지': 6781, '한자리': 6782, '페닌슐': 6783, '이자카야': 6784, '애도': 6785, '특수하다': 6786, '룸차지': 6787, '네미': 6788, '수요일': 6789, '예산': 6790, '오스카': 6791, '새별오름': 6792, '곶자왈': 6793, '다짐': 6794, '이어진': 6795, '휴일': 6796, '손주': 6797, '기색': 6798, '우정': 6799, '양가': 6800, '샌딩': 6801, '가용': 6802, '포도': 6803, '분업': 6804, '댕큐': 6805, '자부심': 6806, '테이프': 6807, '산경': 6808, '시리우스': 6809, '나사': 6810, '전문점': 6811, '락커룸': 6812, '끈쪽': 6813, '훤희': 6814, '선팅': 6815, '음서': 6816, '육전': 6817, '진실되다': 6818, '금전': 6819, '직거림': 6820, '주병': 6821, '한간': 6822, '헐렁거리': 6823, '템': 6824, 'galrtem': 6825, '사이판': 6826, '전박': 6827, '전인': 6828, 'aged': 6829, 'downside': 6830, 'aircon': 6831, 'even': 6832, 'mar': 6833, 'no': 6834, 'option': 6835, 'available': 6836, 'us': 6837, 'switch': 6838, 'air': 6839, 'con': 6840, '트러블': 6841, '흐름': 6842, '경쟁': 6843, '억울하다': 6844, '육박': 6845, '동절': 6846, 'mode': 6847, '린곳': 6848, '상주면': 6849, '파도풀': 6850, '에프': 6851, '터눈티셋': 6852, '닝': 6853, '대피': 6854, '트라우마': 6855, '그땐': 6856, '쭉쭉': 6857, '가렵니': 6858, '꽃심': 6859, '동남아시아': 6860, '손톱': 6861, '룸욕실': 6862, '매해': 6863, '다지다': 6864, '유령도시': 6865, '리뉴': 6866, '러기': 6867, '까짓': 6868, '사면': 6869, '유명무실': 6870, '설리': 6871, '각박': 6872, '이견': 6873, '난처하다': 6874, '정점': 6875, '왓더': 6876, '집결': 6877, '위잠': 6878, '서호': 6879, '둘재날': 6880, '고원': 6881, '워터월드': 6882, '듵었음': 6883, '임창정': 6884, '라이프': 6885, '자켓': 6886, '인권': 6887, '제원': 6888, '식전': 6889, '당하': 6890, '집게벌레': 6891, '뿌리': 6892, '트랩': 6893, '깻습니': 6894, '발린': 6895, '대견하다': 6896, '유리잔': 6897, '맥주잔': 6898, '가이드라인': 6899, '개선문': 6900, '했다랜딩관': 6901, 'bhc': 6902, '술래잡기': 6903, '끼치다': 6904, '렵': 6905, '구글': 6906, '봄방학': 6907, '괘적하': 6908, '핫초코': 6909, '중산층': 6910, '티뷔': 6911, 'maison': 6912, 'glad': 6913, '넌편': 6914, '급상승': 6915, '다낭': 6916, '빈펄': 6917, '동그라미': 6918, '조등': 6919, '신한카드': 6920, '탑스': 6921, '카밀리아': 6922, '기밀': 6923, '아무나': 6924, '보광': 6925, 'covid': 6926, '나오니': 6927, '차내': 6928, '객임': 6929, '대머리': 6930, 'communication': 6931, 'noted': 6932, 'krw': 6933, 'required': 6934, 'using': 6935, 'facilities': 6936, 'however': 6937, 'explicit': 6938, 'made': 6939, 'effort': 6940, 'ask': 6941, 'use': 6942, 'day': 6943, 'replied': 6944, 'pay': 6945, 'once': 6946, 'actually': 6947, '셋팅되어': 6948, '첵': 6949, '관성': 6950, '미동': 6951, 'happy': 6952, 'honeymoon': 6953, '어로': 6954, '형용': 6955, '납작하다': 6956, '빳빳': 6957, '배스롭': 6958, '제스쳐': 6959, '애석하다': 6960, '짝': 6961, '소수': 6962, '하드캐리': 6963, '폐셔': 6964, '아르바이트': 6965, '쥰비': 6966, '독하다': 6967, '퓰': 6968, '에쓰': 6969, '웨스': 6970, '틴': 6971, '중년': 6972, '좋았슴니': 6973, '이름나다': 6974, '독채팬션': 6975, '물틀': 6976, '쇳소리': 6977, '전동': 6978, '레드동': 6979, '듣기': 6980, '랭딩관': 6981, '스푼': 6982, '머그컵': 6983, '간장게장': 6984, '우기': 6985, '연연하다': 6986, '롸장실': 6987, '위만': 6988, '폭도': 6989, '부로': 6990, '부적': 6991, '바삭바삭하다': 6992, '햤': 6993, '벨소리': 6994, 'dnd': 6995, '직았': 6996, '외길': 6997, '괴': 6998, '스벅가': 6999, '실문': 7000, '새똥': 7001, '도무지': 7002, '카운트': 7003, '페널티': 7004, '벌금': 7005, '돈내': 7006, '어처구니': 7007, '다루다': 7008, '거격': 7009, '사이렌': 7010, '드나들다': 7011, '취한': 7012, '춤추다': 7013, '갤럭시': 7014, '행위': 7015, '사심': 7016, '알바생': 7017, '줗음': 7018, '닥는타올': 7019, '고사리': 7020, '스페이스': 7021, '올껍니': 7022, '빡시다': 7023, '콘솔': 7024, '제자리': 7025, '특희': 7026, '철거': 7027, '홈키': 7028, '성상': 7029, '티브': 7030, '프라스': 7031, '틱': 7032, '스크램블에그': 7033, '애어컨': 7034, '무책임하다': 7035, '훨커': 7036, '의성': 7037, '쏘이다': 7038, '월등하다': 7039, '내팽겨쳐둔': 7040, '비결': 7041, '혈': 7042, '콤콤': 7043, '잔기침': 7044, '립스틱': 7045, '지프': 7046, '출근시간': 7047, '서지역': 7048, '둔하다': 7049, '매제': 7050, '단장': 7051, '썩다': 7052, '준치': 7053, '창호지': 7054, '군것질': 7055, '좀벌레': 7056, '싼마이': 7057, '팬티': 7058, '벽체': 7059, '할때특': 7060, '막도': 7061, '함방': 7062, '팅기다': 7063, '건내다': 7064, '지아': 7065, '방정': 7066, '리하': 7067, '빡세': 7068, '숙객': 7069, '고학년': 7070, '유상': 7071, '고질': 7072, '무현': 7073, '사일런트': 7074, '자욱하다': 7075, '쟈마쟈': 7076, '덜썩': 7077, '층싱글룸': 7078, '모뎀': 7079, '짝쏙': 7080, '무안하다': 7081, '경비': 7082, '싑습': 7083, '안치': 7084, '방음벽': 7085, '면제': 7086, '비난': 7087, '뽑히다': 7088, '묻히다': 7089, '일다': 7090, '공공': 7091, '청과': 7092, '휼룡햐': 7093, '굉': 7094, 'ㅇㅇㅇㅇㅇㅇㅇㅇ': 7095, '냉풍': 7096, '허름': 7097, '스케': 7098, '모듀': 7099, '러닝': 7100, '내려놓다': 7101, '앰뷸런스': 7102, '룸이었': 7103, '머핀': 7104, '눚': 7105, '삭제': 7106, '거렸는데': 7107, '후다닥': 7108, '뛰어오다': 7109, '지식': 7110, '제조': 7111, '국산': 7112, '안깨끗': 7113, '흉측하다': 7114, '유난히': 7115, '장수풍뎅이': 7116, '주치': 7117, '출렁이다': 7118, '차종': 7119, '장제': 7120, '진공': 7121, '황량': 7122, '몬트락': 7123, '우럭': 7124, '책로': 7125, '키라': 7126, '뭣해': 7127, '드링크': 7128, '출시': 7129, '있늣': 7130, '벌컥벌컥': 7131, '원기': 7132, '원주고': 7133, '들썩들썩': 7134, '아쉽딘': 7135, '배타': 7136, '공업단지': 7137, '쟁반': 7138, '스산합니': 7139, '만방': 7140, '넘사벽': 7141, '인족': 7142, '간질간질': 7143, '비말': 7144, '작은룸': 7145, '섭섬': 7146, '두째': 7147, '엡': 7148, '열차': 7149, '인점': 7150, '신어': 7151, '불명': 7152, '영혼': 7153, '렌탈': 7154, '세단': 7155, '약점': 7156, '하소연': 7157, '꼬릿': 7158, '었': 7159, '자위': 7160, '소복': 7161, '바꿈': 7162, '푸딩': 7163, '침침하다': 7164, '발렛형식': 7165, '비처럼': 7166, '도안': 7167, '레셉션': 7168, '곡류': 7169, '투숙프론트': 7170, '몰두하다': 7171, '약함프론트': 7172, '한나': 7173, '명령': 7174, '아싑네': 7175, '데이터': 7176, '유발': 7177, '점원': 7178, '선뷰': 7179, '마스코트': 7180, '플렉스': 7181, '지해': 7182, '씨끌': 7183, '포켓': 7184, '취조': 7185, '가축': 7186, '룸레이트': 7187, 'ota': 7188, '베딩감': 7189, '선택룸': 7190, '룸입구문': 7191, '뷰뻥': 7192, '맞닥뜨린': 7193, '상대방': 7194, '헤져': 7195, '바디클렌져': 7196, '존나': 7197, '덩이': 7198, '식후': 7199, '쿱쿱': 7200, '러웠': 7201, '핵': 7202, '빈약': 7203, '시커멓다': 7204, '정성스럽다': 7205, '무뚝툭': 7206, '못취했어': 7207, '분지': 7208, '품절': 7209, '수렴': 7210, '유인': 7211, '노화': 7212, '분류': 7213, '프로페셔널함': 7214, '징모': 7215, '란락': 7216, '쇼바': 7217, '랜트': 7218, '만배': 7219, '여행떄': 7220, '악화': 7221, '크레딧': 7222, '알고싶다': 7223, '담달': 7224, '수련': 7225, '쌩뚱맡': 7226, '랜트해': 7227, '인듯': 7228, '뷰페': 7229, '나시': 7230, '대유행': 7231, '즈음': 7232, '믾': 7233, '섬머': 7234, '나이라': 7235, '벨트': 7236, '관장': 7237, '붐': 7238, '게임기': 7239, '베이직': 7240, '룸임': 7241, '컨트롤러': 7242, '각국': 7243, '줄겁': 7244, '박찬미': 7245, '침절': 7246, '전혜': 7247, '명자': 7248, '토일': 7249, '평형': 7250, '장단점': 7251, '싸움': 7252, '캐이블': 7253, '유사하다': 7254, '앞동': 7255, '침해': 7256, '옷차림': 7257, '동서로': 7258, '사업': 7259, '산재': 7260, '티등': 7261, '박자': 7262, '트랙': 7263, '유치하다': 7264, '아름': 7265, '다시금': 7266, '무심코': 7267, '초승달': 7268, '소감': 7269, '번도': 7270, '겉옷': 7271, '됏': 7272, '편햇': 7273, '늡': 7274, '곰인형': 7275, '보신': 7276, '해방': 7277, '게임방': 7278, '껍질': 7279, '씹다': 7280, '사건': 7281, '실버': 7282, '잠껀': 7283, '유산': 7284, '보너스': 7285, '다년': 7286, '목별': 7287, '없었느': 7288, 'ㅎㅎㅎㅎㅎㅎㅎㅎㅎㅎㅎㅎㅎㅎㅎ': 7289, '아슀네': 7290, '로리': 7291, '의하다': 7292, '하선': 7293, '빼앗다': 7294, '후반': 7295, '명의': 7296, '커뮤니티': 7297, '엄천': 7298, '지출': 7299, '안남다': 7300, '값싸다': 7301, '셋탑박스': 7302, 'monica': 7303, '조아하다': 7304, '깔꼼': 7305, '조음': 7306, '로스': 7307, '스누피': 7308, '어트랙션': 7309, '조인': 7310, '가득가득': 7311, 'han': 7312, '생가': 7313, '자구': 7314, '구제': 7315, '용한': 7316, '내미다': 7317, '점차': 7318, '래딩관': 7319, '윤경': 7320, '몃': 7321, '넚어': 7322, '움리': 7323, '프랜차이즈': 7324, '룸을개': 7325, '수포': 7326, '이니스프리': 7327, '아요': 7328, '태국': 7329, '모듬걸': 7330, '한호': 7331, '최싱': 7332, '꼬박': 7333, '리조츠안': 7334, '문관': 7335, '왓을때': 7336, '매표소': 7337, '제휴': 7338, '비합리적': 7339, '프토': 7340, '부다': 7341, '돌침대': 7342, '셋임': 7343, '손가락질': 7344, 'ㅅㅅ': 7345, '갑작스레': 7346, '갠찮긴': 7347, '랜딩호텔': 7348, '람보': 7349, '내주다': 7350, '난뒤': 7351, '고치': 7352, '내주': 7353, '장주': 7354, '호구': 7355, '찬사': 7356, '물집': 7357, '사양': 7358, '겹침': 7359, '피티': 7360, '니스': 7361, '싸이클': 7362, '싯업벤치': 7363, '스미스': 7364, '콘덴서': 7365, '웠던': 7366, '키유': 7367, '짖다': 7368, '전산': 7369, '겸비': 7370, '철사': 7371, '두껑': 7372, '입처': 7373, '그랫는': 7374, '거르세': 7375, '댜': 7376, '번식': 7377, '덮개': 7378, '점프': 7379, '로다': 7380, '떄문': 7381, 'tower': 7382, '면세': 7383, 'sm': 7384, '꺄끗': 7385, '손때': 7386, '소라': 7387, '혈흔': 7388, '관광부': 7389, '편집': 7390, '회의실': 7391, '엄지손가락': 7392, '기프트': 7393, '샾': 7394, '자쿠지물': 7395, '관여': 7396, '헛': 7397, '명확': 7398, '벙크베드': 7399, '숴웠': 7400, '돌리지': 7401, '향냄새': 7402, '요렇게': 7403, '초초초': 7404, '음객': 7405, '부문': 7406, '디스플레이': 7407, '겨우내': 7408, '년초': 7409, '드매': 7410, '문점도': 7411, '러닝머신': 7412, '청소부': 7413, '만빵': 7414, '열사': 7415, '코너링': 7416, '매트릭스': 7417, '불효': 7418, '즉': 7419, '맴버쉽': 7420, 'hospitality': 7421, '쥬라기': 7422, '익스플로러': 7423, '고고학자': 7424, '수료증': 7425, '결후': 7426, '게걸': 7427, '수십': 7428, '하란': 7429, '표선쪽': 7430, '호델쪽': 7431, '불현': 7432, '가인': 7433, '도전': 7434, '할껄': 7435, 'ㅎㅏ': 7436, '장안': 7437, '오늘이': 7438, '알려지다': 7439, '의사소통': 7440, '농': 7441, '등위': 7442, '새벽같이': 7443, '꿀맛': 7444, '토요일': 7445, '자라': 7446, '봉투': 7447, '사무': 7448, 'cf': 7449, '손수건': 7450, '끝쪽': 7451, '박음질': 7452, '갈라지다': 7453, '진부': 7454, '젛앗어': 7455, '나야': 7456, '위풍': 7457, '순두부': 7458, '백원': 7459, '보증금': 7460, '컨퍼런스': 7461, '만타': 7462, '올비': 7463, '칼호탤': 7464, '요성': 7465, '유흥주점': 7466, '슨': 7467, '쿵쿰': 7468, '탈취': 7469, '보조': 7470, '이모저모': 7471, '버기': 7472, '홤무지': 7473, '방앞': 7474, '비킹': 7475, '마사': 7476, '되엇': 7477, '갓길': 7478, '짝궁': 7479, '묵엇': 7480, '까끗': 7481, '얄듯': 7482, '감겨': 7483, '태말': 7484, '개취': 7485, '탑골': 7486, '별반': 7487, '고약하다': 7488, '자네': 7489, '스토브': 7490, '가스': 7491, '함수': 7492, '객용': 7493, '멈': 7494, '퍼니처': 7495, '꿈꾸다': 7496, '괜챤다': 7497, '동점': 7498, '간점임': 7499, '볼걸': 7500, '우왉': 7501, '에코': 7502, '어쩌구': 7503, '벗': 7504, '러그': 7505, '낚임': 7506, '달동네': 7507, '천만': 7508, '다이닝룸': 7509, '인들': 7510, '진자': 7511, 'tpo': 7512, '휘적휘적': 7513, '미키': 7514, '소음기': 7515, '한가로이': 7516, '치질': 7517, '인체': 7518, '공학': 7519, '중고': 7520, '구형': 7521, '노맛': 7522, 'world': 7523, 'hyatt': 7524, '뷰층': 7525, 'ㅎㅎㅎㅎㅎ': 7526, '루브리카': 7527, '루브': 7528, '리카': 7529, '노동자': 7530, '후각': 7531, 'key': 7532, '긍': 7533, '프론트쪽': 7534, '됫는': 7535, '묵읐는데': 7536, '병따개': 7537, '몬저': 7538, '남상': 7539, '룸정비': 7540, '찌뿌둥': 7541, '조악하다': 7542, 'ㅋㅋㅋㅋㅋㅋㅋ': 7543, '맛바': 7544, '노이즈': 7545, 'kal': 7546, 'bus': 7547, '화를': 7548, '어란': 7549, '애글': 7550, '층걔': 7551, '꼬꾸라지다': 7552, '뻔헀습': 7553, '쨍쨍': 7554, '테슬라': 7555, '떨리다': 7556, '안드': 7557, '사마': 7558, '뭉텅': 7559, '설쳣네': 7560, '이안': 7561, '본방송': 7562, '이듬': 7563, '어지럽다': 7564, '이상야릇하다': 7565, '있슴': 7566, '줄때': 7567, '때우다': 7568, '확답': 7569, '날이갈수록': 7570, '장바닥': 7571, '슈질': 7572, '갸격': 7573, '커피가게': 7574, '닭': 7575, '어두운색': 7576, '글자': 7577, '열원': 7578, '업애': 7579, '접함': 7580, '삮': 7581, '빠뜨리다': 7582, '구두주걱': 7583, '장의': 7584, '초촐': 7585, '불안정하다': 7586, '숨막히다': 7587, '벽장': 7588, '남방': 7589, '절경': 7590, '사사건건': 7591, '답답햇': 7592, '노뷰': 7593, '벽보': 7594, '첨하루죙일': 7595, '우울증': 7596, '교회': 7597, '찬송가': 7598, '레크레이션': 7599, '났고룸': 7600, '물렁하다': 7601, '훌륨': 7602, '격하': 7603, '깨끗해지다': 7604, '은기': 7605, '플로': 7606, '지하상가': 7607, '동방': 7608, '온몸': 7609, '엉덩이': 7610, '귓바퀴': 7611, '레일': 7612, '뉘앙스': 7613, '아숴웠네': 7614, '것퇴실': 7615, '있음룸': 7616, '고만': 7617, '안정감': 7618, '옛스럽다': 7619, '큼큼': 7620, '공중화장실': 7621, '향수': 7622, '느글거림컵': 7623, '엠브': 7624, '란스': 7625, '극성': 7626, '내리쬐다': 7627, '엇갈리다': 7628, '고음': 7629, '비비': 7630, '빅회': 7631, '헬이': 7632, '델수': 7633, '망은': 7634, '냉동식품': 7635, '집합': 7636, '미스테리': 7637, '다카': 7638, '운더': 7639, '밀착': 7640, '성경책': 7641, '두개골': 7642, '확률': 7643, '을제': 7644, '최대로': 7645, '물쪽': 7646, '코목': 7647, '킁킁거리다': 7648, '침침': 7649, '읎었어': 7650, '병정': 7651, '양말': 7652, '깜작': 7653, '뚤': 7654, '번하다': 7655, '아쉽넹': 7656, 'ㄷ': 7657, '레잇': 7658, '지랄': 7659, '바앤': 7660, '낳다': 7661, '통닭': 7662, 'identity': 7663, '린': 7664, '텔': 7665, '주란': 7666, '사의': 7667, '네일': 7668, '죽지': 7669, '내뱉다': 7670, '변쪽': 7671, '헤드폰': 7672, '소정방': 7673, '절벽': 7674, '보목': 7675, '대략': 7676, '감정': 7677, '카앞': 7678, '꺼름직': 7679, 'rv': 7680, '바니쉬': 7681, '판다': 7682, '인위': 7683, '마고': 7684, '중일': 7685, '도난': 7686, '따갑다': 7687, '곧다': 7688, '화로': 7689, '나뭇잎': 7690, 'ㅠㅠㅋ': 7691, '헤멤': 7692, '안됬슴': 7693, '월등': 7694, '뻒뻒': 7695, '색상': 7696, '이라든지': 7697, '재의': 7698, '월욜': 7699, '자료': 7700, '그대': 7701, '뱅': 7702, '찻날': 7703, '없음룸': 7704, '밑쪽': 7705, '기술자': 7706, '소나': 7707, '대인': 7708, '부풀리다': 7709, '낚': 7710, '지진': 7711, '의상': 7712, '섣불리': 7713, '이하임': 7714, '요랑': 7715, '외과': 7716, '호텕': 7717, '멀어지다': 7718, '해침': 7719, '컵안': 7720, '헹구다보': 7721, '씼': 7722, '지존': 7723, '펀리해': 7724, '사체': 7725, '좋았슬니': 7726, '라디에이터': 7727, '용담': 7728, '리듬': 7729, '런드리': 7730, '좋은룸': 7731, '웡': 7732, '상회': 7733, '바삭': 7734, '고지도': 7735, '독자': 7736, '하의': 7737, '칙칙': 7738, '밀접하다': 7739, '꺼림칙하다': 7740, '고추장': 7741, '삶다': 7742, '반숙': 7743, '완숙': 7744, 'system': 7745, '요한': 7746, '옮': 7747, '널브러져': 7748, '선임': 7749, '뺴줌': 7750, '안듬': 7751, '뭉그러지다': 7752, '늘렷으': 7753, '힘들엇어': 7754, '무미건조': 7755, '함주': 7756, '변환': 7757, '생활권': 7758, '주객': 7759, '전도': 7760, '모루': 7761, '유니폼': 7762, '살펴보다': 7763, '프린터': 7764, '음우': 7765, '천시': 7766, '로작': 7767, '맨끝방': 7768, '헤진': 7769, '렌즈': 7770, '했으몀': 7771, '팍': 7772, '김샘': 7773, '발뺌': 7774, '소주': 7775, '병과': 7776, '선결': 7777, '되돌리다': 7778, '만기': 7779, '밭뷰': 7780, '체그': 7781, '설첬네': 7782, '나프탈렌': 7783, '놨어': 7784, '요만': 7785, '마원': 7786, '세일': 7787, '현혹': 7788, '출룽거려': 7789, '음직': 7790, '핑크색': 7791, '가장자리': 7792, '깉': 7793, '벼룩': 7794, '북': 7795, '이그리': 7796, '난건': 7797, '환풍': 7798, '냉랭하다': 7799, '커넥팅도어': 7800, 'mt': 7801, '일절': 7802, '자형': 7803, '환락가': 7804, 'box': 7805, '텔레비전': 7806, '끈김': 7807, '컨시': 7808, '얼다': 7809, '트원': 7810, '견고하다': 7811, '전무하다': 7812, '남협소': 7813, '방조명': 7814, '패드': 7815, '각기': 7816, '상해': 7817, '하드웨어': 7818, '답지': 7819, '등정': 7820, '압니': 7821, '담백하다': 7822, '술함': 7823, '자의': 7824, '현수막': 7825, '펄럭': 7826, '검림': 7827, '반쪽': 7828, '어것': 7829, '제데로': 7830, '껍데기': 7831, '점월': 7832, '방이동': 7833, '손상': 7834, '꺼려웠음': 7835, '균': 7836, '기일': 7837, '산이': 7838, '운동복': 7839, '그래듀': 7840, '고수만': 7841, '본체': 7842, '둘러싸다': 7843, '변기수': 7844, '압구': 7845, 'noity': 7846, '퍽퍽': 7847, '빙떡': 7848, 'ㅎㅎㅎㅎㅎㅎㅎㅎㅎㅎㅎㅎㅎ': 7849, '만남': 7850, '함박': 7851, '고심': 7852, '음달': 7853, '거고요': 7854, '어둑어둑해지다': 7855, '느지막': 7856, '투성이': 7857, '로고': 7858, '미스': 7859, '꾸덕꾸덕': 7860, '탱크': 7861, '박박': 7862, '정중': 7863, '스토어': 7864, '업업': 7865, '웰니스': 7866, '거일': 7867, '다차': 7868, '싸하다': 7869, '주력': 7870, '유연제': 7871, '이삿짐': 7872, '약식': 7873, '사해': 7874, '경미': 7875, '어지러움': 7876, '호소': 7877, '연애': 7878, 'henry': 7879, '에스코트': 7880, '성장': 7881, '장외': 7882, '찟어짐': 7883, '마이': 7884, '객실동': 7885, '눌리': 7886, '빨간색': 7887, '푸르딩딩': 7888, '주온': 7889, '국내성': 7890, '윈다': 7891, '명함': 7892, '파라다이스': 7893, '반함': 7894, '이든지': 7895, '랜딩관객실': 7896, '능': 7897, '부들': 7898, '빌스': 7899, '회전목마': 7900, '클렌져': 7901, '에스컬레이터': 7902, '점룬': 7903, '자가진단': 7904, '이중문': 7905, '방끝': 7906, '방귀': 7907, '얘길': 7908, '권적': 7909, '모슬포쪽': 7910, '슈트': 7911, '깔끔햤어': 7912, '침규류': 7913, '처지다': 7914, '남제주': 7915, '어치': 7916, '훤': 7917, '회식': 7918, '세대': 7919, '유스호스텔': 7920, '결합': 7921, '목재': 7922, '바라다보이다': 7923, '이마루': 7924, '위축': 7925, '행업': 7926, '기네': 7927, '전채': 7928, '알렉슨': 7929, '이신가': 7930, '길어지다': 7931, '늦걱': 7932, '뷰랄': 7933, '무진장': 7934, '마뜩찮다': 7935, '폭우': 7936, '구두약': 7937, '작은방': 7938, '무니': 7939, '어슬렁어슬렁': 7940, '객실룸': 7941, '거스렸': 7942, '발림': 7943, '드함': 7944, '오설록티뮤지엄': 7945, '행실': 7946, '라커룸': 7947, '대별': 7948, '무선': 7949, '몰아치다': 7950, '불가리': 7951, '론칭하': 7952, '꾸리다': 7953, '컨디셔닝': 7954, '짧앟어': 7955, '증세': 7956, '스멀스멀': 7957, '스케이트장': 7958, '차이니스': 7959, '컨센트': 7960, '꼬꼬': 7961, '마살': 7962, '저녁밥': 7963, '할마': 7964, 'amanity': 7965, '주가': 7966, '공황장애': 7967, '전세계': 7968, '환자': 7969, '태블릿': 7970, '여운': 7971, '외우다': 7972, '날수': 7973, '키크': 7974, '자식': 7975, '성장하다': 7976, '점층': 7977, '가짐': 7978, '네시': 7979, '개얼탱': 7980, '원단': 7981, '냉각수': 7982, '건전지': 7983, '빡치다': 7984, '어찌저찌': 7985, '원정': 7986, '가래': 7987, '아몬드': 7988, '졸리다': 7989, '잡음': 7990, '여인숙': 7991, '퇴실날': 7992, '정소': 7993, '원칙': 7994, '기음': 7995, '생색': 7996, '휙휙': 7997, '생리': 7998, '솔질': 7999, '심해지다': 8000, '패치': 8001, 'spacious': 8002, 'enough': 8003, 'parking': 8004, 'spacealso': 8005, 'booked': 8006, 'since': 8007, 'one': 8008, 'few': 8009, 'hotels': 8010, 'with': 8011, '핑계': 8012, 'ㅍㅎㅎ': 8013, '고저': 8014, '복잡시런': 8015, '정전기': 8016, '담배쩐내': 8017, '냉정': 8018, '고안': 8019, '가바': 8020, '탑뷰': 8021, '노랑': 8022, '보자기': 8023, 'shocked': 8024, 'how': 8025, 'kept': 8026, 'foods': 8027, '에서부터는': 8028, '후짐': 8029, '밑층': 8030, '못잣': 8031, '창호': 8032, '후미지다': 8033, '심했슴': 8034, '통풍': 8035, '벽만보잌': 8036, '구리다': 8037, '서술': 8038, '닥치다': 8039, '비틀어지다': 8040, '이동식': 8041, '쪽지': 8042, '이개': 8043, '왕성': 8044, '참숯': 8045, '커녕': 8046, '길음': 8047, '소제': 8048, '새까맣다': 8049, '방회': 8050, '단속': 8051, '흉내': 8052, '애어콘': 8053, '부시다': 8054, '신청헸음': 8055, '수분': 8056, '보도': 8057, '단창': 8058, '아누': 8059, 'high': 8060, '넒음층': 8061, 'ip': 8062, '담보': 8063, 'ap': 8064, '등돈값': 8065, '사이사이': 8066, '상사': 8067, '웠음': 8068, '최하': 8069, '무늬': 8070, '뒤척임': 8071, '연석': 8072, '따라가다': 8073, '충돌': 8074, '위험성': 8075, '무협': 8076, '지옥': 8077, '오들오들': 8078, '페이퍼': 8079, '있음프론트': 8080, '그제야': 8081, '불편햐': 8082, '등사': 8083, '홑겹': 8084, '보이시': 8085, 'ㅓㅓㅓㅓ': 8086, '잔반': 8087, '인장': 8088, '프론트가': 8089, '깻어': 8090, '뻐근하다': 8091, '냉기': 8092, '사라': 8093, '퇴점': 8094, '간전': 8095, '국민': 8096, '심신': 8097, '말씨': 8098, '버즈': 8099, '이필': 8100, '요요하다': 8101, '룸바': 8102, '바등': 8103, '가로막': 8104, '불분명': 8105, '감소': 8106, '귀마개': 8107, '주관': 8108, '엄씁니': 8109, '긍정': 8110, '처무': 8111, '하야트': 8112, '후드': 8113, '꽈당': 8114, '잇엇으': 8115, '그려지다': 8116, '비료': 8117, '준지': 8118, '그득하다': 8119, '진먼': 8120, '가렵고가렵': 8121, '박소영': 8122, '유대': 8123, '승': 8124, '사람과': 8125, '트윈배드': 8126, '데스트': 8127, '합류': 8128, '랜딩관로비': 8129, '화공': 8130, '맨날': 8131, 'ㅎㅎㅠㅠ': 8132, '축제': 8133, '버내': 8134, '차만': 8135, '말곳': 8136, '놀곳등': 8137, '신나요': 8138, '앱등': 8139, '동관': 8140, '거북이': 8141, '나비': 8142, '룸또': 8143, '편햇습니': 8144, '무재': 8145, '밋': 8146, '빠듯해': 8147, '맺다': 8148, '미쳣어': 8149, '랜딩관안': 8150, '활발하다': 8151, '국도': 8152, '해연': 8153, '밭이랑': 8154, '노리다': 8155, '신기': 8156, '호탕': 8157, '언덕길': 8158, '것등': 8159, '음량': 8160, '시스': 8161, '내리막': 8162, '문제해결': 8163, '어투': 8164, '신의한수': 8165, '레이져': 8166, '노스': 8167, '불청객': 8168, '내려앉다': 8169, '재봉': 8170, '얼룩얼룩하다': 8171, '치사하다': 8172, '꽁': 8173, '자라다': 8174, '나나': 8175, '쥬': 8176, '요동': 8177, 'get': 8178, '폭탄': 8179, '믓': 8180, '나빠지다': 8181, '꺠끗한것': 8182, '원수': 8183, '기업': 8184, '일본어': 8185, '다바람': 8186, '습득': 8187, '회장': 8188, '내비게이션': 8189, '웨딩홀': 8190, '열매': 8191, '숙제': 8192, '전기자동차': 8193, '터널': 8194, '잘빠지다': 8195, '그저께': 8196, '베이비': 8197, '노련하다': 8198, '추도': 8199, '내자': 8200, '중앙시장': 8201, '디디다': 8202, '불위': 8203, 'ㄲㅏ': 8204, '썩이다': 8205, '프런터': 8206, '버젓이': 8207, '엄연하다': 8208, '룸인데': 8209, '하여간': 8210, '랜딩라운': 8211, '씐': 8212, '태마': 8213, '친절핫셔': 8214, '설국열차': 8215, '번지르르': 8216, '쫍아': 8217, '식겁하다': 8218, '던디': 8219, 'ㅠㅠㅋㅋㅋㅋ': 8220, '끌다': 8221, '도포': 8222, '호캉': 8223, '무국': 8224, '물곰팡이': 8225, '내이동': 8226, '로안': 8227, '고다': 8228, '급박하다': 8229, '의기': 8230, '수금': 8231, '민원': 8232, '초가': 8233, '돈벌레': 8234, '노리개': 8235, '독성': 8236, '천막': 8237, '덮이다': 8238, '방콕': 8239, '달방': 8240, '쪈내': 8241, '음개': 8242, '우린': 8243, '워커': 8244, '짦은걸': 8245, '무궁화': 8246, '일괄': 8247, '미약': 8248, '깨끗헤': 8249, '설사': 8250, '있었슴': 8251, '옹료': 8252, '부직포': 8253, '알바': 8254, '제과': 8255, '여고': 8256, '인솔': 8257, '숙속': 8258, '푸트': 8259, '코트': 8260, '오래오래': 8261, '각지': 8262, '차키': 8263, '지문': 8264, '띠워': 8265, '장내': 8266, '고재사': 8267, '썪': 8268, '무너지다': 8269, '뭉텅이들': 8270, '차액': 8271, '안과': 8272, '지용': 8273, '겸사겸사': 8274, '두텁다': 8275, '클랜': 8276, '징': 8277, '겉모습': 8278, '헬쓰': 8279, '고난': 8280, '신속': 8281, '대롱대롱': 8282, '일쑤': 8283, '이돈': 8284, '윰차끌': 8285, '분임': 8286, '델': 8287, '무서움': 8288, '몸소': 8289, '뷰맛텔': 8290, '셋팅된': 8291, '유무': 8292, '은한': 8293, '줌마': 8294, '상행위': 8295, '스벅있': 8296, '땡추털': 8297, '꼬부': 8298, '사만원': 8299, '십년': 8300, '비탈길': 8301, '습관': 8302, '어림': 8303, '상술': 8304, '좋음스벅': 8305, 'sky': 8306, 'dining': 8307, '후룸라이드': 8308, '경주': 8309, '젠': 8310, '원뿔': 8311, '서운하다': 8312, '둬': 8313, '힐튼': 8314, '만큼이나': 8315, '트립어드바이저': 8316, '본부': 8317, '촬영감독': 8318, '미니시리즈': 8319, '불날': 8320, '파르': 8321, '나스': 8322, '슀': 8323, '빵터지다': 8324, '핸폰': 8325, '낚임문': 8326, '나달나달': 8327, '구조이': 8328, '파이팅': 8329, '창구': 8330, '렌딩': 8331, '작은아들': 8332, '서브스': 8333, '쑥국': 8334, '없엇어': 8335, '나트': 8336, '계바': 8337, '속사': 8338, '만차듬카': 8339, '질의': 8340, '프라다': 8341, '구찌': 8342, 'mbc': 8343, '원데이': 8344, '노모': 8345, '학교': 8346, '기숙사': 8347, 'ㅇㅇㅇㅇㅇㅇㅇㅇㅇㄴㄴㄴㄴㄴㄴㄴㄴㄴㄴㄴㄴㄴㄴㄴㄴㄴㄴㄴㄴㄴㄴㄴㄴㄴㄴㄴㄴㄴㄴㄴㄴㄴㄴㄴㄴㄴㄴㄴㄴㄴㄴㄴㄴㄴㄴㄴㄴㄴㄴㄴㄴㄴㄴㄴㄴㄴㄴㄴㄴㄴㄴㄴㄴㄴㄴㄴㄴㄴㄴㄴㄴㄴㄴㄴㄴㄴㄴㄴㄴㄴㄴㄴ': 8348, '파트너': 8349, '둘쩃날': 8350, '버스정거장': 8351, '내조': 8352, '흘렁흘렁': 8353, '윈룸': 8354, '백색': 8355, '뒤척일': 8356, '파워': 8357, 'chekck': 8358, '세요': 8359, '제해': 8360, '르쉬느': 8361, '베이징': 8362, 'highly': 8363, 'every': 8364, 'condition': 8365, 'tidy': 8366, 'amenities': 8367, 'are': 8368, 'quite': 8369, 'satisfying': 8370, 'lechinois': 8371, 'were': 8372, 'absolutely': 8373, 'amazing': 8374, 'try': 8375, 'being': 8376, 'duck': 8377, 'my': 8378, 'state': 8379, 'modern': 8380, 'art': 8381, '정두리': 8382, '짜지다': 8383, '랜드마크': 8384, '식용': 8385, '다누': 8386, '지정은': 8387, '임돠': 8388, '어머': 8389, '점포': 8390, '해석': 8391, '하겐다즈': 8392, '더부룩하다': 8393, '약과': 8394, '화제': 8395, '사십분': 8396, '팅쇼': 8397, '회로': 8398, '조성하': 8399, '뭉텅이': 8400, '톨': 8401, '경력': 8402, '버킷': 8403, '좀비': 8404, '다이나믹': 8405, '열정': 8406, '다닥다닥': 8407, '어쩌란건': 8408, '멀찌감치': 8409, '하는둥': 8410, '동참': 8411, '하곤': 8412, '선기': 8413, '학술': 8414, '대회': 8415, '짜임새': 8416, '으로선': 8417, '일어나지': 8418, '체중': 8419, '폭풍': 8420, '불가라': 8421, '목문': 8422, '혔': 8423, '따끔': 8424, '암내': 8425, '땀내': 8426, '티뮤': 8427, 'sally': 8428, '모름': 8429, '방잡': 8430, '도등': 8431, '산시': 8432, '페지': 8433, '동강': 8434, '오거리': 8435, '사거리': 8436, 'ㄸㄹㄹ': 8437, '디즈니랜드': 8438, '단축': 8439, '꺠끗했': 8440, '돈까스': 8441, '및건': 8442, '불협': 8443, '깨끗담': 8444, '왜케': 8445, '다재': 8446, '흥미롭다': 8447, '만대': 8448, '쫄쫄': 8449, 'ㅋㅋㅋㅋㅋㅋㅋㅋ': 8450, '초코': 8451, '릿': 8452, '아드님': 8453, '월습니': 8454, '관할': 8455, '정제': 8456, '숟': 8457, '인곳': 8458, '프로젝트': 8459, '시엔': 8460, '쥬니': 8461, '어스': 8462, '쏠쏠하다': 8463, '어질다': 8464, '꺠끗하': 8465, '부등': 8466, '김지선': 8467, '지현': 8468, '여전': 8469, '상속': 8470, '재벌': 8471, '발달': 8472, '왓어': 8473, '연초': 8474, '질서': 8475, '주기도': 8476, '민가': 8477, 'closed': 8478, '거칠하다': 8479, '룸퀄리티': 8480, 'dont': 8481, '랜딩관뷰도좋': 8482, '듯호': 8483, 'taxi': 8484, '평생': 8485, '훌룡함': 8486, '시로': 8487, '이러하다': 8488, '닥액': 8489, '철판': 8490, '수돗물': 8491, '오수': 8492, '쪼그라들다': 8493, '가형': 8494, '빈통': 8495, '결부': 8496, '고정용': 8497, '아크릴': 8498, '판도': 8499, '쩌': 8500, '관전': 8501, '쪼그': 8502, '텃새': 8503, '부리고': 8504, '유라': 8505, '길고양이': 8506, '전개': 8507, '동물': 8508, '보심': 8509, '드하': 8510, '사이니': 8511, '웰스': 8512, '튀어나오다': 8513, '야자나무': 8514, '좃겠어': 8515, '데판': 8516, '유희': 8517, '랜딩조식': 8518, '순환': 8519, '간촐': 8520, '궁글러다님': 8521, '댕기': 8522, '소름': 8523, '돋다': 8524, '황홀하다': 8525, '약취': 8526, '불이익': 8527, '개끗': 8528, '익스': 8529, '안일하다': 8530, '숨좀트': 8531, '헤엄': 8532, '굵다': 8533, '콧물들': 8534, '하늘거리다': 8535, '비참하다': 8536, '창결': 8537, '자격지심': 8538, '커넥팅룸타입': 8539, '인스타그램': 8540, '만세': 8541, '중개': 8542, '올바로': 8543, '기입': 8544, '몸부림': 8545, '쓸모없다': 8546, '뺑뺑': 8547, '카락': 8548, '뻥튀기': 8549, '사투': 8550, '동음': 8551, 'latecheck': 8552, 'makeup': 8553, '세팅해': 8554, '댓': 8555, '교가': 8556, '여리다': 8557, '혼족': 8558, '누웨': 8559, '개수대': 8560, '술해': 8561, '물샘': 8562, '가선': 8563, '양념': 8564, '툭숙': 8565, '조급': 8566, '페브리즈': 8567, '좀깨림': 8568, '베룸': 8569, '싸드': 8570, '만도': 8571, 'ㅂㄷㅅㅅ': 8572, '득템': 8573, '고도보': 8574, '갘': 8575, '운항': 8576, '길쪽': 8577, '거림박': 8578, '낙지': 8579, '끔': 8580, '빕스': 8581, '심각': 8582, '고갱': 8583, '오크': 8584, '휘황': 8585, '찬란하다': 8586, '객일': 8587, '허용': 8588, '동침': 8589, '함물': 8590, '깨끗항': 8591, '트런트': 8592, '전전긍긍': 8593, '찌뿌등': 8594, '큐티': 8595, '브룸': 8596, '룸변경': 8597, '호감': 8598, '시기하다': 8599, '함관': 8600, '재수': 8601, '껄끄러웠어': 8602, '발휘': 8603, '월화': 8604, '븨페': 8605, '마라도나': 8606, '명정': 8607, '부둥켜안다': 8608, '부적합': 8609, '격추': 8610, '매립': 8611, '상판': 8612, '누런때': 8613, '편앞': 8614, '렁꿀렁': 8615, '나크': 8616, '핸펀': 8617, '달그락': 8618, '잠듬침대': 8619, '킬수없는': 8620, '킬수': 8621, '깨끗치': 8622, '작았슴': 8623, '변두리': 8624, '과실': 8625, '한바탕': 8626, '베렸': 8627, '점지': 8628, '일동': 8629, '막심': 8630, '조성은': 8631, '타가': 8632, '선수단': 8633, '상용': 8634, '제각각': 8635, '누렇거': 8636, '수검': 8637, '사례': 8638, '볼땐': 8639, '없숩니': 8640, '지네': 8641, '설경': 8642, '착색': 8643, '발자국': 8644, '불규칙': 8645, '성재': 8646, '코로': 8647, '식상하다': 8648, 'gymm': 8649, '얼음판': 8650, '십상': 8651, '탈의': 8652, '깨끗판': 8653, '장창': 8654, '선보이다': 8655, '았었어': 8656, '객관': 8657, '빅쿠폰': 8658, '프론트앞': 8659, '망정': 8660, '상하좌우': 8661, '범람': 8662, '물음': 8663, '합당': 8664, '스누즈': 8665, '정정': 8666, '상기': 8667, '와플': 8668, '온건': 8669, '밀가루': 8670, '익다': 8671, '카팻트': 8672, '글래드': 8673, '프리드': 8674, '거제': 8675, '횡단보도': 8676, '호넬': 8677, '광관': 8678, '어두워지다': 8679, '좋랐': 8680, '스벅도있': 8681, '가꾸어지다': 8682, '대중성': 8683, '난무': 8684, '호텔트윈': 8685, '씰': 8686, '멱': 8687, '물떼': 8688, '취지': 8689, '개월전': 8690, '조회': 8691, '수요': 8692, '격차': 8693, '함년': 8694, '환경보전': 8695, '감옥': 8696, '음덕': 8697, '댐': 8698, '괜잖아': 8699, '화풍': 8700, '거북하다': 8701, '괞찮았': 8702, '지번': 8703, '이제일': 8704, '장시': 8705, '종습니': 8706, '시보': 8707, '핸폰충전': 8708, '교통체증': 8709, '부터만': 8710, '차임': 8711, '승하': 8712, '초래': 8713, '까딱': 8714, '힐것': 8715, '졸이다': 8716, '중구': 8717, '용지': 8718, '실내장식': 8719, '도데': 8720, '여덟': 8721, '불펺함': 8722, '량': 8723, '주착': 8724, '노말': 8725, '칠성': 8726, '팔성': 8727, '짐둘': 8728, '이나고': 8729, '고철': 8730, '더미': 8731, '선전': 8732, '도면': 8733, '임정': 8734, '티스푼': 8735, '버스정류소': 8736, '끽끽': 8737, '쇼킹': 8738, '날림': 8739, '부피': 8740, '물렁거려': 8741, '삐걱거렸': 8742, '흔드리': 8743, '팔고': 8744, '땟물': 8745, '없다뇨프론트': 8746, '셔': 8747, '장사': 8748, '쌩돈': 8749, '사천원': 8750, '컬컬': 8751, '퍼레이드': 8752, '실온': 8753, '작은둣함': 8754, 'night': 8755, 'party': 8756, '관구': 8757, '과대': 8758, '리만': 8759, '십': 8760, '여개': 8761, '눈높이': 8762, '풀억세스룸': 8763, '반려동물': 8764, '자미': 8765, '중섭': 8766, '나진': 8767, '껄렁': 8768, '면밀하다': 8769, '안덕면': 8770, '잔듸': 8771, '홈트': 8772, '일상생활': 8773, '시불': 8774, '드라이빙': 8775, '산점도': 8776, '브라': 8777, '많았슴': 8778, '눅눅햇엇': 8779, '집어넣다': 8780, '누렇': 8781, '천이': 8782, '바짝': 8783, '긁혔어': 8784, '신화로': 8785, '오감': 8786, '뭣': 8787, '달섯': 8788, '임의': 8789, '더육': 8790, '도체': 8791, '킹안': 8792, '빵쪽': 8793, '리라': 8794, '순회': 8795, '이용헀었': 8796, '보고오다': 8797, '진지하다': 8798, '마땅': 8799, '기반시설': 8800, '강점': 8801, '헹군': 8802, '컨넥티드': 8803, '겨울방학': 8804, '조형': 8805, '친하다': 8806, '우해': 8807, '변등': 8808, '수도권': 8809, '동사': 8810, '이의': 8811, '별루없': 8812, '복럽센터': 8813, '해제': 8814, '대학생': 8815, '오르락내리락': 8816, '재물': 8817, '면은': 8818, '라운딩': 8819, '삭감': 8820, '주바': 8821, '단시간': 8822, '쉬리': 8823, '투오': 8824, '범벅': 8825, '급작': 8826, '임표': 8827, '영문': 8828, '성해': 8829, '일밤': 8830, '워층': 8831, '살초등': 8832, '코브': 8833, '제품군': 8834, '그린카드': 8835, '허무맹랑': 8836, '샤브': 8837, '깨끗쇘음': 8838, '인심': 8839, '앵': 8840, '통보': 8841, '댐뷰': 8842, '강조': 8843, '웃기': 8844, '셋톱박스': 8845, '밖혀': 8846, '원격': 8847, '등지': 8848, '공기조절': 8849, '나누어지다': 8850, '주어지다': 8851, '사하다': 8852, '가왜': 8853, '콜라': 8854, '봉지': 8855, '버글버글': 8856, '재빠르다': 8857, 'love': 8858, '히트': 8859, '냉골': 8860, '쿵층': 8861, '도배지': 8862, '실추': 8863, '부귀': 8864, '치렁치렁': 8865, '조립': 8866, '진상': 8867, '찜찜': 8868, '고타': 8869, '쭈글쭈글하다': 8870, '무후': 8871, '대시': 8872, '관문': 8873, '괜시리': 8874, '어렴풋하다': 8875, '홍콩': 8876, '보급': 8877, '소로': 8878, '전기자전거': 8879, '접대': 8880, '연회': 8881, 'bath': 8882, 'tub': 8883, '찻길': 8884, '독채뭘': 8885, '노면': 8886, '착시': 8887, '사진빨': 8888, '비포장도로': 8889, '쥬변': 8890, '지조': 8891, '불리하다': 8892, '거무': 8893, '죽죽': 8894, '이음': 8895, '용면': 8896, '도기': 8897, '좋겠슴다': 8898, '아쉬없슴': 8899, '군요': 8900, '함일': 8901, '물르다': 8902, '인방': 8903, 'didnt': 8904, 'auto': 8905, 'stop': 8906, 'cozy': 8907, 'comfortable': 8908, '셋탑': 8909, '애니메이션': 8910, '부항': 8911, 'west': 8912, '인터': 8913, '테리어': 8914, '넓적하다': 8915, '그랫음': 8916, '꽃샘추위': 8917, '롸': 8918, '죽여주다': 8919, '갑갑': 8920, '엄척': 8921, '없엇음': 8922, '짔어': 8923, '젛았습': 8924, '코기': 8925, '새벽녁': 8926, '피고': 8927, '음질': 8928, '딜리': 8929, '서남': 8930, '업무용스': 8931, '내용물': 8932, '보물섬': 8933, '깜': 8934, '손볼': 8935, '미진하다': 8936, '일보': 8937, 'needs': 8938, '나날이': 8939, '힘주다': 8940, '구들': 8941, '변상': 8942, '도두': 8943, '룸이': 8944, '유원지': 8945, '구식': 8946, '랏': 8947, '그램': 8948, '경청': 8949, '에브리': 8950, '띵': 8951, '가모': 8952, '글램핑': 8953, '글로벌': 8954, '강도': 8955, '음수': 8956, '실쪽': 8957, '씨리얼': 8958, '선착': 8959, '더우기': 8960, '도인': 8961, '굴곡': 8962, '산내': 8963, '요양': 8964, '휭함': 8965, '방모': 8966, '렸': 8967, '노노': 8968, '깨지다': 8969, '두번쨰': 8970, '끼어들다': 8971, '괨': 8972, '몇장': 8973, '슉슉슈슉슈발럼': 8974, '하르방': 8975, '질식': 8976, '꿀렁거려서옆': 8977, '어질어질하다': 8978, '유니크': 8979, '향기롭다': 8980, '콤팩트': 8981, '콘크리트': 8982, '녹음기': 8983, '일거리': 8984, '비시': 8985, '동계': 8986, '제방': 8987, '육장': 8988, '착감겨': 8989, '대형차': 8990, '회등': 8991, 'partial': 8992, 'ocean': 8993, '코너룸': 8994, '꼽히다': 8995, '애둘': 8996, '겨냥': 8997, '돗데기': 8998, '편룸': 8999, '옆칸': 9000, '견과류': 9001, '환복실': 9002, '꼽는': 9003, '핫핫': 9004, '낌': 9005, '가식': 9006, '뭐합': 9007, '릉': 9008, '두둔': 9009, '도서관': 9010, '마로': 9011, '생리통': 9012, '진통제': 9013, '버겁다': 9014, '스스피닝': 9015, '울프': 9016, '졸띠': 9017, '면안': 9018, '수산물': 9019, '미비': 9020, '콩알': 9021, '망쪽': 9022, '테잎': 9023, '비참': 9024, '스탭들넓직넓직': 9025, '미타': 9026, '뷰그': 9027, '진득진득': 9028, '알레르기비염': 9029, 'ㅇㅣ': 9030, '평평하다': 9031, '훤하': 9032, '로우': 9033, '끌어안다': 9034, '창틈': 9035, '오드': 9036, '세탁물': 9037, '지하공간': 9038, '륨': 9039, '두꺼비': 9040, '조처': 9041, '살작': 9042, '퇴비': 9043, '도톰하다': 9044, '여닫이': 9045, '클라우드': 9046, '깨름칙햇어': 9047, '알칼리': 9048, '누전': 9049, '백만원': 9050, '극적': 9051, '게다': 9052, '조용조': 9053, '옆층': 9054, '해부': 9055, '껍니': 9056, '린다': 9057, '제주대학교': 9058, '법성포': 9059, '쉈': 9060, '노천온천': 9061, '추락': 9062, '격리': 9063, '불티': 9064, '불합리': 9065, 'american': 9066, '것임': 9067, '뒷걸음': 9068, '괞': 9069, '리싱폼': 9070, '소린': 9071, '쩌렁쩌렁': 9072, '입금': 9073, '예방접종': 9074, '판단력': 9075, '연출': 9076, '이끼': 9077, 'ㅂㅎ': 9078, '맘에듭니': 9079, '만조': 9080, '다닥': 9081, '실루엣': 9082, '라야': 9083, '테두리': 9084, '원피스': 9085, '바로엽': 9086, '길목': 9087, '벨런스': 9088, '모슬포점': 9089, '생맥잔': 9090, '식인': 9091, '몰랏을텐데저': 9092, '땟물투성었': 9093, '섭': 9094, '지코': 9095, '근교': 9096, '성리': 9097, '뻣': 9098, '주더': 9099, '입로': 9100, '명예': 9101, '대물': 9102, '길옆': 9103, '죄인': 9104, '소피아': 9105, '송풍기': 9106, '쌩뚱': 9107, '몌': 9108, '쏟다': 9109, '발리다': 9110, '무뚝뚝햐': 9111, '몰리': 9112, '펜스': 9113, '타올대다': 9114, '이천원': 9115, '해운대': 9116, '앑': 9117, '몰랐슴': 9118, '흙': 9119, '학생': 9120, '업장': 9121, '별루였슴': 9122, '댓글': 9123, '무거': 9124, '햏': 9125, '양산': 9126, '나빳어': 9127, '돟아': 9128, '지킴': 9129, '뻣구룸': 9130, '부들부들하다': 9131, '숲안': 9132, '스텐드형': 9133, '호로': 9134, '형님': 9135, '갈색': 9136, '출퇴근시간': 9137, '땅값': 9138, '연착': 9139, '하래': 9140, '매진': 9141, '괜춘층': 9142, '경사지다': 9143, '비굿': 9144, '고용': 9145, '묘미': 9146, '시셜': 9147, '갑임': 9148, '자시다': 9149, '폴딩도어': 9150, '종웝': 9151, '임무': 9152, '은연중': 9153, '사료': 9154, '할떄': 9155, '신도시': 9156, '그르셔': 9157, '뒤틀리다': 9158, '남낮': 9159, '까칠하다': 9160, '요란': 9161, '사가다': 9162, '음식재료': 9163, '시즘': 9164, '불쑥': 9165, '알짝': 9166, '도식': 9167, '브래드': 9168, '엄니': 9169, '술술': 9170, '음지': 9171, '편식': 9172, '핫밀': 9173, '괞찮었': 9174, '배열': 9175, '아리송하다': 9176, '주도': 9177, '커피한잔': 9178, '캬피': 9179, '간쪽': 9180, '안대': 9181, '룸뿐': 9182, '스릴': 9183, '말랑말랑하다': 9184, '일어나고': 9185, '직계': 9186, '일텐데': 9187, '하든': 9188, '크레인': 9189, '발굽': 9190, '내공': 9191, '대적': 9192, '닳다': 9193, '뷰롤': 9194, '리젠시': 9195, '텐데요': 9196, '과로': 9197, '참가자': 9198, '옥돌방': 9199, '불허': 9200, '접지': 9201, '급수': 9202, '뎄던': 9203, '별미': 9204, '선곡': 9205, '위서': 9206, '문고': 9207, '동영상': 9208, '핫스팟': 9209, '초반': 9210, '괞찮': 9211, '좁았슴': 9212, '상하': 9213, '밟혔구': 9214, '분홍색': 9215, '암모니아': 9216, '일별': 9217, '일률': 9218, 'mxm': 9219, '임대': 9220, '당일치기': 9221, '위힌': 9222, '못햇찌': 9223, '수익금': 9224, '기부': 9225, 'ㅊㅊ': 9226, 'house': 9227, 'keeper': 9228, '니지': 9229, '있읗': 9230, '산림': 9231, '로자': 9232, '한라대': 9233, '학과': 9234, '성기': 9235, '구성만': 9236, '옥상정원': 9237, '어션뷰': 9238, '지방법원': 9239, '뷴': 9240, '세븐': 9241, '아늑햇다': 9242, '쵝오였듬': 9243, '피어': 9244, '밤낮': 9245, 'standard': 9246, '직워': 9247, '도로로': 9248, '쬬': 9249, '이상정': 9250, '올핸': 9251, '마구잡이': 9252, '섞이다': 9253, '자쿠지풀': 9254, '넗어': 9255, '보송보송': 9256, '툼': 9257, '호캉스여행': 9258, '점바': 9259, '처사': 9260, '어찌어찌': 9261, '엇으': 9262, '간간': 9263, '재택근무': 9264, '자랑거리다': 9265, '짜증스럽다': 9266, '단팥빵': 9267, '단호박': 9268, '대정': 9269, '상당': 9270, '진전': 9271, 'ㅐㄹ': 9272, '음류': 9273, '월임': 9274, '무의미하다': 9275, '소실': 9276, '빵꾸': 9277, '전형': 9278, '유리하다': 9279, '들러붙어서': 9280, '수증기': 9281, '있었슴배': 9282, '수하물': 9283, '임자': 9284, '안성': 9285, '맞춤': 9286, '무료함': 9287, '진짜루': 9288, '울상': 9289, '빼빼로': 9290, '이반': 9291, '갈비찜': 9292, '테니스': 9293, '상쇄할': 9294, '원안': 9295, '바리바리': 9296, 'cvs': 9297, 'near': 9298, 'bybakery': 9299, 'next': 9300, 'door': 9301, 'bread': 9302, 'fantasticbut': 9303, 'think': 9304, 'paid': 9305, 'too': 9306, 'much': 9307, 'thatresort': 9308, 'said': 9309, 'rate': 9310, 'can': 9311, 'discounted': 9312, 'month': 9313, 'advanced': 9314, 'reservationkeep': 9315, 'mind': 9316, '물회': 9317, '나또': 9318, '외형': 9319, '쌍': 9320, '동남': 9321, '팔팔': 9322, '송당리': 9323, '가시리': 9324, '연주가': 9325, '샆어': 9326, '허기지다': 9327, '바쿠': 9328, '물위': 9329, '충만': 9330, '미네': 9331, '앞마당': 9332, '림': 9333, '대포주상절리': 9334, '뽀송': 9335, '닭장': 9336, '룸간': 9337, '쁀': 9338, '좋고번쨰': 9339, '이입': 9340, 'difficult': 9341, 'question': 9342, 'disliked': 9343, 'anything': 9344, '슴슴': 9345, '분들껜': 9346, '자극': 9347, '성으': 9348, '구미': 9349, 'visited': 9350, 'business': 9351, 'trip': 9352, 'impressed': 9353, 'kind': 9354, 'but': 9355, 'level': 9356, 'particularly': 9357, 'me': 9358, 'soft': 9359, 'silky': 9360, 'fabulous': 9361, 'food': 9362, 'la': 9363, 'carte': 9364, 'menu': 9365, 'spicy': 9366, 'seafood': 9367, 'noodle': 9368, 'called': 9369, 'emperor': 9370, 'jjambbong': 9371, 'momoyama': 9372, 'grilled': 9373, 'hairtail': 9374, 'fish': 9375, 'korean': 9376, 'great': 9377, 'as': 9378, 'well': 9379, 'strongly': 9380, '도수영': 9381, '호인': 9382, '수나': 9383, '학원': 9384, '방학기': 9385, '표준': 9386, '화이트와인': 9387, '반한': 9388, '양보': 9389, '밤바람': 9390, '풋': 9391, '영양': 9392, '김민규': 9393, '키우다': 9394, '뜻뜻': 9395, '첨벙첨벙월': 9396, '부켕': 9397, '정취': 9398, '백퍼센트': 9399, '구포': 9400, '시안': 9401, '제목': 9402, '필수요소': 9403, '킵': 9404, '권유': 9405, 'ㅜㅜㅜ': 9406, '섬득': 9407, '푸르다': 9408, '병행': 9409, '지배': 9410, '방제': 9411, '버섯': 9412, '양파': 9413, '서인': 9414, '뻗다': 9415, '귤향': 9416, '불규칙하다': 9417, '곤충': 9418, '지름': 9419, '중재': 9420, '물수건': 9421, '함몰': 9422, '테이크': 9423, '침류': 9424, '그날그날': 9425, '좋겠죵': 9426, '우의': 9427, '간편': 9428, '에서만도': 9429, '취함': 9430, '흘전': 9431, '묜': 9432, 'cleanliness': 9433, '쌀쌀': 9434, '머물럿던': 9435, '것음': 9436, '신도심': 9437, '잇엇습니': 9438, '요코': 9439, '대한항공': 9440, '반심': 9441, '반의': 9442, '아쉬웟던점': 9443, '에어비앤비': 9444, '말똥': 9445, '집들이': 9446, '놀랏습': 9447, '부두': 9448, '손세정제': 9449, '스트': 9450, '안내서': 9451, '알코올': 9452, '시간표': 9453, '골동': 9454, '괜춘합니': 9455, '바닥룸': 9456, '힐때': 9457, '머그': 9458, '곳층': 9459, '현상': 9460, '물렁': 9461, '항행': 9462, '게더': 9463, '안막': 9464, '킵합니': 9465, '음산하다': 9466, '열기구': 9467, '묵음': 9468, '청취': 9469, '묵살': 9470, '분식점': 9471, '늘어놓다': 9472, '갈수록': 9473, '정화': 9474, '브릿지': 9475, '아트': 9476, '뭐뷰': 9477, '경고': 9478, '배차': 9479, '남짓': 9480, '찢기다': 9481, '먀우': 9482, '짐작': 9483, '승차': 9484, '하차': 9485, '딋쪽': 9486, '밧데리': 9487, '베테': 9488, '답습': 9489, '다가서다': 9490, '아싑': 9491, '취어': 9492, '쩔어요': 9493, '갠츈': 9494, '로베': 9495, '만두': 9496, '오아시스': 9497, '스툴': 9498, '한다해': 9499, '무한정': 9500, '등프런트': 9501, '헤주': 9502, '풀방': 9503, '것그': 9504, '흠결': 9505, '파스타': 9506, '번쨰': 9507, '도차': 9508, '백학': 9509, '협소한것': 9510, 'ㅋㅋㅋㅋㅋㅋㅋㅋㅋㅋㅋㅋㅋㅋㅋㅋㅋㅋㅋㅋㅋㅋㅋㅋㅋㅋㅋㅋㅋㅋㅋㅋㅋㅋㅋㅋㅋㅋㅋㅋㅋㅋ': 9511, '발렛및': 9512, '누구껀': 9513, '탑픽': 9514, '신입': 9515, '전구': 9516, '으면': 9517, '리그': 9518, '으스스': 9519, '비상구': 9520, '소용': 9521, '순전하다': 9522, 'gv': 9523, '안제': 9524, '베뤼굿': 9525, '원두': 9526, '비굿담': 9527, '번달': 9528, '번감': 9529, '황사': 9530, '드라이브인': 9531, '싱잉볼': 9532, '자녁': 9533, '스토퍼': 9534, '선심': 9535, '헷갈닙니': 9536, '리버': 9537, '고분': 9538, '뒷길': 9539, '기면': 9540, '멸젓': 9541, '구경만': 9542, '숖': 9543, '부드러움': 9544, '입퇴실': 9545, '지수': 9546, '상승': 9547, '중딸램': 9548, '고을': 9549, '챔피언': 9550, '챔피온': 9551, '여담': 9552, '소지': 9553, 'activity': 9554, '젖': 9555, '부풀다': 9556, '박도': 9557, '울타리': 9558, '카를': 9559, '일반인': 9560, '여인': 9561, '꼬알': 9562, '촌': 9563, '이튿': 9564, '성화': 9565, '안중': 9566, '아우성': 9567, '가스렌지': 9568, '싱': 9569, '출감': 9570, '아이스링크': 9571, '착즙': 9572, '제철': 9573, '진영': 9574, '침착하다': 9575, '김익환': 9576, '슬립': 9577, '도해': 9578, '숙바시설': 9579, '쥬얼': 9580, 'ㄹㅏ': 9581, '슺': 9582, '자질구레하다': 9583, '톱': 9584, '우위': 9585, '트렌디': 9586, '완전체': 9587, '비실이': 9588, '빠': 9589, '앉은자리': 9590, '분동': 9591, '깨씃합니': 9592, '방방': 9593, '기용': 9594, '박햇': 9595, '햇구': 9596, '왓능데': 9597, '애들왈': 9598, '친금': 9599, '자부': 9600, '라마나': 9601, '착': 9602, '좋슴대': 9603, '듯꿈': 9604, '한식룸': 9605, '소변기': 9606, '에어': 9607, '좋고룸': 9608, '다르닼': 9609, '갖췆': 9610, '여강': 9611, '지애': 9612, '거동': 9613, '빅사': 9614, '산채': 9615, '구고': 9616, '나른하다': 9617, '룸컨디': 9618, '녀석': 9619, '마직막': 9620, '흐뭇힌': 9621, '특화된': 9622, '청소년': 9623, '촣답니': 9624, '보따리': 9625, '코트라': 9626, '맛봉': 9627, '비쥬': 9628, '녹지': 9629, '이용할꼬': 9630, '신년': 9631, '피아니스트': 9632, '선율': 9633, '격조': 9634, '동산': 9635, '쪼오끔': 9636, '도마': 9637, '벙크테라스룸': 9638, '리초': 9639, '트라고': 9640, '고자': 9641, '잔잔하다': 9642, '팝송': 9643, '나하': 9644, '틔': 9645, '페밀리투읜': 9646, '힙니': 9647, '빗방울': 9648, '식기구': 9649, '사물인터넷': 9650, '여간': 9651, '일반도': 9652, '글세': 9653, '정답': 9654, '늘어서다': 9655, '내장': 9656, '러티': 9657, '스케이트': 9658, '윌드': 9659, '죅도': 9660, '다툼': 9661, 'feat': 9662, '쓰리룸': 9663, '레이저': 9664, '팍팍': 9665, '해설': 9666, '랍스터': 9667, '똭': 9668, '아시': 9669, '서머젯': 9670, '찬스': 9671, '낙점': 9672, '개킹': 9673, '일당': 9674, '빗자루': 9675, '전하': 9676, '젲': 9677, '컨버스': 9678, '예비': 9679, '전력': 9680, '펀안히': 9681, '며느리': 9682, '심사숙고': 9683, '뉴얼': 9684, '베인': 9685, '넷째': 9686, '벙커룸': 9687, '재방': 9688, 'full': 9689, 'size': 9690, 'kitchen': 9691, '매운탕': 9692, '물밖': 9693, '본의': 9694, '드립': 9695, '수령': 9696, '젯': 9697, '여횅': 9698, '국내외': 9699, '겊': 9700, '훌륭모': 9701, '상쇄하': 9702, '함옆': 9703, '땡초': 9704, '콧구멍': 9705, '결로': 9706, '방외': 9707, '네임드': 9708, '재사용': 9709, '재낌': 9710, '미리보기': 9711, '의욕': 9712, '상실': 9713, '지폐': 9714, '혼합': 9715, '숙식': 9716, '힝드네': 9717, '함요': 9718, '나인': 9719, '행인': 9720, '즘': 9721, '풀앞': 9722, '이용학': 9723, '둥글다': 9724, '원탁': 9725, '인세팅': 9726, '준방': 9727, '프로트': 9728, '관록': 9729, '고삼': 9730, '원내': 9731, '호등': 9732, '힌남노': 9733, '해갈': 9734, '기우뚱': 9735, '지세': 9736, 'sub': 9737, '방뭐': 9738, '좋앟슴': 9739, '스펙': 9740, '원가': 9741, 'fk': 9742, '안레그리': 9743, '포레스트': 9744, '거니': 9745, 'nd': 9746, '사랑스럽다': 9747, '느무느무': 9748, '경기': 9749, '찿기': 9750, '발끈': 9751, 'ive': 9752, 'ever': 9753, 'stayed': 9754, 'jejuare': 9755, 'planning': 9756, 'around': 9757, 'seongsan': 9758, 'sunrise': 9759, 'definitely': 9760, 'would': 9761, 'place': 9762, '약제': 9763, '초대': 9764, '은공': 9765, '비천': 9766, '좋습니댱': 9767, '헤헤': 9768, '꾸욱': 9769, '서문시장': 9770, '개업': 9771, '도거': 9772, '댱': 9773, '뽁뽁이': 9774, '신문지': 9775, '깜깜': 9776, '술안주': 9777, 'ㅇㅔ': 9778, '토': 9779, '위차': 9780, '전과': 9781, '짐보': 9782, '준점': 9783, '이지나': 9784, '이요': 9785, '다지': 9786, '젛네': 9787, '마뮤리': 9788, 'ㅖㅣ': 9789, '움굿': 9790, '자차': 9791, '기반': 9792, '씽씽': 9793, '퓨': 9794, '푹잠': 9795, '바조': 9796, '짤': 9797, '비양도': 9798, '몸보': 9799, '신용': 9800, '구내식당': 9801, '흠집': 9802, '잔치국수': 9803, '그로': 9804, '비평': 9805, '애월항': 9806, '청량감': 9807, '머물껄': 9808, '빼기': 9809, '스티브': 9810, '레종': 9811, '틀기': 9812, 'ㅎㄷㄷ': 9813, '폐가': 9814, '신비': 9815, '고합': 9816, '이제야': 9817, '천체': 9818, '낫띵': 9819, '마왕': 9820, '젛습니': 9821, '더블클릭': 9822, '한고비': 9823, 'really': 9824, 'enjoyed': 9825, 'staying': 9826, '안란': 9827, '김정미': 9828, '무방': 9829, '채광': 9830, '만이라도': 9831, '넗': 9832, '세면장': 9833, '이시고': 9834, '참작': 9835, '청기': 9836, 'ㅆㅅㅌㅊ': 9837, '중딩': 9838, '고딩': 9839, '관종': 9840, '집합소': 9841, '서나': 9842, '단체손닝': 9843, '경적': 9844, '유로': 9845, '말고기': 9846, '떨이': 9847, '동서남북': 9848, '귀걸이': 9849, '완죤': 9850, '너므': 9851, '꼽으': 9852, '스킬': 9853, '화법': 9854, '진가': 9855, '차끌': 9856, '못느꼇어': 9857, '정봉': 9858, '낭': 9859, '동백': 9860, '시발': 9861, '나갓': 9862, '밖애': 9863, '난해': 9864, '츨봉': 9865, '실질': 9866, '태양': 9867, '편했슴': 9868, 'mano': 9869, '왐전': 9870, '해치다': 9871, 'gx': 9872, '이별': 9873, '직원드': 9874, '안쓰럽다': 9875, '붕어빵': 9876, '웟음': 9877, '도적': 9878, '감쪽': 9879, '아랫쪽': 9880, '비빔냉면': 9881, '모튼': 9882, '목욕실': 9883, '부활': 9884, '불의': 9885, '발기': 9886, '쏜살같다': 9887, '사라봉': 9888, '프레스티지': 9889, '정경': 9890, '옆뷰': 9891, '엔틱함': 9892, '섬뷰': 9893, '발도': 9894, '운동선수': 9895, '맛사지': 9896, '등장': 9897, '프론트방': 9898, '발렛주차': 9899, '류등': 9900, '전고지': 9901, '각개': 9902, '식물': 9903, '쪼끔놀램': 9904, '일장': 9905, '애쓰다': 9906, '쿠임': 9907, '배우자': 9908, '백만불': 9909, '포근좋아': 9910, '재정': 9911, '마약': 9912, '했느': 9913, '괺': 9914, '노쇼': 9915, '민트': 9916, '기웃기웃': 9917, '티셔츠': 9918, '뷔볘': 9919, '괜참': 9920, '호숫가': 9921, '큐티브킹': 9922, '북쪽': 9923, '굴': 9924, 'ㅎㅎㅎㅎㅎㅎㅎ': 9925, '피맥': 9926, '마심': 9927, '엮': 9928, '웟구': 9929, '영안': 9930, '매콤': 9931, '된장국': 9932, '칼칼': 9933, '물레방아': 9934, '산혹': 9935, '혼': 9936, '쾌히': 9937, '구사일생': 9938, '컨티션': 9939, '메트': 9940, '대모': 9941, '다채롭': 9942, '경로': 9943, '무수': 9944, '페스트리': 9945, '단돈': 9946, '대한민국': 9947, '선거': 9948, '국밥': 9949, '분포': 9950, '후뚜루': 9951, '마뚜루': 9952, '배리': 9953, '바람막이': 9954, '돠': 9955, '소식': 9956, '강습': 9957, '체내': 9958, '수화물': 9959, '저울': 9960, '깊숙하다': 9961, '삥삥': 9962, '자외선': 9963, '상업지구': 9964, '사두': 9965, 'js': 9966, '외돌': 9967, '불턱': 9968, '수로': 9969, '숙수': 9970, '교감신경': 9971, '부교감신경': 9972, '슉슈슈슈슉': 9973, '스넥바': 9974, '경첩': 9975, '스위트임': 9976, '슾속': 9977, '시끌럽': 9978, '비소': 9979, 'esg': 9980, '실천': 9981, '리들리': 9982, '현황': 9983, '마일리지': 9984, '시아': 9985, '시원스럽다': 9986, '원한경': 9987, '관점': 9988, '맨손': 9989, '먹엇네': 9990, '구별': 9991, '추움': 9992, '관챦았어': 9993, '물웅덩이': 9994, '하겟씁니': 9995, '와아': 9996, '쉬엇네': 9997, '비사': 9998, '못햐': 9999, '여차하면': 10000, '아싀웠던점': 10001, '기보': 10002, '유치원': 10003, 'seaview': 10004, '멘션': 10005, '아치': 10006, '보가': 10007, '넘맛잇엇어': 10008, '민족': 10009, '예래동': 10010, '히노끼': 10011, '찡': 10012, '괜찬았': 10013, '몽환': 10014, '민속': 10015, '구만': 10016, '폐교': 10017, '애인': 10018, '로트': 10019, '자쿠지외': 10020, '알기': 10021, '숱': 10022, '어거지': 10023, '엉엉': 10024, '에레베이터': 10025, '아쉅': 10026, '에코랜드': 10027, '영문과': 10028, '한문': 10029, '이턴': 10030, '명타': 10031, '초과': 10032, '달빛': 10033, '내비': 10034, '천사': 10035, '향뷰': 10036, '실만': 10037, '만취': 10038, '객인': 10039, '배정인': 10040, '시리다': 10041, '고제': 10042, '성숙하다': 10043, '난해하다': 10044, '소정방폭포': 10045, '매끈': 10046, '셔츠': 10047, '언뜻': 10048, '칙솔': 10049, '열거': 10050, '싸이트': 10051, '상차림': 10052, '됫': 10053, '소망': 10054, '에서보다': 10055, '타코': 10056, '토마토쥬스': 10057, '월컴': 10058, '투명하다': 10059, '불순': 10060, '조오오오': 10061, '미영': 10062, '라스': 10063, '부둣': 10064, '맵다': 10065, '월성': 10066, '전역': 10067, 'basalt': 10068, '아부오름': 10069, '촉': 10070, '어떡하다': 10071, '뷰룸': 10072, '굿재': 10073, '리조': 10074, '식객': 10075, '실상': 10076, '태모': 10077, '객실트윈': 10078, '낮밤': 10079, '도랑': 10080, '매루': 10081, '해수': 10082, '욕망': 10083, '대박나다': 10084, '방산': 10085, '자연휴양림': 10086, '모해': 10087, '옹': 10088, '오방': 10089, '베이스': 10090, '따로따로': 10091, '싱글싱글': 10092, '옷사': 10093, '요구르트': 10094, '밸런스': 10095, '모트': 10096, '엑세스': 10097, '골다': 10098, '트러스': 10099, '스넥': 10100, '밀': 10101, '민박': 10102, '소방': 10103, '맘킨더': 10104, '인터젯': 10105, '선점': 10106, '퍼실리티': 10107, '질리': 10108, '굿샷': 10109, '람': 10110, '폼크랜징등': 10111, '확실': 10112, '동해': 10113, '아위': 10114, '자쿠지킹': 10115, '킬로미터': 10116, '괜차나': 10117, '송구': 10118, '방전': 10119, '대라뇨': 10120, '들락날락': 10121, '굿드': 10122, '프런토': 10123, '전압': 10124, '오르락': 10125, '내리락': 10126, '영화상': 10127, '마지먁': 10128, '일조': 10129, '간날': 10130, '두봉': 10131, '슈도': 10132, '억양': 10133, '구요성': 10134, '루이비통': 10135, '좋을숭': 10136, '북서쪽': 10137, '스토리': 10138, '핵심': 10139, '선녀': 10140, '횟': 10141, '도란': 10142, '조찬': 10143, '된장': 10144, '신동진': 10145, '지대': 10146, '샤려': 10147, '적음': 10148, 'laundry': 10149, '가타': 10150, '만화': 10151, '설렁탕': 10152, '에쁘': 10153, '물총': 10154, '직급': 10155, '단촐햇다': 10156, '갈등': 10157, '직선': 10158, '떤다': 10159, '애플': 10160, '상당수': 10161, '신간': 10162, '환복': 10163, 'jmt': 10164, '창뷰': 10165, '거만': 10166, '볠': 10167, '실별': 10168, '헀습니': 10169, '교윧': 10170, '작전': 10171, '요욕': 10172, '오상': 10173, '이상희': 10174, '빵점': 10175, '금호': 10176, '었구': 10177, '주차건물': 10178, '죽도': 10179, '왕따': 10180, '싱겁다': 10181, '이풍': 10182, '툭': 10183, '증': 10184, '화사': 10185, '다투다': 10186, '웅': 10187, '성웅': 10188, '쿡탑': 10189, '커피집': 10190, '소산': 10191, '멀엇어': 10192, '사오': 10193, '소속': 10194, '홈바': 10195, '얼릉': 10196, '젓': 10197, '소유': 10198, '사투리': 10199, '메롱임': 10200, '헬임': 10201, '점앞': 10202, '협소했던': 10203, '대행': 10204, '집입로': 10205, '소홀하다': 10206, '팻말': 10207, '골목길': 10208, '고성일': 10209, '블루스': 10210, '촬영장': 10211, '어절': 10212, '불가피': 10213, '협소한점': 10214, '복잡': 10215, '피크타임': 10216, '동유럽': 10217, '창장': 10218, '주창': 10219, '삘': 10220, '상대로': 10221, '몰려오다': 10222, '찬밥': 10223, '산반': 10224, '피쉬': 10225, '샹그리': 10226, '이승철': 10227, '수급': 10228, '회차': 10229, '턴할곳': 10230, '핑크': 10231, '기둥': 10232, '식별': 10233, '칼라': 10234, '가오니': 10235, '투명인간': 10236, '들엏머': 10237, '엏으': 10238, '않앟을까': 10239, '맞이방': 10240, '침식': 10241, '버턴': 10242, '도개': 10243, '돈값': 10244, '밟혔던': 10245, '좋앟': 10246, '룸청결': 10247, '초대형': 10248, '티브이': 10249, '쫄깃': 10250, '연고': 10251, '조말': 10252, '한라봉': 10253, '서생': 10254, '야근': 10255, '김소윤': 10256, '레이드': 10257, '예절': 10258, '원조': 10259, '윙윙': 10260, '밖뷰': 10261, '구비오': 10262, '좋았엉느': 10263, '큰후회할쁜': 10264, '봣슴': 10265, '청사': 10266, '모퉁이': 10267, '비즈': 10268, '룸체': 10269, '태직': 10270, '시티펍': 10271, '들엉': 10272, 'ㅅㅎㅇㄷ': 10273, 'ㅁㄹㅇㅌ': 10274, '먹히다': 10275, '중가넹': 10276, '치키다': 10277, '두드림': 10278, '초창': 10279, '엏': 10280, '헸습니': 10281, '만인': 10282, '수만': 10283, '친구넷': 10284, '커넥션룸': 10285, '왓습니': 10286, '네스프레소': 10287, '테트리스': 10288, '사각사각': 10289, '흘륭하': 10290, '여태껏': 10291, '이붕': 10292, '로랑': 10293, '물컹하다': 10294, '땅바닥': 10295, '체격': 10296, '설쳣다는': 10297, 'inn': 10298, '좋았읓': 10299, '코피': 10300, '커피팟': 10301, '벋다': 10302, '너프': 10303, '단편화': 10304, '라커': 10305, '클렌징': 10306, '주의보': 10307, '성심껏': 10308, '체킹': 10309, '송수': 10310, '오금': 10311, '파노': 10312, '마룸': 10313, '파르마': 10314, '분할': 10315, '비타민': 10316, '천식': 10317, '들썩': 10318, '수경': 10319, '웨이터': 10320, '훨신': 10321, '인스타': 10322, '작성자': 10323, 'under': 10324, 'staffed': 10325, '개도': 10326, '쾨': 10327, '유비': 10328, '서유': 10329, '사철': 10330, '허니': 10331, '반출': 10332, '명칭': 10333, '보온': 10334, '안할껄': 10335, '허허벌판': 10336, '시원찮다': 10337, '부랴부랴': 10338, '조심성': 10339, '방출': 10340, '있어썽': 10341, '믾있음': 10342, '건뭉모양': 10343, '수의': 10344, '세금': 10345, '뺸': 10346, '호텚안': 10347, '탁상': 10348, '얼핏': 10349, '나왓는데': 10350, '낙원': 10351, '레트로': 10352, '휠스': 10353, '짪은것': 10354, '매니아': 10355, '선남선녀': 10356, '상임': 10357, '애로': 10358, '이상인': 10359, '닥으시': 10360, '션해': 10361, '발렛직원': 10362, '점심때': 10363, '흐트러진': 10364, '인터내셔널': 10365, '미개': 10366, '유칼립투스': 10367, '분부': 10368, '하이마트': 10369, '축': 10370, '심정': 10371, '쪼리': 10372, '험하다': 10373, '연수': 10374, '입대': 10375, '안애': 10376, '스탭분': 10377, '불과': 10378, '루틴': 10379, '달기': 10380, '쪽창': 10381, '연주자': 10382, '가우디': 10383, '숨결': 10384, '상징': 10385, '미적': 10386, '살아나다': 10387, '자랑스럽다': 10388, '투윈': 10389, '토피아': 10390, '뛰놀다': 10391, '열탕': 10392, 'ㄷㄷㄷ': 10393, '메론': 10394, '페러다임': 10395, '자쿠지속': 10396, '유영': 10397, '지운영': 10398, '훌룽': 10399, '미가': 10400, '드타': 10401, '뉴타운': 10402, '민희': 10403, '값지다': 10404, '좋쿠': 10405, '행로': 10406, '김미영': 10407, '룸설비스': 10408, '니즈': 10409, '막둥이': 10410, '부세': 10411, '급푹': 10412, '않음프론트': 10413, '않음룸': 10414, '큐리': 10415, '있음샴프': 10416, '볼만함룸': 10417, '버전': 10418, '요통': 10419, '김녕': 10420, '도편': 10421, '파바': 10422, '젠데': 10423, '어쩌겠어': 10424, '항공사': 10425, '잡곡': 10426, '햄스터': 10427, '공항동': 10428, '슈퍼마켓': 10429, '휼룽': 10430, '세프': 10431, '갈리': 10432, '말론': 10433, '두드러지다': 10434, '서명': 10435, '쥐': 10436, '엔간하다': 10437, '장보고': 10438, '대일': 10439, '난점': 10440, '늦추다': 10441, '신선룸': 10442, '섭섭하다': 10443, '뇨': 10444, '앞서다': 10445, '시행': 10446, '나이스': 10447, '늦': 10448, '요원하다': 10449, '심란': 10450, '각층': 10451, '미세하다': 10452, '네이비': 10453, '시르다': 10454, '짜이다': 10455, '열시': 10456, '선뜻': 10457, '메이즈': 10458, '굿감솨메': 10459, '읏': 10460, '동륜': 10461, '굿강추': 10462, '밖에도': 10463, '인승': 10464, '칠만': 10465, '신기다': 10466, '상외국': 10467, '하염없이': 10468, '작은딸': 10469, '로란': 10470, '노티': 10471, '계심': 10472, '달도': 10473, '돌하르방': 10474, '포터': 10475, '사발면': 10476, '어드벤쳐': 10477, '동심': 10478, '뜨이다': 10479, '뮤즈': 10480, '자폐': 10481, '셧던': 10482, '승진': 10483, '선물가게': 10484, '신중하다': 10485, '유쾌하': 10486, '용공': 10487, '음날': 10488, '구체': 10489, '라고만': 10490, '안드네': 10491, '산굼부리': 10492, '숲등': 10493, '저건': 10494, '개끗했어': 10495, '심부름': 10496, '노심초사': 10497, '기원': 10498, '걕실': 10499, '바램음': 10500, '시점': 10501, '젖먹이': 10502, '진향': 10503, '괼것': 10504, '깻': 10505, '주발': 10506, '다믕': 10507, '다사': 10508, '법접': 10509, '재꼇네': 10510, '볼트': 10511, '커피폿': 10512, '고위': 10513, '제육': 10514, '바층': 10515, '국제공항': 10516, '플라넷': 10517, '점즁귝': 10518, '역병': 10519, '전염병': 10520, '시원시원': 10521, '바닥재': 10522, '찢다': 10523, '우그러지다': 10524, '꿀팀': 10525, '납득': 10526, '쨍': 10527, '생애': 10528, '초고': 10529, '선사': 10530, '이자나': 10531, '어뮤니티': 10532, '울트라': 10533, '원더풀': 10534, '뷰티풀': 10535, '톡톡': 10536, '늘어지다': 10537, '스르륵': 10538, '간판': 10539, '케바케': 10540, '번만': 10541, '전방': 10542, '핬었': 10543, '탤로': 10544, '민웅님': 10545, '대여섯': 10546, '전기밥솥': 10547, '놨네': 10548, '형제섬': 10549, '산장': 10550, '송악산': 10551, '없슺니': 10552, '지에스': 10553, '굿굿굿굿': 10554, '여수': 10555, '감사히': 10556, '붸리': 10557, '이대': 10558, '개입': 10559, '연발': 10560, '엇네': 10561, '룸듀': 10562, '내심': 10563, '피톤': 10564, '치드': 10565, '선크림': 10566, '아강': 10567, '영시': 10568, '기내': 10569, '청춘': 10570, '소란하다': 10571, '룸들': 10572, '기안': 10573, '정성껏': 10574, '부자': 10575, '문장': 10576, '쓰래': 10577, 'stressless': 10578, '감격': 10579, '범퍼': 10580, '속결': 10581, '성격': 10582, '궁전': 10583, '밤하늘': 10584, '루이뷔통': 10585, '단추': 10586, '식품점': 10587, '훅박': 10588, '앞당기다': 10589, '후뫼': 10590, '갑직': 10591, '같힌': 10592, '만선': 10593, '강추앞': 10594, '도살': 10595, '내지': 10596, '고막': 10597, '낮뷰': 10598, '밤뷰': 10599, '놀렀어': 10600, '송년회': 10601, '배편': 10602, '티자': 10603, '유아인': 10604, '콜센터': 10605, '괞찮습니': 10606, '결점': 10607, '게시판': 10608, '공평하다': 10609, '듯회': 10610, '아랫목': 10611, '날맨': 10612, '지질': 10613, '외풀': 10614, '간걸': 10615, '방퀄리티': 10616, '따땃': 10617, '롯테': 10618, '이탈': 10619, '리언': 10620, '아따': 10621, '막딩': 10622, '쾌저': 10623, '염': 10624, '요산': 10625, '바글대다': 10626, '코코넛': 10627, '숏컷': 10628, '어떨': 10629, '조선만': 10630, '빠빠이': 10631, '깆춰져': 10632, '요호': 10633, '방긋방긋': 10634, '배당': 10635, '재래': 10636, '점임': 10637, '깐깐하다': 10638, '한가롭다': 10639, '겹치': 10640, '구급': 10641, '감점': 10642, '타이레놀': 10643, 'checkout': 10644, '완주': 10645, '등부': 10646, '서예': 10647, '시나': 10648, '주렴': 10649, '보들보들하다': 10650, '가깝슴니': 10651, '퇘적': 10652, '까지가': 10653, '체육관': 10654, '이라기보단': 10655, '더라구요': 10656, '층로': 10657, '숙취': 10658, '윈터': 10659, '플래터': 10660, 'lush': 10661, '에고': 10662, '한준': 10663, '어두운': 10664, '베이글': 10665, '생쾌': 10666, '순옥': 10667, 'gina': 10668, '삭막': 10669, '두아': 10670, '룸인것': 10671, '짓거리': 10672, '간선': 10673, '같아툐': 10674, '푸나': 10675, '예의': 10676, '컬렉션': 10677, 'dc': 10678, '할하': 10679, '맛잇엇어': 10680, '제수': 10681, '단숨': 10682, '멋셋': 10683, '세로': 10684, '조쿠': 10685, '마싯다': 10686, '여비': 10687, '찬성': 10688, '짝꿍': 10689, '쉬누': 10690, '르쉬누': 10691, '젋': 10692, '로또': 10693, '탈탈': 10694, '니나': 10695, '젛아': 10696, '수석': 10697, '화분': 10698, '회화': 10699, '식물원': 10700, '보행': 10701, '봄날': 10702, '면알': 10703, '맞먹다': 10704, '젬': 10705, '메밀': 10706, '전기레인지': 10707, '뽀뽀': 10708, 'entertainment': 10709, 'location': 10710, '처럼만': 10711, '미니미': 10712, '트윈베드방': 10713, '승인': 10714, '아늗': 10715, '유람선': 10716, '룽': 10717, '에의': 10718, '자가': 10719, '점손': 10720, 'seaes': 10721, '독': 10722, '평화로움': 10723, '이야말로': 10724, '트윈방': 10725, '수두': 10726, '데코': 10727, '금번': 10728, '종사': 10729, '이용헤': 10730, '분비': 10731, '어렴풋이': 10732, '결함': 10733, '얼떨결': 10734, '시진': 10735, '드싼': 10736, '삑': 10737, '반잔': 10738, '보냇네': 10739, '장희진': 10740, '글재주': 10741, '안녕하다': 10742, '소독제': 10743, '낯선': 10744, '단독룸': 10745, '컨텍': 10746, '뽐내다': 10747, '떡볶이': 10748, '왼': 10749, '보구': 10750, '꼬치': 10751, '으로까지': 10752, '날비': 10753, '온대': 10754, 'ace': 10755, '따오다': 10756, '조르다': 10757, '탁월': 10758, '튼튼하다': 10759, '스카치테이프': 10760, '까지와': 10761, '힌지': 10762, '햐초': 10763, 'ㅑ': 10764, 'ㅕㅎㅊ': 10765, '햐패': 10766, 'ㅗㅍ': 10767, '식감': 10768, '정서': 10769, '다야': 10770, '경의': 10771, '주전': 10772, '순간넚': 10773, '스임': 10774, '빈틈': 10775, '구잘': 10776, '할리스': 10777, '방성': 10778, '포포': 10779, '룸도넓': 10780, '곳더': 10781, '정햇': 10782, '명세': 10783, '규용': 10784, '어떻': 10785, '혁신도시': 10786, '덕소': 10787, '확신': 10788, '스킨로션': 10789, '도침': 10790, '움방': 10791, '퀘': 10792, '적하': 10793, '양하다': 10794, '빛과': 10795, '성계': 10796, '좋슴다': 10797, '농구코트': 10798, '김범수': 10799, '더스': 10800, '아숩': 10801, 'ted': 10802, '비웃다': 10803, '어두침침하다': 10804, '찰': 10805, '중추': 10806, '팩키지': 10807, '페셔': 10808, '레이나': 10809, '스피드': 10810, '시술': 10811, '의료': 10812, '아침밥': 10813, '공존': 10814, '거른적': 10815, '기프트샵': 10816, '주차장건물': 10817, '상급': 10818, '선대': 10819, '단기간': 10820, '유지시': 10821, '우산도': 10822, '뮨': 10823, '두렵다': 10824, '손바닥': 10825, '도망가다': 10826, '촣': 10827, '아하': 10828, '방내': 10829, '제나': 10830, '아었다': 10831, '장소라': 10832, '갑지': 10833, '친친': 10834, '방창': 10835, '함온': 10836, '올망졸망': 10837, '쪼꼼': 10838, '꺾다': 10839, '엽채': 10840, '소나무': 10841, '이선화': 10842, '흐믓해': 10843, '함룸': 10844, '두유': 10845, '흰밥': 10846, '카레': 10847, '춘해': 10848, '체킨': 10849, '드를거': 10850, 'ㄴㅓ': 10851, '빠듯함': 10852, '프론트있는': 10853, '정형': 10854, '에너미': 10855, '년를': 10856, '오토메이션': 10857, '이뿌다': 10858, '제빙': 10859, '관광명소': 10860, '성가시다': 10861, '주둥이': 10862, '안팎': 10863, '월컴티': 10864, '헹굴': 10865, '개봉': 10866, '트리어': 10867, '관보': 10868, '안들렷던걸': 10869, '지정도': 10870, 'thanks': 10871, 'roomservice': 10872, '물멍': 10873, '산조': 10874, '놀리다': 10875, '와보렵니': 10876, '둑': 10877, '둘러앉다': 10878, '잔재': 10879, '블들': 10880, '노인': 10881, '구시': 10882, '로망': 10883, '분기': 10884, '정합': 10885, '트리트먼트': 10886, '탁기': 10887, '심란하다': 10888, '보길도': 10889, '백남준': 10890, '여독': 10891, '레벨': 10892, '시마': 10893, '강추추추추추': 10894, '해둘겸': 10895, '재빨리': 10896, '원한': 10897, '데비': 10898, '벙크': 10899, '잠돌': 10900, '뤌씬': 10901, '램블': 10902, '빵맛': 10903, '랴드': 10904, '쿨': 10905, '유자': 10906, '섞다': 10907, '차빼': 10908, '건네주다': 10909, '프라': 10910, '덩물': 10911, '계곡': 10912, '가만두다': 10913, '필로': 10914, '나늘': 10915, '지난주': 10916, '아흔': 10917, '미수': 10918, '수송': 10919, '도자기': 10920, '소주잔': 10921, '집게': 10922, 'led': 10923, '깜빡이다': 10924, '문득': 10925, '선행': 10926, '어느덧다': 10927, '훌쩍': 10928, '오남매': 10929, '초가집': 10930, '남동생': 10931, '한룸': 10932, '세자매': 10933, '점심식사': 10934, '에서와': 10935, '자장면': 10936, '딥슬립': 10937, '소담': 10938, '알리다': 10939, '화창하다': 10940, '원시림': 10941, '욧': 10942, '맜있': 10943, '삼진': 10944, '겟': 10945, '실존': 10946, '놀곳': 10947, '장개': 10948, '성심': 10949, '성의껏': 10950, '밝아지다': 10951, '동행인': 10952, '번쩍': 10953, '끝임': 10954, '씌': 10955, '퍼시픽': 10956, '원선': 10957, 'olle': 10958, 'gsemart': 10959, '깨끗청소': 10960, '옆문': 10961, 'donny': 10962, '확대': 10963, '바람직하다': 10964, '연륜': 10965, '노하우': 10966, '좋았늡니': 10967, '꼬북': 10968, '최곤거': 10969, '잔후': 10970, '올케': 10971, '들여다보다': 10972, '색광': 10973, '고역': 10974, '전보': 10975, '제반': 10976, '올킬했': 10977, '사뭇': 10978, '초순': 10979, '지층': 10980, '에티튜드': 10981, '방덕': 10982, '성향': 10983, '샬롬': 10984, '원더': 10985, '차기': 10986, '용적': 10987, '족치다': 10988, '냉동기': 10989, '눈데': 10990, '하규': 10991, '돌체': 10992, '스토': 10993, '푹씬': 10994, '크리닝': 10995, '강동': 10996, '무렵': 10997, '자유로이': 10998, '극복': 10999, '콩': 11000, '호두': 11001, '건과류': 11002, '터프하': 11003, '평온': 11004, '뱉다': 11005, '피톤치드향': 11006, '강강강': 11007, '어쩌피': 11008, '나용': 11009, '말끔히': 11010, '간조': 11011, '브레이브': 11012, '출고': 11013, '왈종': 11014, '룸별': 11015, '멉니': 11016, 'ㅅㅔ': 11017, '돌보다': 11018, '볼껏': 11019, '렐트': 11020, '맍박': 11021, '장일': 11022, '희망사항': 11023, '별도룸': 11024, '따위': 11025, '딸둘': 11026, '트렌스포머': 11027, '엔터테이먼트': 11028, '김혜': 11029, '신한': 11030, '시간여행': 11031, '순삭': 11032, '조리도': 11033, '복작복작': 11034, '구경해': 11035, '정밀': 11036, '흐믓합니': 11037, '관중': 11038, '동호': 11039, '절묘하다': 11040, '액세스': 11041, '플러시': 11042, '산타클로스': 11043, '복장': 11044, '사탕': 11045, '커밍': 11046, '별장': 11047, '셔툴': 11048, '경우의수': 11049, '고급스넙': 11050, '번쩍번쩍': 11051, '서주': 11052, '할어버': 11053, 'racing': 11054, 'somerset': 11055, 'kids': 11056, '사주다': 11057, '표방': 11058, '츄해': 11059, '요약': 11060, '공제': 11061, '흘륭합니': 11062, '위약금': 11063, '번거러움': 11064, '소고기': 11065, '아고다': 11066, '만족습럽': 11067, '터치패드': 11068, 'lg': 11069, '디오스': 11070, '필립스': 11071, '압력밥솥': 11072, 'l': 11073, '프라이팬': 11074, '솥': 11075, '포크': 11076, '따개': 11077, '필러': 11078, '보디': 11079, '차리다': 11080, '닭죽': 11081, '묵직하다': 11082, '해장': 11083, '하와이': 11084, '주저앉다': 11085, '도렐커피': 11086, '보건': 11087, '멍충': 11088, '시큼하다': 11089, '차관': 11090, '세면실': 11091, '막회': 11092, '어짜피': 11093, '보룡제': 11094, '익숙': 11095, '잔당': 11096, '거렸습': 11097, '탄산음료': 11098, '지구': 11099, '냉각': 11100, '낙엽': 11101, '페티': 11102, '이어폰': 11103, '이쑤시개': 11104, '잡화': 11105, '불문': 11106, '랜딩관쪽': 11107, '스해': 11108, '긴가민가하다': 11109, '국철': 11110, '수능': 11111, '슝': 11112, '수시': 11113, '묵적': 11114, '정맣': 11115, '훈녀': 11116, '대우': 11117, '별보': 11118, 'flushing': 11119, '빼앗기다': 11120, '매뉴얼': 11121, '띠제': 11122, '중화요리': 11123, '운반': 11124, '렌딩관입니': 11125, '기성': 11126, '롭': 11127, '진헹됨': 11128, '청계': 11129, '하릇밤': 11130, '뜨레': 11131, '햐안': 11132, '동창': 11133, '문진': 11134, '이온': 11135, '인룸': 11136, '산적': 11137, '어우려져': 11138, '잎새': 11139, '가로수': 11140, '밙': 11141, '보람': 11142, '한결같이': 11143, '신맛': 11144, '에스프레소': 11145, '목요일': 11146, '바늘': 11147, '링링': 11148, '커지다': 11149, '겆': 11150, '시티홀': 11151, '빙문': 11152, 'fo': 11153, '벼룩시장': 11154, '추숙': 11155, '재미나다': 11156, 'family': 11157, '비리': 11158, 'bad': 11159, '향디': 11160, '뻘쭘헤': 11161, 'q': 11162, '같습니딘': 11163, '초겨울': 11164, '부적절': 11165, '한복': 11166, '정장': 11167, '하객': 11168, '주머니': 11169, '카메라': 11170, '집단': 11171, '고거': 11172, '에버랜드': 11173, '게쉬': 11174, '상탠': 11175, '수칙': 11176, '온전': 11177, '서성이다': 11178, '애프터눈': 11179, '도느': 11180, '중부': 11181, '일수록': 11182, '숍들': 11183, '빙기': 11184, '서프라이즈': 11185, '이욜': 11186, '투자가': 11187, '조곤조곤': 11188, '탄탄하다': 11189, '타르트': 11190, '음반': 11191, '신세계': 11192, '도드라지다': 11193, '방공': 11194, '밥통': 11195, '가오': 11196, '대상': 11197, '과분': 11198, '올려다보다': 11199, '반짝반짝': 11200, '랜딩관랜딩관': 11201, '이애': 11202, '시험': 11203, '진걸': 11204, '초봄': 11205, '셋등': 11206, '업글후': 11207, '권해': 11208, '다그': 11209, '랜당관': 11210, '의류': 11211, '패미리': 11212, '무작정': 11213, '보송하다': 11214, '맵': 11215, 'judy': 11216, 'g': 11217, '식은땀': 11218, '응급처치': 11219, '호전': 11220, '초조하다': 11221, '여름방학': 11222, '기획전': 11223, '사태': 11224, '웟으': 11225, '초콜렛': 11226, '조언': 11227, '클레이': 11228, '시브': 11229, '업글해': 11230, '치이다': 11231, '이타': 11232, '된장찌개': 11233, '관조': 11234, '우동': 11235, '블렌디드': 11236, '지난해': 11237, '꼬이다': 11238, '가정은': 11239, '약해지다': 11240, '래야': 11241, '게젤': 11242, '루맘': 11243, '홈피': 11244, '지침': 11245, '교통사고': 11246, '합의금': 11247, '갇': 11248, '나아가다': 11249, '꼬옥': 11250, '아낌없이': 11251, '슉': 11252, '가버리다': 11253, '스넘조쿠': 11254, '재기': 11255, '이남기': 11256, '완존': 11257, '는담': 11258, '굴거리': 11259, '띠용': 11260, '오믈랫': 11261, '미안': 11262, '욬': 11263, '쑝': 11264, '달컹거리': 11265, '승합차': 11266, '여탐': 11267, '바루': 11268, '아전': 11269, '따먹다': 11270, '귤나무': 11271, '기량': 11272, '집밖': 11273, '장남': 11274, '밀면': 11275, '코쿤': 11276, '탁원': 11277, '미술': 11278, '주잔': 11279, '자쿠지가': 11280, '짤막하다': 11281, '트윈침대방': 11282, '별자리': 11283, '우영': 11284, '취했네': 11285, '일어서다': 11286, '만으로는': 11287, '업계': 11288, '위반': 11289, '데일': 11290, '번전': 11291, '볼법': 11292, '닌텐도': 11293, '스윗룸': 11294, '해물탕': 11295, '유초등': 11296, '워트파크': 11297, '스플래시': 11298, '강원도': 11299, '인파': 11300, '폐관': 11301, '레이싱': 11302, '체험학습': 11303, '자연도': 11304, '호캉스였어': 11305, '듭': 11306, '실력': 11307, '플러스': 11308, '두려움': 11309, '원풀이': 11310, '안식처': 11311, '아이미': 11312, '취학': 11313, '방침': 11314, '쾌': 11315, '분대기': 11316, '유아렌탈': 11317, '줏대': 11318, '일석이조': 11319, '세팅된': 11320, '순찰': 11321, '스럽지도': 11322, '주룩주룩': 11323, '치구': 11324, '간장': 11325, '어트렉션': 11326, '뽀로로': 11327, '단언': 11328, '구한': 11329, '기리': 11330, '트랜딩': 11331, '세균': 11332, '후불': 11333, '됟것': 11334, '기박': 11335, '녀': 11336, '젓병': 11337, '포즈': 11338, 'ㅠㅠㅠㅠㅠㅠㅠ': 11339, '배우': 11340, '연보': 11341, '열도': 11342, '연락처': 11343, '잔한': 11344, '자칫하면': 11345, '운전대': 11346, '안부': 11347, '경황': 11348, '김희정': 11349, '멍하다': 11350, '무언': 11351, '층프론': 11352, '차우': 11353, '사발': 11354, '술판': 11355, '스팀': 11356, '순차': 11357, '오돌룸': 11358, '우측': 11359, '염전': 11360, '애월읍': 11361, '전투': 11362, '인증샷': 11363, '반고흐': 11364, '좋았슴다': 11365, '드롭존': 11366, '호화롭다': 11367, '살비': 11368, '선캑지': 11369, '옥수수': 11370, '중위': 11371, '캄캄하다': 11372, '브루어': 11373, '관번': 11374, '반기': 11375, '퀄리티에랜딩관': 11376, '무지개': 11377, '어머님께': 11378, '호객': 11379, '껑': 11380, '캐비어': 11381, '에그베네딕트': 11382, '해물': 11383, '관자': 11384, '파피': 11385, '주임': 11386, '청량하다': 11387, '쿨러': 11388, '중립': 11389, '쩐내등': 11390, '데넘': 11391, '딸부잣집': 11392, '박의': 11393, '여실': 11394, '기지': 11395, 'anna': 11396, '하여금': 11397, '블로거': 11398, '캐슬': 11399, '추차': 11400, '공식': 11401, '손자': 11402, '메이킹': 11403, '뉘일': 11404, '탄성': 11405, '금능': 11406, '초점': 11407, '스위트로텔': 11408, '힘내다': 11409, '고객감동': 11410, '둥': 11411, '재방뮨': 11412, '명문': 11413, '지역별': 11414, '눈요기': 11415, 'goooooooood': 11416, '또르르': 11417, '쉬이': 11418, '용모': 11419, '보물': 11420, '화이트데이': 11421, '서두': 11422, '독침': 11423, '공통': 11424, '신혼집': 11425, '이진': 11426, '뷰등': 11427, '낭패': 11428, '미고': 11429, '랭': 11430, '계장': 11431, '섹션': 11432, '국자': 11433, '사느랗다': 11434, '되새기다': 11435, '빠리': 11436, '주변인': 11437, '명불허전': 11438, '컨시련': 11439, '진수': 11440, '교정': 11441, '사위': 11442, 'web': 11443, '발신': 11444, '룸온리': 11445, '사르르': 11446, '빡셀': 11447, '유투브': 11448, '부리': 11449, '제주도숙소': 11450, '네덜란드': 11451, '나열하다': 11452, '연박할껄': 11453, '풀북': 11454, 'goooood': 11455, 'ㅌ': 11456, '편하레': 11457, '요게': 11458, '두리번거리다': 11459, 'spa': 11460, '쟁일': 11461, '룸컨': 11462, '풍부': 11463, '황': 11464, '슬어': 11465, '휴게': 11466, '눌': 11467, '어트랙드': 11468, '밥상': 11469, '택한건': 11470, '척척': 11471, '뜨뜻하다': 11472, '신생': 11473, '듭니당': 11474, '스무': 11475, '운동장': 11476, '삼삼오오': 11477, '하천': 11478, 'hans': 11479, '일정하다': 11480, '혼잣말': 11481, '시행착오': 11482, '방뷰': 11483, '보름': 11484, '꿀파른것같아': 11485, '만반': 11486, '오렵니': 11487, '열광하다': 11488, '어행': 11489, '깨뜻': 11490, '샤방샤방': 11491, '공주': 11492, '리장': 11493, '올여름': 11494, '부수': 11495, '요것': 11496, '중딸': 11497, '즘핫': 11498, '미디움': 11499, '미기': 11500, '딸왈': 11501, '증후군': 11502, '승강장': 11503, '트위룸': 11504, '머금': 11505, '장부근': 11506, '롤러': 11507, '파운데이션': 11508, '금새': 11509, '리드': 11510, '탭': 11511, '꼬박꼬박': 11512, '서리': 11513, '여럽번': 11514, '놀래기': 11515, '있으먄': 11516, '상복': 11517, '긴머리': 11518, '철저': 11519, '태닝': 11520, '훤해': 11521, '스타즈': 11522, '남매': 11523, '뛰어들다': 11524, '숨소리': 11525, '팔로': 11526, '한수': 11527, '카버되': 11528, '구배': 11529, '한화': 11530, '플레닛': 11531, '아멘': 11532, '철제': 11533, '명분': 11534, '룸슈페리어룸': 11535, '차근하다': 11536, '웨딩촬영': 11537, '그립다': 11538, '화난': 11539, '부끄럽다': 11540, '넑': 11541, '일후': 11542, '눈쌀': 11543, '세워지다': 11544, '새신랑': 11545, '호캉스답': 11546, '컷습니': 11547, '쏙드네': 11548, '헨리': 11549, '고치시': 11550, '항공권': 11551, '금일': 11552, '우울하다': 11553, '끝장': 11554, '따님': 11555, '헷': 11556, '줄어듬': 11557, '키위': 11558, '자몽': 11559, '금토일': 11560, '접견': 11561, '이클립스': 11562, '당구': 11563, '에게만': 11564, '서브': 11565, '합판': 11566, '제작': 11567, '이맘때': 11568, '결기': 11569, '진표': 11570, 'ㄱ': 11571, 'ㅑㅁ': 11572, 'ㅅㅑ': 11573, '찿아보': 11574, '없름': 11575, '과열': 11576, '덧문': 11577, '엄빠': 11578, '비지터': 11579, '윤지': 11580, '배인': 11581, '잔치': 11582, '환호': 11583, '감싸다': 11584, '나타내다': 11585, '방응': 11586, '솔로': 11587, '쏠쏠': 11588, '출현': 11589, '방중': 11590, '옆면': 11591, '좌향': 11592, '벽쪽': 11593, '궂어': 11594, '요모조모': 11595, '고담': 11596, '회정': 11597, '증가': 11598, '해메': 11599, '비중': 11600, '라텍스': 11601, '훠': 11602, '얼씬': 11603, '종았': 11604, '앵콜': 11605, '외치다': 11606, 'ㅓㅇ': 11607, 'ㅓㅁ': 11608, '개안쿠': 11609, '작가': 11610, '부지런하다': 11611, '녹음': 11612, '퀄': 11613, '이상조': 11614, '그니': 11615, '점외': 11616, '이하고': 11617, '럭': 11618, '좀일': 11619, '상쇄': 11620, '선책': 11621, '꾼': 11622, '대전': 11623, '호젓하다': 11624, '감방': 11625, '크랩': 11626, '차마': 11627, '프로필': 11628, '로이': 11629, '키다': 11630, '면전': 11631, '서해안': 11632, '크시': 11633, '획기': 11634, '데뷰': 11635, '겄': 11636, '국제': 11637, '편견': 11638, 'ㅜㅜㅜㅜㅜㅜ': 11639, '등전': 11640, '나왓어': 11641, '삼각김밥': 11642, '달라붙다': 11643, '고속': 11644, '지극히': 11645, '견해': 11646, '목도': 11647, '그랜드피아노': 11648, '청소면': 11649, '비슷': 11650, '롤링': 11651, '쪽뷰': 11652, '파재': 11653, '풀림': 11654, '주된': 11655, '조화롭다': 11656, '곤혹': 11657, '살며시': 11658, '감시': 11659, '과함': 11660, '보입닏': 11661, '깨꿋하': 11662, '기철': 11663, '깻잎': 11664, '채운': 11665, '철임': 11666, '웠으': 11667, '에티켓': 11668, '잉들': 11669, '눈살': 11670, '공허하다': 11671, '꼬랑내': 11672, '로디': 11673, '지하철': 11674, '호선': 11675, '서대문역': 11676, '마포': 11677, '수퍼마켓': 11678, '자쿠지보': 11679, '개망': 11680, '부속품': 11681, '장난없다': 11682, '으악': 11683, '어보': 11684, '잣음': 11685, '갅탁': 11686, '굿룸': 11687, '밈망함': 11688, '첫쨋': 11689, '쨋날': 11690, '외창': 11691, '트롤': 11692, '간소': 11693, 'continental': 11694, 'from': 11695, 'large': 11696, 'windowvery': 11697, 'friendly': 11698, 'workerstwo': 11699, 'thumbs': 11700, 'cnn': 11701, 'news': 11702, 'nhk': 11703, 'ps': 11704, '졎': 11705, '하리': 11706, '루안': 11707, '개성': 11708, '마다의': 11709, '간략하다': 11710, '처갓집': 11711, '가닥': 11712, '관음': 11713, '사행': 11714, '베풀다': 11715, '띤': 11716, '조잘조잘': 11717, '무었': 11718, '최고신': 11719, '묵던': 11720, '치료': 11721, 'dvd': 11722, '서재': 11723, '덜컥': 11724, '기고': 11725, '원스톱': 11726, '회수': 11727, '점좀': 11728, '잊혀지다': 11729, '보드': 11730, '숲향': 11731, '버팔로윙': 11732, '스무디': 11733, '채근': 11734, '심경': 11735, '고누': 11736, '공실이': 11737, '흐뭇하다': 11738, '기뼜습니': 11739, '정결': 11740, '테디베어': 11741, '드래곤': 11742, '레지던스형': 11743, '확띰': 11744, '부딧쳐': 11745, '스크레치': 11746, '보호대': 11747, '깇': 11748, '광활하다': 11749, '디너뷔폐': 11750, '처방': 11751, '윈': 11752, '롯': 11753, '현생': 11754, '끝단': 11755, '농협': 11756, '동측': 11757, '움층': 11758, '여장': 11759, '옹기종기': 11760, '부처': 11761, '물온': 11762, '이왕': 11763, '클라우디아': 11764, '잠실': 11765, '베트남': 11766, '플래쉬': 11767, '목격': 11768, '국가': 11769, '번개': 11770, '한가하다': 11771, '주얼': 11772, '경쾌하다': 11773, '싣다': 11774, '막연하다': 11775, '방목': 11776, '부지역': 11777, 'sweet': 11778, '쪼가리': 11779, '포아': 11780, '밎': 11781, '고압': 11782, '차근차근': 11783, '었다': 11784, '솔님': 11785}\n"
     ]
    }
   ],
   "source": [
    "print(tokenizer.word_index)"
   ]
  },
  {
   "cell_type": "code",
   "execution_count": 24,
   "metadata": {},
   "outputs": [
    {
     "name": "stdout",
     "output_type": "stream",
     "text": [
      "11785\n",
      "6473\n"
     ]
    }
   ],
   "source": [
    "threshold = 3\n",
    "total_cnt = len(tokenizer.word_index)\n",
    "rare_cnt = 0\n",
    "total_freq = 0\n",
    "rare_freq = 0\n",
    "for key, value in tokenizer.word_counts.items():\n",
    "    total_freq = total_freq + value\n",
    "    if(value < threshold):\n",
    "        rare_cnt = rare_cnt + 1\n",
    "        rare_freq = rare_freq + value\n",
    "print(total_cnt) \n",
    "print(rare_cnt) "
   ]
  },
  {
   "cell_type": "code",
   "execution_count": 25,
   "metadata": {},
   "outputs": [
    {
     "name": "stdout",
     "output_type": "stream",
     "text": [
      "5313\n"
     ]
    }
   ],
   "source": [
    "vocab_size = total_cnt -rare_cnt + 1\n",
    "print(vocab_size)"
   ]
  },
  {
   "cell_type": "code",
   "execution_count": 26,
   "metadata": {},
   "outputs": [],
   "source": [
    "tokenizer = Tokenizer(vocab_size)\n",
    "tokenizer.fit_on_texts(X_train) \n",
    "X_train = tokenizer.texts_to_sequences(X_train)\n",
    "X_test = tokenizer.texts_to_sequences(X_test)"
   ]
  },
  {
   "cell_type": "code",
   "execution_count": 27,
   "metadata": {},
   "outputs": [
    {
     "data": {
      "text/plain": [
       "['CNN_R_0607_tokenizer.h5']"
      ]
     },
     "execution_count": 27,
     "metadata": {},
     "output_type": "execute_result"
    }
   ],
   "source": [
    "import joblib\n",
    "joblib.dump(tokenizer, 'CNN_R_0607_tokenizer.h5')"
   ]
  },
  {
   "cell_type": "code",
   "execution_count": 28,
   "metadata": {},
   "outputs": [
    {
     "name": "stdout",
     "output_type": "stream",
     "text": [
      "[[10, 17, 14, 28, 1, 25, 10, 3, 1, 50, 10, 3, 1, 80, 22, 81, 434, 3556, 4, 1030, 22, 749, 80, 22, 81], [3557, 341, 4, 1192, 110, 141, 154, 9, 105, 5, 3557, 341, 9, 554, 4, 263, 2017, 844, 3558, 1567, 457, 5], [259, 8, 43, 11]]\n"
     ]
    }
   ],
   "source": [
    "print(X_train[:3])"
   ]
  },
  {
   "cell_type": "code",
   "execution_count": 29,
   "metadata": {},
   "outputs": [],
   "source": [
    "y_train = np.array(train_data['label'][:])\n",
    "y_test = np.array(test_data['label'][:])"
   ]
  },
  {
   "cell_type": "code",
   "execution_count": 30,
   "metadata": {},
   "outputs": [],
   "source": [
    "max_len = max(len(l) for l in X_train)"
   ]
  },
  {
   "cell_type": "code",
   "execution_count": 31,
   "metadata": {},
   "outputs": [
    {
     "data": {
      "text/plain": [
       "82.73060648801128"
      ]
     },
     "execution_count": 31,
     "metadata": {},
     "output_type": "execute_result"
    }
   ],
   "source": [
    "cnt = 0\n",
    "for s in X_train:\n",
    "    if(len(s) <= 30):\n",
    "        cnt = cnt + 1\n",
    "(cnt / len(X_train))*100"
   ]
  },
  {
   "cell_type": "code",
   "execution_count": 32,
   "metadata": {},
   "outputs": [],
   "source": [
    "from tensorflow.keras.preprocessing.sequence import pad_sequences\n",
    "X_train = pad_sequences(X_train, maxlen = max_len)\n",
    "X_test = pad_sequences(X_test, maxlen = max_len)"
   ]
  },
  {
   "cell_type": "code",
   "execution_count": 33,
   "metadata": {},
   "outputs": [
    {
     "name": "stdout",
     "output_type": "stream",
     "text": [
      "Model: \"sequential\"\n",
      "_________________________________________________________________\n",
      " Layer (type)                Output Shape              Param #   \n",
      "=================================================================\n",
      " embedding (Embedding)       (None, 481, 100)          531300    \n",
      "                                                                 \n",
      " conv1d (Conv1D)             (None, 481, 64)           32064     \n",
      "                                                                 \n",
      " conv1d_1 (Conv1D)           (None, 481, 32)           8224      \n",
      "                                                                 \n",
      " conv1d_2 (Conv1D)           (None, 481, 16)           1552      \n",
      "                                                                 \n",
      " max_pooling1d (MaxPooling1D  (None, 96, 16)           0         \n",
      " )                                                               \n",
      "                                                                 \n",
      " flatten (Flatten)           (None, 1536)              0         \n",
      "                                                                 \n",
      " dense (Dense)               (None, 1)                 1537      \n",
      "                                                                 \n",
      "=================================================================\n",
      "Total params: 574,677\n",
      "Trainable params: 574,677\n",
      "Non-trainable params: 0\n",
      "_________________________________________________________________\n"
     ]
    }
   ],
   "source": [
    "#<CNN+1>\n",
    "import tensorflow as tf\n",
    "from tensorflow.keras.models import Sequential\n",
    "from tensorflow.keras.layers import Embedding, Conv1D,Dense, Flatten, MaxPooling1D\n",
    "from tensorflow.keras.callbacks import EarlyStopping,ModelCheckpoint\n",
    "from tensorflow.keras.models import load_model\n",
    "\n",
    "model = Sequential()\n",
    "model.add(Embedding(vocab_size, 100, input_length =max_len))\n",
    "model.add(Conv1D(filters = 64, kernel_size = 5, padding ='same',activation = 'relu', strides = 1))\n",
    "model.add(Conv1D(filters = 32, kernel_size = 4, padding ='same',activation = 'relu', strides = 1))\n",
    "model.add(Conv1D(filters = 16, kernel_size = 3, padding ='same',activation = 'relu', strides = 1))\n",
    "model.add(MaxPooling1D(5))\n",
    "model.add(Flatten())\n",
    "model.add(Dense(1, activation='sigmoid'))\n",
    "# #model.compile(optimizer=tf.keras.optimizers.Adam(),\n",
    "#               loss = tf.keras.losses.BinaryCrossentropy(),\n",
    "#               metrics = [tf.keras.metrics.BinaryAccuracy(name='accuracy')])\n",
    "#model.compile(loss = 'binary_crossentropy', optimizer ='adam', metrics=['acc'])\n",
    "model.compile(loss = tf.keras.losses.BinaryCrossentropy(), optimizer =tf.keras.optimizers.Adam(), metrics=['acc'])\n",
    "model.summary()"
   ]
  },
  {
   "cell_type": "code",
   "execution_count": 34,
   "metadata": {},
   "outputs": [
    {
     "name": "stdout",
     "output_type": "stream",
     "text": [
      "Epoch 1/10\n",
      "222/222 [==============================] - ETA: 0s - loss: 0.6366 - acc: 0.6300\n",
      "Epoch 1: val_acc improved from -inf to 0.41354, saving model to CNN_R_0607_model.h5\n",
      "222/222 [==============================] - 9s 23ms/step - loss: 0.6366 - acc: 0.6300 - val_loss: 0.9514 - val_acc: 0.4135\n",
      "Epoch 2/10\n",
      "220/222 [============================>.] - ETA: 0s - loss: 0.5541 - acc: 0.7080\n",
      "Epoch 2: val_acc improved from 0.41354 to 0.49422, saving model to CNN_R_0607_model.h5\n",
      "222/222 [==============================] - 5s 20ms/step - loss: 0.5540 - acc: 0.7080 - val_loss: 0.9740 - val_acc: 0.4942\n",
      "Epoch 3/10\n",
      "219/222 [============================>.] - ETA: 0s - loss: 0.4818 - acc: 0.7550\n",
      "Epoch 3: val_acc did not improve from 0.49422\n",
      "222/222 [==============================] - 4s 20ms/step - loss: 0.4824 - acc: 0.7543 - val_loss: 1.3020 - val_acc: 0.4243\n",
      "Epoch 4/10\n",
      "221/222 [============================>.] - ETA: 0s - loss: 0.4087 - acc: 0.8001\n",
      "Epoch 4: val_acc did not improve from 0.49422\n",
      "222/222 [==============================] - 5s 20ms/step - loss: 0.4087 - acc: 0.8003 - val_loss: 2.0292 - val_acc: 0.3904\n",
      "Epoch 5/10\n",
      "221/222 [============================>.] - ETA: 0s - loss: 0.3347 - acc: 0.8425\n",
      "Epoch 5: val_acc did not improve from 0.49422\n",
      "222/222 [==============================] - 5s 21ms/step - loss: 0.3349 - acc: 0.8424 - val_loss: 2.4351 - val_acc: 0.4561\n",
      "Epoch 6/10\n",
      "222/222 [==============================] - ETA: 0s - loss: 0.2686 - acc: 0.8784\n",
      "Epoch 6: val_acc did not improve from 0.49422\n",
      "222/222 [==============================] - 6s 27ms/step - loss: 0.2686 - acc: 0.8784 - val_loss: 2.5974 - val_acc: 0.4770\n"
     ]
    },
    {
     "data": {
      "text/plain": [
       "<keras.callbacks.History at 0x2bb857b4310>"
      ]
     },
     "execution_count": 34,
     "metadata": {},
     "output_type": "execute_result"
    }
   ],
   "source": [
    "es = EarlyStopping(monitor='val_loss', mode='min',patience=5)\n",
    "mc = ModelCheckpoint('CNN_R_0607_model.h5', monitor='val_acc',\n",
    "mode='max', verbose=1, save_best_only=True)\n",
    "model.fit(X_train, y_train, batch_size = 64, epochs=10,validation_split=0.2, callbacks=[es, mc])"
   ]
  },
  {
   "cell_type": "code",
   "execution_count": 35,
   "metadata": {},
   "outputs": [
    {
     "name": "stdout",
     "output_type": "stream",
     "text": [
      "248/248 [==============================] - 2s 6ms/step - loss: 0.9334 - acc: 0.4984\n"
     ]
    },
    {
     "data": {
      "text/plain": [
       "[0.9334031343460083, 0.4984242916107178]"
      ]
     },
     "execution_count": 35,
     "metadata": {},
     "output_type": "execute_result"
    }
   ],
   "source": [
    "loaded_model = load_model('CNN_R_0607_model.h5')\n",
    "loaded_model.evaluate(X_test, y_test)"
   ]
  },
  {
   "cell_type": "code",
   "execution_count": 36,
   "metadata": {},
   "outputs": [],
   "source": [
    "import math\n",
    "def review_predict(new_sentence):\n",
    "    new_sentence = okt.morphs(new_sentence, stem=True) # 토큰화\n",
    "    new_sentence = [word for word in new_sentence if not word in stopwords] # 불용어 제거\n",
    "    encoded = tokenizer.texts_to_sequences([new_sentence]) #정수 인코딩\n",
    "    pad_new = pad_sequences(encoded, maxlen = max_len) # 패딩\n",
    "    score = float(model.predict(pad_new)) # 예측\n",
    "    if( score < 0.1): \n",
    "        print(f\"예상 평점 {math.trunc(score* 10)}점 -> 매우 부정 리뷰입니다.\\n\")\n",
    "    elif( score >= 0.1 and score < 0.2): \n",
    "        print(f\"예상 평점 {math.trunc(score* 10)}점 -> 매우 부정 리뷰입니다.\\n\")\n",
    "    elif(score >= 0.2 and score < 0.3):\n",
    "        print(f\"예상 평점 {math.trunc(score* 10)}점 -> 부정 리뷰입니다.\\n\")\n",
    "    elif(score >= 0.3 and score < 0.4):\n",
    "        print(f\"예상 평점 {math.trunc(score* 10)}점 -> 부정 리뷰입니다.\\n\")\n",
    "    elif(score >= 0.4 and score < 0.5):\n",
    "        print(f\"예상 평점 {math.trunc(score* 10)}점 -> 부정 리뷰입니다.\\n\")\n",
    "    elif(score >= 0.5 and score < 0.6):\n",
    "        print(f\"예상 평점 {math.trunc(score* 10)}점 -> 보통 리뷰입니다.\\n\")\n",
    "    elif(score >= 0.6 and score < 0.7):\n",
    "        print(f\"예상 평점 {math.trunc(score* 10)}점 -> 보통 리뷰입니다.\\n\")\n",
    "    elif(score >= 0.7 and score < 0.8):\n",
    "        print(f\"예상 평점 {math.trunc(score* 10)}점 -> 긍정 리뷰입니다.\\n\")\n",
    "    elif(score >= 0.8 and score <= 0.9):\n",
    "        print(f\"예상 평점 {math.trunc(score* 10)}점 -> 긍정 리뷰입니다.\\n\")\n",
    "    elif(score > 0.9 and score <= 1.0):\n",
    "        print(f\"예상 평점 {math.trunc(score* 10)}점 -> 매우 긍정 리뷰입니다.\\n\")\n",
    "    # else:\n",
    "    #     print(f\"예상 평점 {math.trunc(score* 10)}점 -> 긍정 리뷰입니다.~\\n\")\n",
    "    #print(score)"
   ]
  },
  {
   "cell_type": "code",
   "execution_count": 37,
   "metadata": {},
   "outputs": [
    {
     "name": "stdout",
     "output_type": "stream",
     "text": [
      "1/1 [==============================] - 0s 136ms/step\n",
      "예상 평점 0점 -> 매우 부정 리뷰입니다.\n",
      "\n"
     ]
    }
   ],
   "source": [
    "review_predict('공간이 넓어서 셋이 지내기도 불편하지 않았다')"
   ]
  },
  {
   "cell_type": "code",
   "execution_count": 38,
   "metadata": {},
   "outputs": [
    {
     "name": "stdout",
     "output_type": "stream",
     "text": [
      "1/1 [==============================] - 0s 18ms/step\n",
      "예상 평점 3점 -> 부정 리뷰입니다.\n",
      "\n"
     ]
    }
   ],
   "source": [
    "review_predict('2박동안 조식메뉴가 똑같았다는게 조금 아쉽습니다')"
   ]
  },
  {
   "cell_type": "code",
   "execution_count": 39,
   "metadata": {},
   "outputs": [
    {
     "name": "stdout",
     "output_type": "stream",
     "text": [
      "1/1 [==============================] - 0s 19ms/step\n",
      "예상 평점 2점 -> 부정 리뷰입니다.\n",
      "\n"
     ]
    }
   ],
   "source": [
    "review_predict('1층이 좀 답답하게 느껴졌음')"
   ]
  },
  {
   "cell_type": "code",
   "execution_count": 40,
   "metadata": {},
   "outputs": [
    {
     "name": "stdout",
     "output_type": "stream",
     "text": [
      "1/1 [==============================] - 0s 18ms/step\n",
      "예상 평점 1점 -> 매우 부정 리뷰입니다.\n",
      "\n"
     ]
    }
   ],
   "source": [
    "review_predict('공간이 좁아서 혼자 지내기도 불편했다')"
   ]
  },
  {
   "cell_type": "code",
   "execution_count": 41,
   "metadata": {},
   "outputs": [
    {
     "name": "stdout",
     "output_type": "stream",
     "text": [
      "1/1 [==============================] - 0s 57ms/step\n",
      "예상 평점 5점 -> 보통 리뷰입니다.\n",
      "\n"
     ]
    }
   ],
   "source": [
    "review_predict('공간은 좁지만 혼자 지내기 충분했다')"
   ]
  },
  {
   "cell_type": "code",
   "execution_count": 42,
   "metadata": {},
   "outputs": [
    {
     "name": "stdout",
     "output_type": "stream",
     "text": [
      "1/1 [==============================] - 0s 19ms/step\n",
      "예상 평점 3점 -> 부정 리뷰입니다.\n",
      "\n"
     ]
    }
   ],
   "source": [
    "review_predict('수영장이 좋고 단지내에 할 수 있는 것이 많았다')"
   ]
  },
  {
   "cell_type": "code",
   "execution_count": 43,
   "metadata": {},
   "outputs": [
    {
     "name": "stdout",
     "output_type": "stream",
     "text": [
      "1/1 [==============================] - 0s 19ms/step\n",
      "예상 평점 3점 -> 부정 리뷰입니다.\n",
      "\n"
     ]
    }
   ],
   "source": [
    "review_predict('신회월드는 숙소도 좋지만 식당가가 훌륭합니다.한식당 선은 매우 훌륭한데. 육전 강추입니다.')"
   ]
  },
  {
   "cell_type": "code",
   "execution_count": 44,
   "metadata": {},
   "outputs": [
    {
     "name": "stdout",
     "output_type": "stream",
     "text": [
      "1/1 [==============================] - 0s 18ms/step\n",
      "예상 평점 3점 -> 부정 리뷰입니다.\n",
      "\n"
     ]
    }
   ],
   "source": [
    "review_predict('잘 선택했다는 좋은 하루였습니다')"
   ]
  },
  {
   "cell_type": "code",
   "execution_count": 45,
   "metadata": {},
   "outputs": [
    {
     "name": "stdout",
     "output_type": "stream",
     "text": [
      "1/1 [==============================] - 0s 40ms/step\n",
      "예상 평점 2점 -> 부정 리뷰입니다.\n",
      "\n"
     ]
    }
   ],
   "source": [
    "review_predict('해외나가지 않아도 호텔안에만 있으니 해외 간 느낌이 들고 시설이 좋아서 편안')"
   ]
  },
  {
   "cell_type": "code",
   "execution_count": 46,
   "metadata": {},
   "outputs": [
    {
     "name": "stdout",
     "output_type": "stream",
     "text": [
      "1/1 [==============================] - 0s 18ms/step\n",
      "예상 평점 5점 -> 보통 리뷰입니다.\n",
      "\n"
     ]
    }
   ],
   "source": [
    "review_predict('사이트와 다르게 조식은 제공 되지 않습니다. 해당 사항을 사전에 고지해주지 않습니다.')"
   ]
  },
  {
   "cell_type": "code",
   "execution_count": 47,
   "metadata": {},
   "outputs": [
    {
     "name": "stdout",
     "output_type": "stream",
     "text": [
      "1/1 [==============================] - 0s 18ms/step\n",
      "예상 평점 2점 -> 부정 리뷰입니다.\n",
      "\n"
     ]
    }
   ],
   "source": [
    "review_predict('청소가 아쉽습니다. 객실 및 침구 청소는 하시는데 화장실 및 욕조 청소는 안 되어있더라구요.')"
   ]
  },
  {
   "cell_type": "code",
   "execution_count": 48,
   "metadata": {},
   "outputs": [
    {
     "name": "stdout",
     "output_type": "stream",
     "text": [
      "1/1 [==============================] - 0s 19ms/step\n",
      "예상 평점 0점 -> 매우 부정 리뷰입니다.\n",
      "\n"
     ]
    }
   ],
   "source": [
    "review_predict('직원들의 서비스, 주방장님의 정갈한 음식. 분위기도 조용하고.퀄러티는 초특급 5급인데요.')"
   ]
  },
  {
   "cell_type": "code",
   "execution_count": 49,
   "metadata": {},
   "outputs": [
    {
     "name": "stdout",
     "output_type": "stream",
     "text": [
      "1/1 [==============================] - 0s 83ms/step\n",
      "예상 평점 9점 -> 매우 긍정 리뷰입니다.\n",
      "\n"
     ]
    }
   ],
   "source": [
    "review_predict('아주 깨끗하고 청결하며 주인장이 너무 너무 친절함')"
   ]
  }
 ],
 "metadata": {
  "kernelspec": {
   "display_name": "base",
   "language": "python",
   "name": "python3"
  },
  "language_info": {
   "codemirror_mode": {
    "name": "ipython",
    "version": 3
   },
   "file_extension": ".py",
   "mimetype": "text/x-python",
   "name": "python",
   "nbconvert_exporter": "python",
   "pygments_lexer": "ipython3",
   "version": "3.9.16"
  },
  "orig_nbformat": 4
 },
 "nbformat": 4,
 "nbformat_minor": 2
}
