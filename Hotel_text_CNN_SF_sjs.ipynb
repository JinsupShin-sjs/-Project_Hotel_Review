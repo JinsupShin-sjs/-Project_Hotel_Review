{
 "cells": [
  {
   "cell_type": "code",
   "execution_count": 1,
   "metadata": {},
   "outputs": [],
   "source": [
    "import pandas as pd\n",
    "\n",
    "train_data = pd.read_csv('c:/프로젝트/Hotel Review/Data/review_jeju50_train_0601.csv',encoding='ms949')\n",
    "test_data = pd.read_csv('c:/프로젝트/Hotel Review/Data/review_jeju50_test_0601.csv',encoding='ms949')"
   ]
  },
  {
   "cell_type": "code",
   "execution_count": 2,
   "metadata": {},
   "outputs": [
    {
     "data": {
      "text/plain": [
       "20000"
      ]
     },
     "execution_count": 2,
     "metadata": {},
     "output_type": "execute_result"
    }
   ],
   "source": [
    "len(train_data)"
   ]
  },
  {
   "cell_type": "code",
   "execution_count": 3,
   "metadata": {},
   "outputs": [
    {
     "data": {
      "text/html": [
       "<div>\n",
       "<style scoped>\n",
       "    .dataframe tbody tr th:only-of-type {\n",
       "        vertical-align: middle;\n",
       "    }\n",
       "\n",
       "    .dataframe tbody tr th {\n",
       "        vertical-align: top;\n",
       "    }\n",
       "\n",
       "    .dataframe thead th {\n",
       "        text-align: right;\n",
       "    }\n",
       "</style>\n",
       "<table border=\"1\" class=\"dataframe\">\n",
       "  <thead>\n",
       "    <tr style=\"text-align: right;\">\n",
       "      <th></th>\n",
       "      <th>name</th>\n",
       "      <th>title</th>\n",
       "      <th>score</th>\n",
       "      <th>label</th>\n",
       "      <th>review</th>\n",
       "    </tr>\n",
       "  </thead>\n",
       "  <tbody>\n",
       "    <tr>\n",
       "      <th>0</th>\n",
       "      <td>랜딩관 제주신화월드 호텔앤리조트</td>\n",
       "      <td>3603</td>\n",
       "      <td>8.0</td>\n",
       "      <td>0</td>\n",
       "      <td>시설도 깨끗하고 객실 뷰도 좋았어요!!! 수영장도 시설이 너무 좋았어요. 주차시설이...</td>\n",
       "    </tr>\n",
       "    <tr>\n",
       "      <th>1</th>\n",
       "      <td>메리어트관 제주신화월드 호텔앤리조트</td>\n",
       "      <td>3603</td>\n",
       "      <td>8.0</td>\n",
       "      <td>0</td>\n",
       "      <td>시설도 깨끗하고 객실 뷰도 좋았어요!!! 수영장도 시설이 너무 좋았어요. 주차시설이...</td>\n",
       "    </tr>\n",
       "    <tr>\n",
       "      <th>2</th>\n",
       "      <td>랜딩관 제주신화월드 호텔앤리조트</td>\n",
       "      <td>1051745507</td>\n",
       "      <td>8.0</td>\n",
       "      <td>0</td>\n",
       "      <td>돌담집을 제외한 다른 모든 면에서 만족스러운 호텔이었음(돌담집에서 고객을 응대하는 ...</td>\n",
       "    </tr>\n",
       "  </tbody>\n",
       "</table>\n",
       "</div>"
      ],
      "text/plain": [
       "                  name       title  score  label  \\\n",
       "0    랜딩관 제주신화월드 호텔앤리조트        3603    8.0      0   \n",
       "1  메리어트관 제주신화월드 호텔앤리조트        3603    8.0      0   \n",
       "2    랜딩관 제주신화월드 호텔앤리조트  1051745507    8.0      0   \n",
       "\n",
       "                                              review  \n",
       "0  시설도 깨끗하고 객실 뷰도 좋았어요!!! 수영장도 시설이 너무 좋았어요. 주차시설이...  \n",
       "1  시설도 깨끗하고 객실 뷰도 좋았어요!!! 수영장도 시설이 너무 좋았어요. 주차시설이...  \n",
       "2  돌담집을 제외한 다른 모든 면에서 만족스러운 호텔이었음(돌담집에서 고객을 응대하는 ...  "
      ]
     },
     "execution_count": 3,
     "metadata": {},
     "output_type": "execute_result"
    }
   ],
   "source": [
    "train_data[:3] "
   ]
  },
  {
   "cell_type": "code",
   "execution_count": 4,
   "metadata": {},
   "outputs": [
    {
     "data": {
      "text/plain": [
       "10000"
      ]
     },
     "execution_count": 4,
     "metadata": {},
     "output_type": "execute_result"
    }
   ],
   "source": [
    "len(test_data)"
   ]
  },
  {
   "cell_type": "code",
   "execution_count": 5,
   "metadata": {},
   "outputs": [
    {
     "data": {
      "text/html": [
       "<div>\n",
       "<style scoped>\n",
       "    .dataframe tbody tr th:only-of-type {\n",
       "        vertical-align: middle;\n",
       "    }\n",
       "\n",
       "    .dataframe tbody tr th {\n",
       "        vertical-align: top;\n",
       "    }\n",
       "\n",
       "    .dataframe thead th {\n",
       "        text-align: right;\n",
       "    }\n",
       "</style>\n",
       "<table border=\"1\" class=\"dataframe\">\n",
       "  <thead>\n",
       "    <tr style=\"text-align: right;\">\n",
       "      <th></th>\n",
       "      <th>name</th>\n",
       "      <th>title</th>\n",
       "      <th>score</th>\n",
       "      <th>label</th>\n",
       "      <th>review</th>\n",
       "    </tr>\n",
       "  </thead>\n",
       "  <tbody>\n",
       "    <tr>\n",
       "      <th>0</th>\n",
       "      <td>호텔 샬롬 제주</td>\n",
       "      <td>매우 좋음</td>\n",
       "      <td>8.0</td>\n",
       "      <td>0</td>\n",
       "      <td>제주 시내에 위치하여 걸어서 주변 시내를 돌아다닐 수 있습니다 식당도 많고 산책겸 ...</td>\n",
       "    </tr>\n",
       "    <tr>\n",
       "      <th>1</th>\n",
       "      <td>아스타 호텔</td>\n",
       "      <td>매우 좋음</td>\n",
       "      <td>8.0</td>\n",
       "      <td>0</td>\n",
       "      <td>제주 시내에 위치한 가성비 호텔</td>\n",
       "    </tr>\n",
       "    <tr>\n",
       "      <th>2</th>\n",
       "      <td>신라스테이 제주</td>\n",
       "      <td>매우 좋음</td>\n",
       "      <td>8.0</td>\n",
       "      <td>0</td>\n",
       "      <td>제주 시내에 있어 접근성이 좋습니다. 렌트카로 갔지만 대중교통이나 택시를 이용해서도...</td>\n",
       "    </tr>\n",
       "  </tbody>\n",
       "</table>\n",
       "</div>"
      ],
      "text/plain": [
       "       name  title  score  label  \\\n",
       "0  호텔 샬롬 제주  매우 좋음    8.0      0   \n",
       "1    아스타 호텔  매우 좋음    8.0      0   \n",
       "2  신라스테이 제주  매우 좋음    8.0      0   \n",
       "\n",
       "                                              review  \n",
       "0  제주 시내에 위치하여 걸어서 주변 시내를 돌아다닐 수 있습니다 식당도 많고 산책겸 ...  \n",
       "1                                  제주 시내에 위치한 가성비 호텔  \n",
       "2  제주 시내에 있어 접근성이 좋습니다. 렌트카로 갔지만 대중교통이나 택시를 이용해서도...  "
      ]
     },
     "execution_count": 5,
     "metadata": {},
     "output_type": "execute_result"
    }
   ],
   "source": [
    "test_data[:3]"
   ]
  },
  {
   "cell_type": "code",
   "execution_count": 6,
   "metadata": {},
   "outputs": [
    {
     "data": {
      "text/plain": [
       "(17781, 2)"
      ]
     },
     "execution_count": 6,
     "metadata": {},
     "output_type": "execute_result"
    }
   ],
   "source": [
    "train_data['review'].nunique(),train_data['label'].nunique()"
   ]
  },
  {
   "cell_type": "code",
   "execution_count": 7,
   "metadata": {},
   "outputs": [
    {
     "data": {
      "text/plain": [
       "17781"
      ]
     },
     "execution_count": 7,
     "metadata": {},
     "output_type": "execute_result"
    }
   ],
   "source": [
    "#중복값 제거\n",
    "train_data.drop_duplicates(subset=['review'],inplace=True)\n",
    "len(train_data)"
   ]
  },
  {
   "cell_type": "code",
   "execution_count": 8,
   "metadata": {},
   "outputs": [
    {
     "data": {
      "image/png": "[encoded data removed]",
      "text/plain": [
       "<Figure size 640x480 with 1 Axes>"
      ]
     },
     "metadata": {},
     "output_type": "display_data"
    }
   ],
   "source": [
    "import matplotlib.pyplot as plt\n",
    "train_data['label'].value_counts().plot(kind = 'bar')\n",
    "plt.show()"
   ]
  },
  {
   "cell_type": "code",
   "execution_count": 9,
   "metadata": {},
   "outputs": [
    {
     "data": {
      "text/html": [
       "<div>\n",
       "<style scoped>\n",
       "    .dataframe tbody tr th:only-of-type {\n",
       "        vertical-align: middle;\n",
       "    }\n",
       "\n",
       "    .dataframe tbody tr th {\n",
       "        vertical-align: top;\n",
       "    }\n",
       "\n",
       "    .dataframe thead th {\n",
       "        text-align: right;\n",
       "    }\n",
       "</style>\n",
       "<table border=\"1\" class=\"dataframe\">\n",
       "  <thead>\n",
       "    <tr style=\"text-align: right;\">\n",
       "      <th></th>\n",
       "      <th>name</th>\n",
       "      <th>title</th>\n",
       "      <th>score</th>\n",
       "      <th>label</th>\n",
       "      <th>review</th>\n",
       "    </tr>\n",
       "  </thead>\n",
       "  <tbody>\n",
       "  </tbody>\n",
       "</table>\n",
       "</div>"
      ],
      "text/plain": [
       "Empty DataFrame\n",
       "Columns: [name, title, score, label, review]\n",
       "Index: []"
      ]
     },
     "execution_count": 9,
     "metadata": {},
     "output_type": "execute_result"
    }
   ],
   "source": [
    "train_data.loc[train_data.review.isnull()]"
   ]
  },
  {
   "cell_type": "code",
   "execution_count": 10,
   "metadata": {},
   "outputs": [
    {
     "name": "stderr",
     "output_type": "stream",
     "text": [
      "C:\\Users\\tjoeun\\AppData\\Local\\Temp\\ipykernel_9728\\2866373672.py:2: FutureWarning: The default value of regex will change from True to False in a future version.\n",
      "  train_data['review'] =train_data['review'].str.replace(\"[^ㄱ-ㅎㅏ-ㅣ가-힣 A-Za-z]\",\"\")\n",
      "C:\\Users\\tjoeun\\AppData\\Local\\Temp\\ipykernel_9728\\2866373672.py:3: FutureWarning: The default value of regex will change from True to False in a future version.\n",
      "  train_data['review'] =train_data['review'].str.replace('[.,!?\"\\':;~()]','')\n"
     ]
    },
    {
     "data": {
      "text/html": [
       "<div>\n",
       "<style scoped>\n",
       "    .dataframe tbody tr th:only-of-type {\n",
       "        vertical-align: middle;\n",
       "    }\n",
       "\n",
       "    .dataframe tbody tr th {\n",
       "        vertical-align: top;\n",
       "    }\n",
       "\n",
       "    .dataframe thead th {\n",
       "        text-align: right;\n",
       "    }\n",
       "</style>\n",
       "<table border=\"1\" class=\"dataframe\">\n",
       "  <thead>\n",
       "    <tr style=\"text-align: right;\">\n",
       "      <th></th>\n",
       "      <th>name</th>\n",
       "      <th>title</th>\n",
       "      <th>score</th>\n",
       "      <th>label</th>\n",
       "      <th>review</th>\n",
       "    </tr>\n",
       "  </thead>\n",
       "  <tbody>\n",
       "    <tr>\n",
       "      <th>0</th>\n",
       "      <td>랜딩관 제주신화월드 호텔앤리조트</td>\n",
       "      <td>3603</td>\n",
       "      <td>8.0</td>\n",
       "      <td>0</td>\n",
       "      <td>시설도 깨끗하고 객실 뷰도 좋았어요 수영장도 시설이 너무 좋았어요 주차시설이 너무 ...</td>\n",
       "    </tr>\n",
       "    <tr>\n",
       "      <th>2</th>\n",
       "      <td>랜딩관 제주신화월드 호텔앤리조트</td>\n",
       "      <td>1051745507</td>\n",
       "      <td>8.0</td>\n",
       "      <td>0</td>\n",
       "      <td>돌담집을 제외한 다른 모든 면에서 만족스러운 호텔이었음돌담집에서 고객을 응대하는 방...</td>\n",
       "    </tr>\n",
       "    <tr>\n",
       "      <th>5</th>\n",
       "      <td>히든 클리프 호텔&amp;네이쳐</td>\n",
       "      <td>-</td>\n",
       "      <td>3.0</td>\n",
       "      <td>0</td>\n",
       "      <td>아침식사와 직원분들은 친절하셨습니다</td>\n",
       "    </tr>\n",
       "  </tbody>\n",
       "</table>\n",
       "</div>"
      ],
      "text/plain": [
       "                name       title  score  label  \\\n",
       "0  랜딩관 제주신화월드 호텔앤리조트        3603    8.0      0   \n",
       "2  랜딩관 제주신화월드 호텔앤리조트  1051745507    8.0      0   \n",
       "5      히든 클리프 호텔&네이쳐           -    3.0      0   \n",
       "\n",
       "                                              review  \n",
       "0  시설도 깨끗하고 객실 뷰도 좋았어요 수영장도 시설이 너무 좋았어요 주차시설이 너무 ...  \n",
       "2  돌담집을 제외한 다른 모든 면에서 만족스러운 호텔이었음돌담집에서 고객을 응대하는 방...  \n",
       "5                                아침식사와 직원분들은 친절하셨습니다  "
      ]
     },
     "execution_count": 10,
     "metadata": {},
     "output_type": "execute_result"
    }
   ],
   "source": [
    "#특수문자,기호 제거\n",
    "train_data['review'] =train_data['review'].str.replace(\"[^ㄱ-ㅎㅏ-ㅣ가-힣 A-Za-z]\",\"\")\n",
    "train_data['review'] =train_data['review'].str.replace('[.,!?\"\\':;~()]','')\n",
    "train_data[:3]"
   ]
  },
  {
   "cell_type": "code",
   "execution_count": 11,
   "metadata": {},
   "outputs": [
    {
     "name": "stderr",
     "output_type": "stream",
     "text": [
      "C:\\Users\\tjoeun\\AppData\\Local\\Temp\\ipykernel_9728\\298783350.py:3: FutureWarning: The default value of regex will change from True to False in a future version.\n",
      "  train_data['review'] =train_data['review'].str.replace('^ +', \"\")\n"
     ]
    },
    {
     "data": {
      "text/plain": [
       "name       0\n",
       "title      0\n",
       "score      0\n",
       "label      0\n",
       "review    56\n",
       "dtype: int64"
      ]
     },
     "execution_count": 11,
     "metadata": {},
     "output_type": "execute_result"
    }
   ],
   "source": [
    "import numpy as np\n",
    "#공백 제거\n",
    "train_data['review'] =train_data['review'].str.replace('^ +', \"\")\n",
    "train_data['review'].replace('', np.nan, inplace=True)\n",
    "train_data.isnull().sum()"
   ]
  },
  {
   "cell_type": "code",
   "execution_count": 12,
   "metadata": {},
   "outputs": [
    {
     "data": {
      "text/html": [
       "<div>\n",
       "<style scoped>\n",
       "    .dataframe tbody tr th:only-of-type {\n",
       "        vertical-align: middle;\n",
       "    }\n",
       "\n",
       "    .dataframe tbody tr th {\n",
       "        vertical-align: top;\n",
       "    }\n",
       "\n",
       "    .dataframe thead th {\n",
       "        text-align: right;\n",
       "    }\n",
       "</style>\n",
       "<table border=\"1\" class=\"dataframe\">\n",
       "  <thead>\n",
       "    <tr style=\"text-align: right;\">\n",
       "      <th></th>\n",
       "      <th>name</th>\n",
       "      <th>title</th>\n",
       "      <th>score</th>\n",
       "      <th>label</th>\n",
       "      <th>review</th>\n",
       "    </tr>\n",
       "  </thead>\n",
       "  <tbody>\n",
       "    <tr>\n",
       "      <th>1435</th>\n",
       "      <td>롯데 호텔 제주</td>\n",
       "      <td>家族でも、友達とでも</td>\n",
       "      <td>6.0</td>\n",
       "      <td>0</td>\n",
       "      <td>NaN</td>\n",
       "    </tr>\n",
       "    <tr>\n",
       "      <th>1546</th>\n",
       "      <td>롯데 호텔 제주</td>\n",
       "      <td>家族連れにはぴったり</td>\n",
       "      <td>8.0</td>\n",
       "      <td>0</td>\n",
       "      <td>NaN</td>\n",
       "    </tr>\n",
       "    <tr>\n",
       "      <th>1895</th>\n",
       "      <td>더 베스트 제주 성산</td>\n",
       "      <td>价格?惠，但房??小，??人住有点??。</td>\n",
       "      <td>5.0</td>\n",
       "      <td>0</td>\n",
       "      <td>NaN</td>\n",
       "    </tr>\n",
       "  </tbody>\n",
       "</table>\n",
       "</div>"
      ],
      "text/plain": [
       "             name                 title  score  label review\n",
       "1435     롯데 호텔 제주            家族でも、友達とでも    6.0      0    NaN\n",
       "1546     롯데 호텔 제주            家族連れにはぴったり    8.0      0    NaN\n",
       "1895  더 베스트 제주 성산  价格?惠，但房??小，??人住有点??。    5.0      0    NaN"
      ]
     },
     "execution_count": 12,
     "metadata": {},
     "output_type": "execute_result"
    }
   ],
   "source": [
    "train_data.loc[train_data.review.isnull()][:3]"
   ]
  },
  {
   "cell_type": "code",
   "execution_count": 13,
   "metadata": {},
   "outputs": [
    {
     "data": {
      "text/plain": [
       "17725"
      ]
     },
     "execution_count": 13,
     "metadata": {},
     "output_type": "execute_result"
    }
   ],
   "source": [
    "train_data = train_data.dropna(how = 'any')\n",
    "len(train_data)"
   ]
  },
  {
   "cell_type": "code",
   "execution_count": 14,
   "metadata": {},
   "outputs": [],
   "source": [
    "# test_data에도 동일한 과정 적용\n",
    "test_data.drop_duplicates(subset = ['review'],inplace=True)\n"
   ]
  },
  {
   "cell_type": "code",
   "execution_count": 15,
   "metadata": {},
   "outputs": [
    {
     "name": "stderr",
     "output_type": "stream",
     "text": [
      "C:\\Users\\tjoeun\\AppData\\Local\\Temp\\ipykernel_9728\\833855062.py:1: FutureWarning: The default value of regex will change from True to False in a future version.\n",
      "  test_data['review'] = test_data['review'].str.replace(\"[^ㄱ-ㅎㅏ-ㅣ가-힣 ]\",\"\")\n",
      "C:\\Users\\tjoeun\\AppData\\Local\\Temp\\ipykernel_9728\\833855062.py:2: FutureWarning: The default value of regex will change from True to False in a future version.\n",
      "  test_data['review'] =test_data['review'].str.replace('[.,!?\"\\':;~()]','')\n"
     ]
    }
   ],
   "source": [
    "test_data['review'] = test_data['review'].str.replace(\"[^ㄱ-ㅎㅏ-ㅣ가-힣 ]\",\"\")\n",
    "test_data['review'] =test_data['review'].str.replace('[.,!?\"\\':;~()]','')"
   ]
  },
  {
   "cell_type": "code",
   "execution_count": 16,
   "metadata": {},
   "outputs": [
    {
     "name": "stderr",
     "output_type": "stream",
     "text": [
      "C:\\Users\\tjoeun\\AppData\\Local\\Temp\\ipykernel_9728\\2836428721.py:1: FutureWarning: The default value of regex will change from True to False in a future version.\n",
      "  test_data['review'] =train_data['review'].str.replace('^ +', \"\")\n"
     ]
    }
   ],
   "source": [
    "test_data['review'] =train_data['review'].str.replace('^ +', \"\")"
   ]
  },
  {
   "cell_type": "code",
   "execution_count": 17,
   "metadata": {},
   "outputs": [
    {
     "data": {
      "text/plain": [
       "7933"
      ]
     },
     "execution_count": 17,
     "metadata": {},
     "output_type": "execute_result"
    }
   ],
   "source": [
    "test_data['review'].replace('', np.nan, inplace=True)\n",
    "test_data = test_data.dropna(how='any')\n",
    "len(test_data)"
   ]
  },
  {
   "cell_type": "code",
   "execution_count": 18,
   "metadata": {},
   "outputs": [],
   "source": [
    "stopwords =['의','가','이','은','들','는','좀','잘','걍','과','도','를','으로','자','에','와','한','하다']"
   ]
  },
  {
   "cell_type": "code",
   "execution_count": 19,
   "metadata": {},
   "outputs": [],
   "source": [
    "from konlpy.tag import Okt\n",
    "okt = Okt()\n",
    "X_train = []\n",
    "for sentence in train_data['review']:\n",
    "    temp_X = okt.morphs(sentence, stem=True)\n",
    "    temp_X = [word for word in temp_X if not word in stopwords] \n",
    "    X_train.append(temp_X)"
   ]
  },
  {
   "cell_type": "code",
   "execution_count": 20,
   "metadata": {},
   "outputs": [
    {
     "name": "stdout",
     "output_type": "stream",
     "text": [
      "[['시설', '깨끗하다', '객실', '뷰', '좋다', '수영장', '시설', '너무', '좋다', '주차', '시설', '너무', '좋다', '또', '오다', '싶다', '애', '방학', '을', '맞이', '오다', '담', '또', '오다', '싶다'], ['돌담', '집', '을', '제외', '다른', '모든', '면', '에서', '만족스럽다', '호텔', '이다', '돌담', '집', '에서', '고객', '을', '응대', '방법', '일반', '여관', '이하', '수준', '이다'], ['아침식사', '직원', '분들', '친절하다']]\n"
     ]
    }
   ],
   "source": [
    "print(X_train[:3])"
   ]
  },
  {
   "cell_type": "code",
   "execution_count": 21,
   "metadata": {},
   "outputs": [],
   "source": [
    "X_test = []\n",
    "for sentence in test_data['review']:\n",
    "    temp_X = okt.morphs(sentence, stem=True)\n",
    "    temp_X = [word for word in temp_X if not word in\n",
    "    stopwords]\n",
    "    X_test.append(temp_X)"
   ]
  },
  {
   "cell_type": "code",
   "execution_count": 22,
   "metadata": {},
   "outputs": [],
   "source": [
    "from tensorflow.keras.preprocessing.text import Tokenizer\n",
    "tokenizer = Tokenizer()\n",
    "tokenizer.fit_on_texts(X_train)"
   ]
  },
  {
   "cell_type": "code",
   "execution_count": 23,
   "metadata": {},
   "outputs": [
    {
     "name": "stdout",
     "output_type": "stream",
     "text": [
      "{'좋다': 1, '있다': 2, '너무': 3, '을': 4, '호텔': 5, '이다': 6, '없다': 7, '위치': 8, '직원': 9, '에서': 10, '시설': 11, '친절하다': 12, '조식': 13, '않다': 14, '객실': 15, '이용': 16, '로': 17, '깨끗하다': 18, '같다': 19, '되다': 20, '아쉽다': 21, '자다': 22, '오다': 23, '여행': 24, '보다': 25, '가격': 26, '수영장': 27, '다': 28, '것': 29, '뷰': 30, '비': 31, '숙소': 32, '수': 33, '가족': 34, '넓다': 35, '가다': 36, '되어다': 37, '가성': 38, '많다': 39, '가깝다': 40, '곳': 41, '인': 42, '적': 43, '침대': 44, '편하다': 45, '분들': 46, '룸': 47, '안': 48, '조금': 49, '깔끔하다': 50, '방': 51, '때': 52, '주차': 53, '매우': 54, '하고': 55, '아이': 56, '해주다': 57, '고': 58, '정말': 59, '분': 60, '점': 61, '불편하다': 62, '주변': 63, '이라': 64, '더': 65, '공항': 66, '생각': 67, '방문': 68, '다음': 69, '만': 70, '주차장': 71, '먹다': 72, '서비스': 73, '까지': 74, '최고': 75, '맛있다': 76, '요': 77, '층': 78, '들다': 79, '제주': 80, '등': 81, '화장실': 82, '만족하다': 83, '또': 84, '싶다': 85, '아주': 86, '바다': 87, '괜찮다': 88, '모두': 89, '아니다': 90, '바로': 91, '못': 92, '정도': 93, '청소': 94, '편안하다': 95, '나': 96, '많이': 97, '신화': 98, '대비': 99, '시간': 100, '그리고': 101, '안되다': 102, '크다': 103, '체크': 104, '에도': 105, '침구': 106, '내': 107, '보이다': 108, '만족스럽다': 109, '예약': 110, '제주도': 111, '컨디션': 112, '근처': 113, '앞': 114, '다른': 115, '숙박': 116, '아침': 117, '시': 118, '청결': 119, '거리': 120, '월드': 121, '에는': 122, '조용하다': 123, '리조트': 124, '편의점': 125, '식당': 126, '제': 127, '냄새': 128, '다시': 129, '라': 130, '욕실': 131, '그렇다': 132, '추천': 133, '그': 134, '특히': 135, '청결하다': 136, '사용': 137, '상태': 138, '편리하다': 139, '소리': 140, '시장': 141, '느낌': 142, '개': 143, '받다': 144, '이나': 145, '모든': 146, '좁다': 147, '문': 148, '방이': 149, '인데': 150, '음식': 151, '방음': 152, '주다': 153, '작다': 154, '서': 155, '묵다': 156, '넘다': 157, '박': 158, '면': 159, '날': 160, '게': 161, '샤워': 162, '전망': 163, '저렴하다': 164, '중': 165, '별로': 166, '옆': 167, '부분': 168, '친절': 169, '쉬다': 170, '함께': 171, '이랑': 172, '식사': 173, '하나': 174, '다양하다': 175, '두': 176, '및': 177, '일': 178, '만족': 179, '전반': 180, '기': 181, '쾌적하다': 182, '즐기다': 183, '나다': 184, '랑': 185, '바닥': 186, '수건': 187, '안내': 188, '시내': 189, '물': 190, '감사하다': 191, '공간': 192, '편의': 193, '대': 194, '기분': 195, '투숙': 196, '성': 197, '지내다': 198, '주': 199, '부터': 200, '엔': 201, '함': 202, '나오다': 203, '훌륭하다': 204, '저녁': 205, '사람': 206, '없이': 207, '때문': 208, '처음': 209, '비다': 210, '밤': 211, '올': 212, '갈다': 213, '이동': 214, '로비': 215, '관리': 216, '온': 217, '가능하다': 218, '건물': 219, '서머셋': 220, '소음': 221, '부대': 222, '전체': 223, '꼭': 224, '놀다': 225, '맛': 226, '맛집': 227, '마음': 228, '저': 229, '산책': 230, 'ㅠㅠ': 231, 'ㅎㅎ': 232, '오션': 233, '좋아하다': 234, '여서': 235, '내부': 236, '이번': 237, '동': 238, '듯': 239, '다만': 240, '메뉴': 241, '쪽': 242, '뷔페': 243, '필요하다': 244, '먼지': 245, '번': 246, '요청': 247, '늦다': 248, '그냥': 249, '걸다': 250, '방도': 251, '욕조': 252, '부족하다': 253, '선택': 254, '찾다': 255, '약간': 256, '엄청': 257, '무료': 258, '모르다': 259, '급': 260, '재': 261, '한라산': 262, '잠': 263, '아침식사': 264, '오래되다': 265, '보내다': 266, '나가다': 267, '응대': 268, '거': 269, '해': 270, '느끼다': 271, '장': 272, '즐겁다': 273, '하': 274, '크기': 275, '머물다': 276, '지': 277, '실내': 278, '다니다': 279, '객': 280, '마다': 281, '물이': 282, '아기': 283, '들어가다': 284, '차다': 285, '프론트': 286, '창문': 287, '들리다': 288, '분위기': 289, '파크': 290, '드리다': 291, '차': 292, '진짜': 293, '성산일출봉': 294, '명': 295, '이상': 296, '멀다': 297, '코로나': 298, '하루': 299, '테마': 300, '부모님': 301, '후': 302, '이고': 303, '여러': 304, '따뜻하다': 305, '알다': 306, '종류': 307, '떨어지다': 308, '네': 309, '비싸다': 310, '무엇': 311, '에어컨': 312, '말': 313, '롯데': 314, '힘들다': 315, '여기': 316, '들어오다': 317, '높다': 318, '서귀포': 319, '조': 320, '접근성': 321, '제공': 322, '식': 323, '야외': 324, '저희': 325, '빼다': 326, '또한': 327, '딱': 328, '여': 329, '전': 330, '워터파크': 331, '아쉬움': 332, '인지': 333, '랜딩관': 334, '돼다': 335, '문제': 336, '시끄럽다': 337, '니': 338, '한번': 339, '풀': 340, '쉬': 341, '하지만': 342, '그래도': 343, '인하다': 344, '장이': 345, '집': 346, '가장': 347, '준비': 348, '신경': 349, '중문': 350, '외': 351, '테라스': 352, '복도': 353, '움': 354, '전혀': 355, '업그레이드': 356, '완전': 357, '어메니티': 358, '테이블': 359, '기대': 360, '랜딩': 361, '맘': 362, '냉장고': 363, '끄다': 364, '가기': 365, '굿': 366, '주차공간': 367, '도착': 368, '추가': 369, '의사': 370, '동안': 371, '해결': 372, '에게': 373, '낡다': 374, '류': 375, '편이': 376, '계속': 377, '따로': 378, '칫솔': 379, '임': 380, '배정': 381, '다소': 382, '굉장하다': 383, '일단': 384, '밖에': 385, '수영': 386, '딱하다': 387, '크게': 388, '버스': 389, '온도': 390, '체크아웃': 391, '밖': 392, '항상': 393, '해보다': 394, '지하': 395, '나쁘다': 396, '심하다': 397, '외부': 398, '사우나': 399, '같이': 400, '위': 401, '적다': 402, 'ㅠ': 403, '지만': 404, '카페': 405, '살짝': 406, '수압': 407, '갖추다': 408, '관광지': 409, '맞다': 410, '어': 411, '난방': 412, '산책로': 413, '보고': 414, '이에요': 415, '레시': 416, '열다': 417, '간': 418, '운영': 419, '충분하다': 420, '적당하다': 421, '덕분': 422, '친구': 423, '짐': 424, '다녀오다': 425, '미리': 426, '커피': 427, '편': 428, '라서': 429, '걱정': 430, '개선': 431, '택시': 432, '월': 433, '관광': 434, '쓰다': 435, '불편': 436, '제대로': 437, '구': 438, '애': 439, '옆방': 440, '경우': 441, '이불': 442, '덥다': 443, '기억': 444, '날씨': 445, '일정': 446, '머무르다': 447, '라고': 448, '룸서비스': 449, '환경': 450, '우리': 451, '처럼': 452, '볼': 453, '에요': 454, '이어서': 455, '규모': 456, '두다': 457, '야하다': 458, '예정': 459, '써다': 460, '박일': 461, '수준': 462, '할인': 463, '비치': 464, '느껴지다': 465, '입구': 466, '추다': 467, '세면대': 468, '엘리베이터': 469, '마지막': 470, '사진': 471, 'ㅎ': 472, '노후': 473, '약하다': 474, '주방': 475, '어렵다': 476, '제일': 477, '일찍': 478, '걸리다': 479, '곰팡이': 480, '이라고': 481, '교통': 482, '대한': 483, '안좋다': 484, '음식점': 485, '가보다': 486, '멋지다': 487, '바람': 488, '설명': 489, '스럽다': 490, '예쁘다': 491, '치약': 492, '이네': 493, '놓다': 494, '남다': 495, '연': 496, '공': 497, '장점': 498, '커서': 499, '닫다': 500, '교체': 501, '푹신하다': 502, '키즈': 503, '머리카락': 504, '성산': 505, '해변': 506, '멀리': 507, '잡다': 508, '여름': 509, '포함': 510, '가지': 511, '타': 512, '바닷가': 513, '자리': 514, '걸': 515, '힐링': 516, '변기': 517, '인테리어': 518, 'ㅜㅜ': 519, '말다': 520, '나서다': 521, '뭐': 522, '완벽하다': 523, '원': 524, '개인': 525, '계획': 526, '추억': 527, '단지': 528, '세탁기': 529, '레스토랑': 530, '기본': 531, '단점': 532, '건': 533, '매일': 534, '수풀': 535, '거의': 536, '바꾸다': 537, '행복하다': 538, '감동': 539, '단': 540, '도보': 541, '비교': 542, '자체': 543, '신라': 544, '정원': 545, '성비': 546, '먹거리': 547, '그대로': 548, '기다': 549, '라마': 550, '구비': 551, '조명': 552, '의자': 553, '지다': 554, '역시': 555, '부족': 556, '놀라다': 557, '겨울': 558, '고객': 559, '만원': 560, '간단하다': 561, '생기다': 562, '습': 563, '챙기다': 564, '여유': 565, '보': 566, '타워': 567, '티비': 568, '관': 569, '담배': 570, '춥다': 571, '기대하다': 572, '서다': 573, '새벽': 574, '퀄리티': 575, '베드': 576, '이지만': 577, '눈': 578, '예요': 579, '더블': 580, '굳이': 581, '리': 582, '샤워실': 583, '자주': 584, '슬리퍼': 585, '짱': 586, '어리다': 587, '세': 588, '상': 589, '해주시': 590, '시키다': 591, '필요': 592, '모시': 593, '내다': 594, '고급스럽다': 595, '보이': 596, '첫': 597, '차갑다': 598, '낮다': 599, '아늑하다': 600, '이라서': 601, '풍경': 602, '너무나': 603, '에서는': 604, '아': 605, '어디': 606, '이렇다': 607, 'ㅋㅋ': 608, '님': 609, '더럽다': 610, '기계': 611, '깔다': 612, '비행기': 613, '늘다': 614, '빠지다': 615, '만들다': 616, '확인': 617, '커튼': 618, '신': 619, '라면': 620, '돈': 621, '금액': 622, '알': 623, '손님': 624, '끼리': 625, '오기': 626, '디럭스': 627, '차량': 628, '코스': 629, '만큼': 630, '예': 631, '연결': 632, '사항': 633, '새롭다': 634, '정리': 635, '위해': 636, '실망': 637, '카펫': 638, '부스': 639, '거실': 640, '등등': 641, '올레': 642, '오래': 643, '물론': 644, '사이즈': 645, '살': 646, '휴가': 647, '기다리다': 648, '동문': 649, '오픈': 650, '에서도': 651, '특별하다': 652, '충전': 653, '답답하다': 654, '넉넉하다': 655, '이틀': 656, '다르다': 657, '불다': 658, '협소': 659, '상당하다': 660, '타고': 661, '꽤': 662, '티': 663, '싱글': 664, '제주시': 665, '아직': 666, '스타벅스': 667, '나름': 668, '둘': 669, '가까이': 670, '후기': 671, '첫날': 672, '환기': 673, '모습': 674, '공사': 675, '휴식': 676, '장소': 677, '타다': 678, '가운': 679, '강추': 680, '년': 681, '데리': 682, '카페트': 683, '몇': 684, '메리어트': 685, '얼마': 686, '공기': 687, '콘센트': 688, '새': 689, '더욱': 690, '기도': 691, '쓸다': 692, '와인': 693, '식도': 694, '인사': 695, '혼자': 696, 'ㅋ': 697, '주위': 698, '직접': 699, '우선': 700, '비용': 701, '줄': 702, '바': 703, '께서': 704, '도로': 705, '별': 706, '부페': 707, '아름답다': 708, '고장': 709, '샴푸': 710, '원하다': 711, '두번째': 712, '강': 713, '붙다': 714, '모기': 715, '모델링': 716, '인상': 717, '건지다': 718, '사': 719, '길': 720, '뚜벅': 721, '내려가다': 722, '내내': 723, '열': 724, '이마트': 725, '너': 726, '그래서': 727, '전화': 728, '감사': 729, '추하다': 730, '경치': 731, '주시': 732, '놀': 733, '씩': 734, '어떻다': 735, '이며': 736, '약': 737, '잇다': 738, '며': 739, '그것': 740, '가면': 741, '정': 742, '어둡다': 743, '달라': 744, '구조': 745, '보통': 746, '고민': 747, '만족도': 748, '펴다': 749, '적극': 750, '늘': 751, '루프': 752, '대다': 753, '담': 754, '갑': 755, '편안함': 756, '데스크': 757, '위생': 758, '구경': 759, '이쁘다': 760, '가능': 761, '상황': 762, '캐리어': 763, '호캉스': 764, '배려': 765, '벽': 766, '패밀리': 767, '지금': 768, '베개': 769, '작년': 770, '얘기': 771, '께': 772, '탑': 773, '침실': 774, '특급': 775, '기회': 776, '당황': 777, '합리': 778, '전기차': 779, '이후': 780, '쇼핑': 781, '맥주': 782, '빠르다': 783, '보기': 784, '깨끗': 785, '영': 786, '설치': 787, '볼거리': 788, '어른': 789, '용': 790, '문의': 791, '용품': 792, '반': 793, '불친절하다': 794, '공연': 795, '최상': 796, '엄마': 797, '무척': 798, '박하다': 799, '짧다': 800, '경험': 801, '불쾌하다': 802, '뿐': 803, '좀더': 804, '무조건': 805, '조절': 806, '이렇게': 807, '일출': 808, '밝다': 809, '김밥': 810, '에서의': 811, '앉다': 812, '밥': 813, '아들': 814, '고급': 815, '도와주다': 816, '라운지': 817, '최악': 818, '수기': 819, '전부': 820, '놀이': 821, '와이파이': 822, '매트리스': 823, '남': 824, '달다': 825, '옮기다': 826, '인근': 827, '근데': 828, '작동': 829, '데': 830, '으로는': 831, 'tv': 832, '중간': 833, '오랜': 834, '프런트': 835, '시티': 836, '싸다': 837, '빵': 838, '라는': 839, '회': 840, '대중교통': 841, '음료': 842, '스': 843, '아무': 844, '사실': 845, '다이닝': 846, '연락': 847, '시원하다': 848, '일반': 849, '부족함': 850, '얼룩': 851, '처리': 852, '대해': 853, '참고': 854, '보다는': 855, '구성': 856, '석식': 857, '렌트카': 858, '자고': 859, '훨씬': 860, '비데': 861, '화': 862, '건조하다': 863, '베란다': 864, '난타': 865, '버스정류장': 866, '지인': 867, '돌아다니다': 868, '먹기': 869, '불구': 870, '야경': 871, '용하다': 872, 'ㅜ': 873, '오는': 874, '셋': 875, '고층': 876, '바라보다': 877, '올라오다': 878, '넣다': 879, '묶다': 880, '마트': 881, '이벤트': 882, '지저분하다': 883, '사이': 884, '이해': 885, '물때': 886, '급하다': 887, '방안': 888, '물놀이': 889, '바디': 890, '에서만': 891, '렌트': 892, '돌아오다': 893, '요금': 894, '구매': 895, '중심': 896, '개월': 897, '작고': 898, '시작': 899, '푹': 900, '자기': 901, '결제': 902, '어려움': 903, '계시다': 904, '성인': 905, '채우다': 906, '유료': 907, '마스크': 908, '그리다': 909, '한적하다': 910, '공원': 911, '차로': 912, '어쩔': 913, '써주다': 914, '옷': 915, '신혼여행': 916, '실': 917, '뒤': 918, '오': 919, '부탁드리다': 920, '수가': 921, '대체로': 922, '드라이기': 923, '경관': 924, '한식': 925, '가게': 926, '일회용': 927, '왜': 928, '화장': 929, '유명하다': 930, '꾸다': 931, '단위': 932, '뜨다': 933, '요다음': 934, '뭔가': 935, '물품': 936, '셔틀': 937, '도움': 938, '동선': 939, '씻다': 940, '작': 941, '당': 942, '쓰이다': 943, '등반': 944, '도심': 945, '리셉션': 946, '찾기': 947, '난': 948, '대부분': 949, '신축': 950, '수도': 951, '번째': 952, '음': 953, '부실하다': 954, '걸어가다': 955, '여기다': 956, '물어보다': 957, '로는': 958, '들어서다': 959, '변경': 960, '쯤': 961, '대가': 962, '하우스': 963, '본관': 964, '이유': 965, '과의': 966, '세심': 967, '시스템': 968, '바라다': 969, '신청': 970, '쿠폰': 971, '딸': 972, '무난': 973, '모텔': 974, '식기세척기': 975, '새다': 976, '안락하다': 977, '묻다': 978, '곳도': 979, '든': 980, '비도': 981, '권': 982, '남자': 983, '그러나': 984, '식구': 985, '빨리': 986, '으로도': 987, '세탁': 988, '타월': 989, '요즘': 990, '그게': 991, '돼지': 992, '거울': 993, '안해': 994, '애매하다': 995, '커버': 996, '온돌': 997, '별도': 998, '신관': 999, '버리다': 1000, '힘드다': 1001, '인원': 1002, '이름': 1003, '프로그램': 1004, '대로': 1005, '말고는': 1006, '덜': 1007, '목적': 1008, '이르다': 1009, '섭지코지': 1010, '협소해': 1011, '흑': 1012, '주심': 1013, '와도': 1014, '가야': 1015, '벌레': 1016, '어매니티': 1017, '째': 1018, '못자다': 1019, '중앙': 1020, '이런': 1021, '위트': 1022, '포근하다': 1023, '밑': 1024, '워낙': 1025, '망': 1026, '이라는': 1027, '에게는': 1028, '부담': 1029, '길이': 1030, '이라도': 1031, '광': 1032, '딱이다': 1033, '스위트룸': 1034, '맞이': 1035, '진행': 1036, '체적': 1037, '외관': 1038, '해오다': 1039, '깨다': 1040, '통해': 1041, '인시': 1042, '형': 1043, '애기': 1044, '하수': 1045, '배수': 1046, '한잔': 1047, '중요하다': 1048, '전화하다': 1049, '여행객': 1050, '점도': 1051, '컵': 1052, '풀이': 1053, '배치': 1054, '대기': 1055, '발': 1056, '굳다': 1057, '따르다': 1058, '거기': 1059, '대여': 1060, '짜다': 1061, '기간': 1062, '패키지': 1063, '그거': 1064, '길다': 1065, '빌리다': 1066, '온수': 1067, '막히다': 1068, '몸': 1069, '움직이다': 1070, '입장': 1071, '시기': 1072, '미흡하다': 1073, '그렇게': 1074, '깊다': 1075, '배': 1076, '하니': 1077, '동반': 1078, '시트': 1079, '가구': 1080, '마루': 1081, '생수': 1082, '아프다': 1083, '예민하다': 1084, '여러가지': 1085, '최적': 1086, '향': 1087, '고맙다': 1088, '이제': 1089, '소': 1090, '편리': 1091, '재밌다': 1092, '잠자리': 1093, '실외': 1094, '각종': 1095, '맞추다': 1096, '분리': 1097, '숙면': 1098, '오후': 1099, '먼저': 1100, '비누': 1101, '식이': 1102, '다룸': 1103, '트윈': 1104, '숲': 1105, '위로': 1106, '곳곳': 1107, '감': 1108, '뜨겁다': 1109, '관련': 1110, '중국': 1111, '키': 1112, '발코니': 1113, '엘레베이터': 1114, '찜질방': 1115, '가드': 1116, '해도': 1117, '오히려': 1118, '이면': 1119, '일이': 1120, '오전': 1121, '보임': 1122, '협소하': 1123, '센터': 1124, '치다': 1125, '커플': 1126, '요리': 1127, '정돈': 1128, '전날': 1129, '환상': 1130, '간다': 1131, '편입': 1132, '매번': 1133, '이야기': 1134, '원래': 1135, '딱딱하다': 1136, '양호': 1137, '그런': 1138, '프라자': 1139, '묵고': 1140, 'ㅋㅋㅋ': 1141, '과도': 1142, '피로': 1143, '출장': 1144, '낙후': 1145, '나머지': 1146, '여기저기': 1147, '산': 1148, '창': 1149, '아무래도': 1150, '돌아가다': 1151, '유지': 1152, '부킹': 1153, '히': 1154, '머리': 1155, '묵': 1156, '꿀잠': 1157, '에만': 1158, '입실': 1159, '자연': 1160, '신선하다': 1161, '나중': 1162, '올레길': 1163, '지는': 1164, '리뷰': 1165, '유아': 1166, '깜짝': 1167, '그런데': 1168, '아깝다': 1169, '가습기': 1170, '땐': 1171, '온돌방': 1172, '달': 1173, '실망하다': 1174, '웃다': 1175, '손': 1176, '번화가': 1177, '업무': 1178, '또는': 1179, '밤새': 1180, '꺼지다': 1181, '떠나다': 1182, '스위트': 1183, '아래': 1184, '외출': 1185, '닷컴': 1186, '답': 1187, '가짓수': 1188, '폭': 1189, '여직원': 1190, '발렛': 1191, '치기': 1192, '윗': 1193, '접근': 1194, '인접': 1195, '함덕': 1196, '알차다': 1197, '제외': 1198, '킹': 1199, '빌라': 1200, '천원': 1201, '살다': 1202, '불': 1203, '바쁘다': 1204, '바뀌다': 1205, '베다': 1206, '대응': 1207, '나무': 1208, '충전기': 1209, '히터': 1210, '순간': 1211, '병': 1212, '일어나다': 1213, '옥상': 1214, '아예': 1215, '요가': 1216, '둘째': 1217, '신나다': 1218, '쌓이다': 1219, '매트': 1220, '이중섭': 1221, '선': 1222, '이전': 1223, '닫히다': 1224, '갈수': 1225, '심지어': 1226, '보다도': 1227, '지역': 1228, '풍': 1229, '사전': 1230, '한다는': 1231, '부탁': 1232, '인거': 1233, '닦다': 1234, '피트니스': 1235, '끝': 1236, '실내수영장': 1237, '주말': 1238, '단체': 1239, '일출봉': 1240, '일부': 1241, '심': 1242, '내리다': 1243, '올라가다': 1244, '측': 1245, '알아보다': 1246, '생일': 1247, '싫다': 1248, '적합하다': 1249, '결국': 1250, '군데': 1251, '햇': 1252, '질': 1253, 'ㅎㅎㅎ': 1254, '행시': 1255, '끼다': 1256, '양': 1257, '통': 1258, '스테이': 1259, '낮': 1260, '꼼꼼하다': 1261, '미니바': 1262, '빨래': 1263, '헬스장': 1264, '일회용품': 1265, '카운터': 1266, '쏘다': 1267, '끝나다': 1268, '시청': 1269, '남편': 1270, '엘베': 1271, '속': 1272, '제한': 1273, '공용': 1274, '매': 1275, '종일': 1276, '비추다': 1277, '어느': 1278, '물건': 1279, '발견': 1280, '유리': 1281, '남기다': 1282, '호': 1283, '용이하다': 1284, '이기다': 1285, '피곤하다': 1286, '비즈니스': 1287, '떠들다': 1288, '최신': 1289, '복잡하다': 1290, '설치다': 1291, '라도': 1292, '불친절': 1293, '도구': 1294, '흔적': 1295, '찾아가다': 1296, '이건': 1297, '체험': 1298, '숙박시설': 1299, '올해': 1300, '좋아지다': 1301, '겸': 1302, '트이다': 1303, '박다': 1304, '말씀': 1305, '안쪽': 1306, '고려': 1307, '듭니': 1308, '따다': 1309, '가도': 1310, '미소': 1311, '당연하다': 1312, '자세하다': 1313, '한지': 1314, '술': 1315, '기대다': 1316, '갑자기': 1317, '천': 1318, '차이': 1319, '적절하다': 1320, '대신': 1321, '막': 1322, '쓰기': 1323, '태도': 1324, '모던': 1325, '강력': 1326, '틀다': 1327, '그럭저럭': 1328, '면도기': 1329, '이용도': 1330, '연식': 1331, '실제': 1332, '웰컴': 1333, '화관': 1334, '취소': 1335, '귀찮다': 1336, '올리다': 1337, '한가지': 1338, '정류장': 1339, '프로': 1340, '린스': 1341, '대형': 1342, '비지니스': 1343, '금방': 1344, '착하다': 1345, '치우다': 1346, '대박': 1347, '내용': 1348, '드': 1349, '치고': 1350, '니당다': 1351, '찝찝하다': 1352, '켜다': 1353, '소파': 1354, '마무리': 1355, '이외': 1356, '방과': 1357, '카드': 1358, '천장': 1359, '모': 1360, '비슷하다': 1361, '감안': 1362, '우도': 1363, '어린이': 1364, '세다': 1365, '열리다': 1366, '붙이다': 1367, '부엌': 1368, '해봤다': 1369, '기타': 1370, '개다': 1371, '고르다': 1372, '행사': 1373, '태풍': 1374, '정갈하다': 1375, '창밖': 1376, '매년': 1377, '불만': 1378, '동시': 1379, '붐비다': 1380, '모시다': 1381, '선물': 1382, '배달': 1383, '습하다': 1384, '안전': 1385, '콘도': 1386, '지도': 1387, '기념': 1388, '정수기': 1389, '이지': 1390, '칭찬': 1391, '대화': 1392, '흔들리다': 1393, '자국': 1394, '불량': 1395, '세면': 1396, '걷기': 1397, '층간소음': 1398, '과일': 1399, '뛰어나다': 1400, '니까': 1401, '해수욕장': 1402, '가볍다': 1403, '수영복': 1404, '잊다': 1405, '무': 1406, '식당가': 1407, '해당': 1408, '굿굿': 1409, '당일': 1410, '야간': 1411, '진입': 1412, '최근': 1413, '우': 1414, '개별': 1415, '에선': 1416, '벽지': 1417, '환풍기': 1418, '들어주다': 1419, '결정': 1420, '예전': 1421, '주문': 1422, '자꾸': 1423, '멋있다': 1424, '인피니티': 1425, '횟집': 1426, '상품': 1427, '크리스마스': 1428, 'suv': 1429, '보이지': 1430, '지불': 1431, '옷장': 1432, '걸이': 1433, '발생': 1434, '사다': 1435, '검색': 1436, '도시': 1437, '봄': 1438, 'a': 1439, '입': 1440, '이상하다': 1441, '여자': 1442, '방개': 1443, '쇼파': 1444, '잠깐': 1445, '럭셔리': 1446, '잠자다': 1447, '스럽지': 1448, '더하다': 1449, '디너': 1450, '돌다': 1451, '간식': 1452, '다행': 1453, '쓰레기': 1454, '시국': 1455, '운전': 1456, '거슬리다': 1457, '인가': 1458, '구석구석': 1459, '되게': 1460, '지나가다': 1461, '아웃': 1462, '야': 1463, '들이다': 1464, '조치': 1465, '지나다': 1466, '포장': 1467, '날다': 1468, '신발': 1469, '답변': 1470, '모로': 1471, '방향': 1472, '코인': 1473, '처': 1474, '실수': 1475, '쫌': 1476, '믿다': 1477, '요구': 1478, '블룸': 1479, '에서부터': 1480, '부부': 1481, '광장': 1482, '타일': 1483, '전경': 1484, '잡히다': 1485, '말고': 1486, '빗': 1487, '무섭다': 1488, '트윈룸': 1489, '신분': 1490, '안전하다': 1491, '직하다': 1492, '아파트': 1493, '식기': 1494, '써머': 1495, '만의': 1496, '그랜드': 1497, '탁월하다': 1498, '구분': 1499, '입다': 1500, '갖다': 1501, '스벅': 1502, '피': 1503, '한참': 1504, '위주': 1505, '솔직하다': 1506, '여전하다': 1507, '요원': 1508, '가요': 1509, '인터넷': 1510, '비품': 1511, '엄청나다': 1512, '후회': 1513, '거나': 1514, '해안': 1515, '바로바로': 1516, '불가': 1517, '트': 1518, '똑같다': 1519, '미치다': 1520, '분도': 1521, '내년': 1522, '말투': 1523, '이미지': 1524, '놀래다': 1525, '까지는': 1526, '자쿠': 1527, '확실하다': 1528, '전복죽': 1529, '에게도': 1530, '쉽다': 1531, '덕': 1532, '우수하다': 1533, '번거롭다': 1534, '프로모션': 1535, '클럽': 1536, '총': 1537, '프라이': 1538, '몇번': 1539, '고치다': 1540, '말씀드리다': 1541, '지난': 1542, '가득하다': 1543, '자쿠지': 1544, '혜택': 1545, '마감': 1546, '각': 1547, '판매': 1548, '여행자': 1549, '잠도': 1550, '안나': 1551, '커텐': 1552, '본': 1553, '잘나오다': 1554, '가득': 1555, '듣다': 1556, '정비': 1557, '용이': 1558, '공기청정기': 1559, '마주치다': 1560, '진심': 1561, '흡연': 1562, '동네': 1563, '상관없다': 1564, '세번': 1565, '너무나도': 1566, '동생': 1567, '서울': 1568, 'good': 1569, '잠들다': 1570, '슴': 1571, '스파': 1572, '이하': 1573, '이미': 1574, '그때': 1575, '누르다': 1576, '개장': 1577, '바깥': 1578, '기구': 1579, '찍다': 1580, '삼': 1581, '미끄럽다': 1582, '그나마': 1583, '지은지': 1584, '한편': 1585, '버튼': 1586, '정상': 1587, '자마자': 1588, '해외': 1589, '그닥': 1590, '이용권': 1591, '깨': 1592, '오븐': 1593, '채널': 1594, '정보': 1595, '제품': 1596, '코너': 1597, '디': 1598, '잘못': 1599, '한테': 1600, '냉': 1601, '커피포트': 1602, '가든': 1603, '다정': 1604, '표시': 1605, '센스': 1606, '찾아보다': 1607, '주신': 1608, '구입': 1609, '골목': 1610, '액': 1611, '코': 1612, '경': 1613, '끝내주다': 1614, '겁니다': 1615, '현관': 1616, '베이커리': 1617, '갈아': 1618, '대처': 1619, '키핑': 1620, '무리': 1621, '년전': 1622, '스럽게': 1623, '값': 1624, '에겐': 1625, '세우다': 1626, '치': 1627, '예상': 1628, '끼': 1629, '전달': 1630, '전용': 1631, '보수': 1632, '불안하다': 1633, '방충': 1634, '무슨': 1635, '마시다': 1636, '평가': 1637, '다시다': 1638, '자동': 1639, '줄다': 1640, '이만': 1641, '치킨': 1642, '인프라': 1643, '채': 1644, '왠만하다': 1645, '신고': 1646, '음악': 1647, '여유롭다': 1648, '래시': 1649, '고생': 1650, '브랜드': 1651, '변': 1652, '기능': 1653, '어머니': 1654, '흠': 1655, '유용하다': 1656, '근접': 1657, '박동': 1658, '방해': 1659, '금': 1660, '머': 1661, '맥도날드': 1662, '마치': 1663, '선생님': 1664, '조심하다': 1665, '잠시': 1666, '워시': 1667, '이기': 1668, '세월': 1669, '푸드코트': 1670, '요조': 1671, '게다가': 1672, '오설록': 1673, '주의': 1674, '재료': 1675, '저렴': 1676, '미흡': 1677, '엉망': 1678, '궁금하다': 1679, '헷갈리다': 1680, '교육': 1681, '욕': 1682, '평일': 1683, '찢어지다': 1684, '료': 1685, '평': 1686, '그다지': 1687, '기준': 1688, '잔': 1689, '그만큼': 1690, '아무리': 1691, '병원': 1692, '점검': 1693, '가시다': 1694, '배다': 1695, '공지': 1696, '구멍': 1697, '물다': 1698, '과는': 1699, '근접하다': 1700, '취사': 1701, '수리': 1702, '바베큐': 1703, '벌써': 1704, '서쪽': 1705, '활용': 1706, '막상': 1707, '출발': 1708, '와이프': 1709, '국': 1710, '자녀': 1711, '즐': 1712, '장기': 1713, '풀다': 1714, '선반': 1715, '눕다': 1716, '저녁식사': 1717, '포트': 1718, '둘러보다': 1719, '자동차': 1720, '컴': 1721, '취하': 1722, '겠다': 1723, '하늘': 1724, '가져가다': 1725, '는걸': 1726, '운동': 1727, '문자': 1728, '완벽': 1729, '담다': 1730, '까페': 1731, '세탁실': 1732, '업': 1733, '각자': 1734, '모이다': 1735, '죠': 1736, '언제': 1737, '첨': 1738, '터': 1739, '틀': 1740, '필요없다': 1741, '허리': 1742, '양식': 1743, '해장국': 1744, '친철': 1745, '국내': 1746, '위층': 1747, '아저씨': 1748, '여행지': 1749, '나누다': 1750, '해안가': 1751, '착용': 1752, '퇴': 1753, '협': 1754, '닿다': 1755, '뛰다': 1756, '확': 1757, '곧': 1758, '보일러': 1759, '뒷': 1760, '짱짱': 1761, '건조기': 1762, '표정': 1763, '놀이기구': 1764, '냉방': 1765, 'ㅠㅠㅠ': 1766, '탁자': 1767, '디자인': 1768, '애월': 1769, '목욕탕': 1770, '연장': 1771, '그렇다고': 1772, '일간': 1773, '쿵쿵': 1774, '초': 1775, '물질': 1776, '탑동': 1777, '섬': 1778, '순': 1779, '구석': 1780, '보관': 1781, '측면': 1782, '불만족': 1783, '조명도': 1784, '가끔': 1785, '션': 1786, '전자레인지': 1787, '얼리다': 1788, '친정': 1789, '산책길': 1790, '마련': 1791, '얼마나': 1792, '넘어가다': 1793, '목': 1794, '겨우': 1795, '흐르다': 1796, '특성': 1797, '이서': 1798, '드네': 1799, '준': 1800, '매력': 1801, '중이': 1802, '그렇지만': 1803, '어수선하다': 1804, '차라리': 1805, '워': 1806, '관광객': 1807, '위험하다': 1808, '항': 1809, '숲속': 1810, '더블베드': 1811, '씨': 1812, '건너편': 1813, '나가야': 1814, '밤늦다': 1815, '높이': 1816, '도도': 1817, '이점': 1818, '신속하다': 1819, '다치다': 1820, '오늘': 1821, '암': 1822, '쇼핑몰': 1823, '배드': 1824, '걷다': 1825, '다섯': 1826, '방역': 1827, '놀수': 1828, '동쪽': 1829, '유명': 1830, '수질': 1831, '헤드': 1832, '일부러': 1833, '나위': 1834, '매니저': 1835, '이루어지다': 1836, '물리다': 1837, '글': 1838, '기르다': 1839, '지상': 1840, '반갑다': 1841, '절대': 1842, '아빠': 1843, '감탄': 1844, '얇다': 1845, '안타깝다': 1846, '무지': 1847, '반영': 1848, '늘리다': 1849, '침대시트': 1850, '망설이다': 1851, '조금씩': 1852, '재미': 1853, '칼': 1854, '재미있다': 1855, '형편': 1856, '시가': 1857, '하얏트': 1858, '하층': 1859, '기류': 1860, '샐러드': 1861, '그건': 1862, '달리': 1863, '줌': 1864, '약시': 1865, '사이드': 1866, '보지': 1867, '지치다': 1868, '외진': 1869, '매니': 1870, '선호': 1871, '줄이다': 1872, '외국': 1873, '첫째': 1874, '사오다': 1875, '보단': 1876, 'room': 1877, '대가족': 1878, '조경': 1879, '뻔하다': 1880, '장난': 1881, '꾸미다': 1882, '세련되다': 1883, '읍니': 1884, '료칸': 1885, '박만': 1886, '참여': 1887, '주로': 1888, '맨': 1889, '과정': 1890, '본인': 1891, '정신': 1892, '으론': 1893, '열심히': 1894, '베이': 1895, '계단': 1896, '습기': 1897, '핸드폰': 1898, '지나': 1899, '밉다': 1900, '판악': 1901, '집도': 1902, '누가': 1903, '다행하다': 1904, '커피숍': 1905, '아내': 1906, '가지다': 1907, '한데': 1908, '누리다': 1909, '조선': 1910, '부지': 1911, '목욕': 1912, '이니': 1913, '타입': 1914, '노래': 1915, '첫인상': 1916, '띄다': 1917, '스탠다드': 1918, '현장': 1919, '비우다': 1920, '금연': 1921, '주지': 1922, '업글': 1923, '생각나다': 1924, '평범하다': 1925, '고정': 1926, '유리창': 1927, '얼굴': 1928, '의향': 1929, '컨': 1930, '심해': 1931, '생활': 1932, '부터는': 1933, '조만간': 1934, '푸드': 1935, '스트리트': 1936, '만에': 1937, '흠잡다': 1938, '옵션': 1939, '엇': 1940, '빌트': 1941, '지키다': 1942, '진': 1943, '파리': 1944, '나요': 1945, '동남아': 1946, '부가': 1947, '로션': 1948, '얼음': 1949, '풍차': 1950, '펍': 1951, '탕': 1952, '안이': 1953, '도어': 1954, '필수': 1955, '플레인': 1956, '방식': 1957, '셔틀버스': 1958, '운행': 1959, '치고는': 1960, '랄': 1961, '영화': 1962, '스트레스': 1963, '회원': 1964, '이구': 1965, '휴지': 1966, '메인': 1967, '벙커': 1968, '울': 1969, '돌리다': 1970, '정문': 1971, '터지다': 1972, '런가': 1973, '군더더기': 1974, '신다': 1975, '전자렌지': 1976, '탁': 1977, '관계': 1978, '비닐': 1979, '중국인': 1980, '셀러': 1981, '반찬': 1982, '부담스럽다': 1983, '울다': 1984, '아담하다': 1985, '포기': 1986, '부르다': 1987, '통로': 1988, '빛': 1989, '노력': 1990, '뚫리다': 1991, '펼치다': 1992, '로운': 1993, '편임': 1994, '뻔': 1995, '어딜': 1996, '민감하다': 1997, '범섬': 1998, '시어': 1999, '어차피': 2000, '조리': 2001, '스프링': 2002, '뜯다': 2003, '오시': 2004, '전기': 2005, '파티': 2006, '퀸': 2007, '리뉴얼': 2008, '로만': 2009, '만으로도': 2010, '기기': 2011, '긋다': 2012, '연인': 2013, '등산': 2014, '흐리다': 2015, '설정': 2016, '마인드': 2017, '관음사': 2018, '상세': 2019, '장갑': 2020, '프리미엄': 2021, '모임': 2022, '방법': 2023, '의견': 2024, '맡다': 2025, '이동해': 2026, '술집': 2027, '최': 2028, '연휴': 2029, '펜션': 2030, '줍다': 2031, '던지다': 2032, '가방': 2033, '마리': 2034, '주요': 2035, '연속': 2036, '저번': 2037, '식탁': 2038, '정이': 2039, '사이트': 2040, '취향': 2041, '재다': 2042, '락스': 2043, '힐': 2044, '출입': 2045, '형식': 2046, '루': 2047, '잔뜩': 2048, '가운데': 2049, '전등': 2050, '홈페이지': 2051, '편안': 2052, '쓰레기통': 2053, '막다': 2054, '주어': 2055, '점심': 2056, '조차': 2057, '다가': 2058, '든든하다': 2059, '호실': 2060, '꽉': 2061, '지루하다': 2062, '란': 2063, '렌터카': 2064, '레이': 2065, '그릇': 2066, '오름': 2067, '화가': 2068, '투어': 2069, '맛없다': 2070, '움직': 2071, '주년': 2072, '조성': 2073, '정확하다': 2074, '만점': 2075, '짜증': 2076, '소독': 2077, '몰리다': 2078, '강하다': 2079, '휘트니': 2080, '결과': 2081, '이내': 2082, '야시장': 2083, '일주일': 2084, '내려오다': 2085, '소개': 2086, '상권': 2087, '담당': 2088, '뜻': 2089, '쌀국수': 2090, '깊이': 2091, '친': 2092, '오염': 2093, '코앞': 2094, '피다': 2095, '혹은': 2096, '조건': 2097, '풍기': 2098, '비롯': 2099, '건너': 2100, '한국': 2101, '충분': 2102, '홈쇼핑': 2103, '불꽃놀이': 2104, '반드시': 2105, '타임': 2106, '바퀴벌레': 2107, '괜히': 2108, '구역': 2109, '볼링장': 2110, '해달라다': 2111, '젊다': 2112, '넷플릭스': 2113, '번호': 2114, '혹시': 2115, '감상': 2116, '고조': 2117, '차단': 2118, '칠': 2119, '팀': 2120, '반납': 2121, '짓다': 2122, '건조': 2123, '고요': 2124, '이어지다': 2125, '가져다주다': 2126, '감기': 2127, '더러': 2128, '페리': 2129, '메이드': 2130, '휴양': 2131, '끈': 2132, '도시락': 2133, '시야': 2134, '와의': 2135, '품': 2136, '과자': 2137, '꺼리다': 2138, '발렛파킹': 2139, '트리플': 2140, '다해': 2141, '플레이': 2142, '널찍하다': 2143, '고해': 2144, '우산': 2145, '교환': 2146, '황당하다': 2147, '지난번': 2148, '놓이다': 2149, '가동': 2150, '쾌적': 2151, '어요': 2152, '상대': 2153, '헤매다': 2154, '항구': 2155, '낫다': 2156, '길거리': 2157, 'cu': 2158, '해먹': 2159, '결혼': 2160, '의무': 2161, '가시': 2162, '방기': 2163, 'view': 2164, '압도': 2165, '누리': 2166, '평소': 2167, '어머님': 2168, '일행': 2169, '가세': 2170, '바람소리': 2171, '아리아': 2172, '이든': 2173, '허다': 2174, '사고': 2175, '틈': 2176, '여쭈다': 2177, '해드리다': 2178, '섬세하다': 2179, '한쪽': 2180, '블로그': 2181, '왕': 2182, '단연': 2183, '수고': 2184, '주오': 2185, '기존': 2186, '워드': 2187, '오가다': 2188, '들르다': 2189, '면세점': 2190, '딸아이': 2191, '빈약하다': 2192, '피아노': 2193, '유모차': 2194, '출입구': 2195, '눅눅하다': 2196, '간이': 2197, '벗다': 2198, '얻다': 2199, '다방': 2200, '추후': 2201, '번은': 2202, '꺼내다': 2203, '오르다': 2204, '리가': 2205, '아가': 2206, '허니문': 2207, '상냥하다': 2208, '제법': 2209, '지배인': 2210, '탈': 2211, '설비': 2212, '끌': 2213, '조카': 2214, '대체': 2215, '슈': 2216, '젤': 2217, '신랑': 2218, '악취': 2219, '울리다': 2220, '대의': 2221, '뭘': 2222, '간격': 2223, '미술관': 2224, '질문': 2225, '튜브': 2226, '그날': 2227, '미안하다': 2228, '구관': 2229, '남아': 2230, '겪다': 2231, '찬': 2232, '특': 2233, '사기': 2234, '취약': 2235, '품질': 2236, '노선': 2237, '중턱': 2238, '에어콘': 2239, '창가': 2240, '땜': 2241, '로서': 2242, '외다': 2243, '털': 2244, '특유': 2245, '와는': 2246, '느리다': 2247, '스마트': 2248, '곱다': 2249, '뚫다': 2250, '스러운': 2251, '생기': 2252, '서서': 2253, '없어지다': 2254, '각각': 2255, '번잡': 2256, '존': 2257, '어르신': 2258, '바램': 2259, '나무라다': 2260, '캉스': 2261, '계': 2262, '콜': 2263, '실하다': 2264, '휴양지': 2265, '근': 2266, '최대한': 2267, '북적': 2268, '아마': 2269, '플': 2270, '암튼': 2271, '운': 2272, '래': 2273, '심각하다': 2274, '팅': 2275, '터미널': 2276, '책상': 2277, '으로만': 2278, '보시': 2279, '택': 2280, '만나다': 2281, '레이크': 2282, '작성': 2283, '한정': 2284, '음번': 2285, '갑작스럽다': 2286, '비수': 2287, '누군가': 2288, '부드럽다': 2289, '안보': 2290, '마치다': 2291, '의심': 2292, '부모': 2293, '오자': 2294, '할머니': 2295, '차라': 2296, '여분': 2297, '나이': 2298, '수용': 2299, '변화': 2300, '입점': 2301, '상가': 2302, '여느': 2303, '대하': 2304, '사랑': 2305, '젖다': 2306, '개방': 2307, '포인트': 2308, '귀': 2309, '널다': 2310, '파다': 2311, '세트': 2312, '별다르다': 2313, '박물관': 2314, '쿠션': 2315, '와인잔': 2316, '넉': 2317, '인용': 2318, '하룻밤': 2319, '활동': 2320, '상쾌하다': 2321, '베스트': 2322, '한장': 2323, '면적': 2324, '반하다': 2325, '의미': 2326, '뿐이다': 2327, '적임': 2328, '닷': 2329, '쾌쾌': 2330, '매장': 2331, '영업': 2332, '펼쳐지다': 2333, '가리다': 2334, '말소리': 2335, '바퀴': 2336, '이기도': 2337, '당시': 2338, '사먹다': 2339, '걸레': 2340, '호텔리어': 2341, '불가하다': 2342, '따라서': 2343, '이정': 2344, '한가운데': 2345, '내의': 2346, '박일동': 2347, '라인': 2348, '맞은편': 2349, '치가': 2350, '으': 2351, '흘리다': 2352, '수납': 2353, '구가': 2354, '협소함': 2355, '밤시': 2356, '가전': 2357, '카': 2358, '초등학생': 2359, '안심': 2360, '비염': 2361, '놀이동산': 2362, '높이다': 2363, '최적화': 2364, '스프': 2365, '미역국': 2366, '즈': 2367, '놀이터': 2368, '시간대': 2369, '다운': 2370, '분명': 2371, '면서': 2372, '비리다': 2373, '수면': 2374, '며칠': 2375, '혹': 2376, '아아': 2377, '레이스': 2378, '그저': 2379, '데우다': 2380, '비갑': 2381, '특가': 2382, '식다': 2383, 'x': 2384, 'm': 2385, '떨다': 2386, '토스트': 2387, '클리닝': 2388, '만들기': 2389, '끝판': 2390, '용두암': 2391, '평이': 2392, '옵니다': 2393, '더불다': 2394, '생맥주': 2395, 'ㅠㅜ': 2396, '중식': 2397, '안성맞춤': 2398, '감다': 2399, '갓': 2400, '민망하다': 2401, '된거': 2402, '스타일': 2403, '박스': 2404, '야식': 2405, '초등': 2406, '성능': 2407, '사과': 2408, '넘치다': 2409, '거려': 2410, '짜증나다': 2411, '연주': 2412, '조경이': 2413, '깨끗이': 2414, '추석': 2415, '환영': 2416, '등록': 2417, '싱크대': 2418, '업체': 2419, '팬': 2420, '런치': 2421, '하고는': 2422, '동이': 2423, '친정엄마': 2424, '안함': 2425, '라바': 2426, '리프': 2427, '빵빵': 2428, '레드': 2429, '건데': 2430, '완전하다': 2431, '가라': 2432, '불가능하다': 2433, '현재': 2434, '팔다': 2435, '인기': 2436, '오성': 2437, '까진': 2438, '전화기': 2439, '스위치': 2440, '고기': 2441, '중단': 2442, '출렁': 2443, '가을': 2444, '꽂다': 2445, '통창': 2446, '머신': 2447, '뒤척': 2448, '대충': 2449, '안내받다': 2450, '클래식': 2451, '트랜스포머': 2452, '빵집': 2453, '세상': 2454, '리지': 2455, '찍기': 2456, '쪼금': 2457, '고가': 2458, '역': 2459, '메리트': 2460, '미지근하다': 2461, '푸다': 2462, '중산': 2463, '난이': 2464, '선착순': 2465, '까지도': 2466, '전통': 2467, '만큼의': 2468, '약국': 2469, '대단하다': 2470, '서랍': 2471, '탓': 2472, '두운': 2473, '일박': 2474, '서도': 2475, '감수': 2476, '요담': 2477, '계절': 2478, '푹쉬다': 2479, '알러지': 2480, '색다르다': 2481, '어울리다': 2482, '철저하다': 2483, '지르다': 2484, '김치': 2485, '노을': 2486, '어마': 2487, '누구': 2488, '사소하다': 2489, '씨뷰': 2490, '세명': 2491, '찌다': 2492, '앞쪽': 2493, '배경': 2494, '소란': 2495, '리필': 2496, '접시': 2497, 'ㅇ': 2498, '회사': 2499, '맡기다': 2500, 'was': 2501, '가져오다': 2502, '하고도': 2503, '다가오다': 2504, '오믈렛': 2505, '내려다보다': 2506, '풀기': 2507, '맘껏': 2508, '휴대폰': 2509, '돌': 2510, '쾅': 2511, '결혼기념일': 2512, 'the': 2513, '지나치다': 2514, '화려하다': 2515, '놀람': 2516, '애용': 2517, '봉': 2518, '하프': 2519, '케이블': 2520, '참다': 2521, '옴': 2522, '치즈': 2523, '다리': 2524, '자본': 2525, '동료': 2526, '차도': 2527, 'gs': 2528, '내일': 2529, '국적': 2530, '쥬스': 2531, '꽃': 2532, '반복': 2533, '보안': 2534, '지급': 2535, '해지': 2536, '지속': 2537, '온천': 2538, '테': 2539, '불빛': 2540, '끊기다': 2541, '서귀포시': 2542, '안다': 2543, '대리석': 2544, '체인': 2545, '전이': 2546, '뻑뻑': 2547, '통화': 2548, '무겁다': 2549, '웅장': 2550, '기약': 2551, '등급': 2552, '대고': 2553, '수전': 2554, '음식물': 2555, '내야': 2556, '흔들다': 2557, '데리다': 2558, '나아지다': 2559, '우수': 2560, '놔두다': 2561, '포차': 2562, '이드': 2563, '사서': 2564, '한눈': 2565, '수시로': 2566, '군데군데': 2567, '지은': 2568, '잔디': 2569, '어메': 2570, '부도': 2571, '몰다': 2572, '서로': 2573, '어이없다': 2574, '샵': 2575, '리모컨': 2576, '부근': 2577, '합': 2578, '국수': 2579, '페인트': 2580, '홀': 2581, '가나': 2582, 'b': 2583, '대안': 2584, '비록': 2585, '소중하다': 2586, '우연히': 2587, '아동': 2588, '최고급': 2589, '도나': 2590, '부': 2591, '내외': 2592, '올려놓다': 2593, '구도': 2594, '가정': 2595, '컨시어': 2596, '보여주다': 2597, '벽면': 2598, 'in': 2599, '캠프': 2600, '드릴': 2601, '오지': 2602, '박하': 2603, '지고': 2604, '갈치': 2605, '새소리': 2606, '오토바이': 2607, '없슴': 2608, '자재': 2609, '턱': 2610, '튀다': 2611, '차요': 2612, '성하다': 2613, '세척': 2614, '시즌': 2615, 'ㅋㅋㅋㅋ': 2616, '파도': 2617, '무제한': 2618, '쇼': 2619, '부산': 2620, '고프다': 2621, '동행': 2622, '쎄다': 2623, '정면': 2624, '링크': 2625, '대접받다': 2626, '상주': 2627, '웃음': 2628, '좌석': 2629, '백': 2630, '언제나': 2631, '고구마': 2632, '드럼세탁기': 2633, '조기': 2634, '쿰쿰하다': 2635, '해외여행': 2636, '방치': 2637, '로써': 2638, '돋보이다': 2639, '화재': 2640, '아무렇다': 2641, '환하다': 2642, '움직임': 2643, '쐬다': 2644, '손잡이': 2645, '천국': 2646, '노': 2647, '죽다': 2648, '할아버지': 2649, '파리바게트': 2650, '달라지다': 2651, '인포': 2652, '지지다': 2653, '태교여행': 2654, '통제': 2655, '키로': 2656, '상상': 2657, '음가': 2658, '환': 2659, '도민': 2660, '전기포트': 2661, '인덕션': 2662, 'and': 2663, '딱좋다': 2664, '아울렛': 2665, '반기다': 2666, '첨으로': 2667, '마찬가지': 2668, '호불호': 2669, '다수': 2670, '헤어': 2671, '다리미': 2672, '스테이크': 2673, '관덕정': 2674, '소요': 2675, '설다': 2676, '넓이': 2677, '커다랗다': 2678, '컨디셔너': 2679, '넘어서다': 2680, '몇몇': 2681, '기념품': 2682, '위험': 2683, 'out': 2684, '그걸': 2685, '비치다': 2686, '퇴실': 2687, '수심': 2688, '얕다': 2689, '향기': 2690, '공터': 2691, '근무': 2692, '건축': 2693, '수온': 2694, '환불': 2695, '왼쪽': 2696, '그중': 2697, '법원': 2698, '여럿': 2699, '인도': 2700, '날리다': 2701, '하얗다': 2702, '상점': 2703, '정방폭포': 2704, '셀프': 2705, '눈치': 2706, '투': 2707, '관람': 2708, '운치': 2709, '별빛': 2710, '냉동': 2711, '극': 2712, '제로': 2713, '세븐일레븐': 2714, '식빵': 2715, '냥': 2716, '코드': 2717, '탁트인': 2718, '그치다': 2719, '어디서': 2720, '쌀쌀하다': 2721, '라니': 2722, '소소하다': 2723, '지리': 2724, '카트': 2725, '룸상태': 2726, '여행기': 2727, '덤': 2728, '키즈룸': 2729, '새집': 2730, '관심': 2731, '제거': 2732, '픽업': 2733, '추': 2734, '초콜릿': 2735, '수정': 2736, '최소한': 2737, '너무도': 2738, '갈아타다': 2739, '광고': 2740, '가전제품': 2741, '불고기': 2742, '저기': 2743, '매리어트': 2744, '해산물': 2745, '피부': 2746, '수영모': 2747, '기사': 2748, '녹슬다': 2749, '칸': 2750, '이루다': 2751, '지붕': 2752, '든지': 2753, '이보': 2754, '분명하다': 2755, '불어': 2756, '좋았슴': 2757, '유동': 2758, '장마': 2759, '뒤쪽': 2760, '고스': 2761, '실리콘': 2762, '이라니': 2763, '아끼다': 2764, '부재': 2765, '이즈': 2766, '각방': 2767, '즉각': 2768, '가가': 2769, '가치': 2770, '위쪽': 2771, '사계절': 2772, '켜지다': 2773, '아보': 2774, '다양성': 2775, '이용자': 2776, '대표': 2777, '조림': 2778, '여행가': 2779, '우와': 2780, '더욱더': 2781, '어마어마하다': 2782, '일품': 2783, '시계': 2784, '검다': 2785, '기다림': 2786, '널': 2787, '포': 2788, '요강': 2789, '속도': 2790, '이유식': 2791, '쏙': 2792, '직': 2793, '쿠키': 2794, '꼽자': 2795, '산속': 2796, '기전': 2797, '공영': 2798, '차분하다': 2799, '재우다': 2800, '김치찌개': 2801, '키티': 2802, '플라자': 2803, '소문': 2804, '결론': 2805, '마주': 2806, '일어나서': 2807, '속이다': 2808, 'hotel': 2809, '나르다': 2810, '햇빛': 2811, '선풍기': 2812, '냉장': 2813, '전원': 2814, '소가': 2815, '디저트': 2816, '수월하다': 2817, '번창': 2818, '예술': 2819, '둘레길': 2820, '박이상': 2821, '라이브': 2822, '간혹': 2823, '접': 2824, '안개': 2825, '수구': 2826, '표지판': 2827, '화면': 2828, '메이크업': 2829, '거미': 2830, '여성': 2831, '남성': 2832, '닦이다': 2833, '다녀가다': 2834, '장도': 2835, '대답': 2836, '한마디': 2837, '젖병': 2838, '여부': 2839, '구르다': 2840, '한개': 2841, '자유': 2842, '신기하다': 2843, '홀로': 2844, '싹': 2845, '티백': 2846, '집기': 2847, '거품': 2848, '사라지다': 2849, '쓰시': 2850, '면봉': 2851, '식음': 2852, '컨셉': 2853, '책': 2854, '부턴': 2855, '훌륭': 2856, '분실': 2857, '노출': 2858, '동일': 2859, 'usb': 2860, '불량하다': 2861, '뿌리다': 2862, '협소합니': 2863, '체': 2864, '복합': 2865, '웠': 2866, '모자라다': 2867, '알맞다': 2868, '카페나': 2869, '형태': 2870, '금지': 2871, '골든': 2872, '적용': 2873, '물소': 2874, '상관': 2875, '출입문': 2876, '리노': 2877, '은근': 2878, '용감': 2879, '패': 2880, '중심지': 2881, '절로': 2882, '은방': 2883, '가로': 2884, '꼽': 2885, '리모콘': 2886, '유흥가': 2887, '에가': 2888, '오라': 2889, '뛰어놀다': 2890, '갈리다': 2891, '청소기': 2892, '째다': 2893, '미처': 2894, '호스': 2895, '풍부하다': 2896, '빈': 2897, '괴롭다': 2898, '고여': 2899, '차서': 2900, '여파': 2901, '가려지다': 2902, '토스카나': 2903, '기침': 2904, '확보': 2905, '소한': 2906, '어도': 2907, '신호': 2908, '아직도': 2909, '죄송하다': 2910, '날짜': 2911, '땅': 2912, '롭고': 2913, '독채': 2914, '입장권': 2915, '취': 2916, '발전': 2917, '슈퍼': 2918, '키친': 2919, '마사지': 2920, '한산하다': 2921, '망치다': 2922, '지정': 2923, '노래방': 2924, '조리기구': 2925, '건조대': 2926, '오랫': 2927, '판단': 2928, '실컷': 2929, '서부': 2930, '산방산': 2931, 'ㅠㅠㅠㅠ': 2932, '미터': 2933, '둘이서': 2934, '무언가': 2935, '뛰어다니다': 2936, '그러면': 2937, '현금': 2938, '맑은': 2939, '벗겨지다': 2940, '강력하다': 2941, '국물': 2942, '이란': 2943, '전자제품': 2944, '종종': 2945, '자매': 2946, '놀랍다': 2947, '연말': 2948, '뭔': 2949, '추위': 2950, '담그다': 2951, '깜빡': 2952, '웟': 2953, '소도': 2954, '건가': 2955, '용다': 2956, '뚜껑': 2957, '매너': 2958, '이중': 2959, '우풍': 2960, '마자': 2961, '빨르다': 2962, '철': 2963, '작업': 2964, '폭포': 2965, '미숙': 2966, '잔디밭': 2967, '물기': 2968, '별루': 2969, '숲길': 2970, '벗어나다': 2971, '워치': 2972, '빗다': 2973, '일본': 2974, '베리': 2975, '만족감': 2976, '투고': 2977, '회용': 2978, '외곽': 2979, '안고': 2980, '두르다': 2981, '받침': 2982, '만큼은': 2983, '실외수영장': 2984, '요인': 2985, '뿌듯하다': 2986, '푹신푹신': 2987, '여자친구': 2988, '대면': 2989, '방만': 2990, '까다롭다': 2991, '사장': 2992, '평균': 2993, '방지': 2994, '성의': 2995, '으리': 2996, '완비': 2997, '오락실': 2998, '모슬포': 2999, '다양': 3000, '언덕': 3001, '만난': 3002, '구지': 3003, '빙수': 3004, '발열': 3005, '맑다': 3006, '계란': 3007, '바르다': 3008, '괜': 3009, '의외로': 3010, '메': 3011, '시리얼': 3012, '골고루': 3013, '석양': 3014, '시부모': 3015, '명과': 3016, '아버지': 3017, '인생': 3018, '결혼식': 3019, '옆쪽': 3020, '절반': 3021, '투자': 3022, '최소': 3023, '가입': 3024, '밀리다': 3025, '도르다': 3026, '잠기다': 3027, '얼룩지다': 3028, '마운틴뷰': 3029, '변하다': 3030, '공유': 3031, '왓': 3032, '브런치': 3033, '무덥다': 3034, '뒤지다': 3035, '집다': 3036, '시댁': 3037, '베이컨': 3038, '너무하다': 3039, '최대': 3040, '진동': 3041, '미국': 3042, '실용': 3043, '들추다': 3044, '스프레이': 3045, '충격': 3046, '인식': 3047, '둘러보기': 3048, '심심하다': 3049, '스케줄': 3050, '유튜브': 3051, '억': 3052, '입맛': 3053, '석': 3054, '청정기': 3055, '떡': 3056, '래서': 3057, 'c': 3058, '입지': 3059, '꽁초': 3060, 'not': 3061, '소독기': 3062, '게스트하우스': 3063, '메세지': 3064, '감히': 3065, '전문': 3066, '자유롭다': 3067, '종이컵': 3068, '하자': 3069, '아쿠아': 3070, '한계': 3071, '하우스키퍼': 3072, '약속': 3073, '카지노': 3074, '월일': 3075, '동일하다': 3076, '우진': 3077, '사악하다': 3078, '전환': 3079, '이상은': 3080, '가림': 3081, '차원': 3082, '취할': 3083, '열기': 3084, '난리': 3085, '무인': 3086, 'check': 3087, '요전': 3088, '잡고': 3089, '락': 3090, '접다': 3091, '귀엽다': 3092, '어기': 3093, '솔솔': 3094, '옥외': 3095, '녹': 3096, '달걀': 3097, '연기': 3098, '캔': 3099, '한층': 3100, '용해': 3101, '시시': 3102, '명절': 3103, '하라': 3104, '베딩': 3105, '오일장': 3106, '결재': 3107, '아베': 3108, '핸드': 3109, '큐브': 3110, '보충': 3111, '려고': 3112, '문도': 3113, '듬': 3114, '포항': 3115, '만지다': 3116, '역할': 3117, '주무시다': 3118, '최강': 3119, '빠져나가다': 3120, '겹': 3121, '사려': 3122, '전시': 3123, '닥': 3124, '대중': 3125, '말리다': 3126, '조정': 3127, '활짝': 3128, '땀': 3129, '갑갑하다': 3130, '별관': 3131, '행동': 3132, '성산읍': 3133, '그런대로': 3134, '인걸': 3135, '맛보다': 3136, '매너티': 3137, '에다가': 3138, '프라이버시': 3139, '낮추다': 3140, '커넥팅룸': 3141, '새해': 3142, '승강기': 3143, '월말': 3144, '중국어': 3145, '저학년': 3146, '놀러와': 3147, '세가족': 3148, '그동안': 3149, '살수': 3150, '현대': 3151, '고고': 3152, '컷': 3153, '마스터': 3154, '로움': 3155, '연결하다': 3156, '언급': 3157, '케리': 3158, '이니까': 3159, 'so': 3160, '찜찜하다': 3161, '무시': 3162, '오니': 3163, '표현': 3164, '망가지다': 3165, '꿀렁거려': 3166, '즉시': 3167, '널널': 3168, '푹신': 3169, '예상외': 3170, '근방': 3171, '안주': 3172, '아주아주': 3173, '웬만하다': 3174, '부러지다': 3175, '간편하다': 3176, '특색': 3177, '읽다': 3178, '자전거': 3179, '드라이': 3180, '부실': 3181, '뻥': 3182, '착각': 3183, '덮다': 3184, '소재': 3185, '눈뜨다': 3186, '강아지': 3187, '응': 3188, '방파제': 3189, '맨발': 3190, '시도': 3191, '노후하다': 3192, '쿠': 3193, '장식': 3194, '블': 3195, '두기': 3196, '큰소리': 3197, '쉬기': 3198, '트렁크': 3199, '모슬포항': 3200, '인게': 3201, '정거장': 3202, '조그만': 3203, '엿': 3204, '군': 3205, '감성': 3206, '차이다': 3207, '스탠드': 3208, '고지': 3209, '방문객': 3210, '응답': 3211, '케어': 3212, '생선': 3213, '카카오': 3214, '신하': 3215, '난감하다': 3216, '율': 3217, '단둘': 3218, '딸리다': 3219, '구명조끼': 3220, '시경': 3221, '완료': 3222, 'service': 3223, '거절': 3224, '호수': 3225, '걸어오다': 3226, '용량': 3227, '아기자기하다': 3228, '굽다': 3229, '유채꽃': 3230, '욤': 3231, '핫': 3232, '넖': 3233, '마침': 3234, '비행': 3235, '너머': 3236, '콸콸': 3237, '프리미어': 3238, '스카이': 3239, '튀어': 3240, '얼': 3241, '단독': 3242, '결항': 3243, '후회되다': 3244, '미끄러지다': 3245, '수량': 3246, '일몰': 3247, '준수': 3248, '드라이어': 3249, '침': 3250, '상시': 3251, '이신': 3252, '리스트': 3253, '요거트': 3254, '훤히': 3255, '아스타': 3256, '한두': 3257, '눈앞': 3258, '미니': 3259, '꼭대기': 3260, '헬스': 3261, '완성': 3262, '에서나': 3263, '살기': 3264, '트리': 3265, '밥솥': 3266, '모라': 3267, '여정': 3268, '나이트': 3269, '협탁': 3270, '위아래': 3271, '커피잔': 3272, '방바닥': 3273, 'off': 3274, 'for': 3275, 'to': 3276, '늘어나다': 3277, '기온': 3278, '멈추다': 3279, '호텔룸': 3280, '피해': 3281, '보상': 3282, '오붓하다': 3283, '별개': 3284, '외식': 3285, '씨티': 3286, '거여': 3287, '흔하다': 3288, '시반': 3289, '틀어주다': 3290, '장만': 3291, '저가': 3292, '끝방': 3293, '교직원': 3294, '살리다': 3295, '법': 3296, '사인': 3297, '의아': 3298, '자판기': 3299, '잃다': 3300, '쉰내': 3301, '생': 3302, '을해': 3303, '지우다': 3304, '통한': 3305, '더더': 3306, '모처럼': 3307, '점수': 3308, '멘트': 3309, '휼륭하다': 3310, '탈수': 3311, '후시': 3312, '적립': 3313, '기만': 3314, '이라기': 3315, '플라스틱': 3316, '반대': 3317, '요물': 3318, '오리': 3319, '빅': 3320, '녹차': 3321, '치솔': 3322, '화하다': 3323, '삼다수': 3324, '즉석': 3325, '퀴퀴하다': 3326, '표기': 3327, '듯함': 3328, '햇습니': 3329, '껏': 3330, '웨스턴': 3331, '환경보호': 3332, '방가': 3333, '부터가': 3334, '만들어지다': 3335, '헬': 3336, '목적지': 3337, '흰색': 3338, '현지': 3339, '값어치': 3340, '외국인': 3341, '잠옷': 3342, '적히다': 3343, '복판': 3344, '제발': 3345, '시민': 3346, '회관': 3347, '마룻바닥': 3348, '마땅하다': 3349, '진정하다': 3350, '시가지': 3351, '외로': 3352, '이랑은': 3353, '미닫이': 3354, '직전': 3355, '초보': 3356, '이착륙': 3357, '단순하다': 3358, '겨울철': 3359, '가파도': 3360, '마라도': 3361, '입출': 3362, '의문': 3363, '미로': 3364, '만해': 3365, '기념일': 3366, '규': 3367, '오뎅': 3368, '용도': 3369, '아주머니': 3370, 'bbq': 3371, '점점': 3372, '세제': 3373, '내다보다': 3374, '에다': 3375, '베드룸': 3376, '신행': 3377, '태우다': 3378, 'ㅋㅋㅋㅋㅋ': 3379, '빌딩': 3380, '싸우다': 3381, '패스': 3382, '풍구': 3383, '재채기': 3384, '남자친구': 3385, '건강하다': 3386, '서든': 3387, '유쾌하다': 3388, '나니': 3389, '누': 3390, '숨다': 3391, '그늘': 3392, '언': 3393, '랑은': 3394, '시급하다': 3395, '퉁': 3396, '추워지다': 3397, '드림': 3398, '이자': 3399, '적지': 3400, '깔리다': 3401, '투썸': 3402, '또다시': 3403, '발판': 3404, '겉': 3405, '흡족하다': 3406, '주점': 3407, 'ㅅ': 3408, '거듭': 3409, '조심': 3410, '서버': 3411, '티켓': 3412, '성함': 3413, '스포츠': 3414, '최상급': 3415, '제격': 3416, '콕': 3417, '쌈': 3418, '마카롱': 3419, '라기': 3420, '대규모': 3421, '몇개': 3422, '환갑': 3423, '룸청소': 3424, '담당자': 3425, 'up': 3426, '낼': 3427, '카멜리아': 3428, '손편지': 3429, '간만': 3430, '삼다': 3431, '마을': 3432, '빨갛다': 3433, '컨트롤': 3434, '빼': 3435, '당하다': 3436, '간지럽다': 3437, '호에': 3438, '장물': 3439, '확정': 3440, '다다르다': 3441, '삐걱': 3442, '한숨': 3443, '덜다': 3444, '요구사항': 3445, '미지': 3446, '빨다': 3447, '신뢰': 3448, '수박': 3449, '마땅치': 3450, '이크': 3451, '택배': 3452, '주기': 3453, '자락': 3454, '물속': 3455, '그랬는데': 3456, '틀어놓다': 3457, '미온수': 3458, '정해지다': 3459, '고성': 3460, 'of': 3461, '스탭': 3462, '셋째': 3463, '세면기': 3464, '이겠다': 3465, '날아다니다': 3466, '수동': 3467, '프론트직원': 3468, '역쉬': 3469, '초등학교': 3470, '대도': 3471, '까지만': 3472, '양도': 3473, '존맛': 3474, '홍보': 3475, '충족': 3476, '소변': 3477, '카바': 3478, '아무튼': 3479, '앱': 3480, '수도꼭지': 3481, '명도': 3482, '테이크아웃': 3483, '비빔밥': 3484, 'restaurant': 3485, '일차': 3486, '뽀송뽀송하다': 3487, '기운': 3488, '삼일': 3489, '퀘퀘': 3490, '꽉차다': 3491, '발레파킹': 3492, '배우다': 3493, '제설': 3494, '초이스': 3495, '고등어': 3496, '못지않다': 3497, '목욕가운': 3498, '뒤편': 3499, '항목': 3500, '꿈': 3501, '뵙다': 3502, '분만': 3503, '돌아보다': 3504, '놓치다': 3505, '금고': 3506, '아마도': 3507, '감귤': 3508, '일도': 3509, '볼링': 3510, '가이드': 3511, '였음': 3512, '오프너': 3513, '만하': 3514, '갑인': 3515, '살이': 3516, '뷔폐': 3517, '김': 3518, '서두르다': 3519, '이모': 3520, '셧': 3521, '나은': 3522, '멍': 3523, '공연장': 3524, '무뚝뚝하다': 3525, '노트북': 3526, '죽': 3527, '진출': 3528, '소모품': 3529, '서너': 3530, '읍': 3531, '권하다': 3532, '성게': 3533, '해소': 3534, '올드': 3535, '유럽': 3536, '트리스': 3537, '벨': 3538, '범섬뷰': 3539, '햇살': 3540, '밥집': 3541, '탈의실': 3542, '귤': 3543, '지장': 3544, '중심부': 3545, '부영': 3546, '아래층': 3547, '로컬': 3548, '한겨울': 3549, '분실물': 3550, '풍족하다': 3551, '리무진': 3552, '만날': 3553, '많아지다': 3554, '영어': 3555, '마저': 3556, '부럽다': 3557, '연어': 3558, '성산포': 3559, '뜨끈하다': 3560, '뮤지컬': 3561, '방학': 3562, '돌담': 3563, '여관': 3564, '쓴다': 3565, '나마': 3566, '한식당': 3567, '퀄러티': 3568, '지워지다': 3569, '물씬': 3570, '왕복': 3571, '뭉치다': 3572, '후식': 3573, '서우': 3574, '푸른': 3575, '입장료': 3576, '바스락': 3577, '네이버': 3578, '켄싱턴': 3579, '독특하다': 3580, '기억나다': 3581, '사정': 3582, '양해': 3583, '이런저런': 3584, '거대하다': 3585, '칵테일': 3586, '티슈': 3587, '두루': 3588, '행복': 3589, '숫자': 3590, '분분': 3591, '둘쨋': 3592, '모서리': 3593, '상담': 3594, '다다': 3595, '블루투스': 3596, '선정': 3597, '먹이다': 3598, '일전': 3599, '만이': 3600, '차후': 3601, '랜드': 3602, '건의': 3603, '층층': 3604, '재작년': 3605, '유일하다': 3606, '탁하다': 3607, '약품': 3608, '삼성': 3609, '고개': 3610, '반대편': 3611, '메시지': 3612, '나기': 3613, '거주': 3614, '입욕': 3615, '존재': 3616, '캡슐': 3617, '밴드': 3618, '판': 3619, '스타': 3620, '대게': 3621, '무표정': 3622, '트윈베드': 3623, '차일': 3624, '썰렁하다': 3625, '오해': 3626, '여러분': 3627, '쾅쾅': 3628, '카펫트': 3629, '본적': 3630, '얹다': 3631, '야자수': 3632, '컨디셔': 3633, '피자': 3634, '백프로': 3635, '알림': 3636, '보완': 3637, '현': 3638, '지연': 3639, '한국인': 3640, '하버': 3641, '제시': 3642, '아랫': 3643, '무거워': 3644, '반입': 3645, '일대': 3646, 'bar': 3647, '정말로': 3648, '만약': 3649, '뽀송하다': 3650, '았': 3651, '재질': 3652, '경차': 3653, '재차': 3654, '육지': 3655, '죽이다': 3656, '브릭': 3657, '불가능': 3658, '찌들다': 3659, '마냥': 3660, '주스': 3661, '뭐라다': 3662, '품격': 3663, '잘되지': 3664, '이던': 3665, '오신': 3666, '애초': 3667, '신분증': 3668, '려': 3669, '달리다': 3670, '시원시원하다': 3671, '어찌나': 3672, '케': 3673, '올려주다': 3674, '통행': 3675, '털다': 3676, '셋팅': 3677, '운전자': 3678, '평수': 3679, '동부': 3680, '갯수': 3681, '울렁거리다': 3682, '족': 3683, '정체': 3684, '충실하다': 3685, '수없이': 3686, '반응': 3687, '하나라': 3688, '강제': 3689, '심플': 3690, 'cm': 3691, '결코': 3692, '펜': 3693, '낫': 3694, '모닝': 3695, '뽑다': 3696, '낡음': 3697, '중순': 3698, '글구': 3699, '풀바': 3700, '햇음': 3701, '한실': 3702, '잠그다': 3703, '절기': 3704, '정책': 3705, '오랫동안': 3706, '냉온': 3707, '낭비': 3708, '센서': 3709, '떠다니다': 3710, '트렌드': 3711, '끼우다': 3712, '옆집': 3713, '한텐': 3714, '봣': 3715, '서툴다': 3716, '전문성': 3717, '최선': 3718, '케익': 3719, '오락': 3720, '구성원': 3721, '모녀': 3722, '학회': 3723, '이정표': 3724, '지지': 3725, '무리다': 3726, '독립': 3727, '특이': 3728, '거지': 3729, '만끽': 3730, '공간활용': 3731, '찾아오다': 3732, '화장품': 3733, '단조롭다': 3734, '인형': 3735, '난간': 3736, '벤치': 3737, '불쾌감': 3738, '어이': 3739, '어두움': 3740, '신선도': 3741, '누락': 3742, '소통': 3743, '명성': 3744, '전화번호': 3745, '피곤': 3746, '하필': 3747, '과연': 3748, '나머진': 3749, '아이스': 3750, '때리다': 3751, '먹음': 3752, '제어': 3753, '밟다': 3754, '팔': 3755, '까지의': 3756, '하단': 3757, '주택가': 3758, '밀다': 3759, '비상': 3760, '피드백': 3761, '습도': 3762, '남쪽': 3763, '니깐': 3764, '잡기': 3765, '지적': 3766, '부리다': 3767, '더워지다': 3768, '말로': 3769, '일방': 3770, '거치다': 3771, '음으로': 3772, '한여름': 3773, '빨': 3774, '주민': 3775, '층수': 3776, '도보이': 3777, '양쪽': 3778, '신설': 3779, '취해': 3780, '계시': 3781, '듯해': 3782, '몹시': 3783, '가나다': 3784, '바사': 3785, '앤': 3786, '휴': 3787, '남다르다': 3788, '분하다': 3789, '없애다': 3790, '폭신': 3791, '어플': 3792, '저러다': 3793, '수다': 3794, '설계': 3795, '실속': 3796, '일만': 3797, '조작': 3798, 'make': 3799, '나란하다': 3800, '껄': 3801, '오른쪽': 3802, '소등': 3803, '글쎄요': 3804, '거렸': 3805, '따지다': 3806, '삐': 3807, '성은': 3808, '휴지통': 3809, '흥건': 3810, '밤새다': 3811, '출구': 3812, '액자': 3813, '남부': 3814, '뉴': 3815, '최첨단': 3816, '웟습': 3817, '흡연실': 3818, '긁다': 3819, '나뉘다': 3820, '색': 3821, '투명': 3822, '윗방': 3823, '가려진': 3824, '새우': 3825, '미관': 3826, '브레드': 3827, '판이': 3828, '잼': 3829, '좌': 3830, '때매': 3831, '식단': 3832, '지경': 3833, '적어도': 3834, '후문': 3835, '끊다': 3836, '담날': 3837, '편도': 3838, '수업': 3839, '엄두': 3840, '메모': 3841, '에나': 3842, '테라': 3843, '비위생적': 3844, '나타나다': 3845, '꾸준하다': 3846, 'd': 3847, '언니': 3848, '친척': 3849, '사소리': 3850, '밭': 3851, '차림': 3852, '에이스침대': 3853, '블라인드': 3854, '일일': 3855, '딜': 3856, '기한': 3857, '세팅': 3858, '전국': 3859, '미세먼지': 3860, '이소영': 3861, '가슴': 3862, '시라': 3863, '역류': 3864, 'i': 3865, '절': 3866, '평점': 3867, '말르다': 3868, '넘어지다': 3869, '아쿠아플라넷': 3870, '시절': 3871, '비대': 3872, '식식': 3873, '아우르다': 3874, '휘닉스': 3875, '진하다': 3876, '기와': 3877, '잘해주다': 3878, '발레': 3879, '집중': 3880, '듯이': 3881, '숨': 3882, 'ㅎㅎㅎㅎ': 3883, '통째': 3884, '잘리다': 3885, '한글': 3886, '촬영': 3887, '잡': 3888, '붉다': 3889, '세고': 3890, '정중하다': 3891, '느긋하다': 3892, '산뷰': 3893, '대요': 3894, '기획': 3895, '폼': 3896, '룸타입': 3897, '온돌룸': 3898, '열쇠': 3899, '솜': 3900, '하나같이': 3901, '표선': 3902, '마음껏': 3903, '측정': 3904, '불평': 3905, '겁나다': 3906, '기재': 3907, '높아지다': 3908, '산타': 3909, '볶음밥': 3910, '개관': 3911, '계열': 3912, '데이지': 3913, '연동': 3914, '일상': 3915, '도심지': 3916, '세계': 3917, '서빙': 3918, '필터': 3919, '배관': 3920, '혼잡하다': 3921, 'ml': 3922, '만으로': 3923, '어디가': 3924, '한적': 3925, '곤란하다': 3926, '기물': 3927, '룸개': 3928, '룸안': 3929, '입시': 3930, '책자': 3931, '쬐다': 3932, '스크램블': 3933, '외지': 3934, '희망': 3935, '빼놓다': 3936, '컴팩트': 3937, '남친': 3938, '카존': 3939, '헤어드라이어': 3940, '데이': 3941, '다스': 3942, '컴퓨터': 3943, '복층': 3944, '차례': 3945, '햄버거': 3946, '물의': 3947, '노천': 3948, '디테': 3949, '돌아서다': 3950, '볼때': 3951, '자연스럽다': 3952, '차지': 3953, '잘쓰다': 3954, '도하': 3955, '자랑': 3956, '오브': 3957, '화이트': 3958, '씨유': 3959, '항공': 3960, '긴장': 3961, '즐비하다': 3962, '하고프다': 3963, '에그': 3964, '어어': 3965, '희다': 3966, 'sns': 3967, '떠오르다': 3968, '싫어하다': 3969, '신해': 3970, '전시회': 3971, '작품': 3972, '쵝오': 3973, '찾아다니다': 3974, '제이': 3975, '여사': 3976, '키티룸': 3977, '대접': 3978, '케이크': 3979, '월드컵경기': 3980, '오래전': 3981, '익숙하다': 3982, '입점해': 3983, '멤버십': 3984, '유형': 3985, '명확하다': 3986, '방청': 3987, '룸써비스': 3988, '보아': 3989, '그린': 3990, '고전': 3991, '덩달아': 3992, '비닐하우스': 3993, '들뜨다': 3994, '기절': 3995, '현관문': 3996, '여지': 3997, '페이지': 3998, '햄': 3999, '베': 4000, '마시기': 4001, '타겟': 4002, '빡빡': 4003, '치워지다': 4004, '뒤늦다': 4005, '팁': 4006, '회색': 4007, '오거': 4008, '육': 4009, '달랑': 4010, '늦잠': 4011, '깨우다': 4012, '산보': 4013, '방배': 4014, '앤쿡': 4015, '치면': 4016, '벌어지다': 4017, '휴장': 4018, '종식': 4019, '오른': 4020, '낡아지다': 4021, '치안': 4022, '수선': 4023, '촉박하다': 4024, '굿굿굿': 4025, '넘기다': 4026, 'or': 4027, '박해': 4028, '조차도': 4029, '어떤': 4030, '임시': 4031, '문소리': 4032, '탄산': 4033, '검은색': 4034, '태어나다': 4035, '설거지': 4036, '스피커': 4037, '텅': 4038, '시대': 4039, 'thann': 4040, '인터폰': 4041, '랍': 4042, '항공우주': 4043, '내부시': 4044, '상의': 4045, 's': 4046, '만천원': 4047, '지기': 4048, '의치': 4049, '지금껏': 4050, '쾅쾅거리다': 4051, '두시': 4052, '실과': 4053, '마카오': 4054, '모으다': 4055, '다담': 4056, '능이': 4057, '지하가': 4058, '방구': 4059, '웃': 4060, '메다': 4061, '만자': 4062, '골프': 4063, '실시간': 4064, '휘슬': 4065, '찌꺼기': 4066, '흔': 4067, '번의': 4068, '특이하다': 4069, '튤립': 4070, '무릎': 4071, '지라': 4072, '이슈': 4073, '우려': 4074, '소화': 4075, '램프': 4076, '누수': 4077, '밀집': 4078, '대수': 4079, '마': 4080, '어딘가': 4081, '평이하다': 4082, '레지던스': 4083, '당장': 4084, '매점': 4085, '규정': 4086, '꺼': 4087, '코딱지': 4088, '반신': 4089, '스테이션': 4090, '귀신': 4091, '폐허': 4092, '영향': 4093, '하드': 4094, '조심스럽다': 4095, '가하다': 4096, '협소했': 4097, '팝콘': 4098, '사르다': 4099, '청': 4100, '고집': 4101, '경기장': 4102, '소하': 4103, '구류': 4104, '리스': 4105, '밤중': 4106, '훨': 4107, '가로등': 4108, '건설': 4109, '구함': 4110, '자리다': 4111, '필요시': 4112, '급답': 4113, '적정하다': 4114, '차장': 4115, '미만': 4116, '익숙해지다': 4117, '절약': 4118, '자지': 4119, '두껍다': 4120, '룸업글': 4121, '꼽으라': 4122, '돼지고기': 4123, '무적인': 4124, '질도': 4125, '재래시장': 4126, '슥': 4127, '손가락': 4128, '척': 4129, '또다른': 4130, '넒': 4131, '들려오다': 4132, '자서': 4133, '면도': 4134, '마디': 4135, '떼다': 4136, '마운틴': 4137, '주택': 4138, '편지': 4139, '간직': 4140, '대다수': 4141, '여가': 4142, '아시안': 4143, '우연': 4144, '구로': 4145, '완공': 4146, '년도': 4147, '대치': 4148, '수학여행': 4149, '초딩': 4150, '한껏': 4151, 'ㅂ': 4152, '바글바글': 4153, '곤': 4154, '마켓': 4155, '습니다': 4156, '생신': 4157, '문화': 4158, '즐거움': 4159, '거부': 4160, '그러하다': 4161, '지로': 4162, '왠': 4163, '명품': 4164, '뒷쪽': 4165, '법환': 4166, 'ㅈ': 4167, '솔트': 4168, '인지도': 4169, '아이스크림': 4170, '분한': 4171, '중지': 4172, '하나로': 4173, '소금': 4174, '거치': 4175, '애가': 4176, '역대': 4177, '문구': 4178, '쌓다': 4179, '귀가': 4180, '급속': 4181, '공동': 4182, 'mr': 4183, '중인': 4184, '이리저리': 4185, '물들다': 4186, '컵라면': 4187, '물컵': 4188, '도록': 4189, '에라도': 4190, '거름': 4191, '인후': 4192, '관도': 4193, '드레스': 4194, '어색하다': 4195, '덩어리': 4196, '손색': 4197, '모니터': 4198, '피크': 4199, '관리자': 4200, '폭설': 4201, '책임': 4202, '공룡': 4203, '장난감': 4204, '황당': 4205, '전쟁': 4206, '저녁때': 4207, '전자기기': 4208, '평타': 4209, '내면': 4210, '녹이다': 4211, '나눠지다': 4212, '하기는': 4213, '양치': 4214, '아자': 4215, '타파': 4216, '다라': 4217, '대야': 4218, 'go': 4219, '불안': 4220, '경쟁력': 4221, '예방': 4222, '에두': 4223, '라이': 4224, '기타등등': 4225, '정리정돈': 4226, '벽뷰': 4227, '조각': 4228, '슬라이드': 4229, '대서': 4230, '동떨어지다': 4231, '목장': 4232, '샴페인': 4233, '계란후라이': 4234, '불결': 4235, 'do': 4236, 'disturb': 4237, '장마철': 4238, '룸크기': 4239, '그림': 4240, '실로': 4241, '억지로': 4242, '사가': 4243, '사운드': 4244, '기쁨': 4245, '금년': 4246, '공항버스': 4247, '마나': 4248, '칠성로': 4249, '전신': 4250, '썩': 4251, '강풍': 4252, '어떠하다': 4253, '어찌': 4254, '주중': 4255, '폰': 4256, '다기': 4257, '버': 4258, '뻣뻣하다': 4259, '일일이': 4260, '탑바': 4261, '똑같이': 4262, '까운': 4263, '용서': 4264, '스낵': 4265, '지점': 4266, '웨이': 4267, '핀': 4268, '항도': 4269, '대쪽': 4270, '관리직': 4271, '축하': 4272, '경악': 4273, '오래됨': 4274, '웃음소리': 4275, '레노': 4276, '닻': 4277, '덜렁': 4278, '욕탕': 4279, '넘침': 4280, '점등': 4281, '매주': 4282, '쪼끔': 4283, 'wifi': 4284, '평범': 4285, '꽝': 4286, '경이': 4287, '반시': 4288, '골프장': 4289, '도우미': 4290, '바닥나다': 4291, '원룸': 4292, '젓가락': 4293, '퍼지다': 4294, '자연환경': 4295, '엉': 4296, '전면': 4297, '종이': 4298, '달래다': 4299, '성수': 4300, '양옆': 4301, '원활하다': 4302, '차이나다': 4303, '물줄기': 4304, '이구나': 4305, '회신': 4306, '텐데': 4307, '겉보기': 4308, '었는데': 4309, '호델': 4310, '한몫': 4311, '상이': 4312, '키트': 4313, '톤': 4314, '칸막이': 4315, '으뜸': 4316, '주거': 4317, '신규': 4318, '알레르기': 4319, '주네': 4320, '정해': 4321, '잘알다': 4322, '선명하다': 4323, '곁': 4324, '숙이다': 4325, '약실': 4326, '접객': 4327, '보더': 4328, 'clean': 4329, '힘': 4330, '대감': 4331, '효율': 4332, '액체': 4333, '클린': 4334, '취침': 4335, '자세': 4336, '코지': 4337, '십분': 4338, '특징': 4339, '어필': 4340, '유민': 4341, '번가': 4342, '곳임': 4343, '좌우': 4344, '아키': 4345, '분과': 4346, '헤어지다': 4347, '자르다': 4348, '분수': 4349, '말고도': 4350, '풀리다': 4351, '진드기': 4352, '이튿날': 4353, '군대': 4354, '라며': 4355, '레': 4356, '추강': 4357, '시정': 4358, '폐장': 4359, '어서': 4360, '계산': 4361, '등칸': 4362, '제지': 4363, '끌리다': 4364, '임산부': 4365, '마안': 4366, '실시': 4367, '염두': 4368, '노래기': 4369, '설마': 4370, '풍기다': 4371, '찌푸리다': 4372, '뚝뚝': 4373, '문밖': 4374, '건강': 4375, '주방용품': 4376, '천하다': 4377, '소아': 4378, '이간': 4379, '연세': 4380, '절물': 4381, '해피아워': 4382, '용기': 4383, '담기다': 4384, '모래': 4385, '쉬움': 4386, '교원': 4387, '베드로': 4388, '엑스트라': 4389, '도크': 4390, '메일': 4391, '다른사람': 4392, '목소리': 4393, '마르다': 4394, '남녀': 4395, '델리': 4396, '친철함': 4397, '커뮤니케이션': 4398, '개념': 4399, '플리': 4400, '그간': 4401, '예민': 4402, '모자': 4403, '가루': 4404, 'ㅜㅠ': 4405, '감염': 4406, '관계자': 4407, '망고': 4408, '간절하다': 4409, '찍히다': 4410, '스태프': 4411, '이뤄지다': 4412, '반면': 4413, '하진': 4414, '킹스': 4415, '회전': 4416, '창틀': 4417, '인전': 4418, '천천히': 4419, '비비큐': 4420, '배부르다': 4421, '형성': 4422, '따라오다': 4423, '세수': 4424, '듀플렉스': 4425, '먹고다': 4426, '문제점': 4427, '취할수': 4428, '클래스': 4429, '금은': 4430, '끝내다': 4431, '공짜': 4432, '배스': 4433, '디테일': 4434, '기쁘다': 4435, '겨': 4436, '만을': 4437, '섬모': 4438, '레인': 4439, '힐스': 4440, '끼니': 4441, '탑층': 4442, '쉐프': 4443, '전후': 4444, '갈비': 4445, '탐방': 4446, '물가': 4447, '이탈리안': 4448, '록': 4449, '땅콩': 4450, '케이스': 4451, '신지': 4452, 'quality': 4453, '실감': 4454, '속상하다': 4455, '포구': 4456, '미끄럼틀': 4457, '경사': 4458, '적합': 4459, '조깅': 4460, '비자림': 4461, '클라이너': 4462, '주니어': 4463, '안방': 4464, '우리나라': 4465, '다가가다': 4466, '통일': 4467, '자주자주': 4468, '갠': 4469, '초인종': 4470, '짬뽕': 4471, '사무소': 4472, '에이스': 4473, '스스로': 4474, '걸음': 4475, '간도': 4476, '보유': 4477, '공급': 4478, '분위': 4479, '선선': 4480, '화산': 4481, '흔쾌하다': 4482, '화이팅': 4483, '버기카': 4484, '엇어': 4485, '당근': 4486, '샷': 4487, '묘': 4488, '뵈다': 4489, '간단': 4490, '퍼펙트': 4491, '매각': 4492, '던데': 4493, '달려오다': 4494, '수라': 4495, '구나': 4496, '어묵': 4497, '우유': 4498, '복귀': 4499, '숙지': 4500, '히든': 4501, '평안하다': 4502, '잘생기다': 4503, '년월': 4504, '실전': 4505, '중요시': 4506, '뱅글': 4507, '구색': 4508, '담번': 4509, '분유': 4510, '런': 4511, '찍': 4512, '이래서': 4513, '장면': 4514, '땡볕': 4515, '머셋': 4516, '저절로': 4517, '녹다': 4518, '여권': 4519, '방키': 4520, '보송보송하다': 4521, '대륙': 4522, '가르다': 4523, '취식': 4524, 'only': 4525, 'is': 4526, 'they': 4527, 'on': 4528, '꾹': 4529, '서방': 4530, '정가': 4531, '태교': 4532, '기여': 4533, '타이': 4534, '타인': 4535, '콘서트': 4536, '렉': 4537, '열악하다': 4538, '초등생': 4539, '윙': 4540, '라가': 4541, '장보기': 4542, '언어': 4543, '거짓말': 4544, '직장': 4545, '차선': 4546, '다이소': 4547, '남고': 4548, '마이너스': 4549, '분해': 4550, '수수료': 4551, '정기': 4552, '투썸플레이스': 4553, '밀리': 4554, '폐쇄': 4555, '을씨년스럽다': 4556, '장기간': 4557, '부디': 4558, '물리': 4559, '로봇': 4560, '풍선': 4561, '저만': 4562, '부위': 4563, 'we': 4564, 'per': 4565, 'stay': 4566, '두리': 4567, '레쉬': 4568, '뜸': 4569, '하물며': 4570, 'fb': 4571, '틀리다': 4572, '연상': 4573, '함성': 4574, '자진': 4575, '그야말로': 4576, '혜자': 4577, '해마다': 4578, '거르': 4579, '모양': 4580, '리터': 4581, '간편식': 4582, '내륙': 4583, '캡': 4584, '곽': 4585, '특정': 4586, '게스트': 4587, '저리': 4588, '일식': 4589, '여타': 4590, '해수욕': 4591, '일수': 4592, '백화점': 4593, 'ㄴ': 4594, '쓸모': 4595, '향후': 4596, '장가': 4597, '뭉치': 4598, '스케쥴': 4599, '감자': 4600, '달이': 4601, '신건': 4602, '댕댕': 4603, '청정': 4604, '명시': 4605, '도대체': 4606, '입차': 4607, '불리다': 4608, 'ㅁ': 4609, '인적': 4610, '비성': 4611, '깜놀': 4612, '아늑': 4613, '싱글룸': 4614, '아이스커피': 4615, '애매': 4616, '라운드': 4617, '미착': 4618, '최초': 4619, '직행': 4620, '늦어지다': 4621, '적절': 4622, '가지런하다': 4623, '분안': 4624, '인하': 4625, '유의': 4626, '양은': 4627, '구정': 4628, '리기': 4629, '활주로': 4630, '로비나': 4631, '와중': 4632, '소진': 4633, '간신히': 4634, '밤섬': 4635, '라고는': 4636, '외벽': 4637, '장하다': 4638, '온풍': 4639, '리저브': 4640, '몫': 4641, '흉물': 4642, '반적': 4643, '까맣다': 4644, '간의': 4645, '큼직하다': 4646, '지난달': 4647, '적정': 4648, '코팅': 4649, '쏟아지다': 4650, '규칙': 4651, '이해도': 4652, '팡': 4653, '리나': 4654, 'cs': 4655, '예매': 4656, '모자라': 4657, '시원': 4658, '에프킬라': 4659, '페셔널': 4660, '커넥팅': 4661, '어의': 4662, '음료수': 4663, '일찍이': 4664, '복불복': 4665, '낚시': 4666, '맥': 4667, '연령': 4668, '쿵': 4669, '새섬': 4670, '오직': 4671, '고리': 4672, '패밀': 4673, '상자': 4674, '폐': 4675, '도미': 4676, '토리': 4677, '대리': 4678, '헸': 4679, '펑펑': 4680, '원인': 4681, '퀼리티': 4682, '잔돈': 4683, '도저히': 4684, '장비': 4685, '리안': 4686, '사용자': 4687, '콘도미니엄': 4688, '냄비': 4689, '접수': 4690, '돌려주다': 4691, '도중': 4692, '소품': 4693, '너덜너덜하다': 4694, '브레이크': 4695, '멀미': 4696, '지켜보다': 4697, '거미줄': 4698, '공조': 4699, '밤잠': 4700, '지니어스': 4701, '찻잔': 4702, '인공': 4703, '이라고는': 4704, '각도': 4705, '곰': 4706, '파이': 4707, '장터': 4708, '레버': 4709, '비만': 4710, '알람': 4711, '탈때': 4712, '배고프다': 4713, '고양이': 4714, '더니': 4715, '고루': 4716, '남겨지다': 4717, '고무': 4718, '뽀송뽀송': 4719, '집사람': 4720, '시골': 4721, '장인': 4722, 'yg': 4723, '기상': 4724, '공홈': 4725, '삼거리': 4726, '푸줏간': 4727, '매다': 4728, '파손': 4729, '안경': 4730, '이분': 4731, '성도': 4732, '하므다': 4733, '지엄': 4734, '체력': 4735, '어긋나다': 4736, '블러': 4737, '상과': 4738, '급니': 4739, '아버님': 4740, '이륙': 4741, '미취': 4742, '학': 4743, '길찾기': 4744, '한국어': 4745, '밥풀': 4746, '주일': 4747, '킹룸': 4748, '관등': 4749, '반나절': 4750, '벅': 4751, '꼬맹이': 4752, '모델하우스': 4753, '므': 4754, '요시': 4755, 'ㄹㄷ': 4756, '적응': 4757, '애월쪽': 4758, '스트릿': 4759, '장치': 4760, '진정': 4761, 'ev': 4762, '부서': 4763, '뚱하다': 4764, '체인지': 4765, '극도': 4766, '어깨': 4767, '부딪히다': 4768, '어쩌': 4769, '이방': 4770, '퇴치': 4771, '멀티탭': 4772, '보장': 4773, '피하': 4774, '품위': 4775, '장판': 4776, '밝기': 4777, '뭍': 4778, '전복': 4779, '상처': 4780, '주전자': 4781, '블럭': 4782, '간정': 4783, '미적지근하다': 4784, '제재': 4785, '박모': 4786, '헐겁다': 4787, '뒹굴': 4788, '던': 4789, '대지': 4790, '웃기다': 4791, '오물': 4792, '헤메': 4793, '어딘': 4794, '엇습': 4795, '이야': 4796, '심다': 4797, '빌라동': 4798, '다름없다': 4799, '천정': 4800, '유독': 4801, '통과': 4802, '능숙하다': 4803, '센티': 4804, '갇히다': 4805, '선수': 4806, '헤': 4807, '신용카드': 4808, '팔걸이': 4809, '요건': 4810, '쟁이': 4811, '그다음': 4812, '바비큐': 4813, '번갈아': 4814, '차카': 4815, '앙': 4816, '패쓰': 4817, '신의': 4818, '파이다': 4819, '듀': 4820, '난로': 4821, '벽간': 4822, '이득': 4823, '마개': 4824, '인정': 4825, '오구': 4826, '용인': 4827, '위안': 4828, '얼룩덜룩하다': 4829, '젖히다': 4830, '손소독제': 4831, '일지': 4832, '불쾌': 4833, '차단기': 4834, '염려': 4835, '화재경보기': 4836, '방송': 4837, '우왕좌왕': 4838, '도배': 4839, '룸키': 4840, '스티커': 4841, '정류': 4842, '밀폐': 4843, '저하': 4844, '심야': 4845, '뽀얗다': 4846, '관아': 4847, '쇠소깍': 4848, '명소': 4849, '싸구려': 4850, '바깥쪽': 4851, '파라솔': 4852, '비우기': 4853, '배터리': 4854, '홈': 4855, '칠이': 4856, '물바다': 4857, '사회': 4858, '단계': 4859, '보호': 4860, '무드등': 4861, '차별': 4862, '리도': 4863, '바랬': 4864, '바구니': 4865, '어미': 4866, '샴프': 4867, '딴': 4868, '경보': 4869, '여과': 4870, '오버': 4871, '의도': 4872, '문과': 4873, '요망': 4874, '덕지덕지': 4875, '백록담': 4876, '타운': 4877, '중석': 4878, '어우러지다': 4879, '세탁소': 4880, '인과': 4881, '클레': 4882, '차고': 4883, '입국': 4884, '자하': 4885, '바스': 4886, '화나다': 4887, '티나': 4888, '키도': 4889, '거가': 4890, '잠귀': 4891, '벌': 4892, '요소': 4893, '양심': 4894, '한창': 4895, '유치권': 4896, '박후': 4897, '스크래치': 4898, '배민': 4899, '관해': 4900, '지체': 4901, '수제': 4902, '훼손': 4903, '찬물': 4904, '소독약': 4905, '증상': 4906, 'km': 4907, '수목원': 4908, '믄': 4909, '컨텐츠': 4910, '문짝': 4911, '감탄사': 4912, '신식': 4913, '산뜻하다': 4914, 'hdmi': 4915, '법도': 4916, '고갈': 4917, '유익하다': 4918, '부스럭': 4919, '불투명하다': 4920, '은감': 4921, '단정하다': 4922, '당분간': 4923, '금요일': 4924, '굶다': 4925, '배치도': 4926, '잃어버리다': 4927, '메종글래드': 4928, '꼭꼭': 4929, '마당': 4930, '실물': 4931, '내관': 4932, '꺠끗': 4933, '샷시': 4934, '스마트폰': 4935, '이아주': 4936, '한동안': 4937, '곳곳이': 4938, '꼬마': 4939, '음해': 4940, '허전하다': 4941, '과장': 4942, '지원': 4943, '아래쪽': 4944, '이메일': 4945, '샤': 4946, '분전': 4947, '잠잠하다': 4948, '쳐다보다': 4949, '아티': 4950, '승용차': 4951, '가만': 4952, '시달리다': 4953, '깜짝깜짝': 4954, '시체': 4955, '웨이팅': 4956, '초입': 4957, '구간': 4958, '고참': 4959, '계란찜': 4960, '펌프': 4961, '불결하다': 4962, '미끄럼': 4963, '불어오다': 4964, '잦다': 4965, '아메리카노': 4966, '잘만': 4967, '전자': 4968, '모기향': 4969, '전망대': 4970, '구조도': 4971, '어지르다': 4972, '에야': 4973, '똥': 4974, '기름': 4975, '졸업여행': 4976, '왓는데': 4977, '복': 4978, '프레': 4979, '반했어': 4980, '드라이브': 4981, '넘어오다': 4982, '상치': 4983, '파악': 4984, '붙박다': 4985, '받치다': 4986, '사흘': 4987, '고온': 4988, '이리': 4989, '끓이다': 4990, '할부': 4991, '일시': 4992, '덜하다': 4993, '메종글': 4994, '워터': 4995, '밥맛': 4996, '플러그': 4997, '과거': 4998, '동작': 4999, '참으로': 5000, '자정': 5001, '짱짱하다': 5002, '요안': 5003, '깎다': 5004, '겸용': 5005, '쓰리다': 5006, '화장지': 5007, '차질': 5008, '레인지': 5009, '무심하다': 5010, '화단': 5011, '스킨': 5012, '글라스': 5013, '룸메': 5014, '정의': 5015, '사무실': 5016, '정방': 5017, '천지연': 5018, '새연교': 5019, '참조': 5020, '어나': 5021, '옛날': 5022, '공항리무진': 5023, '간결하다': 5024, '포토': 5025, '날개': 5026, '기울어지다': 5027, '요추': 5028, '간절': 5029, '비바람': 5030, '드라마': 5031, '휴대': 5032, '더러워지다': 5033, '설레다': 5034, '고등학교': 5035, '휴양림': 5036, '어지간하다': 5037, '오류': 5038, '수많다': 5039, '이어도': 5040, 'ok': 5041, 'all': 5042, '나들이': 5043, '두세': 5044, '인분': 5045, '원형': 5046, '파': 5047, '체온': 5048, '나뉘어지다': 5049, '응급': 5050, '세부': 5051, '더움': 5052, '지방': 5053, '치우치다': 5054, '에여': 5055, '스타트': 5056, '알뜰하다': 5057, '상업시설': 5058, '물병': 5059, '어쩜': 5060, '치맥': 5061, '기름기': 5062, '담요': 5063, '재개': 5064, '그만하다': 5065, '부합': 5066, '더위': 5067, '찌르다': 5068, '어제': 5069, '믹스': 5070, '만찬': 5071, '한밤중': 5072, '랬': 5073, '산도': 5074, '방사': 5075, '꿀': 5076, '완젼': 5077, '색깔': 5078, '영수증': 5079, '칙': 5080, '샌드위치': 5081, '제등': 5082, '울림': 5083, '오르내리다': 5084, '발바닥': 5085, '갈아입다': 5086, '이여': 5087, '조달': 5088, '힘쓰다': 5089, '캠페인': 5090, '녘': 5091, '고요한': 5092, '분주하다': 5093, '노상': 5094, '주자': 5095, '일자': 5096, '상식': 5097, 'pool': 5098, '파킹': 5099, '표선면': 5100, '컨벤션': 5101, '으로가': 5102, '더라도': 5103, '해주': 5104, '품다': 5105, '세밀': 5106, '종합': 5107, '사다리': 5108, '개운하다': 5109, '횟수': 5110, '즉석요리': 5111, '쵝': 5112, '논': 5113, '죄': 5114, '수저': 5115, '개미': 5116, '난감': 5117, '수도관': 5118, '경계': 5119, '첨부': 5120, '합치다': 5121, '볶음': 5122, '여하튼': 5123, '괜춘': 5124, '세기': 5125, '쭉': 5126, '둘러싸이다': 5127, '니드': 5128, '쩔다': 5129, '휴업': 5130, '고깃집': 5131, '협소한': 5132, '볼일': 5133, '깨꿋': 5134, '찮아다': 5135, '에스': 5136, '해질녘': 5137, '신경안': 5138, '설': 5139, '선지': 5140, '로케이션': 5141, '주류': 5142, '트탑': 5143, '기차': 5144, '로라': 5145, '승마': 5146, '스산': 5147, '억지': 5148, '마저도': 5149, '여겨지다': 5150, '식수': 5151, '보호자': 5152, '시외버스': 5153, '바이': 5154, '텐트': 5155, '미루다': 5156, '중간지점': 5157, '부착': 5158, '에까지': 5159, '빗물': 5160, '고간': 5161, '외각': 5162, '버스킹': 5163, '스텐': 5164, '다드': 5165, '방면': 5166, '자신': 5167, '룸내': 5168, '이끌다': 5169, '가족룸': 5170, '민속촌': 5171, '잣': 5172, '응급실': 5173, '돌이': 5174, '음주': 5175, '올리브영': 5176, '스탭들': 5177, '벚꽃': 5178, '넋': 5179, '수국': 5180, '검사': 5181, '통틀어': 5182, '파묻히다': 5183, '싸': 5184, 'you': 5185, '프렌': 5186, '장관': 5187, '헐리우드': 5188, '여태': 5189, '고풍': 5190, '이부자리': 5191, '드물다': 5192, 'very': 5193, 'concierge': 5194, 'fantastic': 5195, '브': 5196, '월초': 5197, '중상': 5198, '한우': 5199, '명가': 5200, '튀기다': 5201, '게임': 5202, '맥날': 5203, '추측': 5204, '대정읍': 5205, '살때': 5206, '빙': 5207, '바다로': 5208, '경제': 5209, '감각': 5210, '소세지': 5211, '접이식': 5212, '일주': 5213, '금상첨화': 5214, '혼선': 5215, '맛남': 5216, '멋': 5217, '사방': 5218, '조합': 5219, '구내': 5220, '성공': 5221, '반대쪽': 5222, '스케일': 5223, '드럼': 5224, '이주': 5225, '서핑': 5226, '캐': 5227, '무리하다': 5228, '책정': 5229, '날아가다': 5230, '행': 5231, '스텝': 5232, '이웃': 5233, '타운하우스': 5234, '스크린': 5235, '고도': 5236, '막내': 5237, '김기태': 5238, '바게뜨': 5239, '더없이': 5240, '동전': 5241, '써비스': 5242, '개중': 5243, '노랫소리': 5244, '우아하다': 5245, '오입': 5246, '따스하다': 5247, '노형동': 5248, '생맥': 5249, '박보': 5250, '종점': 5251, '으로의': 5252, '어쩌면': 5253, '여요': 5254, '스런': 5255, '닼': 5256, '빵류': 5257, '뺨': 5258, '반수': 5259, '조아': 5260, '회도': 5261, '버터': 5262, '낭만': 5263, '호프': 5264, '뒤론': 5265, '종업원': 5266, '더디다': 5267, '분거': 5268, '모닝커피': 5269, '에서가': 5270, '연로': 5271, '고마움': 5272, '얘': 5273, '다양해지다': 5274, '삭막하다': 5275, '쏵': 5276, '근사하다': 5277, '구이': 5278, '론': 5279, 'ㅗ': 5280, '단단하다': 5281, '왠지': 5282, '봉사': 5283, '추정': 5284, '친근하다': 5285, '슬프다': 5286, '콧물': 5287, '정전': 5288, '메리': 5289, '가신': 5290, '눈물나다': 5291, '와이': 5292, '끓다': 5293, '노곤': 5294, '코멘트': 5295, '주부': 5296, '천연': 5297, '로맨틱': 5298, '동기': 5299, '요기': 5300, '거진': 5301, '돌잔치': 5302, '캔버스': 5303, '블루베리': 5304, '훅': 5305, '자잘하다': 5306, '초밥': 5307, '즉흥': 5308, '세미나': 5309, '상비약': 5310, 'kim': 5311, '가보': 5312, '다물다': 5313, '페닌슐라': 5314, '아쥬': 5315, '어어어어': 5316, '모모': 5317, '야마': 5318, '윗쪽': 5319, '방쪽': 5320, '침대보': 5321, '습지': 5322, '어설프다': 5323, '방장': 5324, '로부터': 5325, '누런': 5326, '먹통': 5327, '맟': 5328, '필요성': 5329, '숨기다': 5330, '세이': 5331, '프티': 5332, '괌': 5333, 'that': 5334, '마다를': 5335, '절절': 5336, '최종': 5337, '협의': 5338, '효': 5339, '룸뷰': 5340, '본방': 5341, '대책': 5342, '으로부터': 5343, '묶이다': 5344, '착륙': 5345, '재밋었어': 5346, '지면': 5347, '당혹스럽다': 5348, '부정': 5349, '밖에는': 5350, '호의': 5351, '구석방': 5352, '버거': 5353, '소시지': 5354, '음원': 5355, '절감': 5356, '증정': 5357, '스며들다': 5358, '가감': 5359, '세지': 5360, '본연': 5361, '애프터눈티': 5362, '앤디': 5363, '미용': 5364, '태고': 5365, '실례': 5366, '두드리다': 5367, '징그럽다': 5368, '저렇게': 5369, '일치': 5370, '프론': 5371, '별하나': 5372, '붓다': 5373, '염색': 5374, '일사이': 5375, '재회': 5376, '명단': 5377, '시전': 5378, '장애인': 5379, '룸앞': 5380, '깝': 5381, '슈페리어룸': 5382, '여름철': 5383, '유가': 5384, '유입': 5385, '안전성': 5386, '앵무새': 5387, '정해진': 5388, '순서대로': 5389, '유도': 5390, '배출': 5391, '어쨌든': 5392, 'when': 5393, 'its': 5394, 'if': 5395, '끊어지다': 5396, '나성': 5397, '절실': 5398, '별거': 5399, '녹슨': 5400, '방객': 5401, '경영': 5402, '화학': 5403, '오로지': 5404, '자격': 5405, '화물': 5406, '삼천원': 5407, '갸우뚱': 5408, '화려': 5409, '틀어지다': 5410, '빛나다': 5411, '광파': 5412, '접촉': 5413, '입력': 5414, '수채': 5415, '축축하다': 5416, '고립': 5417, '메이저': 5418, '쑥': 5419, '낮잠': 5420, '고통': 5421, '만요': 5422, '수백': 5423, '랜덤': 5424, '문턱': 5425, '간시': 5426, '아줌마': 5427, '선착장': 5428, '제곱미터': 5429, '단자': 5430, '가작': 5431, '무성의': 5432, '착오': 5433, '간간히': 5434, '파가': 5435, '소용없다': 5436, 'time': 5437, 'ㅇㅋ': 5438, '튀김': 5439, '라지': 5440, '셰프': 5441, '쌍둥이': 5442, '미세': 5443, '몬': 5444, '론트': 5445, '바이러스': 5446, '구축': 5447, '뚤려': 5448, '문틈': 5449, '기인': 5450, '몰카': 5451, '아일랜드': 5452, '단란주점': 5453, '보도로': 5454, '관리원': 5455, '엇음': 5456, 'dt': 5457, '장산': 5458, '서관': 5459, '이염': 5460, '특산': 5461, '대개': 5462, '벙': 5463, '점룸': 5464, '흘러내리다': 5465, '근본': 5466, '타투': 5467, '무상': 5468, '대변': 5469, '보강': 5470, '변색': 5471, '어딘지': 5472, '적도': 5473, '재촉': 5474, '외주': 5475, '요하': 5476, '정차': 5477, '지독하다': 5478, '혼나다': 5479, '위치위치': 5480, '극장': 5481, '이박정': 5482, '기스': 5483, '부패': 5484, '엠': 5485, '출력': 5486, '비위': 5487, '뒤척일때': 5488, '나라': 5489, '짓': 5490, '풍요': 5491, '극찬': 5492, '스몰': 5493, '더군다나': 5494, '점주': 5495, '시공': 5496, '마음대로': 5497, '플레이스테이션': 5498, '햇볕': 5499, '빈티': 5500, '말리': 5501, '로터리': 5502, '호박': 5503, '스펀지': 5504, '남지': 5505, '해진': 5506, '슬슬': 5507, '스포티지': 5508, '깨끝': 5509, '정시': 5510, '서면': 5511, '스냅': 5512, '불안감': 5513, '몰상식하다': 5514, '직진': 5515, '타구': 5516, '숙련': 5517, '오메': 5518, '인터파크': 5519, '통합': 5520, '사이드바': 5521, '공감': 5522, '다비': 5523, '송': 5524, '기겁': 5525, '나방': 5526, '유선': 5527, '줄눈': 5528, '하이라이트': 5529, '오피스텔': 5530, '버드': 5531, '소홀': 5532, '정작': 5533, '서류': 5534, '조로': 5535, '서해': 5536, '뻘뻘': 5537, '기력': 5538, '능선': 5539, '한소리': 5540, '청해': 5541, '눈물': 5542, '덩': 5543, '덜커덩': 5544, '잔소리': 5545, '능력': 5546, '근거리': 5547, '동의': 5548, '단열': 5549, '급임': 5550, '바라보이다': 5551, '가이드북': 5552, '두어': 5553, '앞집': 5554, '초보자': 5555, '만치': 5556, '멀쩡하다': 5557, '고시원': 5558, '페': 5559, '유치': 5560, '순이': 5561, '차이점': 5562, '딩': 5563, '리퍼블릭': 5564, '삼대': 5565, '괜챦았다': 5566, '참석': 5567, '활기': 5568, '차려': 5569, '인동': 5570, '마이너': 5571, '스위스': 5572, '서머': 5573, '어두컴컴하다': 5574, '다애': 5575, '통신사': 5576, '백만': 5577, '육개장': 5578, '뮤': 5579, '소인': 5580, '서기': 5581, '디즈니': 5582, '활기차다': 5583, 'ㄷㄷ': 5584, '둥이': 5585, '써비': 5586, '들엇어': 5587, '중학생': 5588, '인스턴트': 5589, '프리': 5590, '고등학생': 5591, '협조': 5592, '건너다': 5593, '조개': 5594, '올인원': 5595, '필히': 5596, '규제': 5597, '거닐다': 5598, '행온': 5599, '이롭다': 5600, '반감': 5601, '부스러기': 5602, '곳룸': 5603, '전시장': 5604, '스럼': 5605, '요지': 5606, '거점': 5607, '달콤하다': 5608, 'kate': 5609, '대반': 5610, '공공장소': 5611, '자자하다': 5612, '차주': 5613, '일관': 5614, '구애': 5615, '효과': 5616, '절하': 5617, '울음소리': 5618, '임신': 5619, '어쩌라고': 5620, '귀차니즘': 5621, '부식': 5622, '뛰어나오다': 5623, '핸들': 5624, '떠나오다': 5625, '기록': 5626, '엘레': 5627, '베이트': 5628, '함층': 5629, '런닝머신': 5630, '멀티': 5631, '대강': 5632, '커피점': 5633, '물통': 5634, '단가': 5635, '매끄럽다': 5636, '이었음': 5637, '명색': 5638, '제제': 5639, 'ms': 5640, '권장': 5641, '역사': 5642, '주황색': 5643, '유일': 5644, 'amenity': 5645, '무더위': 5646, '오스': 5647, '건네다': 5648, '갈곳도': 5649, '에드': 5650, '초파리': 5651, '컬러': 5652, '쩐내': 5653, '스페셜': 5654, '떨치다': 5655, '카시트': 5656, '대만': 5657, '환절기': 5658, '소리치다': 5659, 'cctv': 5660, '떄': 5661, '제안': 5662, '경직': 5663, '주소': 5664, '약도': 5665, '초행': 5666, '말끔': 5667, '종료': 5668, '송풍': 5669, 'tea': 5670, '내기': 5671, '중국사람': 5672, '꼴': 5673, '끔찍하다': 5674, '시몬': 5675, '스치다': 5676, '공황': 5677, '분리수거': 5678, '해바라기': 5679, '니니': 5680, '편햇구': 5681, '최지혜': 5682, '비올': 5683, '따끈따끈하다': 5684, '생생하다': 5685, '본드': 5686, '엘리': 5687, '모터': 5688, '만오천원': 5689, '뿌옇다': 5690, '슈페리어킹룸': 5691, '영장': 5692, 'ott': 5693, '한자': 5694, '못함': 5695, '임팩트': 5696, '니트': 5697, '인치': 5698, '만성': 5699, '데크': 5700, '의존': 5701, '표': 5702, '열자': 5703, 'ㅊ': 5704, '음문': 5705, '아픔': 5706, '은지': 5707, '예외': 5708, '링': 5709, '파우더': 5710, '엔지니어': 5711, '온갖': 5712, '냐': 5713, '쿠우': 5714, '구리': 5715, '일리': 5716, '블라인더': 5717, '뻥뚤리다': 5718, '개폐': 5719, '잠기': 5720, '신문': 5721, '분사': 5722, '개조': 5723, '설문지': 5724, '단층': 5725, '어쨋': 5726, '흘러나오다': 5727, '진철': 5728, '컷으': 5729, '덜덜': 5730, '기후': 5731, '광경': 5732, '주목': 5733, '윈드': 5734, '젤로': 5735, '까먹다': 5736, '꼴딱': 5737, '몇대': 5738, '활': 5739, '기관지': 5740, '실랑이': 5741, '이행': 5742, '혐': 5743, '아쿠아리움': 5744, '전해지다': 5745, '드르륵': 5746, '때메': 5747, '멋대로': 5748, '차가워지다': 5749, '산만하다': 5750, '구오': 5751, '룩': 5752, '광화문': 5753, '백퍼': 5754, '가능성': 5755, '부터의': 5756, '사생활': 5757, '조도': 5758, '대놓고': 5759, '재고': 5760, '찜통': 5761, '취객': 5762, '소모': 5763, '푼': 5764, '조율': 5765, '뽕': 5766, '시킴': 5767, '도딱': 5768, '전화통화': 5769, '현저': 5770, '앞방': 5771, '아이두': 5772, 'open': 5773, '어쩌다': 5774, '항의': 5775, '찌린내': 5776, '배수관': 5777, '간접': 5778, '핏': 5779, '방수': 5780, '이남': 5781, '언짢다': 5782, '오징어': 5783, '자제': 5784, '때마침': 5785, '터치': 5786, '청하면': 5787, '이호': 5788, '솝': 5789, '주루룩': 5790, '질리다': 5791, '딸기': 5792, '귀중': 5793, '졸졸졸': 5794, '줄어들다': 5795, '완속': 5796, '깃털': 5797, '샤시': 5798, '선하다': 5799, '시끌시끌하다': 5800, '바가지': 5801, '성과': 5802, '웰빙': 5803, '데스': 5804, 'qr': 5805, '걱정스럽다': 5806, '정일': 5807, '재는': 5808, '블루': 5809, '원대': 5810, '대방': 5811, '자도': 5812, '서늘하다': 5813, '모닝콜': 5814, '거림': 5815, '박수': 5816, 'togo': 5817, '아이디어': 5818, '확산': 5819, '필': 5820, '문의사항': 5821, '밀고': 5822, '하나요': 5823, 'sanitary': 5824, 'bag': 5825, '하수도': 5826, '남침': 5827, '물컹거려': 5828, '운동화': 5829, '시급': 5830, '라떼': 5831, '피닉스': 5832, '망치': 5833, 'front': 5834, 'desk': 5835, '비적': 5836, '베임': 5837, '조리사': 5838, '마케팅': 5839, '감명': 5840, '찜': 5841, '퍽': 5842, '는데': 5843, '습니': 5844, '이따': 5845, '선셋': 5846, 'e': 5847, '졸졸': 5848, '섬유': 5849, '구토': 5850, '응원': 5851, '은색': 5852, '진해': 5853, '젠틀': 5854, '무한': 5855, '깍': 5856, '훌룡': 5857, '홍차': 5858, '데블': 5859, '체트': 5860, '추구': 5861, '부적합하다': 5862, '상위': 5863, '베가': 5864, '반경': 5865, '쌀': 5866, '쓸데없이': 5867, '안감': 5868, '샤워룸': 5869, '티몬': 5870, '흥': 5871, 'ㅠㅠㅠㅠㅠ': 5872, '일요일': 5873, '만석': 5874, '로지은': 5875, '우드': 5876, '넓히다': 5877, '차이나': 5878, '레저': 5879, '갖': 5880, '컨시어즈': 5881, '체감': 5882, '메뉴판': 5883, '프린트': 5884, '틈틈이': 5885, '헬로키티': 5886, '끊임없다': 5887, '피우다': 5888, '로지': 5889, '여자명': 5890, 'facility': 5891, '만발': 5892, '북킹': 5893, '분간': 5894, '빌어': 5895, '보태': 5896, '안락': 5897, '먄': 5898, '출몰': 5899, '세시': 5900, '다섯시': 5901, '생략': 5902, '소규모': 5903, '켜': 5904, '후진': 5905, '악': 5906, '물티슈': 5907, '수북하다': 5908, '퇴실후': 5909, '조그마하다': 5910, 'this': 5911, 'it': 5912, '하위': 5913, '절망': 5914, 'at': 5915, '불면': 5916, '홍수': 5917, '타이밍': 5918, '망하다': 5919, '절도': 5920, '제기': 5921, '진창': 5922, '캐리': 5923, '배정은': 5924, '무려': 5925, '정식': 5926, '마음먹다': 5927, '굽굽': 5928, 'bedding': 5929, '미끌거리다': 5930, '유물': 5931, '였슴': 5932, '낙': 5933, '얼룩덜룩': 5934, '차창': 5935, '첮': 5936, '치명': 5937, '미제': 5938, '보라': 5939, '칙칙하다': 5940, '무례하다': 5941, '두통': 5942, '직윈': 5943, '온통': 5944, '오분': 5945, '실밥': 5946, '옥탑': 5947, '딴판': 5948, '교차': 5949, 'onoff': 5950, '유흥': 5951, '화월': 5952, '유주': 5953, '조화': 5954, '주상절리': 5955, '삼십분': 5956, '감추다': 5957, '당직': 5958, '뜯기다': 5959, '중학교': 5960, '거위': 5961, '데이트': 5962, '불꽃': 5963, '놀때': 5964, '볼곳': 5965, '하여튼': 5966, '쭈욱': 5967, '업종': 5968, '앗': 5969, '출산': 5970, '강츄': 5971, '용머리': 5972, '궂': 5973, '널찍': 5974, '부폐': 5975, '상쇄되': 5976, '룸크리닝': 5977, '만삼천원': 5978, '정수': 5979, '평화롭다': 5980, '놨': 5981, '뷰방': 5982, '별것': 5983, '덧': 5984, '개수': 5985, '소비': 5986, '불로': 5987, '댕': 5988, '야박하다': 5989, '김만복': 5990, '설립': 5991, '랍니': 5992, '뿜뿜': 5993, '파트': 5994, '드롭': 5995, '영아': 5996, '여객선': 5997, '창피하다': 5998, '케니': 5999, '웨딩': 6000, '이라곤': 6001, '깨닫다': 6002, '티포트': 6003, '수단': 6004, '오렌지': 6005, '소박하다': 6006, '박히다': 6007, '진지': 6008, '팔도': 6009, '유지관리': 6010, '개정': 6011, '자가용': 6012, '재활용': 6013, '고체': 6014, '제겐': 6015, '누우': 6016, '고함': 6017, '셈': 6018, '던킨': 6019, '배기': 6020, '주안': 6021, '대명': 6022, '육안': 6023, '안마': 6024, '램': 6025, '무사하다': 6026, 'k': 6027, '박연': 6028, '아찔하다': 6029, '분뒤': 6030, '화상': 6031, '체어': 6032, '체모': 6033, '진곳': 6034, '공부': 6035, '큰아들': 6036, '졸업': 6037, '달전': 6038, '파이브': 6039, '서복': 6040, '전시관': 6041, '항시': 6042, '클렌': 6043, '인가요': 6044, '타도': 6045, '하늘정원': 6046, '요트': 6047, '형광등': 6048, '노랗다': 6049, '초록색': 6050, '초록': 6051, '새끼': 6052, '풍향': 6053, 'recommended': 6054, 'perfect': 6055, '이래도': 6056, '알리': 6057, '명찰': 6058, '종': 6059, '사용권': 6060, '김밥천국': 6061, '직영': 6062, '직관': 6063, '살살': 6064, '마크': 6065, '끼익': 6066, '으로나': 6067, '레져': 6068, '싸이': 6069, '인증': 6070, '겁': 6071, '외딴': 6072, '랍스타': 6073, '불상': 6074, '소스': 6075, '거릴': 6076, '다예': 6077, '주번': 6078, '멤버': 6079, '혼란': 6080, '부속': 6081, '회복': 6082, '콘텐츠': 6083, '프레임': 6084, '셀렉': 6085, '그레이': 6086, '에보니': 6087, '팔이': 6088, '유감': 6089, '커넥션': 6090, '데려오다': 6091, '어르다': 6092, '이편': 6093, '담소': 6094, '글쎄': 6095, '젛': 6096, '으로서': 6097, '께서는': 6098, '상테': 6099, '짜장면': 6100, '가급적': 6101, '익히다': 6102, '업다': 6103, '안도': 6104, '감지기': 6105, '돌출': 6106, '상함': 6107, '날아오다': 6108, '영국': 6109, '유통': 6110, '연하다': 6111, '헤지': 6112, '샘': 6113, '항공기': 6114, '불때': 6115, '불필요하다': 6116, '슬픔': 6117, '당첨': 6118, '드디어': 6119, '뷰임': 6120, '벌이다': 6121, 'soso': 6122, '친환경': 6123, '서투르다': 6124, '주무': 6125, '휑': 6126, '엘': 6127, '실행': 6128, '수평': 6129, '수산': 6130, '엿보다': 6131, '휴게소': 6132, '부과': 6133, '젓갈': 6134, '청겷': 6135, '제때': 6136, '의지': 6137, '레슨': 6138, '다운타운': 6139, '뺴': 6140, '레노베이션': 6141, '수신': 6142, '잖다': 6143, '외풍': 6144, '미비하다': 6145, '촉촉하다': 6146, '그레이드': 6147, '률': 6148, '에러': 6149, '콜비': 6150, 'ㅣ': 6151, '턴': 6152, '계약': 6153, '함뷰': 6154, '설득': 6155, '력': 6156, '안주시': 6157, '떨어뜨리다': 6158, '나로': 6159, '기선': 6160, '이래저래': 6161, '잠금장치': 6162, '조명등': 6163, '몰래': 6164, '일등': 6165, '시멘트': 6166, '산쪽': 6167, '남녕': 6168, '옥': 6169, '뜰': 6170, '미러링': 6171, '가안': 6172, '살피다': 6173, '꾸리': 6174, '앙코르': 6175, '마파두부': 6176, '러': 6177, '촌스럽다': 6178, '온도조절기': 6179, 'ㄱㄱ': 6180, '카톡': 6181, '진원': 6182, '모드': 6183, '탁시': 6184, '꿀렁꿀렁': 6185, '소프트': 6186, '표면': 6187, '싫어지다': 6188, '캐릭터': 6189, '실의': 6190, '굉음': 6191, '어번': 6192, '한라': 6193, '일체': 6194, '비밀': 6195, '언젠가': 6196, '검정색': 6197, '스낵바': 6198, '에이': 6199, '무비': 6200, '헤맷는데': 6201, '고등': 6202, '웟습니': 6203, '요타': 6204, '한결': 6205, '쿠킹': 6206, '통금': 6207, '픽': 6208, '뜻밖': 6209, '만은': 6210, '팬션': 6211, '인성': 6212, '양일간': 6213, '쿵쾅거리다': 6214, '스팟': 6215, '주선': 6216, '수거': 6217, '떡하니': 6218, '장고': 6219, '호첼': 6220, '흡': 6221, '몸살': 6222, '스텐드': 6223, '놓아두다': 6224, '우릴': 6225, '눈웃음': 6226, '장님': 6227, '새로이': 6228, '라던가': 6229, '넒음': 6230, '킥판': 6231, '느므느므': 6232, '바리스타': 6233, '흘러가다': 6234, '있을껀': 6235, '마루라': 6236, '맞닿다': 6237, 'bookingcom': 6238, '월드컵': 6239, '가상': 6240, '지리다': 6241, '최고다': 6242, '저쪽': 6243, '옳다': 6244, '소지품': 6245, '부적절하다': 6246, '주니': 6247, '미용실': 6248, '고기국수': 6249, '드럽다': 6250, '다정하다': 6251, '곤란': 6252, '후라이팬': 6253, '건축물': 6254, '페이': 6255, '쳥결': 6256, '웠습': 6257, '삼겹살': 6258, '아영': 6259, '리아': 6260, '다급하다': 6261, '격': 6262, '갠차다': 6263, '스벅있어': 6264, '덜컹덜컹': 6265, '여니': 6266, '답답': 6267, '유산균': 6268, '평화': 6269, '둥둥': 6270, '녹나무': 6271, 'ㄹㅇ': 6272, '큰길': 6273, '소란스러움': 6274, '훈련': 6275, '모델': 6276, '자유여행': 6277, '고비': 6278, '하나로마트': 6279, '벌다': 6280, '용의': 6281, '방인': 6282, '루프트탑': 6283, '스시': 6284, '비려': 6285, '풀뷰': 6286, '도렐': 6287, '맛있엇어': 6288, '인보이스': 6289, '무크': 6290, '인간': 6291, '붙이': 6292, '져서': 6293, '환경문제': 6294, '융통성': 6295, '탄산수': 6296, '방금': 6297, '퓨저': 6298, '노란색': 6299, '있엇어': 6300, '코고': 6301, '뺴고': 6302, '읍내': 6303, '폐점': 6304, '다이아몬드': 6305, '티어': 6306, '압권': 6307, 'breakfast': 6308, 'pc': 6309, '펀하다': 6310, '건아': 6311, '거들다': 6312, '살균': 6313, '하산': 6314, '장시간': 6315, '다프': 6316, '당기다': 6317, '아쉬웟': 6318, '이라기보다는': 6319, '싱싱하다': 6320, '무게': 6321, '숲뷰': 6322, '동서': 6323, '한가득': 6324, '동동': 6325, '향상': 6326, '맥도널드': 6327, '어중간': 6328, '왈': 6329, '조미료': 6330, '궁': 6331, '계란프라이': 6332, '변동': 6333, '고서': 6334, '반값': 6335, '탑승': 6336, '갠데': 6337, '숨쉬기': 6338, '여행사': 6339, '차비': 6340, '장애': 6341, '미닫이문': 6342, '글씨': 6343, '오르막': 6344, '리해': 6345, '안길': 6346, '온센': 6347, '무적': 6348, '정성': 6349, '유행': 6350, '셋트': 6351, '부딪치다': 6352, '진료': 6353, '뼈': 6354, '부주의': 6355, '욘': 6356, '사설': 6357, '력셔': 6358, '차출': 6359, '급행버스': 6360, '해돋이': 6361, '발망': 6362, '노선도': 6363, '푸근하다': 6364, '삼성혈': 6365, '생필품': 6366, '초기': 6367, '세미': 6368, '상도': 6369, '휘슬락': 6370, '걸치다': 6371, '쫙': 6372, '않았슴': 6373, '깜박': 6374, '질감': 6375, '테니스장': 6376, 'pub': 6377, 'best': 6378, 'locates': 6379, 'be': 6380, '늣데': 6381, '야무지다': 6382, '기호': 6383, '떼': 6384, '설날': 6385, '먼트': 6386, '일월': 6387, '생소하다': 6388, '좋음룸': 6389, '학년': 6390, 'sure': 6391, '채다': 6392, '경도': 6393, '진작': 6394, 'im': 6395, 'nice': 6396, 'star': 6397, '동하': 6398, '수록': 6399, '편차': 6400, '정성은': 6401, '땡큐': 6402, '지안': 6403, '오일': 6404, '리젠트': 6405, '마린': 6406, '협소했어': 6407, '분장': 6408, '적당': 6409, '위락시설': 6410, '주행': 6411, '골': 6412, '구림': 6413, '박물': 6414, '방한': 6415, '엥': 6416, '압': 6417, '무한리필': 6418, '기울이다': 6419, '따름': 6420, '연달': 6421, '움치다': 6422, '특별': 6423, '쌔': 6424, '노소': 6425, '영화관': 6426, '최저': 6427, '가늘다': 6428, '소문나다': 6429, '뽈': 6430, '살집': 6431, '넷이': 6432, '자취': 6433, '가다가': 6434, '환승': 6435, '불투명': 6436, '으로서는': 6437, '천지연폭포': 6438, '유연하다': 6439, '엄격하다': 6440, '멘붕': 6441, '이왕이면': 6442, '낯설다': 6443, '신혼': 6444, '썻': 6445, '지중해': 6446, '어쩌나': 6447, '텐션': 6448, '반전': 6449, '단순': 6450, '기어': 6451, '장인어른': 6452, '장모님': 6453, '수세미': 6454, '으로써는': 6455, '진주': 6456, '우주': 6457, '다이슨': 6458, '쉬는시간': 6459, '어린이날': 6460, '저격': 6461, '토대': 6462, '여자아이': 6463, '캠핑': 6464, '축소': 6465, '한림': 6466, '려면': 6467, '영도': 6468, '아메리칸': 6469, '입학': 6470, '이함': 6471, '믿음': 6472, '채식': 6473, '비건': 6474, '한일': 6475, '안기다': 6476, '흡입': 6477, '죠아': 6478, '잘맞다': 6479, '런트': 6480, '최애': 6481, '못내': 6482, '집안': 6483, '여섯': 6484, '요긴': 6485, '우천': 6486, '반짝': 6487, '힙': 6488, '룸컴디션': 6489, '렵니': 6490, '룸시설': 6491, '기술': 6492, '렌': 6493, '와우': 6494, '연신': 6495, '타지': 6496, '명인': 6497, '빠져들다': 6498, '그릴': 6499, '안타': 6500, '누나': 6501, '더욱이': 6502, '벼': 6503, '식해': 6504, '묵자': 6505, '배송': 6506, '총지배인': 6507, '주사': 6508, '옛': 6509, '인수': 6510, '대학': 6511, '순례': 6512, '창쪽': 6513, '표지': 6514, '장기로': 6515, '전광판': 6516, '오냐': 6517, 'peak': 6518, 'ㅎㅎㅎㅎㅎㅎ': 6519, '어덜트': 6520, '여건': 6521, '고산': 6522, '순위': 6523, '심리': 6524, '넒어': 6525, '싑': 6526, '체계': 6527, '프로페셔널': 6528, '딘': 6529, '넓은룸': 6530, '대우받다': 6531, '로얄': 6532, '재주': 6533, '태': 6534, '확장': 6535, 'vip': 6536, '구름': 6537, '개발': 6538, '도장': 6539, '속편': 6540, '오프': 6541, '슬포': 6542, '엎': 6543, '올렛길': 6544, '에너지': 6545, '리얼': 6546, '차편': 6547, '섶섬': 6548, '파노라마': 6549, '오피스': 6550, '아이템': 6551, '리본': 6552, '야채': 6553, '체인점': 6554, '키판': 6555, '가정식': 6556, '남향': 6557, '동향': 6558, '아침햇살': 6559, '어중간하다': 6560, '매끈하다': 6561, '광도': 6562, '줄곧': 6563, '락커': 6564, '영상': 6565, '래미': 6566, '리트리버': 6567, '손소독': 6568, '앞서': 6569, '불면증': 6570, '맘대로': 6571, '미티': 6572, '산지': 6573, '보고서': 6574, '안정': 6575, '씻기다': 6576, '식성': 6577, '건더기': 6578, '넣기': 6579, '정숙': 6580, '숙성': 6581, '색달': 6582, '훈제': 6583, '주저': 6584, '이제껏': 6585, '데이즈': 6586, '라이트': 6587, '가량': 6588, 'ㅇㅓ': 6589, '가수': 6590, '이예': 6591, '극히': 6592, '초행길': 6593, '실패': 6594, '썸머': 6595, '퍼': 6596, '썻던': 6597, '전반전': 6598, '손글씨': 6599, '호주': 6600, '맘에듬': 6601, '렉카': 6602, '조삭': 6603, '황송': 6604, '간곳': 6605, '이탈리아': 6606, '쿵쾅': 6607, '지루함': 6608, '구획': 6609, '길가': 6610, '린넨': 6611, '비갈': 6612, '프렌들리': 6613, '투입': 6614, '설레임': 6615, '철학': 6616, '헤드셋': 6617, '로얄스': 6618, '장통': 6619, '아련하다': 6620, '가꾸다': 6621, '둘러쌓다': 6622, '기품': 6623, '안남': 6624, '넥팅룸': 6625, '기적': 6626, '손꼽다': 6627, '치도': 6628, '발급': 6629, '떠올리다': 6630, '산길': 6631, '한해': 6632, '천문관': 6633, '폼클렌져': 6634, '유공': 6635, '휴무': 6636, '가르치다': 6637, '열흘': 6638, '질때': 6639, 'ㅏ': 6640, '굴짬뽕': 6641, '트레일': 6642, '졸다': 6643, '뽀숑': 6644, '룸업': 6645, '정오': 6646, '전세': 6647, '말모': 6648, '파르나스': 6649, '개개인': 6650, '의심스럽다': 6651, '요새': 6652, '뽑기': 6653, '유': 6654, '가파른': 6655, '권고': 6656, '부각': 6657, '통창뷰': 6658, '메뉴얼': 6659, '지척': 6660, '수평선': 6661, '은은하다': 6662, '퀄리': 6663, '얼른': 6664, '훈남': 6665, '삼촌': 6666, 'tt': 6667, 'ex': 6668, '장위': 6669, '슬라이딩': 6670, '트레킹': 6671, '등대': 6672, '큰일': 6673, '카노푸스': 6674, '이슬': 6675, '단어': 6676, '엔틱': 6677, '월풀': 6678, '세련': 6679, 'ㅋㅋㅋㅋㅋㅋ': 6680, '왓습': 6681, '재미나': 6682, '손쉽다': 6683, '한밤': 6684, '출근': 6685, '너리': 6686, '브라운': 6687, '지갑': 6688, '호강': 6689, '섭취': 6690, '딸도': 6691, '실화': 6692, '웬': 6693, '시각': 6694, '동그랗다': 6695, '도넛': 6696, '오래간만': 6697, '켑슐': 6698, '케잌': 6699, '첨가': 6700, '찌개': 6701, '총사': 6702, '훈훈하다': 6703, '덩치': 6704, '퇴근': 6705, '수려': 6706, '식기건조기': 6707, '이를': 6708, '르': 6709, '창고': 6710, '다집': 6711, '진행중': 6712, '평온하다': 6713, '세라': 6714, '앞뒤': 6715, '실어': 6716, '탐라': 6717, '여객': 6718, '찿': 6719, '기계로': 6720, '비주': 6721, '동화': 6722, '정겹다': 6723, '파란': 6724, '꽂히다': 6725, '팩': 6726, '깆': 6727, '지겹다': 6728, '다음주': 6729, '때로는': 6730, '사원': 6731, '추어': 6732, '유리컵': 6733, '고품격': 6734, '출퇴근': 6735, '일로': 6736, '과언': 6737, '전의': 6738, '오빠': 6739, '꼽는다': 6740, '널리': 6741, '향기도': 6742, '특화': 6743, '꽉꽉': 6744, '식대': 6745, '산행후': 6746, '구성은': 6747, '다과': 6748, '장염': 6749, '비실': 6750, 'julia': 6751, '참새': 6752, '월달': 6753, '변덕': 6754, '퍼센트': 6755, '토스터': 6756, '효도': 6757, '욕심': 6758, '외모': 6759, '쿠쿠': 6760, '나이프': 6761, '크루': 6762, '제과점': 6763, '콘': 6764, '화징실': 6765, '재활': 6766, '다면': 6767, 'cj': 6768, '리저': 6769, '렌지': 6770, '램딩관': 6771, '신혼부부': 6772, '리서치': 6773, '인대': 6774, '으로써': 6775, '데프론': 6776, '김한솔': 6777, 'tai': 6778, '올인': 6779, '식혜': 6780, '해녀': 6781, '오래도록': 6782, '갤러리': 6783, '양고기': 6784, '설연휴': 6785, '키카': 6786, '엄지': 6787, '한자리': 6788, '페닌슐': 6789, '이자카야': 6790, '애도': 6791, '특수하다': 6792, '룸차지': 6793, '네미': 6794, '수요일': 6795, '예산': 6796, '오스카': 6797, '새별오름': 6798, '곶자왈': 6799, '다짐': 6800, '이어진': 6801, '휴일': 6802, '손주': 6803, '기색': 6804, '우정': 6805, '양가': 6806, '샌딩': 6807, '가용': 6808, '포도': 6809, '분업': 6810, '댕큐': 6811, '자부심': 6812, '테이프': 6813, '산경': 6814, '시리우스': 6815, '나사': 6816, '전문점': 6817, '락커룸': 6818, '끈쪽': 6819, '훤희': 6820, '선팅': 6821, '음서': 6822, '육전': 6823, '진실되다': 6824, '금전': 6825, '직거림': 6826, '주병': 6827, '한간': 6828, '헐렁거리': 6829, '템': 6830, 'galrtem': 6831, '사이판': 6832, '전박': 6833, '전인': 6834, 'aged': 6835, 'downside': 6836, 'aircon': 6837, 'even': 6838, 'mar': 6839, 'no': 6840, 'option': 6841, 'available': 6842, 'us': 6843, 'switch': 6844, 'air': 6845, 'con': 6846, '트러블': 6847, '흐름': 6848, '경쟁': 6849, '억울하다': 6850, '육박': 6851, '동절': 6852, 'mode': 6853, '린곳': 6854, '상주면': 6855, '파도풀': 6856, '에프': 6857, '터눈티셋': 6858, '닝': 6859, '대피': 6860, '트라우마': 6861, '그땐': 6862, '쭉쭉': 6863, '가렵니': 6864, '꽃심': 6865, '동남아시아': 6866, '손톱': 6867, '룸욕실': 6868, '매해': 6869, '다지다': 6870, '유령도시': 6871, '리뉴': 6872, '러기': 6873, '까짓': 6874, '사면': 6875, '유명무실': 6876, '설리': 6877, '각박': 6878, '이견': 6879, '난처하다': 6880, '정점': 6881, '왓더': 6882, '집결': 6883, '위잠': 6884, '서호': 6885, '둘재날': 6886, '고원': 6887, '워터월드': 6888, '듵었음': 6889, '임창정': 6890, '라이프': 6891, '자켓': 6892, '인권': 6893, '제원': 6894, '식전': 6895, '당하': 6896, '집게벌레': 6897, '뿌리': 6898, '트랩': 6899, '깻습니': 6900, '발린': 6901, '대견하다': 6902, '유리잔': 6903, '맥주잔': 6904, '가이드라인': 6905, '개선문': 6906, '했다랜딩관': 6907, 'bhc': 6908, '술래잡기': 6909, '끼치다': 6910, '렵': 6911, '구글': 6912, '봄방학': 6913, '괘적하': 6914, '핫초코': 6915, '중산층': 6916, '티뷔': 6917, 'maison': 6918, 'glad': 6919, '넌편': 6920, '급상승': 6921, '다낭': 6922, '빈펄': 6923, '동그라미': 6924, '조등': 6925, '신한카드': 6926, '탑스': 6927, '카밀리아': 6928, '기밀': 6929, '아무나': 6930, '보광': 6931, 'covid': 6932, '나오니': 6933, '차내': 6934, '객임': 6935, '대머리': 6936, 'communication': 6937, 'noted': 6938, 'krw': 6939, 'required': 6940, 'using': 6941, 'facilities': 6942, 'however': 6943, 'explicit': 6944, 'made': 6945, 'effort': 6946, 'ask': 6947, 'use': 6948, 'day': 6949, 'replied': 6950, 'pay': 6951, 'once': 6952, 'actually': 6953, '셋팅되어': 6954, '첵': 6955, '관성': 6956, '미동': 6957, 'happy': 6958, 'honeymoon': 6959, '어로': 6960, '형용': 6961, '납작하다': 6962, '빳빳': 6963, '배스롭': 6964, '제스쳐': 6965, '애석하다': 6966, '짝': 6967, '소수': 6968, '하드캐리': 6969, '폐셔': 6970, '아르바이트': 6971, '쥰비': 6972, '독하다': 6973, '퓰': 6974, '에쓰': 6975, '웨스': 6976, '틴': 6977, '중년': 6978, '좋았슴니': 6979, '이름나다': 6980, '독채팬션': 6981, '물틀': 6982, '쇳소리': 6983, '전동': 6984, '레드동': 6985, '듣기': 6986, '랭딩관': 6987, '스푼': 6988, '머그컵': 6989, '간장게장': 6990, '우기': 6991, '연연하다': 6992, '롸장실': 6993, '위만': 6994, '폭도': 6995, '부로': 6996, '부적': 6997, '바삭바삭하다': 6998, '햤': 6999, '벨소리': 7000, 'dnd': 7001, '직았': 7002, '외길': 7003, '괴': 7004, '스벅가': 7005, '실문': 7006, '새똥': 7007, '도무지': 7008, '카운트': 7009, '페널티': 7010, '벌금': 7011, '돈내': 7012, '어처구니': 7013, '다루다': 7014, '거격': 7015, '사이렌': 7016, '드나들다': 7017, '취한': 7018, '춤추다': 7019, '갤럭시': 7020, '행위': 7021, '사심': 7022, '알바생': 7023, '줗음': 7024, '닥는타올': 7025, '고사리': 7026, '스페이스': 7027, '올껍니': 7028, '빡시다': 7029, '콘솔': 7030, '제자리': 7031, '특희': 7032, '철거': 7033, '홈키': 7034, '성상': 7035, '티브': 7036, '프라스': 7037, '틱': 7038, '스크램블에그': 7039, '애어컨': 7040, '무책임하다': 7041, '훨커': 7042, '의성': 7043, '쏘이다': 7044, '월등하다': 7045, '내팽겨쳐둔': 7046, '비결': 7047, '혈': 7048, '콤콤': 7049, '잔기침': 7050, '립스틱': 7051, '지프': 7052, '출근시간': 7053, '서지역': 7054, '둔하다': 7055, '매제': 7056, '단장': 7057, '썩다': 7058, '준치': 7059, '창호지': 7060, '군것질': 7061, '좀벌레': 7062, '싼마이': 7063, '팬티': 7064, '벽체': 7065, '할때특': 7066, '막도': 7067, '함방': 7068, '팅기다': 7069, '건내다': 7070, '지아': 7071, '방정': 7072, '리하': 7073, '빡세': 7074, '숙객': 7075, '고학년': 7076, '유상': 7077, '고질': 7078, '무현': 7079, '사일런트': 7080, '자욱하다': 7081, '쟈마쟈': 7082, '덜썩': 7083, '층싱글룸': 7084, '모뎀': 7085, '짝쏙': 7086, '무안하다': 7087, '경비': 7088, '싑습': 7089, '안치': 7090, '방음벽': 7091, '면제': 7092, '비난': 7093, '뽑히다': 7094, '묻히다': 7095, '일다': 7096, '공공': 7097, '청과': 7098, '휼룡햐': 7099, '굉': 7100, 'ㅇㅇㅇㅇㅇㅇㅇㅇ': 7101, '냉풍': 7102, '허름': 7103, '스케': 7104, '모듀': 7105, '러닝': 7106, '내려놓다': 7107, '앰뷸런스': 7108, '룸이었': 7109, '머핀': 7110, '눚': 7111, '삭제': 7112, '거렸는데': 7113, '후다닥': 7114, '뛰어오다': 7115, '지식': 7116, '제조': 7117, '국산': 7118, '안깨끗': 7119, '흉측하다': 7120, '유난히': 7121, '장수풍뎅이': 7122, '주치': 7123, '출렁이다': 7124, '차종': 7125, '장제': 7126, '진공': 7127, '황량': 7128, '몬트락': 7129, '우럭': 7130, '책로': 7131, '키라': 7132, '뭣해': 7133, '드링크': 7134, '출시': 7135, '있늣': 7136, '벌컥벌컥': 7137, '원기': 7138, '원주고': 7139, '들썩들썩': 7140, '아쉽딘': 7141, '배타': 7142, '공업단지': 7143, '쟁반': 7144, '스산합니': 7145, '만방': 7146, '넘사벽': 7147, '인족': 7148, '간질간질': 7149, '비말': 7150, '작은룸': 7151, '섭섬': 7152, '두째': 7153, '엡': 7154, '열차': 7155, '인점': 7156, '신어': 7157, '불명': 7158, '영혼': 7159, '렌탈': 7160, '세단': 7161, '약점': 7162, '하소연': 7163, '꼬릿': 7164, '었': 7165, '자위': 7166, '소복': 7167, '바꿈': 7168, '푸딩': 7169, '침침하다': 7170, '발렛형식': 7171, '비처럼': 7172, '도안': 7173, '레셉션': 7174, '곡류': 7175, '투숙프론트': 7176, '몰두하다': 7177, '약함프론트': 7178, '한나': 7179, '명령': 7180, '아싑네': 7181, '데이터': 7182, '유발': 7183, '점원': 7184, '선뷰': 7185, '마스코트': 7186, '플렉스': 7187, '지해': 7188, '씨끌': 7189, '포켓': 7190, '취조': 7191, '가축': 7192, '룸레이트': 7193, 'ota': 7194, '베딩감': 7195, '선택룸': 7196, '룸입구문': 7197, '뷰뻥': 7198, '맞닥뜨린': 7199, '상대방': 7200, '헤져': 7201, '바디클렌져': 7202, '존나': 7203, '덩이': 7204, '식후': 7205, '쿱쿱': 7206, '러웠': 7207, '핵': 7208, '빈약': 7209, '시커멓다': 7210, '정성스럽다': 7211, '무뚝툭': 7212, '못취했어': 7213, '분지': 7214, '품절': 7215, '수렴': 7216, '유인': 7217, '노화': 7218, '분류': 7219, '프로페셔널함': 7220, '징모': 7221, '란락': 7222, '쇼바': 7223, '랜트': 7224, '만배': 7225, '여행떄': 7226, '악화': 7227, '크레딧': 7228, '알고싶다': 7229, '담달': 7230, '수련': 7231, '쌩뚱맡': 7232, '랜트해': 7233, '인듯': 7234, '뷰페': 7235, '나시': 7236, '대유행': 7237, '즈음': 7238, '믾': 7239, '섬머': 7240, '나이라': 7241, '벨트': 7242, '관장': 7243, '붐': 7244, '게임기': 7245, '베이직': 7246, '룸임': 7247, '컨트롤러': 7248, '각국': 7249, '줄겁': 7250, '박찬미': 7251, '침절': 7252, '전혜': 7253, '명자': 7254, '토일': 7255, '평형': 7256, '장단점': 7257, '싸움': 7258, '캐이블': 7259, '유사하다': 7260, '앞동': 7261, '침해': 7262, '옷차림': 7263, '동서로': 7264, '사업': 7265, '산재': 7266, '티등': 7267, '박자': 7268, '트랙': 7269, '유치하다': 7270, '아름': 7271, '다시금': 7272, '무심코': 7273, '초승달': 7274, '소감': 7275, '번도': 7276, '겉옷': 7277, '됏': 7278, '편햇': 7279, '늡': 7280, '곰인형': 7281, '보신': 7282, '해방': 7283, '게임방': 7284, '껍질': 7285, '씹다': 7286, '사건': 7287, '실버': 7288, '잠껀': 7289, '유산': 7290, '보너스': 7291, '다년': 7292, '목별': 7293, '없었느': 7294, 'ㅎㅎㅎㅎㅎㅎㅎㅎㅎㅎㅎㅎㅎㅎㅎ': 7295, '아슀네': 7296, '로리': 7297, '의하다': 7298, '하선': 7299, '빼앗다': 7300, '후반': 7301, '명의': 7302, '커뮤니티': 7303, '엄천': 7304, '지출': 7305, '안남다': 7306, '값싸다': 7307, '셋탑박스': 7308, 'monica': 7309, '조아하다': 7310, '깔꼼': 7311, '조음': 7312, '로스': 7313, '스누피': 7314, '어트랙션': 7315, '조인': 7316, '가득가득': 7317, 'han': 7318, '생가': 7319, '자구': 7320, '구제': 7321, '용한': 7322, '내미다': 7323, '점차': 7324, '래딩관': 7325, '윤경': 7326, '몃': 7327, '넚어': 7328, '움리': 7329, '프랜차이즈': 7330, '룸을개': 7331, '수포': 7332, '이니스프리': 7333, '아요': 7334, '태국': 7335, '모듬걸': 7336, '한호': 7337, '최싱': 7338, '꼬박': 7339, '리조츠안': 7340, '문관': 7341, '왓을때': 7342, '매표소': 7343, '제휴': 7344, '비합리적': 7345, '프토': 7346, '부다': 7347, '돌침대': 7348, '셋임': 7349, '손가락질': 7350, 'ㅅㅅ': 7351, '갑작스레': 7352, '갠찮긴': 7353, '랜딩호텔': 7354, '람보': 7355, '내주다': 7356, '난뒤': 7357, '고치': 7358, '내주': 7359, '장주': 7360, '호구': 7361, '찬사': 7362, '물집': 7363, '사양': 7364, '겹침': 7365, '피티': 7366, '니스': 7367, '싸이클': 7368, '싯업벤치': 7369, '스미스': 7370, '콘덴서': 7371, '웠던': 7372, '키유': 7373, '짖다': 7374, '전산': 7375, '겸비': 7376, '철사': 7377, '두껑': 7378, '입처': 7379, '그랫는': 7380, '거르세': 7381, '댜': 7382, '번식': 7383, '덮개': 7384, '점프': 7385, '로다': 7386, '떄문': 7387, 'tower': 7388, '면세': 7389, 'sm': 7390, '꺄끗': 7391, '손때': 7392, '소라': 7393, '혈흔': 7394, '관광부': 7395, '편집': 7396, '회의실': 7397, '엄지손가락': 7398, '기프트': 7399, '샾': 7400, '자쿠지물': 7401, '관여': 7402, '헛': 7403, '명확': 7404, '벙크베드': 7405, '숴웠': 7406, '돌리지': 7407, '향냄새': 7408, '요렇게': 7409, '초초초': 7410, '음객': 7411, '부문': 7412, '디스플레이': 7413, '겨우내': 7414, '년초': 7415, '드매': 7416, '문점도': 7417, '러닝머신': 7418, '청소부': 7419, '만빵': 7420, '열사': 7421, '코너링': 7422, '매트릭스': 7423, '불효': 7424, '즉': 7425, '맴버쉽': 7426, 'hospitality': 7427, '쥬라기': 7428, '익스플로러': 7429, '고고학자': 7430, '수료증': 7431, '결후': 7432, '게걸': 7433, '수십': 7434, '하란': 7435, '표선쪽': 7436, '호델쪽': 7437, '불현': 7438, '가인': 7439, '도전': 7440, '할껄': 7441, 'ㅎㅏ': 7442, '장안': 7443, '오늘이': 7444, '알려지다': 7445, '의사소통': 7446, '농': 7447, '등위': 7448, '새벽같이': 7449, '꿀맛': 7450, '토요일': 7451, '자라': 7452, '봉투': 7453, '사무': 7454, 'cf': 7455, '손수건': 7456, '끝쪽': 7457, '박음질': 7458, '갈라지다': 7459, '진부': 7460, '젛앗어': 7461, '나야': 7462, '위풍': 7463, '순두부': 7464, '백원': 7465, '보증금': 7466, '컨퍼런스': 7467, '만타': 7468, '올비': 7469, '칼호탤': 7470, '요성': 7471, '유흥주점': 7472, '슨': 7473, '쿵쿰': 7474, '탈취': 7475, '보조': 7476, '이모저모': 7477, '버기': 7478, '홤무지': 7479, '방앞': 7480, '비킹': 7481, '마사': 7482, '되엇': 7483, '갓길': 7484, '짝궁': 7485, '묵엇': 7486, '까끗': 7487, '얄듯': 7488, '감겨': 7489, '태말': 7490, '개취': 7491, '탑골': 7492, '별반': 7493, '고약하다': 7494, '자네': 7495, '스토브': 7496, '가스': 7497, '함수': 7498, '객용': 7499, '멈': 7500, '퍼니처': 7501, '꿈꾸다': 7502, '괜챤다': 7503, '동점': 7504, '간점임': 7505, '볼걸': 7506, '우왉': 7507, '에코': 7508, '어쩌구': 7509, '벗': 7510, '러그': 7511, '낚임': 7512, '달동네': 7513, '천만': 7514, '다이닝룸': 7515, '인들': 7516, '진자': 7517, 'tpo': 7518, '휘적휘적': 7519, '미키': 7520, '소음기': 7521, '한가로이': 7522, '치질': 7523, '인체': 7524, '공학': 7525, '중고': 7526, '구형': 7527, '노맛': 7528, 'world': 7529, 'hyatt': 7530, '뷰층': 7531, 'ㅎㅎㅎㅎㅎ': 7532, '루브리카': 7533, '루브': 7534, '리카': 7535, '노동자': 7536, '후각': 7537, 'key': 7538, '긍': 7539, '프론트쪽': 7540, '됫는': 7541, '묵읐는데': 7542, '병따개': 7543, '몬저': 7544, '남상': 7545, '룸정비': 7546, '찌뿌둥': 7547, '조악하다': 7548, 'ㅋㅋㅋㅋㅋㅋㅋ': 7549, '맛바': 7550, '노이즈': 7551, 'kal': 7552, 'bus': 7553, '화를': 7554, '어란': 7555, '애글': 7556, '층걔': 7557, '꼬꾸라지다': 7558, '뻔헀습': 7559, '쨍쨍': 7560, '테슬라': 7561, '떨리다': 7562, '안드': 7563, '사마': 7564, '뭉텅': 7565, '설쳣네': 7566, '이안': 7567, '본방송': 7568, '이듬': 7569, '어지럽다': 7570, '이상야릇하다': 7571, '있슴': 7572, '줄때': 7573, '때우다': 7574, '확답': 7575, '날이갈수록': 7576, '장바닥': 7577, '슈질': 7578, '갸격': 7579, '커피가게': 7580, '닭': 7581, '어두운색': 7582, '글자': 7583, '열원': 7584, '업애': 7585, '접함': 7586, '삮': 7587, '빠뜨리다': 7588, '구두주걱': 7589, '장의': 7590, '초촐': 7591, '불안정하다': 7592, '숨막히다': 7593, '벽장': 7594, '남방': 7595, '절경': 7596, '사사건건': 7597, '답답햇': 7598, '노뷰': 7599, '벽보': 7600, '첨하루죙일': 7601, '우울증': 7602, '교회': 7603, '찬송가': 7604, '레크레이션': 7605, '났고룸': 7606, '물렁하다': 7607, '훌륨': 7608, '격하': 7609, '깨끗해지다': 7610, '은기': 7611, '플로': 7612, '지하상가': 7613, '동방': 7614, '온몸': 7615, '엉덩이': 7616, '귓바퀴': 7617, '레일': 7618, '뉘앙스': 7619, '아숴웠네': 7620, '것퇴실': 7621, '있음룸': 7622, '고만': 7623, '안정감': 7624, '옛스럽다': 7625, '큼큼': 7626, '공중화장실': 7627, '향수': 7628, '느글거림컵': 7629, '엠브': 7630, '란스': 7631, '극성': 7632, '내리쬐다': 7633, '엇갈리다': 7634, '고음': 7635, '비비': 7636, '빅회': 7637, '헬이': 7638, '델수': 7639, '망은': 7640, '냉동식품': 7641, '집합': 7642, '미스테리': 7643, '다카': 7644, '운더': 7645, '밀착': 7646, '성경책': 7647, '두개골': 7648, '확률': 7649, '을제': 7650, '최대로': 7651, '물쪽': 7652, '코목': 7653, '킁킁거리다': 7654, '침침': 7655, '읎었어': 7656, '병정': 7657, '양말': 7658, '깜작': 7659, '뚤': 7660, '번하다': 7661, '아쉽넹': 7662, 'ㄷ': 7663, '레잇': 7664, '지랄': 7665, '바앤': 7666, '낳다': 7667, '통닭': 7668, 'identity': 7669, '린': 7670, '텔': 7671, '주란': 7672, '사의': 7673, '네일': 7674, '죽지': 7675, '내뱉다': 7676, '변쪽': 7677, '헤드폰': 7678, '소정방': 7679, '절벽': 7680, '보목': 7681, '대략': 7682, '감정': 7683, '카앞': 7684, '꺼름직': 7685, 'rv': 7686, '바니쉬': 7687, '판다': 7688, '인위': 7689, '마고': 7690, '중일': 7691, '도난': 7692, '따갑다': 7693, '곧다': 7694, '화로': 7695, '나뭇잎': 7696, 'ㅠㅠㅋ': 7697, '헤멤': 7698, '안됬슴': 7699, '월등': 7700, '뻒뻒': 7701, '색상': 7702, '이라든지': 7703, '재의': 7704, '월욜': 7705, '자료': 7706, '그대': 7707, '뱅': 7708, '찻날': 7709, '없음룸': 7710, '밑쪽': 7711, '기술자': 7712, '소나': 7713, '대인': 7714, '부풀리다': 7715, '낚': 7716, '지진': 7717, '의상': 7718, '섣불리': 7719, '이하임': 7720, '요랑': 7721, '외과': 7722, '호텕': 7723, '멀어지다': 7724, '해침': 7725, '컵안': 7726, '헹구다보': 7727, '씼': 7728, '지존': 7729, '펀리해': 7730, '사체': 7731, '좋았슬니': 7732, '라디에이터': 7733, '용담': 7734, '리듬': 7735, '런드리': 7736, '좋은룸': 7737, '웡': 7738, '상회': 7739, '바삭': 7740, '고지도': 7741, '독자': 7742, '하의': 7743, '칙칙': 7744, '밀접하다': 7745, '꺼림칙하다': 7746, '고추장': 7747, '삶다': 7748, '반숙': 7749, '완숙': 7750, 'system': 7751, '요한': 7752, '옮': 7753, '널브러져': 7754, '선임': 7755, '뺴줌': 7756, '안듬': 7757, '뭉그러지다': 7758, '늘렷으': 7759, '힘들엇어': 7760, '무미건조': 7761, '함주': 7762, '변환': 7763, '생활권': 7764, '주객': 7765, '전도': 7766, '모루': 7767, '유니폼': 7768, '살펴보다': 7769, '프린터': 7770, '음우': 7771, '천시': 7772, '로작': 7773, '맨끝방': 7774, '헤진': 7775, '렌즈': 7776, '했으몀': 7777, '팍': 7778, '김샘': 7779, '발뺌': 7780, '소주': 7781, '병과': 7782, '선결': 7783, '되돌리다': 7784, '만기': 7785, '밭뷰': 7786, '체그': 7787, '설첬네': 7788, '나프탈렌': 7789, '놨어': 7790, '요만': 7791, '마원': 7792, '세일': 7793, '현혹': 7794, '출룽거려': 7795, '음직': 7796, '핑크색': 7797, '가장자리': 7798, '깉': 7799, '벼룩': 7800, '북': 7801, '이그리': 7802, '난건': 7803, '환풍': 7804, '냉랭하다': 7805, '커넥팅도어': 7806, 'mt': 7807, '일절': 7808, '자형': 7809, '환락가': 7810, 'box': 7811, '텔레비전': 7812, '끈김': 7813, '컨시': 7814, '얼다': 7815, '트원': 7816, '견고하다': 7817, '전무하다': 7818, '남협소': 7819, '방조명': 7820, '패드': 7821, '각기': 7822, '상해': 7823, '하드웨어': 7824, '답지': 7825, '등정': 7826, '압니': 7827, '담백하다': 7828, '술함': 7829, '자의': 7830, '현수막': 7831, '펄럭': 7832, '검림': 7833, '반쪽': 7834, '어것': 7835, '제데로': 7836, '껍데기': 7837, '점월': 7838, '방이동': 7839, '손상': 7840, '꺼려웠음': 7841, '균': 7842, '기일': 7843, '산이': 7844, '운동복': 7845, '그래듀': 7846, '고수만': 7847, '본체': 7848, '둘러싸다': 7849, '변기수': 7850, '압구': 7851, 'noity': 7852, '퍽퍽': 7853, '빙떡': 7854, 'ㅎㅎㅎㅎㅎㅎㅎㅎㅎㅎㅎㅎㅎ': 7855, '만남': 7856, '함박': 7857, '고심': 7858, '음달': 7859, '거고요': 7860, '어둑어둑해지다': 7861, '느지막': 7862, '투성이': 7863, '로고': 7864, '미스': 7865, '꾸덕꾸덕': 7866, '탱크': 7867, '박박': 7868, '정중': 7869, '스토어': 7870, '업업': 7871, '웰니스': 7872, '거일': 7873, '다차': 7874, '싸하다': 7875, '주력': 7876, '유연제': 7877, '이삿짐': 7878, '약식': 7879, '사해': 7880, '경미': 7881, '어지러움': 7882, '호소': 7883, '연애': 7884, 'henry': 7885, '에스코트': 7886, '성장': 7887, '장외': 7888, '찟어짐': 7889, '마이': 7890, '객실동': 7891, '눌리': 7892, '빨간색': 7893, '푸르딩딩': 7894, '주온': 7895, '국내성': 7896, '윈다': 7897, '명함': 7898, '파라다이스': 7899, '반함': 7900, '이든지': 7901, '랜딩관객실': 7902, '능': 7903, '부들': 7904, '빌스': 7905, '회전목마': 7906, '클렌져': 7907, '에스컬레이터': 7908, '점룬': 7909, '자가진단': 7910, '이중문': 7911, '방끝': 7912, '방귀': 7913, '얘길': 7914, '권적': 7915, '모슬포쪽': 7916, '슈트': 7917, '깔끔햤어': 7918, '침규류': 7919, '처지다': 7920, '남제주': 7921, '어치': 7922, '훤': 7923, '회식': 7924, '세대': 7925, '유스호스텔': 7926, '결합': 7927, '목재': 7928, '바라다보이다': 7929, '이마루': 7930, '위축': 7931, '행업': 7932, '기네': 7933, '전채': 7934, '알렉슨': 7935, '이신가': 7936, '길어지다': 7937, '늦걱': 7938, '뷰랄': 7939, '무진장': 7940, '마뜩찮다': 7941, '폭우': 7942, '구두약': 7943, '작은방': 7944, '무니': 7945, '어슬렁어슬렁': 7946, '객실룸': 7947, '거스렸': 7948, '발림': 7949, '드함': 7950, '오설록티뮤지엄': 7951, '행실': 7952, '라커룸': 7953, '대별': 7954, '무선': 7955, '몰아치다': 7956, '불가리': 7957, '론칭하': 7958, '꾸리다': 7959, '컨디셔닝': 7960, '짧앟어': 7961, '증세': 7962, '스멀스멀': 7963, '스케이트장': 7964, '차이니스': 7965, '컨센트': 7966, '꼬꼬': 7967, '마살': 7968, '저녁밥': 7969, '할마': 7970, 'amanity': 7971, '주가': 7972, '공황장애': 7973, '전세계': 7974, '환자': 7975, '태블릿': 7976, '여운': 7977, '외우다': 7978, '날수': 7979, '키크': 7980, '자식': 7981, '성장하다': 7982, '점층': 7983, '가짐': 7984, '네시': 7985, '개얼탱': 7986, '원단': 7987, '냉각수': 7988, '건전지': 7989, '빡치다': 7990, '어찌저찌': 7991, '원정': 7992, '가래': 7993, '아몬드': 7994, '졸리다': 7995, '잡음': 7996, '여인숙': 7997, '퇴실날': 7998, '정소': 7999, '원칙': 8000, '기음': 8001, '생색': 8002, '휙휙': 8003, '생리': 8004, '솔질': 8005, '심해지다': 8006, '패치': 8007, 'spacious': 8008, 'enough': 8009, 'parking': 8010, 'spacealso': 8011, 'booked': 8012, 'since': 8013, 'one': 8014, 'few': 8015, 'hotels': 8016, 'with': 8017, '핑계': 8018, 'ㅍㅎㅎ': 8019, '고저': 8020, '복잡시런': 8021, '정전기': 8022, '담배쩐내': 8023, '냉정': 8024, '고안': 8025, '가바': 8026, '탑뷰': 8027, '노랑': 8028, '보자기': 8029, 'shocked': 8030, 'how': 8031, 'kept': 8032, 'foods': 8033, '에서부터는': 8034, '후짐': 8035, '밑층': 8036, '못잣': 8037, '창호': 8038, '후미지다': 8039, '심했슴': 8040, '통풍': 8041, '벽만보잌': 8042, '구리다': 8043, '서술': 8044, '닥치다': 8045, '비틀어지다': 8046, '이동식': 8047, '쪽지': 8048, '이개': 8049, '왕성': 8050, '참숯': 8051, '커녕': 8052, '길음': 8053, '소제': 8054, '새까맣다': 8055, '방회': 8056, '단속': 8057, '흉내': 8058, '애어콘': 8059, '부시다': 8060, '신청헸음': 8061, '수분': 8062, '보도': 8063, '단창': 8064, '아누': 8065, 'high': 8066, '넒음층': 8067, 'ip': 8068, '담보': 8069, 'ap': 8070, '등돈값': 8071, '사이사이': 8072, '상사': 8073, '웠음': 8074, '최하': 8075, '무늬': 8076, '뒤척임': 8077, '연석': 8078, '따라가다': 8079, '충돌': 8080, '위험성': 8081, '무협': 8082, '지옥': 8083, '오들오들': 8084, '페이퍼': 8085, '있음프론트': 8086, '그제야': 8087, '불편햐': 8088, '등사': 8089, '홑겹': 8090, '보이시': 8091, 'ㅓㅓㅓㅓ': 8092, '잔반': 8093, '인장': 8094, '프론트가': 8095, '깻어': 8096, '뻐근하다': 8097, '냉기': 8098, '사라': 8099, '퇴점': 8100, '간전': 8101, '국민': 8102, '심신': 8103, '말씨': 8104, '버즈': 8105, '이필': 8106, '요요하다': 8107, '룸바': 8108, '바등': 8109, '가로막': 8110, '불분명': 8111, '감소': 8112, '귀마개': 8113, '주관': 8114, '엄씁니': 8115, '긍정': 8116, '처무': 8117, '하야트': 8118, '후드': 8119, '꽈당': 8120, '잇엇으': 8121, '그려지다': 8122, '비료': 8123, '준지': 8124, '그득하다': 8125, '진먼': 8126, '가렵고가렵': 8127, '박소영': 8128, '유대': 8129, '승': 8130, '사람과': 8131, '트윈배드': 8132, '데스트': 8133, '합류': 8134, '랜딩관로비': 8135, '화공': 8136, '맨날': 8137, 'ㅎㅎㅠㅠ': 8138, '축제': 8139, '버내': 8140, '차만': 8141, '말곳': 8142, '놀곳등': 8143, '신나요': 8144, '앱등': 8145, '동관': 8146, '거북이': 8147, '나비': 8148, '룸또': 8149, '편햇습니': 8150, '무재': 8151, '밋': 8152, '빠듯해': 8153, '맺다': 8154, '미쳣어': 8155, '랜딩관안': 8156, '활발하다': 8157, '국도': 8158, '해연': 8159, '밭이랑': 8160, '노리다': 8161, '신기': 8162, '호탕': 8163, '언덕길': 8164, '것등': 8165, '음량': 8166, '시스': 8167, '내리막': 8168, '문제해결': 8169, '어투': 8170, '신의한수': 8171, '레이져': 8172, '노스': 8173, '불청객': 8174, '내려앉다': 8175, '재봉': 8176, '얼룩얼룩하다': 8177, '치사하다': 8178, '꽁': 8179, '자라다': 8180, '나나': 8181, '쥬': 8182, '요동': 8183, 'get': 8184, '폭탄': 8185, '믓': 8186, '나빠지다': 8187, '꺠끗한것': 8188, '원수': 8189, '기업': 8190, '일본어': 8191, '다바람': 8192, '습득': 8193, '회장': 8194, '내비게이션': 8195, '웨딩홀': 8196, '열매': 8197, '숙제': 8198, '전기자동차': 8199, '터널': 8200, '잘빠지다': 8201, '그저께': 8202, '베이비': 8203, '노련하다': 8204, '추도': 8205, '내자': 8206, '중앙시장': 8207, '디디다': 8208, '불위': 8209, 'ㄲㅏ': 8210, '썩이다': 8211, '프런터': 8212, '버젓이': 8213, '엄연하다': 8214, '룸인데': 8215, '하여간': 8216, '랜딩라운': 8217, '씐': 8218, '태마': 8219, '친절핫셔': 8220, '설국열차': 8221, '번지르르': 8222, '쫍아': 8223, '식겁하다': 8224, '던디': 8225, 'ㅠㅠㅋㅋㅋㅋ': 8226, '끌다': 8227, '도포': 8228, '호캉': 8229, '무국': 8230, '물곰팡이': 8231, '내이동': 8232, '로안': 8233, '고다': 8234, '급박하다': 8235, '의기': 8236, '수금': 8237, '민원': 8238, '초가': 8239, '돈벌레': 8240, '노리개': 8241, '독성': 8242, '천막': 8243, '덮이다': 8244, '방콕': 8245, '달방': 8246, '쪈내': 8247, '음개': 8248, '우린': 8249, '워커': 8250, '짦은걸': 8251, '무궁화': 8252, '일괄': 8253, '미약': 8254, '깨끗헤': 8255, '설사': 8256, '있었슴': 8257, '옹료': 8258, '부직포': 8259, '알바': 8260, '제과': 8261, '여고': 8262, '인솔': 8263, '숙속': 8264, '푸트': 8265, '코트': 8266, '오래오래': 8267, '각지': 8268, '차키': 8269, '지문': 8270, '띠워': 8271, '장내': 8272, '고재사': 8273, '썪': 8274, '무너지다': 8275, '뭉텅이들': 8276, '차액': 8277, '안과': 8278, '지용': 8279, '겸사겸사': 8280, '두텁다': 8281, '클랜': 8282, '징': 8283, '겉모습': 8284, '헬쓰': 8285, '고난': 8286, '신속': 8287, '대롱대롱': 8288, '일쑤': 8289, '이돈': 8290, '윰차끌': 8291, '분임': 8292, '델': 8293, '무서움': 8294, '몸소': 8295, '뷰맛텔': 8296, '셋팅된': 8297, '유무': 8298, '은한': 8299, '줌마': 8300, '상행위': 8301, '스벅있': 8302, '땡추털': 8303, '꼬부': 8304, '사만원': 8305, '십년': 8306, '비탈길': 8307, '습관': 8308, '어림': 8309, '상술': 8310, '좋음스벅': 8311, 'sky': 8312, 'dining': 8313, '후룸라이드': 8314, '경주': 8315, '젠': 8316, '원뿔': 8317, '서운하다': 8318, '둬': 8319, '힐튼': 8320, '만큼이나': 8321, '트립어드바이저': 8322, '본부': 8323, '촬영감독': 8324, '미니시리즈': 8325, '불날': 8326, '파르': 8327, '나스': 8328, '슀': 8329, '빵터지다': 8330, '핸폰': 8331, '낚임문': 8332, '나달나달': 8333, '구조이': 8334, '파이팅': 8335, '창구': 8336, '렌딩': 8337, '작은아들': 8338, '서브스': 8339, '쑥국': 8340, '없엇어': 8341, '나트': 8342, '계바': 8343, '속사': 8344, '만차듬카': 8345, '질의': 8346, '프라다': 8347, '구찌': 8348, 'mbc': 8349, '원데이': 8350, '노모': 8351, '학교': 8352, '기숙사': 8353, 'ㅇㅇㅇㅇㅇㅇㅇㅇㅇㄴㄴㄴㄴㄴㄴㄴㄴㄴㄴㄴㄴㄴㄴㄴㄴㄴㄴㄴㄴㄴㄴㄴㄴㄴㄴㄴㄴㄴㄴㄴㄴㄴㄴㄴㄴㄴㄴㄴㄴㄴㄴㄴㄴㄴㄴㄴㄴㄴㄴㄴㄴㄴㄴㄴㄴㄴㄴㄴㄴㄴㄴㄴㄴㄴㄴㄴㄴㄴㄴㄴㄴㄴㄴㄴㄴㄴㄴㄴㄴㄴㄴㄴ': 8354, '파트너': 8355, '둘쩃날': 8356, '버스정거장': 8357, '내조': 8358, '흘렁흘렁': 8359, '윈룸': 8360, '백색': 8361, '뒤척일': 8362, '파워': 8363, 'chekck': 8364, '세요': 8365, '제해': 8366, '르쉬느': 8367, '베이징': 8368, 'highly': 8369, 'every': 8370, 'condition': 8371, 'tidy': 8372, 'amenities': 8373, 'are': 8374, 'quite': 8375, 'satisfying': 8376, 'lechinois': 8377, 'were': 8378, 'absolutely': 8379, 'amazing': 8380, 'try': 8381, 'being': 8382, 'duck': 8383, 'my': 8384, 'state': 8385, 'modern': 8386, 'art': 8387, '정두리': 8388, '짜지다': 8389, '랜드마크': 8390, '식용': 8391, '다누': 8392, '지정은': 8393, '임돠': 8394, '어머': 8395, '점포': 8396, '해석': 8397, '하겐다즈': 8398, '더부룩하다': 8399, '약과': 8400, '화제': 8401, '사십분': 8402, '팅쇼': 8403, '회로': 8404, '조성하': 8405, '뭉텅이': 8406, '톨': 8407, '경력': 8408, '버킷': 8409, '좀비': 8410, '다이나믹': 8411, '열정': 8412, '다닥다닥': 8413, '어쩌란건': 8414, '멀찌감치': 8415, '하는둥': 8416, '동참': 8417, '하곤': 8418, '선기': 8419, '학술': 8420, '대회': 8421, '짜임새': 8422, '으로선': 8423, '일어나지': 8424, '체중': 8425, '폭풍': 8426, '불가라': 8427, '목문': 8428, '혔': 8429, '따끔': 8430, '암내': 8431, '땀내': 8432, '티뮤': 8433, 'sally': 8434, '모름': 8435, '방잡': 8436, '도등': 8437, '산시': 8438, '페지': 8439, '동강': 8440, '오거리': 8441, '사거리': 8442, 'ㄸㄹㄹ': 8443, '디즈니랜드': 8444, '단축': 8445, '꺠끗했': 8446, '돈까스': 8447, '및건': 8448, '불협': 8449, '깨끗담': 8450, '왜케': 8451, '다재': 8452, '흥미롭다': 8453, '만대': 8454, '쫄쫄': 8455, 'ㅋㅋㅋㅋㅋㅋㅋㅋ': 8456, '초코': 8457, '릿': 8458, '아드님': 8459, '월습니': 8460, '관할': 8461, '정제': 8462, '숟': 8463, '인곳': 8464, '프로젝트': 8465, '시엔': 8466, '쥬니': 8467, '어스': 8468, '쏠쏠하다': 8469, '어질다': 8470, '꺠끗하': 8471, '부등': 8472, '김지선': 8473, '지현': 8474, '여전': 8475, '상속': 8476, '재벌': 8477, '발달': 8478, '왓어': 8479, '연초': 8480, '질서': 8481, '주기도': 8482, '민가': 8483, 'closed': 8484, '거칠하다': 8485, '룸퀄리티': 8486, 'dont': 8487, '랜딩관뷰도좋': 8488, '듯호': 8489, 'taxi': 8490, '평생': 8491, '훌룡함': 8492, '시로': 8493, '이러하다': 8494, '닥액': 8495, '철판': 8496, '수돗물': 8497, '오수': 8498, '쪼그라들다': 8499, '가형': 8500, '빈통': 8501, '결부': 8502, '고정용': 8503, '아크릴': 8504, '판도': 8505, '쩌': 8506, '관전': 8507, '쪼그': 8508, '텃새': 8509, '부리고': 8510, '유라': 8511, '길고양이': 8512, '전개': 8513, '동물': 8514, '보심': 8515, '드하': 8516, '사이니': 8517, '웰스': 8518, '튀어나오다': 8519, '야자나무': 8520, '좃겠어': 8521, '데판': 8522, '유희': 8523, '랜딩조식': 8524, '순환': 8525, '간촐': 8526, '궁글러다님': 8527, '댕기': 8528, '소름': 8529, '돋다': 8530, '황홀하다': 8531, '약취': 8532, '불이익': 8533, '개끗': 8534, '익스': 8535, '안일하다': 8536, '숨좀트': 8537, '헤엄': 8538, '굵다': 8539, '콧물들': 8540, '하늘거리다': 8541, '비참하다': 8542, '창결': 8543, '자격지심': 8544, '커넥팅룸타입': 8545, '인스타그램': 8546, '만세': 8547, '중개': 8548, '올바로': 8549, '기입': 8550, '몸부림': 8551, '쓸모없다': 8552, '뺑뺑': 8553, '카락': 8554, '뻥튀기': 8555, '사투': 8556, '동음': 8557, 'latecheck': 8558, 'makeup': 8559, '세팅해': 8560, '댓': 8561, '교가': 8562, '여리다': 8563, '혼족': 8564, '누웨': 8565, '개수대': 8566, '술해': 8567, '물샘': 8568, '가선': 8569, '양념': 8570, '툭숙': 8571, '조급': 8572, '페브리즈': 8573, '좀깨림': 8574, '베룸': 8575, '싸드': 8576, '만도': 8577, 'ㅂㄷㅅㅅ': 8578, '득템': 8579, '고도보': 8580, '갘': 8581, '운항': 8582, '길쪽': 8583, '거림박': 8584, '낙지': 8585, '끔': 8586, '빕스': 8587, '심각': 8588, '고갱': 8589, '오크': 8590, '휘황': 8591, '찬란하다': 8592, '객일': 8593, '허용': 8594, '동침': 8595, '함물': 8596, '깨끗항': 8597, '트런트': 8598, '전전긍긍': 8599, '찌뿌등': 8600, '큐티': 8601, '브룸': 8602, '룸변경': 8603, '호감': 8604, '시기하다': 8605, '함관': 8606, '재수': 8607, '껄끄러웠어': 8608, '발휘': 8609, '월화': 8610, '븨페': 8611, '마라도나': 8612, '명정': 8613, '부둥켜안다': 8614, '부적합': 8615, '격추': 8616, '매립': 8617, '상판': 8618, '누런때': 8619, '편앞': 8620, '렁꿀렁': 8621, '나크': 8622, '핸펀': 8623, '달그락': 8624, '잠듬침대': 8625, '킬수없는': 8626, '킬수': 8627, '깨끗치': 8628, '작았슴': 8629, '변두리': 8630, '과실': 8631, '한바탕': 8632, '베렸': 8633, '점지': 8634, '일동': 8635, '막심': 8636, '조성은': 8637, '타가': 8638, '선수단': 8639, '상용': 8640, '제각각': 8641, '누렇거': 8642, '수검': 8643, '사례': 8644, '볼땐': 8645, '없숩니': 8646, '지네': 8647, '설경': 8648, '착색': 8649, '발자국': 8650, '불규칙': 8651, '성재': 8652, '코로': 8653, '식상하다': 8654, 'gymm': 8655, '얼음판': 8656, '십상': 8657, '탈의': 8658, '깨끗판': 8659, '장창': 8660, '선보이다': 8661, '았었어': 8662, '객관': 8663, '빅쿠폰': 8664, '프론트앞': 8665, '망정': 8666, '상하좌우': 8667, '범람': 8668, '물음': 8669, '합당': 8670, '스누즈': 8671, '정정': 8672, '상기': 8673, '와플': 8674, '온건': 8675, '밀가루': 8676, '익다': 8677, '카팻트': 8678, '글래드': 8679, '프리드': 8680, '거제': 8681, '횡단보도': 8682, '호넬': 8683, '광관': 8684, '어두워지다': 8685, '좋랐': 8686, '스벅도있': 8687, '가꾸어지다': 8688, '대중성': 8689, '난무': 8690, '호텔트윈': 8691, '씰': 8692, '멱': 8693, '물떼': 8694, '취지': 8695, '개월전': 8696, '조회': 8697, '수요': 8698, '격차': 8699, '함년': 8700, '환경보전': 8701, '감옥': 8702, '음덕': 8703, '댐': 8704, '괜잖아': 8705, '화풍': 8706, '거북하다': 8707, '괞찮았': 8708, '지번': 8709, '이제일': 8710, '장시': 8711, '종습니': 8712, '시보': 8713, '핸폰충전': 8714, '교통체증': 8715, '부터만': 8716, '차임': 8717, '승하': 8718, '초래': 8719, '까딱': 8720, '힐것': 8721, '졸이다': 8722, '중구': 8723, '용지': 8724, '실내장식': 8725, '도데': 8726, '여덟': 8727, '불펺함': 8728, '량': 8729, '주착': 8730, '노말': 8731, '칠성': 8732, '팔성': 8733, '짐둘': 8734, '이나고': 8735, '고철': 8736, '더미': 8737, '선전': 8738, '도면': 8739, '임정': 8740, '티스푼': 8741, '버스정류소': 8742, '끽끽': 8743, '쇼킹': 8744, '날림': 8745, '부피': 8746, '물렁거려': 8747, '삐걱거렸': 8748, '흔드리': 8749, '팔고': 8750, '땟물': 8751, '없다뇨프론트': 8752, '셔': 8753, '장사': 8754, '쌩돈': 8755, '사천원': 8756, '컬컬': 8757, '퍼레이드': 8758, '실온': 8759, '작은둣함': 8760, 'night': 8761, 'party': 8762, '관구': 8763, '과대': 8764, '리만': 8765, '십': 8766, '여개': 8767, '눈높이': 8768, '풀억세스룸': 8769, '반려동물': 8770, '자미': 8771, '중섭': 8772, '나진': 8773, '껄렁': 8774, '면밀하다': 8775, '안덕면': 8776, '잔듸': 8777, '홈트': 8778, '일상생활': 8779, '시불': 8780, '드라이빙': 8781, '산점도': 8782, '브라': 8783, '많았슴': 8784, '눅눅햇엇': 8785, '집어넣다': 8786, '누렇': 8787, '천이': 8788, '바짝': 8789, '긁혔어': 8790, '신화로': 8791, '오감': 8792, '뭣': 8793, '달섯': 8794, '임의': 8795, '더육': 8796, '도체': 8797, '킹안': 8798, '빵쪽': 8799, '리라': 8800, '순회': 8801, '이용헀었': 8802, '보고오다': 8803, '진지하다': 8804, '마땅': 8805, '기반시설': 8806, '강점': 8807, '헹군': 8808, '컨넥티드': 8809, '겨울방학': 8810, '조형': 8811, '친하다': 8812, '우해': 8813, '변등': 8814, '수도권': 8815, '동사': 8816, '이의': 8817, '별루없': 8818, '복럽센터': 8819, '해제': 8820, '대학생': 8821, '오르락내리락': 8822, '재물': 8823, '면은': 8824, '라운딩': 8825, '삭감': 8826, '주바': 8827, '단시간': 8828, '쉬리': 8829, '투오': 8830, '범벅': 8831, '급작': 8832, '임표': 8833, '영문': 8834, '성해': 8835, '일밤': 8836, '워층': 8837, '살초등': 8838, '코브': 8839, '제품군': 8840, '그린카드': 8841, '허무맹랑': 8842, '샤브': 8843, '깨끗쇘음': 8844, '인심': 8845, '앵': 8846, '통보': 8847, '댐뷰': 8848, '강조': 8849, '웃기': 8850, '셋톱박스': 8851, '밖혀': 8852, '원격': 8853, '등지': 8854, '공기조절': 8855, '나누어지다': 8856, '주어지다': 8857, '사하다': 8858, '가왜': 8859, '콜라': 8860, '봉지': 8861, '버글버글': 8862, '재빠르다': 8863, 'love': 8864, '히트': 8865, '냉골': 8866, '쿵층': 8867, '도배지': 8868, '실추': 8869, '부귀': 8870, '치렁치렁': 8871, '조립': 8872, '진상': 8873, '찜찜': 8874, '고타': 8875, '쭈글쭈글하다': 8876, '무후': 8877, '대시': 8878, '관문': 8879, '괜시리': 8880, '어렴풋하다': 8881, '홍콩': 8882, '보급': 8883, '소로': 8884, '전기자전거': 8885, '접대': 8886, '연회': 8887, 'bath': 8888, 'tub': 8889, '찻길': 8890, '독채뭘': 8891, '노면': 8892, '착시': 8893, '사진빨': 8894, '비포장도로': 8895, '쥬변': 8896, '지조': 8897, '불리하다': 8898, '거무': 8899, '죽죽': 8900, '이음': 8901, '용면': 8902, '도기': 8903, '좋겠슴다': 8904, '아쉬없슴': 8905, '군요': 8906, '함일': 8907, '물르다': 8908, '인방': 8909, 'didnt': 8910, 'auto': 8911, 'stop': 8912, 'cozy': 8913, 'comfortable': 8914, '셋탑': 8915, '애니메이션': 8916, '부항': 8917, 'west': 8918, '인터': 8919, '테리어': 8920, '넓적하다': 8921, '그랫음': 8922, '꽃샘추위': 8923, '롸': 8924, '죽여주다': 8925, '갑갑': 8926, '엄척': 8927, '없엇음': 8928, '짔어': 8929, '젛았습': 8930, '코기': 8931, '새벽녁': 8932, '피고': 8933, '음질': 8934, '딜리': 8935, '서남': 8936, '업무용스': 8937, '내용물': 8938, '보물섬': 8939, '깜': 8940, '손볼': 8941, '미진하다': 8942, '일보': 8943, 'needs': 8944, '나날이': 8945, '힘주다': 8946, '구들': 8947, '변상': 8948, '도두': 8949, '룸이': 8950, '유원지': 8951, '구식': 8952, '랏': 8953, '그램': 8954, '경청': 8955, '에브리': 8956, '띵': 8957, '가모': 8958, '글램핑': 8959, '글로벌': 8960, '강도': 8961, '음수': 8962, '실쪽': 8963, '씨리얼': 8964, '선착': 8965, '더우기': 8966, '도인': 8967, '굴곡': 8968, '산내': 8969, '요양': 8970, '휭함': 8971, '방모': 8972, '렸': 8973, '노노': 8974, '깨지다': 8975, '두번쨰': 8976, '끼어들다': 8977, '괨': 8978, '몇장': 8979, '슉슉슈슉슈발럼': 8980, '하르방': 8981, '질식': 8982, '꿀렁거려서옆': 8983, '어질어질하다': 8984, '유니크': 8985, '향기롭다': 8986, '콤팩트': 8987, '콘크리트': 8988, '녹음기': 8989, '일거리': 8990, '비시': 8991, '동계': 8992, '제방': 8993, '육장': 8994, '착감겨': 8995, '대형차': 8996, '회등': 8997, 'partial': 8998, 'ocean': 8999, '코너룸': 9000, '꼽히다': 9001, '애둘': 9002, '겨냥': 9003, '돗데기': 9004, '편룸': 9005, '옆칸': 9006, '견과류': 9007, '환복실': 9008, '꼽는': 9009, '핫핫': 9010, '낌': 9011, '가식': 9012, '뭐합': 9013, '릉': 9014, '두둔': 9015, '도서관': 9016, '마로': 9017, '생리통': 9018, '진통제': 9019, '버겁다': 9020, '스스피닝': 9021, '울프': 9022, '졸띠': 9023, '면안': 9024, '수산물': 9025, '미비': 9026, '콩알': 9027, '망쪽': 9028, '테잎': 9029, '비참': 9030, '스탭들넓직넓직': 9031, '미타': 9032, '뷰그': 9033, '진득진득': 9034, '알레르기비염': 9035, 'ㅇㅣ': 9036, '평평하다': 9037, '훤하': 9038, '로우': 9039, '끌어안다': 9040, '창틈': 9041, '오드': 9042, '세탁물': 9043, '지하공간': 9044, '륨': 9045, '두꺼비': 9046, '조처': 9047, '살작': 9048, '퇴비': 9049, '도톰하다': 9050, '여닫이': 9051, '클라우드': 9052, '깨름칙햇어': 9053, '알칼리': 9054, '누전': 9055, '백만원': 9056, '극적': 9057, '게다': 9058, '조용조': 9059, '옆층': 9060, '해부': 9061, '껍니': 9062, '린다': 9063, '제주대학교': 9064, '법성포': 9065, '쉈': 9066, '노천온천': 9067, '추락': 9068, '격리': 9069, '불티': 9070, '불합리': 9071, 'american': 9072, '것임': 9073, '뒷걸음': 9074, '괞': 9075, '리싱폼': 9076, '소린': 9077, '쩌렁쩌렁': 9078, '입금': 9079, '예방접종': 9080, '판단력': 9081, '연출': 9082, '이끼': 9083, 'ㅂㅎ': 9084, '맘에듭니': 9085, '만조': 9086, '다닥': 9087, '실루엣': 9088, '라야': 9089, '테두리': 9090, '원피스': 9091, '바로엽': 9092, '길목': 9093, '벨런스': 9094, '모슬포점': 9095, '생맥잔': 9096, '식인': 9097, '몰랏을텐데저': 9098, '땟물투성었': 9099, '섭': 9100, '지코': 9101, '근교': 9102, '성리': 9103, '뻣': 9104, '주더': 9105, '입로': 9106, '명예': 9107, '대물': 9108, '길옆': 9109, '죄인': 9110, '소피아': 9111, '송풍기': 9112, '쌩뚱': 9113, '몌': 9114, '쏟다': 9115, '발리다': 9116, '무뚝뚝햐': 9117, '몰리': 9118, '펜스': 9119, '타올대다': 9120, '이천원': 9121, '해운대': 9122, '앑': 9123, '몰랐슴': 9124, '흙': 9125, '학생': 9126, '업장': 9127, '별루였슴': 9128, '댓글': 9129, '무거': 9130, '햏': 9131, '양산': 9132, '나빳어': 9133, '돟아': 9134, '지킴': 9135, '뻣구룸': 9136, '부들부들하다': 9137, '숲안': 9138, '스텐드형': 9139, '호로': 9140, '형님': 9141, '갈색': 9142, '출퇴근시간': 9143, '땅값': 9144, '연착': 9145, '하래': 9146, '매진': 9147, '괜춘층': 9148, '경사지다': 9149, '비굿': 9150, '고용': 9151, '묘미': 9152, '시셜': 9153, '갑임': 9154, '자시다': 9155, '폴딩도어': 9156, '종웝': 9157, '임무': 9158, '은연중': 9159, '사료': 9160, '할떄': 9161, '신도시': 9162, '그르셔': 9163, '뒤틀리다': 9164, '남낮': 9165, '까칠하다': 9166, '요란': 9167, '사가다': 9168, '음식재료': 9169, '시즘': 9170, '불쑥': 9171, '알짝': 9172, '도식': 9173, '브래드': 9174, '엄니': 9175, '술술': 9176, '음지': 9177, '편식': 9178, '핫밀': 9179, '괞찮었': 9180, '배열': 9181, '아리송하다': 9182, '주도': 9183, '커피한잔': 9184, '캬피': 9185, '간쪽': 9186, '안대': 9187, '룸뿐': 9188, '스릴': 9189, '말랑말랑하다': 9190, '일어나고': 9191, '직계': 9192, '일텐데': 9193, '하든': 9194, '크레인': 9195, '발굽': 9196, '내공': 9197, '대적': 9198, '닳다': 9199, '뷰롤': 9200, '리젠시': 9201, '텐데요': 9202, '과로': 9203, '참가자': 9204, '옥돌방': 9205, '불허': 9206, '접지': 9207, '급수': 9208, '뎄던': 9209, '별미': 9210, '선곡': 9211, '위서': 9212, '문고': 9213, '동영상': 9214, '핫스팟': 9215, '초반': 9216, '괞찮': 9217, '좁았슴': 9218, '상하': 9219, '밟혔구': 9220, '분홍색': 9221, '암모니아': 9222, '일별': 9223, '일률': 9224, 'mxm': 9225, '임대': 9226, '당일치기': 9227, '위힌': 9228, '못햇찌': 9229, '수익금': 9230, '기부': 9231, 'ㅊㅊ': 9232, 'house': 9233, 'keeper': 9234, '니지': 9235, '있읗': 9236, '산림': 9237, '로자': 9238, '한라대': 9239, '학과': 9240, '성기': 9241, '구성만': 9242, '옥상정원': 9243, '어션뷰': 9244, '지방법원': 9245, '뷴': 9246, '세븐': 9247, '아늑햇다': 9248, '쵝오였듬': 9249, '피어': 9250, '밤낮': 9251, 'standard': 9252, '직워': 9253, '도로로': 9254, '쬬': 9255, '이상정': 9256, '올핸': 9257, '마구잡이': 9258, '섞이다': 9259, '자쿠지풀': 9260, '넗어': 9261, '보송보송': 9262, '툼': 9263, '호캉스여행': 9264, '점바': 9265, '처사': 9266, '어찌어찌': 9267, '엇으': 9268, '간간': 9269, '재택근무': 9270, '자랑거리다': 9271, '짜증스럽다': 9272, '단팥빵': 9273, '단호박': 9274, '대정': 9275, '상당': 9276, '진전': 9277, 'ㅐㄹ': 9278, '음류': 9279, '월임': 9280, '무의미하다': 9281, '소실': 9282, '빵꾸': 9283, '전형': 9284, '유리하다': 9285, '들러붙어서': 9286, '수증기': 9287, '있었슴배': 9288, '수하물': 9289, '임자': 9290, '안성': 9291, '맞춤': 9292, '무료함': 9293, '진짜루': 9294, '울상': 9295, '빼빼로': 9296, '이반': 9297, '갈비찜': 9298, '테니스': 9299, '상쇄할': 9300, '원안': 9301, '바리바리': 9302, 'cvs': 9303, 'near': 9304, 'bybakery': 9305, 'next': 9306, 'door': 9307, 'bread': 9308, 'fantasticbut': 9309, 'think': 9310, 'paid': 9311, 'too': 9312, 'much': 9313, 'thatresort': 9314, 'said': 9315, 'rate': 9316, 'can': 9317, 'discounted': 9318, 'month': 9319, 'advanced': 9320, 'reservationkeep': 9321, 'mind': 9322, '물회': 9323, '나또': 9324, '외형': 9325, '쌍': 9326, '동남': 9327, '팔팔': 9328, '송당리': 9329, '가시리': 9330, '연주가': 9331, '샆어': 9332, '허기지다': 9333, '바쿠': 9334, '물위': 9335, '충만': 9336, '미네': 9337, '앞마당': 9338, '림': 9339, '대포주상절리': 9340, '뽀송': 9341, '닭장': 9342, '룸간': 9343, '쁀': 9344, '좋고번쨰': 9345, '이입': 9346, 'difficult': 9347, 'question': 9348, 'disliked': 9349, 'anything': 9350, '슴슴': 9351, '분들껜': 9352, '자극': 9353, '성으': 9354, '구미': 9355, 'visited': 9356, 'business': 9357, 'trip': 9358, 'impressed': 9359, 'kind': 9360, 'but': 9361, 'level': 9362, 'particularly': 9363, 'me': 9364, 'soft': 9365, 'silky': 9366, 'fabulous': 9367, 'food': 9368, 'la': 9369, 'carte': 9370, 'menu': 9371, 'spicy': 9372, 'seafood': 9373, 'noodle': 9374, 'called': 9375, 'emperor': 9376, 'jjambbong': 9377, 'momoyama': 9378, 'grilled': 9379, 'hairtail': 9380, 'fish': 9381, 'korean': 9382, 'great': 9383, 'as': 9384, 'well': 9385, 'strongly': 9386, '도수영': 9387, '호인': 9388, '수나': 9389, '학원': 9390, '방학기': 9391, '표준': 9392, '화이트와인': 9393, '반한': 9394, '양보': 9395, '밤바람': 9396, '풋': 9397, '영양': 9398, '김민규': 9399, '키우다': 9400, '뜻뜻': 9401, '첨벙첨벙월': 9402, '부켕': 9403, '정취': 9404, '백퍼센트': 9405, '구포': 9406, '시안': 9407, '제목': 9408, '필수요소': 9409, '킵': 9410, '권유': 9411, 'ㅜㅜㅜ': 9412, '섬득': 9413, '푸르다': 9414, '병행': 9415, '지배': 9416, '방제': 9417, '버섯': 9418, '양파': 9419, '서인': 9420, '뻗다': 9421, '귤향': 9422, '불규칙하다': 9423, '곤충': 9424, '지름': 9425, '중재': 9426, '물수건': 9427, '함몰': 9428, '테이크': 9429, '침류': 9430, '그날그날': 9431, '좋겠죵': 9432, '우의': 9433, '간편': 9434, '에서만도': 9435, '취함': 9436, '흘전': 9437, '묜': 9438, 'cleanliness': 9439, '쌀쌀': 9440, '머물럿던': 9441, '것음': 9442, '신도심': 9443, '잇엇습니': 9444, '요코': 9445, '대한항공': 9446, '반심': 9447, '반의': 9448, '아쉬웟던점': 9449, '에어비앤비': 9450, '말똥': 9451, '집들이': 9452, '놀랏습': 9453, '부두': 9454, '손세정제': 9455, '스트': 9456, '안내서': 9457, '알코올': 9458, '시간표': 9459, '골동': 9460, '괜춘합니': 9461, '바닥룸': 9462, '힐때': 9463, '머그': 9464, '곳층': 9465, '현상': 9466, '물렁': 9467, '항행': 9468, '게더': 9469, '안막': 9470, '킵합니': 9471, '음산하다': 9472, '열기구': 9473, '묵음': 9474, '청취': 9475, '묵살': 9476, '분식점': 9477, '늘어놓다': 9478, '갈수록': 9479, '정화': 9480, '브릿지': 9481, '아트': 9482, '뭐뷰': 9483, '경고': 9484, '배차': 9485, '남짓': 9486, '찢기다': 9487, '먀우': 9488, '짐작': 9489, '승차': 9490, '하차': 9491, '딋쪽': 9492, '밧데리': 9493, '베테': 9494, '답습': 9495, '다가서다': 9496, '아싑': 9497, '취어': 9498, '쩔어요': 9499, '갠츈': 9500, '로베': 9501, '만두': 9502, '오아시스': 9503, '스툴': 9504, '한다해': 9505, '무한정': 9506, '등프런트': 9507, '헤주': 9508, '풀방': 9509, '것그': 9510, '흠결': 9511, '파스타': 9512, '번쨰': 9513, '도차': 9514, '백학': 9515, '협소한것': 9516, 'ㅋㅋㅋㅋㅋㅋㅋㅋㅋㅋㅋㅋㅋㅋㅋㅋㅋㅋㅋㅋㅋㅋㅋㅋㅋㅋㅋㅋㅋㅋㅋㅋㅋㅋㅋㅋㅋㅋㅋㅋㅋㅋ': 9517, '발렛및': 9518, '누구껀': 9519, '탑픽': 9520, '신입': 9521, '전구': 9522, '으면': 9523, '리그': 9524, '으스스': 9525, '비상구': 9526, '소용': 9527, '순전하다': 9528, 'gv': 9529, '안제': 9530, '베뤼굿': 9531, '원두': 9532, '비굿담': 9533, '번달': 9534, '번감': 9535, '황사': 9536, '드라이브인': 9537, '싱잉볼': 9538, '자녁': 9539, '스토퍼': 9540, '선심': 9541, '헷갈닙니': 9542, '리버': 9543, '고분': 9544, '뒷길': 9545, '기면': 9546, '멸젓': 9547, '구경만': 9548, '숖': 9549, '부드러움': 9550, '입퇴실': 9551, '지수': 9552, '상승': 9553, '중딸램': 9554, '고을': 9555, '챔피언': 9556, '챔피온': 9557, '여담': 9558, '소지': 9559, 'activity': 9560, '젖': 9561, '부풀다': 9562, '박도': 9563, '울타리': 9564, '카를': 9565, '일반인': 9566, '여인': 9567, '꼬알': 9568, '촌': 9569, '이튿': 9570, '성화': 9571, '안중': 9572, '아우성': 9573, '가스렌지': 9574, '싱': 9575, '출감': 9576, '아이스링크': 9577, '착즙': 9578, '제철': 9579, '진영': 9580, '침착하다': 9581, '김익환': 9582, '슬립': 9583, '도해': 9584, '숙바시설': 9585, '쥬얼': 9586, 'ㄹㅏ': 9587, '슺': 9588, '자질구레하다': 9589, '톱': 9590, '우위': 9591, '트렌디': 9592, '완전체': 9593, '비실이': 9594, '빠': 9595, '앉은자리': 9596, '분동': 9597, '깨씃합니': 9598, '방방': 9599, '기용': 9600, '박햇': 9601, '햇구': 9602, '왓능데': 9603, '애들왈': 9604, '친금': 9605, '자부': 9606, '라마나': 9607, '착': 9608, '좋슴대': 9609, '듯꿈': 9610, '한식룸': 9611, '소변기': 9612, '에어': 9613, '좋고룸': 9614, '다르닼': 9615, '갖췆': 9616, '여강': 9617, '지애': 9618, '거동': 9619, '빅사': 9620, '산채': 9621, '구고': 9622, '나른하다': 9623, '룸컨디': 9624, '녀석': 9625, '마직막': 9626, '흐뭇힌': 9627, '특화된': 9628, '청소년': 9629, '촣답니': 9630, '보따리': 9631, '코트라': 9632, '맛봉': 9633, '비쥬': 9634, '녹지': 9635, '이용할꼬': 9636, '신년': 9637, '피아니스트': 9638, '선율': 9639, '격조': 9640, '동산': 9641, '쪼오끔': 9642, '도마': 9643, '벙크테라스룸': 9644, '리초': 9645, '트라고': 9646, '고자': 9647, '잔잔하다': 9648, '팝송': 9649, '나하': 9650, '틔': 9651, '페밀리투읜': 9652, '힙니': 9653, '빗방울': 9654, '식기구': 9655, '사물인터넷': 9656, '여간': 9657, '일반도': 9658, '글세': 9659, '정답': 9660, '늘어서다': 9661, '내장': 9662, '러티': 9663, '스케이트': 9664, '윌드': 9665, '죅도': 9666, '다툼': 9667, 'feat': 9668, '쓰리룸': 9669, '레이저': 9670, '팍팍': 9671, '해설': 9672, '랍스터': 9673, '똭': 9674, '아시': 9675, '서머젯': 9676, '찬스': 9677, '낙점': 9678, '개킹': 9679, '일당': 9680, '빗자루': 9681, '전하': 9682, '젲': 9683, '컨버스': 9684, '예비': 9685, '전력': 9686, '펀안히': 9687, '며느리': 9688, '심사숙고': 9689, '뉴얼': 9690, '베인': 9691, '넷째': 9692, '벙커룸': 9693, '재방': 9694, 'full': 9695, 'size': 9696, 'kitchen': 9697, '매운탕': 9698, '물밖': 9699, '본의': 9700, '드립': 9701, '수령': 9702, '젯': 9703, '여횅': 9704, '국내외': 9705, '겊': 9706, '훌륭모': 9707, '상쇄하': 9708, '함옆': 9709, '땡초': 9710, '콧구멍': 9711, '결로': 9712, '방외': 9713, '네임드': 9714, '재사용': 9715, '재낌': 9716, '미리보기': 9717, '의욕': 9718, '상실': 9719, '지폐': 9720, '혼합': 9721, '숙식': 9722, '힝드네': 9723, '함요': 9724, '나인': 9725, '행인': 9726, '즘': 9727, '풀앞': 9728, '이용학': 9729, '둥글다': 9730, '원탁': 9731, '인세팅': 9732, '준방': 9733, '프로트': 9734, '관록': 9735, '고삼': 9736, '원내': 9737, '호등': 9738, '힌남노': 9739, '해갈': 9740, '기우뚱': 9741, '지세': 9742, 'sub': 9743, '방뭐': 9744, '좋앟슴': 9745, '스펙': 9746, '원가': 9747, 'fk': 9748, '안레그리': 9749, '포레스트': 9750, '거니': 9751, 'nd': 9752, '사랑스럽다': 9753, '느무느무': 9754, '경기': 9755, '찿기': 9756, '발끈': 9757, 'ive': 9758, 'ever': 9759, 'stayed': 9760, 'jejuare': 9761, 'planning': 9762, 'around': 9763, 'seongsan': 9764, 'sunrise': 9765, 'definitely': 9766, 'would': 9767, 'place': 9768, '약제': 9769, '초대': 9770, '은공': 9771, '비천': 9772, '좋습니댱': 9773, '헤헤': 9774, '꾸욱': 9775, '서문시장': 9776, '개업': 9777, '도거': 9778, '댱': 9779, '뽁뽁이': 9780, '신문지': 9781, '깜깜': 9782, '술안주': 9783, 'ㅇㅔ': 9784, '토': 9785, '위차': 9786, '전과': 9787, '짐보': 9788, '준점': 9789, '이지나': 9790, '이요': 9791, '다지': 9792, '젛네': 9793, '마뮤리': 9794, 'ㅖㅣ': 9795, '움굿': 9796, '자차': 9797, '기반': 9798, '씽씽': 9799, '퓨': 9800, '푹잠': 9801, '바조': 9802, '짤': 9803, '비양도': 9804, '몸보': 9805, '신용': 9806, '구내식당': 9807, '흠집': 9808, '잔치국수': 9809, '그로': 9810, '비평': 9811, '애월항': 9812, '청량감': 9813, '머물껄': 9814, '빼기': 9815, '스티브': 9816, '레종': 9817, '틀기': 9818, 'ㅎㄷㄷ': 9819, '폐가': 9820, '신비': 9821, '고합': 9822, '이제야': 9823, '천체': 9824, '낫띵': 9825, '마왕': 9826, '젛습니': 9827, '더블클릭': 9828, '한고비': 9829, 'really': 9830, 'enjoyed': 9831, 'staying': 9832, '안란': 9833, '김정미': 9834, '무방': 9835, '채광': 9836, '만이라도': 9837, '넗': 9838, '세면장': 9839, '이시고': 9840, '참작': 9841, '청기': 9842, 'ㅆㅅㅌㅊ': 9843, '중딩': 9844, '고딩': 9845, '관종': 9846, '집합소': 9847, '서나': 9848, '단체손닝': 9849, '경적': 9850, '유로': 9851, '말고기': 9852, '떨이': 9853, '동서남북': 9854, '귀걸이': 9855, '완죤': 9856, '너므': 9857, '꼽으': 9858, '스킬': 9859, '화법': 9860, '진가': 9861, '차끌': 9862, '못느꼇어': 9863, '정봉': 9864, '낭': 9865, '동백': 9866, '시발': 9867, '나갓': 9868, '밖애': 9869, '난해': 9870, '츨봉': 9871, '실질': 9872, '태양': 9873, '편했슴': 9874, 'mano': 9875, '왐전': 9876, '해치다': 9877, 'gx': 9878, '이별': 9879, '직원드': 9880, '안쓰럽다': 9881, '붕어빵': 9882, '웟음': 9883, '도적': 9884, '감쪽': 9885, '아랫쪽': 9886, '비빔냉면': 9887, '모튼': 9888, '목욕실': 9889, '부활': 9890, '불의': 9891, '발기': 9892, '쏜살같다': 9893, '사라봉': 9894, '프레스티지': 9895, '정경': 9896, '옆뷰': 9897, '엔틱함': 9898, '섬뷰': 9899, '발도': 9900, '운동선수': 9901, '맛사지': 9902, '등장': 9903, '프론트방': 9904, '발렛주차': 9905, '류등': 9906, '전고지': 9907, '각개': 9908, '식물': 9909, '쪼끔놀램': 9910, '일장': 9911, '애쓰다': 9912, '쿠임': 9913, '배우자': 9914, '백만불': 9915, '포근좋아': 9916, '재정': 9917, '마약': 9918, '했느': 9919, '괺': 9920, '노쇼': 9921, '민트': 9922, '기웃기웃': 9923, '티셔츠': 9924, '뷔볘': 9925, '괜참': 9926, '호숫가': 9927, '큐티브킹': 9928, '북쪽': 9929, '굴': 9930, 'ㅎㅎㅎㅎㅎㅎㅎ': 9931, '피맥': 9932, '마심': 9933, '엮': 9934, '웟구': 9935, '영안': 9936, '매콤': 9937, '된장국': 9938, '칼칼': 9939, '물레방아': 9940, '산혹': 9941, '혼': 9942, '쾌히': 9943, '구사일생': 9944, '컨티션': 9945, '메트': 9946, '대모': 9947, '다채롭': 9948, '경로': 9949, '무수': 9950, '페스트리': 9951, '단돈': 9952, '대한민국': 9953, '선거': 9954, '국밥': 9955, '분포': 9956, '후뚜루': 9957, '마뚜루': 9958, '배리': 9959, '바람막이': 9960, '돠': 9961, '소식': 9962, '강습': 9963, '체내': 9964, '수화물': 9965, '저울': 9966, '깊숙하다': 9967, '삥삥': 9968, '자외선': 9969, '상업지구': 9970, '사두': 9971, 'js': 9972, '외돌': 9973, '불턱': 9974, '수로': 9975, '숙수': 9976, '교감신경': 9977, '부교감신경': 9978, '슉슈슈슈슉': 9979, '스넥바': 9980, '경첩': 9981, '스위트임': 9982, '슾속': 9983, '시끌럽': 9984, '비소': 9985, 'esg': 9986, '실천': 9987, '리들리': 9988, '현황': 9989, '마일리지': 9990, '시아': 9991, '시원스럽다': 9992, '원한경': 9993, '관점': 9994, '맨손': 9995, '먹엇네': 9996, '구별': 9997, '추움': 9998, '관챦았어': 9999, '물웅덩이': 10000, '하겟씁니': 10001, '와아': 10002, '쉬엇네': 10003, '비사': 10004, '못햐': 10005, '여차하면': 10006, '아싀웠던점': 10007, '기보': 10008, '유치원': 10009, 'seaview': 10010, '멘션': 10011, '아치': 10012, '보가': 10013, '넘맛잇엇어': 10014, '민족': 10015, '예래동': 10016, '히노끼': 10017, '찡': 10018, '괜찬았': 10019, '몽환': 10020, '민속': 10021, '구만': 10022, '폐교': 10023, '애인': 10024, '로트': 10025, '자쿠지외': 10026, '알기': 10027, '숱': 10028, '어거지': 10029, '엉엉': 10030, '에레베이터': 10031, '아쉅': 10032, '에코랜드': 10033, '영문과': 10034, '한문': 10035, '이턴': 10036, '명타': 10037, '초과': 10038, '달빛': 10039, '내비': 10040, '천사': 10041, '향뷰': 10042, '실만': 10043, '만취': 10044, '객인': 10045, '배정인': 10046, '시리다': 10047, '고제': 10048, '성숙하다': 10049, '난해하다': 10050, '소정방폭포': 10051, '매끈': 10052, '셔츠': 10053, '언뜻': 10054, '칙솔': 10055, '열거': 10056, '싸이트': 10057, '상차림': 10058, '됫': 10059, '소망': 10060, '에서보다': 10061, '타코': 10062, '토마토쥬스': 10063, '월컴': 10064, '투명하다': 10065, '불순': 10066, '조오오오': 10067, '미영': 10068, '라스': 10069, '부둣': 10070, '맵다': 10071, '월성': 10072, '전역': 10073, 'basalt': 10074, '아부오름': 10075, '촉': 10076, '어떡하다': 10077, '뷰룸': 10078, '굿재': 10079, '리조': 10080, '식객': 10081, '실상': 10082, '태모': 10083, '객실트윈': 10084, '낮밤': 10085, '도랑': 10086, '매루': 10087, '해수': 10088, '욕망': 10089, '대박나다': 10090, '방산': 10091, '자연휴양림': 10092, '모해': 10093, '옹': 10094, '오방': 10095, '베이스': 10096, '따로따로': 10097, '싱글싱글': 10098, '옷사': 10099, '요구르트': 10100, '밸런스': 10101, '모트': 10102, '엑세스': 10103, '골다': 10104, '트러스': 10105, '스넥': 10106, '밀': 10107, '민박': 10108, '소방': 10109, '맘킨더': 10110, '인터젯': 10111, '선점': 10112, '퍼실리티': 10113, '질리': 10114, '굿샷': 10115, '람': 10116, '폼크랜징등': 10117, '확실': 10118, '동해': 10119, '아위': 10120, '자쿠지킹': 10121, '킬로미터': 10122, '괜차나': 10123, '송구': 10124, '방전': 10125, '대라뇨': 10126, '들락날락': 10127, '굿드': 10128, '프런토': 10129, '전압': 10130, '오르락': 10131, '내리락': 10132, '영화상': 10133, '마지먁': 10134, '일조': 10135, '간날': 10136, '두봉': 10137, '슈도': 10138, '억양': 10139, '구요성': 10140, '루이비통': 10141, '좋을숭': 10142, '북서쪽': 10143, '스토리': 10144, '핵심': 10145, '선녀': 10146, '횟': 10147, '도란': 10148, '조찬': 10149, '된장': 10150, '신동진': 10151, '지대': 10152, '샤려': 10153, '적음': 10154, 'laundry': 10155, '가타': 10156, '만화': 10157, '설렁탕': 10158, '에쁘': 10159, '물총': 10160, '직급': 10161, '단촐햇다': 10162, '갈등': 10163, '직선': 10164, '떤다': 10165, '애플': 10166, '상당수': 10167, '신간': 10168, '환복': 10169, 'jmt': 10170, '창뷰': 10171, '거만': 10172, '볠': 10173, '실별': 10174, '헀습니': 10175, '교윧': 10176, '작전': 10177, '요욕': 10178, '오상': 10179, '이상희': 10180, '빵점': 10181, '금호': 10182, '었구': 10183, '주차건물': 10184, '죽도': 10185, '왕따': 10186, '싱겁다': 10187, '이풍': 10188, '툭': 10189, '증': 10190, '화사': 10191, '다투다': 10192, '웅': 10193, '성웅': 10194, '쿡탑': 10195, '커피집': 10196, '소산': 10197, '멀엇어': 10198, '사오': 10199, '소속': 10200, '홈바': 10201, '얼릉': 10202, '젓': 10203, '소유': 10204, '사투리': 10205, '메롱임': 10206, '헬임': 10207, '점앞': 10208, '협소했던': 10209, '대행': 10210, '집입로': 10211, '소홀하다': 10212, '팻말': 10213, '골목길': 10214, '고성일': 10215, '블루스': 10216, '촬영장': 10217, '어절': 10218, '불가피': 10219, '협소한점': 10220, '복잡': 10221, '피크타임': 10222, '동유럽': 10223, '창장': 10224, '주창': 10225, '삘': 10226, '상대로': 10227, '몰려오다': 10228, '찬밥': 10229, '산반': 10230, '피쉬': 10231, '샹그리': 10232, '이승철': 10233, '수급': 10234, '회차': 10235, '턴할곳': 10236, '핑크': 10237, '기둥': 10238, '식별': 10239, '칼라': 10240, '가오니': 10241, '투명인간': 10242, '들엏머': 10243, '엏으': 10244, '않앟을까': 10245, '맞이방': 10246, '침식': 10247, '버턴': 10248, '도개': 10249, '돈값': 10250, '밟혔던': 10251, '좋앟': 10252, '룸청결': 10253, '초대형': 10254, '티브이': 10255, '쫄깃': 10256, '연고': 10257, '조말': 10258, '한라봉': 10259, '서생': 10260, '야근': 10261, '김소윤': 10262, '레이드': 10263, '예절': 10264, '원조': 10265, '윙윙': 10266, '밖뷰': 10267, '구비오': 10268, '좋았엉느': 10269, '큰후회할쁜': 10270, '봣슴': 10271, '청사': 10272, '모퉁이': 10273, '비즈': 10274, '룸체': 10275, '태직': 10276, '시티펍': 10277, '들엉': 10278, 'ㅅㅎㅇㄷ': 10279, 'ㅁㄹㅇㅌ': 10280, '먹히다': 10281, '중가넹': 10282, '치키다': 10283, '두드림': 10284, '초창': 10285, '엏': 10286, '헸습니': 10287, '만인': 10288, '수만': 10289, '친구넷': 10290, '커넥션룸': 10291, '왓습니': 10292, '네스프레소': 10293, '테트리스': 10294, '사각사각': 10295, '흘륭하': 10296, '여태껏': 10297, '이붕': 10298, '로랑': 10299, '물컹하다': 10300, '땅바닥': 10301, '체격': 10302, '설쳣다는': 10303, 'inn': 10304, '좋았읓': 10305, '코피': 10306, '커피팟': 10307, '벋다': 10308, '너프': 10309, '단편화': 10310, '라커': 10311, '클렌징': 10312, '주의보': 10313, '성심껏': 10314, '체킹': 10315, '송수': 10316, '오금': 10317, '파노': 10318, '마룸': 10319, '파르마': 10320, '분할': 10321, '비타민': 10322, '천식': 10323, '들썩': 10324, '수경': 10325, '웨이터': 10326, '훨신': 10327, '인스타': 10328, '작성자': 10329, 'under': 10330, 'staffed': 10331, '개도': 10332, '쾨': 10333, '유비': 10334, '서유': 10335, '사철': 10336, '허니': 10337, '반출': 10338, '명칭': 10339, '보온': 10340, '안할껄': 10341, '허허벌판': 10342, '시원찮다': 10343, '부랴부랴': 10344, '조심성': 10345, '방출': 10346, '있어썽': 10347, '믾있음': 10348, '건뭉모양': 10349, '수의': 10350, '세금': 10351, '뺸': 10352, '호텚안': 10353, '탁상': 10354, '얼핏': 10355, '나왓는데': 10356, '낙원': 10357, '레트로': 10358, '휠스': 10359, '짪은것': 10360, '매니아': 10361, '선남선녀': 10362, '상임': 10363, '애로': 10364, '이상인': 10365, '닥으시': 10366, '션해': 10367, '발렛직원': 10368, '점심때': 10369, '흐트러진': 10370, '인터내셔널': 10371, '미개': 10372, '유칼립투스': 10373, '분부': 10374, '하이마트': 10375, '축': 10376, '심정': 10377, '쪼리': 10378, '험하다': 10379, '연수': 10380, '입대': 10381, '안애': 10382, '스탭분': 10383, '불과': 10384, '루틴': 10385, '달기': 10386, '쪽창': 10387, '연주자': 10388, '가우디': 10389, '숨결': 10390, '상징': 10391, '미적': 10392, '살아나다': 10393, '자랑스럽다': 10394, '투윈': 10395, '토피아': 10396, '뛰놀다': 10397, '열탕': 10398, 'ㄷㄷㄷ': 10399, '메론': 10400, '페러다임': 10401, '자쿠지속': 10402, '유영': 10403, '지운영': 10404, '훌룽': 10405, '미가': 10406, '드타': 10407, '뉴타운': 10408, '민희': 10409, '값지다': 10410, '좋쿠': 10411, '행로': 10412, '김미영': 10413, '룸설비스': 10414, '니즈': 10415, '막둥이': 10416, '부세': 10417, '급푹': 10418, '않음프론트': 10419, '않음룸': 10420, '큐리': 10421, '있음샴프': 10422, '볼만함룸': 10423, '버전': 10424, '요통': 10425, '김녕': 10426, '도편': 10427, '파바': 10428, '젠데': 10429, '어쩌겠어': 10430, '항공사': 10431, '잡곡': 10432, '햄스터': 10433, '공항동': 10434, '슈퍼마켓': 10435, '휼룽': 10436, '세프': 10437, '갈리': 10438, '말론': 10439, '두드러지다': 10440, '서명': 10441, '쥐': 10442, '엔간하다': 10443, '장보고': 10444, '대일': 10445, '난점': 10446, '늦추다': 10447, '신선룸': 10448, '섭섭하다': 10449, '뇨': 10450, '앞서다': 10451, '시행': 10452, '나이스': 10453, '늦': 10454, '요원하다': 10455, '심란': 10456, '각층': 10457, '미세하다': 10458, '네이비': 10459, '시르다': 10460, '짜이다': 10461, '열시': 10462, '선뜻': 10463, '메이즈': 10464, '굿감솨메': 10465, '읏': 10466, '동륜': 10467, '굿강추': 10468, '밖에도': 10469, '인승': 10470, '칠만': 10471, '신기다': 10472, '상외국': 10473, '하염없이': 10474, '작은딸': 10475, '로란': 10476, '노티': 10477, '계심': 10478, '달도': 10479, '돌하르방': 10480, '포터': 10481, '사발면': 10482, '어드벤쳐': 10483, '동심': 10484, '뜨이다': 10485, '뮤즈': 10486, '자폐': 10487, '셧던': 10488, '승진': 10489, '선물가게': 10490, '신중하다': 10491, '유쾌하': 10492, '용공': 10493, '음날': 10494, '구체': 10495, '라고만': 10496, '안드네': 10497, '산굼부리': 10498, '숲등': 10499, '저건': 10500, '개끗했어': 10501, '심부름': 10502, '노심초사': 10503, '기원': 10504, '걕실': 10505, '바램음': 10506, '시점': 10507, '젖먹이': 10508, '진향': 10509, '괼것': 10510, '깻': 10511, '주발': 10512, '다믕': 10513, '다사': 10514, '법접': 10515, '재꼇네': 10516, '볼트': 10517, '커피폿': 10518, '고위': 10519, '제육': 10520, '바층': 10521, '국제공항': 10522, '플라넷': 10523, '점즁귝': 10524, '역병': 10525, '전염병': 10526, '시원시원': 10527, '바닥재': 10528, '찢다': 10529, '우그러지다': 10530, '꿀팀': 10531, '납득': 10532, '쨍': 10533, '생애': 10534, '초고': 10535, '선사': 10536, '이자나': 10537, '어뮤니티': 10538, '울트라': 10539, '원더풀': 10540, '뷰티풀': 10541, '톡톡': 10542, '늘어지다': 10543, '스르륵': 10544, '간판': 10545, '케바케': 10546, '번만': 10547, '전방': 10548, '핬었': 10549, '탤로': 10550, '민웅님': 10551, '대여섯': 10552, '전기밥솥': 10553, '놨네': 10554, '형제섬': 10555, '산장': 10556, '송악산': 10557, '없슺니': 10558, '지에스': 10559, '굿굿굿굿': 10560, '여수': 10561, '감사히': 10562, '붸리': 10563, '이대': 10564, '개입': 10565, '연발': 10566, '엇네': 10567, '룸듀': 10568, '내심': 10569, '피톤': 10570, '치드': 10571, '선크림': 10572, '아강': 10573, '영시': 10574, '기내': 10575, '청춘': 10576, '소란하다': 10577, '룸들': 10578, '기안': 10579, '정성껏': 10580, '부자': 10581, '문장': 10582, '쓰래': 10583, 'stressless': 10584, '감격': 10585, '범퍼': 10586, '속결': 10587, '성격': 10588, '궁전': 10589, '밤하늘': 10590, '루이뷔통': 10591, '단추': 10592, '식품점': 10593, '훅박': 10594, '앞당기다': 10595, '후뫼': 10596, '갑직': 10597, '같힌': 10598, '만선': 10599, '강추앞': 10600, '도살': 10601, '내지': 10602, '고막': 10603, '낮뷰': 10604, '밤뷰': 10605, '놀렀어': 10606, '송년회': 10607, '배편': 10608, '티자': 10609, '유아인': 10610, '콜센터': 10611, '괞찮습니': 10612, '결점': 10613, '게시판': 10614, '공평하다': 10615, '듯회': 10616, '아랫목': 10617, '날맨': 10618, '지질': 10619, '외풀': 10620, '간걸': 10621, '방퀄리티': 10622, '따땃': 10623, '롯테': 10624, '이탈': 10625, '리언': 10626, '아따': 10627, '막딩': 10628, '쾌저': 10629, '염': 10630, '요산': 10631, '바글대다': 10632, '코코넛': 10633, '숏컷': 10634, '어떨': 10635, '조선만': 10636, '빠빠이': 10637, '깆춰져': 10638, '요호': 10639, '방긋방긋': 10640, '배당': 10641, '재래': 10642, '점임': 10643, '깐깐하다': 10644, '한가롭다': 10645, '겹치': 10646, '구급': 10647, '감점': 10648, '타이레놀': 10649, 'checkout': 10650, '완주': 10651, '등부': 10652, '서예': 10653, '시나': 10654, '주렴': 10655, '보들보들하다': 10656, '가깝슴니': 10657, '퇘적': 10658, '까지가': 10659, '체육관': 10660, '이라기보단': 10661, '더라구요': 10662, '층로': 10663, '숙취': 10664, '윈터': 10665, '플래터': 10666, 'lush': 10667, '에고': 10668, '한준': 10669, '어두운': 10670, '베이글': 10671, '생쾌': 10672, '순옥': 10673, 'gina': 10674, '삭막': 10675, '두아': 10676, '룸인것': 10677, '짓거리': 10678, '간선': 10679, '같아툐': 10680, '푸나': 10681, '예의': 10682, '컬렉션': 10683, 'dc': 10684, '할하': 10685, '맛잇엇어': 10686, '제수': 10687, '단숨': 10688, '멋셋': 10689, '세로': 10690, '조쿠': 10691, '마싯다': 10692, '여비': 10693, '찬성': 10694, '짝꿍': 10695, '쉬누': 10696, '르쉬누': 10697, '젋': 10698, '로또': 10699, '탈탈': 10700, '니나': 10701, '젛아': 10702, '수석': 10703, '화분': 10704, '회화': 10705, '식물원': 10706, '보행': 10707, '봄날': 10708, '면알': 10709, '맞먹다': 10710, '젬': 10711, '메밀': 10712, '전기레인지': 10713, '뽀뽀': 10714, 'entertainment': 10715, 'location': 10716, '처럼만': 10717, '미니미': 10718, '트윈베드방': 10719, '승인': 10720, '아늗': 10721, '유람선': 10722, '룽': 10723, '에의': 10724, '자가': 10725, '점손': 10726, 'seaes': 10727, '독': 10728, '평화로움': 10729, '이야말로': 10730, '트윈방': 10731, '수두': 10732, '데코': 10733, '금번': 10734, '종사': 10735, '이용헤': 10736, '분비': 10737, '어렴풋이': 10738, '결함': 10739, '얼떨결': 10740, '시진': 10741, '드싼': 10742, '삑': 10743, '반잔': 10744, '보냇네': 10745, '장희진': 10746, '글재주': 10747, '안녕하다': 10748, '소독제': 10749, '낯선': 10750, '단독룸': 10751, '컨텍': 10752, '뽐내다': 10753, '떡볶이': 10754, '왼': 10755, '보구': 10756, '꼬치': 10757, '으로까지': 10758, '날비': 10759, '온대': 10760, 'ace': 10761, '따오다': 10762, '조르다': 10763, '탁월': 10764, '튼튼하다': 10765, '스카치테이프': 10766, '까지와': 10767, '힌지': 10768, '햐초': 10769, 'ㅑ': 10770, 'ㅕㅎㅊ': 10771, '햐패': 10772, 'ㅗㅍ': 10773, '식감': 10774, '정서': 10775, '다야': 10776, '경의': 10777, '주전': 10778, '순간넚': 10779, '스임': 10780, '빈틈': 10781, '구잘': 10782, '할리스': 10783, '방성': 10784, '포포': 10785, '룸도넓': 10786, '곳더': 10787, '정햇': 10788, '명세': 10789, '규용': 10790, '어떻': 10791, '혁신도시': 10792, '덕소': 10793, '확신': 10794, '스킨로션': 10795, '도침': 10796, '움방': 10797, '퀘': 10798, '적하': 10799, '양하다': 10800, '빛과': 10801, '성계': 10802, '좋슴다': 10803, '농구코트': 10804, '김범수': 10805, '더스': 10806, '아숩': 10807, 'ted': 10808, '비웃다': 10809, '어두침침하다': 10810, '찰': 10811, '중추': 10812, '팩키지': 10813, '페셔': 10814, '레이나': 10815, '스피드': 10816, '시술': 10817, '의료': 10818, '아침밥': 10819, '공존': 10820, '거른적': 10821, '기프트샵': 10822, '주차장건물': 10823, '상급': 10824, '선대': 10825, '단기간': 10826, '유지시': 10827, '우산도': 10828, '뮨': 10829, '두렵다': 10830, '손바닥': 10831, '도망가다': 10832, '촣': 10833, '아하': 10834, '방내': 10835, '제나': 10836, '아었다': 10837, '장소라': 10838, '갑지': 10839, '친친': 10840, '방창': 10841, '함온': 10842, '올망졸망': 10843, '쪼꼼': 10844, '꺾다': 10845, '엽채': 10846, '소나무': 10847, '이선화': 10848, '흐믓해': 10849, '함룸': 10850, '두유': 10851, '흰밥': 10852, '카레': 10853, '춘해': 10854, '체킨': 10855, '드를거': 10856, 'ㄴㅓ': 10857, '빠듯함': 10858, '프론트있는': 10859, '정형': 10860, '에너미': 10861, '년를': 10862, '오토메이션': 10863, '이뿌다': 10864, '제빙': 10865, '관광명소': 10866, '성가시다': 10867, '주둥이': 10868, '안팎': 10869, '월컴티': 10870, '헹굴': 10871, '개봉': 10872, '트리어': 10873, '관보': 10874, '안들렷던걸': 10875, '지정도': 10876, 'thanks': 10877, 'roomservice': 10878, '물멍': 10879, '산조': 10880, '놀리다': 10881, '와보렵니': 10882, '둑': 10883, '둘러앉다': 10884, '잔재': 10885, '블들': 10886, '노인': 10887, '구시': 10888, '로망': 10889, '분기': 10890, '정합': 10891, '트리트먼트': 10892, '탁기': 10893, '심란하다': 10894, '보길도': 10895, '백남준': 10896, '여독': 10897, '레벨': 10898, '시마': 10899, '강추추추추추': 10900, '해둘겸': 10901, '재빨리': 10902, '원한': 10903, '데비': 10904, '벙크': 10905, '잠돌': 10906, '뤌씬': 10907, '램블': 10908, '빵맛': 10909, '랴드': 10910, '쿨': 10911, '유자': 10912, '섞다': 10913, '차빼': 10914, '건네주다': 10915, '프라': 10916, '덩물': 10917, '계곡': 10918, '가만두다': 10919, '필로': 10920, '나늘': 10921, '지난주': 10922, '아흔': 10923, '미수': 10924, '수송': 10925, '도자기': 10926, '소주잔': 10927, '집게': 10928, 'led': 10929, '깜빡이다': 10930, '문득': 10931, '선행': 10932, '어느덧다': 10933, '훌쩍': 10934, '오남매': 10935, '초가집': 10936, '남동생': 10937, '한룸': 10938, '세자매': 10939, '점심식사': 10940, '에서와': 10941, '자장면': 10942, '딥슬립': 10943, '소담': 10944, '알리다': 10945, '화창하다': 10946, '원시림': 10947, '욧': 10948, '맜있': 10949, '삼진': 10950, '겟': 10951, '실존': 10952, '놀곳': 10953, '장개': 10954, '성심': 10955, '성의껏': 10956, '밝아지다': 10957, '동행인': 10958, '번쩍': 10959, '끝임': 10960, '씌': 10961, '퍼시픽': 10962, '원선': 10963, 'olle': 10964, 'gsemart': 10965, '깨끗청소': 10966, '옆문': 10967, 'donny': 10968, '확대': 10969, '바람직하다': 10970, '연륜': 10971, '노하우': 10972, '좋았늡니': 10973, '꼬북': 10974, '최곤거': 10975, '잔후': 10976, '올케': 10977, '들여다보다': 10978, '색광': 10979, '고역': 10980, '전보': 10981, '제반': 10982, '올킬했': 10983, '사뭇': 10984, '초순': 10985, '지층': 10986, '에티튜드': 10987, '방덕': 10988, '성향': 10989, '샬롬': 10990, '원더': 10991, '차기': 10992, '용적': 10993, '족치다': 10994, '냉동기': 10995, '눈데': 10996, '하규': 10997, '돌체': 10998, '스토': 10999, '푹씬': 11000, '크리닝': 11001, '강동': 11002, '무렵': 11003, '자유로이': 11004, '극복': 11005, '콩': 11006, '호두': 11007, '건과류': 11008, '터프하': 11009, '평온': 11010, '뱉다': 11011, '피톤치드향': 11012, '강강강': 11013, '어쩌피': 11014, '나용': 11015, '말끔히': 11016, '간조': 11017, '브레이브': 11018, '출고': 11019, '왈종': 11020, '룸별': 11021, '멉니': 11022, 'ㅅㅔ': 11023, '돌보다': 11024, '볼껏': 11025, '렐트': 11026, '맍박': 11027, '장일': 11028, '희망사항': 11029, '별도룸': 11030, '따위': 11031, '딸둘': 11032, '트렌스포머': 11033, '엔터테이먼트': 11034, '김혜': 11035, '신한': 11036, '시간여행': 11037, '순삭': 11038, '조리도': 11039, '복작복작': 11040, '구경해': 11041, '정밀': 11042, '흐믓합니': 11043, '관중': 11044, '동호': 11045, '절묘하다': 11046, '액세스': 11047, '플러시': 11048, '산타클로스': 11049, '복장': 11050, '사탕': 11051, '커밍': 11052, '별장': 11053, '셔툴': 11054, '경우의수': 11055, '고급스넙': 11056, '번쩍번쩍': 11057, '서주': 11058, '할어버': 11059, 'racing': 11060, 'somerset': 11061, 'kids': 11062, '사주다': 11063, '표방': 11064, '츄해': 11065, '요약': 11066, '공제': 11067, '흘륭합니': 11068, '위약금': 11069, '번거러움': 11070, '소고기': 11071, '아고다': 11072, '만족습럽': 11073, '터치패드': 11074, 'lg': 11075, '디오스': 11076, '필립스': 11077, '압력밥솥': 11078, 'l': 11079, '프라이팬': 11080, '솥': 11081, '포크': 11082, '따개': 11083, '필러': 11084, '보디': 11085, '차리다': 11086, '닭죽': 11087, '묵직하다': 11088, '해장': 11089, '하와이': 11090, '주저앉다': 11091, '도렐커피': 11092, '보건': 11093, '멍충': 11094, '시큼하다': 11095, '차관': 11096, '세면실': 11097, '막회': 11098, '어짜피': 11099, '보룡제': 11100, '익숙': 11101, '잔당': 11102, '거렸습': 11103, '탄산음료': 11104, '지구': 11105, '냉각': 11106, '낙엽': 11107, '페티': 11108, '이어폰': 11109, '이쑤시개': 11110, '잡화': 11111, '불문': 11112, '랜딩관쪽': 11113, '스해': 11114, '긴가민가하다': 11115, '국철': 11116, '수능': 11117, '슝': 11118, '수시': 11119, '묵적': 11120, '정맣': 11121, '훈녀': 11122, '대우': 11123, '별보': 11124, 'flushing': 11125, '빼앗기다': 11126, '매뉴얼': 11127, '띠제': 11128, '중화요리': 11129, '운반': 11130, '렌딩관입니': 11131, '기성': 11132, '롭': 11133, '진헹됨': 11134, '청계': 11135, '하릇밤': 11136, '뜨레': 11137, '햐안': 11138, '동창': 11139, '문진': 11140, '이온': 11141, '인룸': 11142, '산적': 11143, '어우려져': 11144, '잎새': 11145, '가로수': 11146, '밙': 11147, '보람': 11148, '한결같이': 11149, '신맛': 11150, '에스프레소': 11151, '목요일': 11152, '바늘': 11153, '링링': 11154, '커지다': 11155, '겆': 11156, '시티홀': 11157, '빙문': 11158, 'fo': 11159, '벼룩시장': 11160, '추숙': 11161, '재미나다': 11162, 'family': 11163, '비리': 11164, 'bad': 11165, '향디': 11166, '뻘쭘헤': 11167, 'q': 11168, '같습니딘': 11169, '초겨울': 11170, '부적절': 11171, '한복': 11172, '정장': 11173, '하객': 11174, '주머니': 11175, '카메라': 11176, '집단': 11177, '고거': 11178, '에버랜드': 11179, '게쉬': 11180, '상탠': 11181, '수칙': 11182, '온전': 11183, '서성이다': 11184, '애프터눈': 11185, '도느': 11186, '중부': 11187, '일수록': 11188, '숍들': 11189, '빙기': 11190, '서프라이즈': 11191, '이욜': 11192, '투자가': 11193, '조곤조곤': 11194, '탄탄하다': 11195, '타르트': 11196, '음반': 11197, '신세계': 11198, '도드라지다': 11199, '트립': 11200, '방공': 11201, '밥통': 11202, '가오': 11203, '대상': 11204, '과분': 11205, '올려다보다': 11206, '반짝반짝': 11207, '랜딩관랜딩관': 11208, '이애': 11209, '시험': 11210, '진걸': 11211, '초봄': 11212, '셋등': 11213, '업글후': 11214, '권해': 11215, '다그': 11216, '랜당관': 11217, '의류': 11218, '패미리': 11219, '무작정': 11220, '보송하다': 11221, '맵': 11222, 'judy': 11223, 'g': 11224, '식은땀': 11225, '응급처치': 11226, '호전': 11227, '초조하다': 11228, '여름방학': 11229, '기획전': 11230, '사태': 11231, '웟으': 11232, '초콜렛': 11233, '조언': 11234, '클레이': 11235, '시브': 11236, '업글해': 11237, '치이다': 11238, '이타': 11239, '된장찌개': 11240, '관조': 11241, '우동': 11242, '블렌디드': 11243, '지난해': 11244, '꼬이다': 11245, '가정은': 11246, '약해지다': 11247, '래야': 11248, '게젤': 11249, '루맘': 11250, '홈피': 11251, '지침': 11252, '교통사고': 11253, '합의금': 11254, '갇': 11255, '나아가다': 11256, '꼬옥': 11257, '아낌없이': 11258, '슉': 11259, '가버리다': 11260, '스넘조쿠': 11261, '재기': 11262, '이남기': 11263, '완존': 11264, '는담': 11265, '굴거리': 11266, '띠용': 11267, '오믈랫': 11268, '미안': 11269, '욬': 11270, '쑝': 11271, '달컹거리': 11272, '승합차': 11273, '여탐': 11274, '바루': 11275, '아전': 11276, '따먹다': 11277, '귤나무': 11278, '기량': 11279, '집밖': 11280, '장남': 11281, '밀면': 11282, '코쿤': 11283, '탁원': 11284, '미술': 11285, '주잔': 11286, '자쿠지가': 11287, '짤막하다': 11288, '트윈침대방': 11289, '별자리': 11290, '우영': 11291, '취했네': 11292, '일어서다': 11293, '만으로는': 11294, '업계': 11295, '위반': 11296, '데일': 11297, '번전': 11298, '볼법': 11299, '닌텐도': 11300, '스윗룸': 11301, '해물탕': 11302, '유초등': 11303, '워트파크': 11304, '스플래시': 11305, '강원도': 11306, '인파': 11307, '폐관': 11308, '레이싱': 11309, '체험학습': 11310, '자연도': 11311, '호캉스였어': 11312, '듭': 11313, '실력': 11314, '플러스': 11315, '두려움': 11316, '원풀이': 11317, '안식처': 11318, '아이미': 11319, '취학': 11320, '방침': 11321, '쾌': 11322, '분대기': 11323, '유아렌탈': 11324, '줏대': 11325, '일석이조': 11326, '세팅된': 11327, '순찰': 11328, '스럽지도': 11329, '주룩주룩': 11330, '치구': 11331, '간장': 11332, '어트렉션': 11333, '뽀로로': 11334, '단언': 11335, '구한': 11336, '기리': 11337, '트랜딩': 11338, '세균': 11339, '후불': 11340, '됟것': 11341, '기박': 11342, '녀': 11343, '젓병': 11344, '포즈': 11345, 'ㅠㅠㅠㅠㅠㅠㅠ': 11346, '배우': 11347, '연보': 11348, '열도': 11349, '연락처': 11350, '잔한': 11351, '자칫하면': 11352, '운전대': 11353, '안부': 11354, '경황': 11355, '김희정': 11356, '멍하다': 11357, '무언': 11358, '층프론': 11359, '차우': 11360, '사발': 11361, '술판': 11362, '스팀': 11363, '순차': 11364, '오돌룸': 11365, '우측': 11366, '염전': 11367, '애월읍': 11368, '전투': 11369, '인증샷': 11370, '반고흐': 11371, '좋았슴다': 11372, '드롭존': 11373, '호화롭다': 11374, '살비': 11375, '선캑지': 11376, '옥수수': 11377, '중위': 11378, '캄캄하다': 11379, '브루어': 11380, '관번': 11381, '반기': 11382, '퀄리티에랜딩관': 11383, '무지개': 11384, '어머님께': 11385, '호객': 11386, '껑': 11387, '캐비어': 11388, '에그베네딕트': 11389, '해물': 11390, '관자': 11391, '파피': 11392, '주임': 11393, '청량하다': 11394, '쿨러': 11395, '중립': 11396, '쩐내등': 11397, '데넘': 11398, '딸부잣집': 11399, '박의': 11400, '여실': 11401, '기지': 11402, 'anna': 11403, '하여금': 11404, '블로거': 11405, '캐슬': 11406, '추차': 11407, '공식': 11408, '손자': 11409, '메이킹': 11410, '뉘일': 11411, '탄성': 11412, '금능': 11413, '초점': 11414, '스위트로텔': 11415, '힘내다': 11416, '고객감동': 11417, '둥': 11418, '재방뮨': 11419, '명문': 11420, '지역별': 11421, '눈요기': 11422, 'goooooooood': 11423, '또르르': 11424, '쉬이': 11425, '용모': 11426, '보물': 11427, '화이트데이': 11428, '서두': 11429, '독침': 11430, '공통': 11431, '신혼집': 11432, '이진': 11433, '뷰등': 11434, '낭패': 11435, '미고': 11436, '랭': 11437, '계장': 11438, '섹션': 11439, '국자': 11440, '사느랗다': 11441, '되새기다': 11442, '빠리': 11443, '주변인': 11444, '명불허전': 11445, '컨시련': 11446, '진수': 11447, '교정': 11448, '사위': 11449, 'web': 11450, '발신': 11451, '룸온리': 11452, '사르르': 11453, '빡셀': 11454, '유투브': 11455, '부리': 11456, '제주도숙소': 11457, '네덜란드': 11458, '나열하다': 11459, '연박할껄': 11460, '풀북': 11461, 'goooood': 11462, 'ㅌ': 11463, '편하레': 11464, '요게': 11465, '두리번거리다': 11466, 'spa': 11467, '쟁일': 11468, '룸컨': 11469, '풍부': 11470, '황': 11471, '슬어': 11472, '휴게': 11473, '눌': 11474, '어트랙드': 11475, '밥상': 11476, '택한건': 11477, '척척': 11478, '뜨뜻하다': 11479, '신생': 11480, '듭니당': 11481, '스무': 11482, '운동장': 11483, '삼삼오오': 11484, '하천': 11485, 'hans': 11486, '일정하다': 11487, '혼잣말': 11488, '시행착오': 11489, '방뷰': 11490, '보름': 11491, '꿀파른것같아': 11492, '만반': 11493, '오렵니': 11494, '열광하다': 11495, '어행': 11496, '깨뜻': 11497, '샤방샤방': 11498, '공주': 11499, '리장': 11500, '올여름': 11501, '부수': 11502, '요것': 11503, '중딸': 11504, '즘핫': 11505, '미디움': 11506, '미기': 11507, '딸왈': 11508, '증후군': 11509, '승강장': 11510, '트위룸': 11511, '머금': 11512, '장부근': 11513, '롤러': 11514, '파운데이션': 11515, '금새': 11516, '리드': 11517, '탭': 11518, '꼬박꼬박': 11519, '서리': 11520, '여럽번': 11521, '놀래기': 11522, '있으먄': 11523, '상복': 11524, '긴머리': 11525, '철저': 11526, '태닝': 11527, '훤해': 11528, '스타즈': 11529, '남매': 11530, '뛰어들다': 11531, '숨소리': 11532, '팔로': 11533, '한수': 11534, '카버되': 11535, '구배': 11536, '한화': 11537, '플레닛': 11538, '아멘': 11539, '철제': 11540, '명분': 11541, '룸슈페리어룸': 11542, '차근하다': 11543, '웨딩촬영': 11544, '그립다': 11545, '화난': 11546, '부끄럽다': 11547, '넑': 11548, '일후': 11549, '눈쌀': 11550, '세워지다': 11551, '새신랑': 11552, '호캉스답': 11553, '컷습니': 11554, '쏙드네': 11555, '헨리': 11556, '고치시': 11557, '항공권': 11558, '금일': 11559, '우울하다': 11560, '끝장': 11561, '따님': 11562, '헷': 11563, '줄어듬': 11564, '키위': 11565, '자몽': 11566, '금토일': 11567, '접견': 11568, '이클립스': 11569, '당구': 11570, '에게만': 11571, '서브': 11572, '합판': 11573, '제작': 11574, '이맘때': 11575, '결기': 11576, '진표': 11577, 'ㄱ': 11578, 'ㅑㅁ': 11579, 'ㅅㅑ': 11580, '찿아보': 11581, '없름': 11582, '과열': 11583, '덧문': 11584, '엄빠': 11585, '비지터': 11586, '윤지': 11587, '배인': 11588, '잔치': 11589, '환호': 11590, '감싸다': 11591, '나타내다': 11592, '방응': 11593, '솔로': 11594, '쏠쏠': 11595, '출현': 11596, '방중': 11597, '옆면': 11598, '좌향': 11599, '벽쪽': 11600, '궂어': 11601, '요모조모': 11602, '고담': 11603, '회정': 11604, '증가': 11605, '해메': 11606, '비중': 11607, '라텍스': 11608, '훠': 11609, '얼씬': 11610, '종았': 11611, '앵콜': 11612, '외치다': 11613, 'ㅓㅇ': 11614, 'ㅓㅁ': 11615, '개안쿠': 11616, '작가': 11617, '부지런하다': 11618, '녹음': 11619, '퀄': 11620, '이상조': 11621, '그니': 11622, '점외': 11623, '이하고': 11624, '럭': 11625, '좀일': 11626, '상쇄': 11627, '선책': 11628, '꾼': 11629, '대전': 11630, '호젓하다': 11631, '감방': 11632, '크랩': 11633, '차마': 11634, '프로필': 11635, '로이': 11636, '키다': 11637, '면전': 11638, '서해안': 11639, '크시': 11640, '획기': 11641, '데뷰': 11642, '겄': 11643, '국제': 11644, '편견': 11645, 'ㅜㅜㅜㅜㅜㅜ': 11646, '등전': 11647, '나왓어': 11648, '삼각김밥': 11649, '달라붙다': 11650, '고속': 11651, '지극히': 11652, '견해': 11653, '목도': 11654, '그랜드피아노': 11655, '청소면': 11656, '비슷': 11657, '롤링': 11658, '쪽뷰': 11659, '파재': 11660, '풀림': 11661, '주된': 11662, '조화롭다': 11663, '곤혹': 11664, '살며시': 11665, '감시': 11666, '과함': 11667, '보입닏': 11668, '깨꿋하': 11669, '기철': 11670, '깻잎': 11671, '채운': 11672, '철임': 11673, '웠으': 11674, '에티켓': 11675, '잉들': 11676, '눈살': 11677, '공허하다': 11678, '꼬랑내': 11679, '로디': 11680, '지하철': 11681, '호선': 11682, '서대문역': 11683, '마포': 11684, '수퍼마켓': 11685, '자쿠지보': 11686, '개망': 11687, '부속품': 11688, '장난없다': 11689, '으악': 11690, '어보': 11691, '잣음': 11692, '갅탁': 11693, '굿룸': 11694, '밈망함': 11695, '첫쨋': 11696, '쨋날': 11697, '외창': 11698, '트롤': 11699, '간소': 11700, 'continental': 11701, 'from': 11702, 'large': 11703, 'windowvery': 11704, 'friendly': 11705, 'workerstwo': 11706, 'thumbs': 11707, 'cnn': 11708, 'news': 11709, 'nhk': 11710, 'ps': 11711, '졎': 11712, '하리': 11713, '루안': 11714, '개성': 11715, '마다의': 11716, '간략하다': 11717, '처갓집': 11718, '가닥': 11719, '관음': 11720, '사행': 11721, '베풀다': 11722, '띤': 11723, '조잘조잘': 11724, '무었': 11725, '최고신': 11726, '묵던': 11727, '치료': 11728, 'dvd': 11729, '서재': 11730, '덜컥': 11731, '기고': 11732, '원스톱': 11733, '회수': 11734, '점좀': 11735, '잊혀지다': 11736, '보드': 11737, '숲향': 11738, '버팔로윙': 11739, '스무디': 11740, '채근': 11741, '심경': 11742, '고누': 11743, '공실이': 11744, '흐뭇하다': 11745, '기뼜습니': 11746, '정결': 11747, '테디베어': 11748, '드래곤': 11749, '레지던스형': 11750, '확띰': 11751, '부딧쳐': 11752, '스크레치': 11753, '보호대': 11754, '깇': 11755, '광활하다': 11756, '디너뷔폐': 11757, '처방': 11758, '윈': 11759, '롯': 11760, '현생': 11761, '끝단': 11762, '농협': 11763, '동측': 11764, '움층': 11765, '여장': 11766, '옹기종기': 11767, '부처': 11768, '물온': 11769, '이왕': 11770, '클라우디아': 11771, '잠실': 11772, '베트남': 11773, '플래쉬': 11774, '목격': 11775, '국가': 11776, '번개': 11777, '한가하다': 11778, '주얼': 11779, '경쾌하다': 11780, '싣다': 11781, '막연하다': 11782, '방목': 11783, '부지역': 11784, 'sweet': 11785, '쪼가리': 11786, '포아': 11787, '밎': 11788, '고압': 11789, '차근차근': 11790, '었다': 11791, '솔님': 11792}\n"
     ]
    }
   ],
   "source": [
    "print(tokenizer.word_index)"
   ]
  },
  {
   "cell_type": "code",
   "execution_count": 24,
   "metadata": {},
   "outputs": [
    {
     "name": "stdout",
     "output_type": "stream",
     "text": [
      "11792\n",
      "6474\n"
     ]
    }
   ],
   "source": [
    "threshold = 3\n",
    "total_cnt = len(tokenizer.word_index)\n",
    "rare_cnt = 0\n",
    "total_freq = 0\n",
    "rare_freq = 0\n",
    "for key, value in tokenizer.word_counts.items():\n",
    "    total_freq = total_freq + value\n",
    "    if(value < threshold):\n",
    "        rare_cnt = rare_cnt + 1\n",
    "        rare_freq = rare_freq + value\n",
    "print(total_cnt) \n",
    "print(rare_cnt) "
   ]
  },
  {
   "cell_type": "code",
   "execution_count": 25,
   "metadata": {},
   "outputs": [
    {
     "name": "stdout",
     "output_type": "stream",
     "text": [
      "5319\n"
     ]
    }
   ],
   "source": [
    "vocab_size = total_cnt -rare_cnt + 1\n",
    "print(vocab_size)"
   ]
  },
  {
   "cell_type": "code",
   "execution_count": 26,
   "metadata": {},
   "outputs": [],
   "source": [
    "tokenizer = Tokenizer(vocab_size)\n",
    "tokenizer.fit_on_texts(X_train) \n",
    "X_train = tokenizer.texts_to_sequences(X_train)\n",
    "X_test = tokenizer.texts_to_sequences(X_test)"
   ]
  },
  {
   "cell_type": "code",
   "execution_count": 27,
   "metadata": {},
   "outputs": [
    {
     "data": {
      "text/plain": [
       "['CNN_SF_0608_tokenizer.h5']"
      ]
     },
     "execution_count": 27,
     "metadata": {},
     "output_type": "execute_result"
    }
   ],
   "source": [
    "import joblib\n",
    "joblib.dump(tokenizer, 'CNN_SF_0608_tokenizer.h5')"
   ]
  },
  {
   "cell_type": "code",
   "execution_count": 28,
   "metadata": {},
   "outputs": [
    {
     "name": "stdout",
     "output_type": "stream",
     "text": [
      "[[11, 18, 15, 30, 1, 27, 11, 3, 1, 53, 11, 3, 1, 84, 23, 85, 439, 3562, 4, 1035, 23, 754, 84, 23, 85], [3563, 346, 4, 1198, 115, 146, 159, 10, 109, 5, 6, 3563, 346, 10, 559, 4, 268, 2023, 849, 3564, 1573, 462, 6], [264, 9, 46, 12]]\n"
     ]
    }
   ],
   "source": [
    "print(X_train[:3])"
   ]
  },
  {
   "cell_type": "code",
   "execution_count": 29,
   "metadata": {},
   "outputs": [],
   "source": [
    "y_train = np.array(train_data['label'][:])\n",
    "y_test = np.array(test_data['label'][:])"
   ]
  },
  {
   "cell_type": "code",
   "execution_count": 30,
   "metadata": {},
   "outputs": [],
   "source": [
    "max_len = max(len(l) for l in X_train)"
   ]
  },
  {
   "cell_type": "code",
   "execution_count": 31,
   "metadata": {},
   "outputs": [
    {
     "data": {
      "text/plain": [
       "81.9181946403385"
      ]
     },
     "execution_count": 31,
     "metadata": {},
     "output_type": "execute_result"
    }
   ],
   "source": [
    "cnt = 0\n",
    "for s in X_train:\n",
    "    if(len(s) <= 30):\n",
    "        cnt = cnt + 1\n",
    "(cnt / len(X_train))*100"
   ]
  },
  {
   "cell_type": "code",
   "execution_count": 32,
   "metadata": {},
   "outputs": [],
   "source": [
    "from tensorflow.keras.preprocessing.sequence import pad_sequences\n",
    "X_train = pad_sequences(X_train, maxlen = max_len)\n",
    "X_test = pad_sequences(X_test, maxlen = max_len)"
   ]
  },
  {
   "cell_type": "code",
   "execution_count": 33,
   "metadata": {},
   "outputs": [
    {
     "name": "stdout",
     "output_type": "stream",
     "text": [
      "Model: \"sequential\"\n",
      "_________________________________________________________________\n",
      " Layer (type)                Output Shape              Param #   \n",
      "=================================================================\n",
      " embedding (Embedding)       (None, 499, 100)          531900    \n",
      "                                                                 \n",
      " conv1d (Conv1D)             (None, 499, 64)           32064     \n",
      "                                                                 \n",
      " conv1d_1 (Conv1D)           (None, 499, 32)           8224      \n",
      "                                                                 \n",
      " conv1d_2 (Conv1D)           (None, 499, 16)           1552      \n",
      "                                                                 \n",
      " max_pooling1d (MaxPooling1D  (None, 99, 16)           0         \n",
      " )                                                               \n",
      "                                                                 \n",
      " flatten (Flatten)           (None, 1584)              0         \n",
      "                                                                 \n",
      " dense (Dense)               (None, 1)                 1585      \n",
      "                                                                 \n",
      "=================================================================\n",
      "Total params: 575,325\n",
      "Trainable params: 575,325\n",
      "Non-trainable params: 0\n",
      "_________________________________________________________________\n"
     ]
    }
   ],
   "source": [
    "#<CNN>\n",
    "import tensorflow as tf\n",
    "from tensorflow.keras.models import Sequential\n",
    "from tensorflow.keras.layers import Embedding, Conv1D,Dense, Flatten, MaxPooling1D\n",
    "from tensorflow.keras.callbacks import EarlyStopping,ModelCheckpoint\n",
    "from tensorflow.keras.models import load_model\n",
    "\n",
    "model = Sequential()\n",
    "model.add(Embedding(vocab_size, 100, input_length =max_len))\n",
    "model.add(Conv1D(filters = 64, kernel_size = 5, padding ='same',activation = 'softmax', strides = 1))\n",
    "model.add(Conv1D(filters = 32, kernel_size = 4, padding ='same',activation = 'softmax', strides = 1))\n",
    "model.add(Conv1D(filters = 16, kernel_size = 3, padding ='same',activation = 'softmax', strides = 1))\n",
    "model.add(MaxPooling1D(5))\n",
    "model.add(Flatten())\n",
    "model.add(Dense(1, activation='sigmoid'))\n",
    "#model.compile(loss = 'binary_crossentropy', optimizer ='adam', metrics=['acc'])\n",
    "model.compile(loss = tf.keras.losses.BinaryCrossentropy(), optimizer =tf.keras.optimizers.Adam(), metrics=['acc'])\n",
    "model.summary()"
   ]
  },
  {
   "cell_type": "code",
   "execution_count": 34,
   "metadata": {},
   "outputs": [
    {
     "name": "stdout",
     "output_type": "stream",
     "text": [
      "Epoch 1/10\n",
      "222/222 [==============================] - ETA: 0s - loss: 0.6625 - acc: 0.6262\n",
      "Epoch 1: val_acc improved from -inf to 0.00000, saving model to CNN_SF_0608_model.h5\n",
      "222/222 [==============================] - 8s 26ms/step - loss: 0.6625 - acc: 0.6262 - val_loss: 0.9990 - val_acc: 0.0000e+00\n",
      "Epoch 2/10\n",
      "220/222 [============================>.] - ETA: 0s - loss: 0.6629 - acc: 0.6259\n",
      "Epoch 2: val_acc did not improve from 0.00000\n",
      "222/222 [==============================] - 5s 24ms/step - loss: 0.6627 - acc: 0.6262 - val_loss: 1.0058 - val_acc: 0.0000e+00\n",
      "Epoch 3/10\n",
      "222/222 [==============================] - ETA: 0s - loss: 0.6620 - acc: 0.6262\n",
      "Epoch 3: val_acc did not improve from 0.00000\n",
      "222/222 [==============================] - 5s 23ms/step - loss: 0.6620 - acc: 0.6262 - val_loss: 0.9388 - val_acc: 0.0000e+00\n",
      "Epoch 4/10\n",
      "221/222 [============================>.] - ETA: 0s - loss: 0.6622 - acc: 0.6263\n",
      "Epoch 4: val_acc did not improve from 0.00000\n",
      "222/222 [==============================] - 5s 24ms/step - loss: 0.6623 - acc: 0.6262 - val_loss: 0.9850 - val_acc: 0.0000e+00\n",
      "Epoch 5/10\n",
      "220/222 [============================>.] - ETA: 0s - loss: 0.6630 - acc: 0.6262\n",
      "Epoch 5: val_acc did not improve from 0.00000\n",
      "222/222 [==============================] - 5s 23ms/step - loss: 0.6630 - acc: 0.6262 - val_loss: 1.1042 - val_acc: 0.0000e+00\n",
      "Epoch 6/10\n",
      "221/222 [============================>.] - ETA: 0s - loss: 0.6594 - acc: 0.6262\n",
      "Epoch 6: val_acc did not improve from 0.00000\n",
      "222/222 [==============================] - 5s 23ms/step - loss: 0.6594 - acc: 0.6262 - val_loss: 0.9476 - val_acc: 0.0000e+00\n",
      "Epoch 7/10\n",
      "221/222 [============================>.] - ETA: 0s - loss: 0.6207 - acc: 0.6410\n",
      "Epoch 7: val_acc improved from 0.00000 to 0.29788, saving model to CNN_SF_0608_model.h5\n",
      "222/222 [==============================] - 5s 23ms/step - loss: 0.6207 - acc: 0.6412 - val_loss: 0.9301 - val_acc: 0.2979\n",
      "Epoch 8/10\n",
      "222/222 [==============================] - ETA: 0s - loss: 0.5710 - acc: 0.7000\n",
      "Epoch 8: val_acc improved from 0.29788 to 0.36869, saving model to CNN_SF_0608_model.h5\n",
      "222/222 [==============================] - 5s 24ms/step - loss: 0.5710 - acc: 0.7000 - val_loss: 0.9908 - val_acc: 0.3687\n",
      "Epoch 9/10\n",
      "221/222 [============================>.] - ETA: 0s - loss: 0.5384 - acc: 0.7272\n",
      "Epoch 9: val_acc did not improve from 0.36869\n",
      "222/222 [==============================] - 5s 23ms/step - loss: 0.5382 - acc: 0.7273 - val_loss: 1.1194 - val_acc: 0.3537\n",
      "Epoch 10/10\n",
      "221/222 [============================>.] - ETA: 0s - loss: 0.5132 - acc: 0.7496\n",
      "Epoch 10: val_acc did not improve from 0.36869\n",
      "222/222 [==============================] - 5s 23ms/step - loss: 0.5131 - acc: 0.7497 - val_loss: 1.2013 - val_acc: 0.3566\n"
     ]
    },
    {
     "data": {
      "text/plain": [
       "<keras.callbacks.History at 0x1e08c34d4c0>"
      ]
     },
     "execution_count": 34,
     "metadata": {},
     "output_type": "execute_result"
    }
   ],
   "source": [
    "es = EarlyStopping(monitor='val_loss', mode='min',patience=5)\n",
    "mc = ModelCheckpoint('CNN_SF_0608_model.h5', monitor='val_acc',\n",
    "mode='max', verbose=1, save_best_only=True)\n",
    "model.fit(X_train, y_train, batch_size = 64, epochs=10,validation_split=0.2, callbacks=[es, mc])"
   ]
  },
  {
   "cell_type": "code",
   "execution_count": 35,
   "metadata": {},
   "outputs": [
    {
     "name": "stdout",
     "output_type": "stream",
     "text": [
      "248/248 [==============================] - 2s 6ms/step - loss: 0.8452 - acc: 0.4896\n"
     ]
    },
    {
     "data": {
      "text/plain": [
       "[0.8452221751213074, 0.48960039019584656]"
      ]
     },
     "execution_count": 35,
     "metadata": {},
     "output_type": "execute_result"
    }
   ],
   "source": [
    "loaded_model = load_model('CNN_SF_0608_model.h5')\n",
    "loaded_model.evaluate(X_test, y_test)"
   ]
  },
  {
   "cell_type": "code",
   "execution_count": 36,
   "metadata": {},
   "outputs": [],
   "source": [
    "import math\n",
    "def review_predict(new_sentence):\n",
    "    new_sentence = okt.morphs(new_sentence, stem=True) # 토큰화\n",
    "    new_sentence = [word for word in new_sentence if not word in stopwords] # 불용어 제거\n",
    "    encoded = tokenizer.texts_to_sequences([new_sentence]) #정수 인코딩\n",
    "    pad_new = pad_sequences(encoded, maxlen = max_len) # 패딩\n",
    "    score = float(model.predict(pad_new)) # 예측\n",
    "    if( score < 0.1): \n",
    "        print(f\"예상 평점 {math.trunc(score* 10)}점 -> 매우 부정 리뷰입니다.\\n\")\n",
    "    elif( score >= 0.1 and score < 0.2): \n",
    "        print(f\"예상 평점 {math.trunc(score* 10)}점 -> 매우 부정 리뷰입니다.\\n\")\n",
    "    elif(score >= 0.2 and score < 0.3):\n",
    "        print(f\"예상 평점 {math.trunc(score* 10)}점 -> 부정 리뷰입니다.\\n\")\n",
    "    elif(score >= 0.3 and score < 0.4):\n",
    "        print(f\"예상 평점 {math.trunc(score* 10)}점 -> 부정 리뷰입니다.\\n\")\n",
    "    elif(score >= 0.4 and score < 0.5):\n",
    "        print(f\"예상 평점 {math.trunc(score* 10)}점 -> 부정 리뷰입니다.\\n\")\n",
    "    elif(score >= 0.5 and score < 0.6):\n",
    "        print(f\"예상 평점 {math.trunc(score* 10)}점 -> 보통 리뷰입니다.\\n\")\n",
    "    elif(score >= 0.6 and score < 0.7):\n",
    "        print(f\"예상 평점 {math.trunc(score* 10)}점 -> 보통 리뷰입니다.\\n\")\n",
    "    elif(score >= 0.7 and score < 0.8):\n",
    "        print(f\"예상 평점 {math.trunc(score* 10)}점 -> 긍정 리뷰입니다.\\n\")\n",
    "    elif(score >= 0.8 and score <= 0.9):\n",
    "        print(f\"예상 평점 {math.trunc(score* 10)}점 -> 긍정 리뷰입니다.\\n\")\n",
    "    elif(score > 0.9 and score <= 1.0):\n",
    "        print(f\"예상 평점 {math.trunc(score* 10)}점 -> 매우 긍정 리뷰입니다.\\n\")\n",
    "    # else:\n",
    "    #     print(f\"예상 평점 {math.trunc(score* 10)}점 -> 긍정 리뷰입니다.~\\n\")\n",
    "    #print(score)"
   ]
  },
  {
   "cell_type": "code",
   "execution_count": 37,
   "metadata": {},
   "outputs": [
    {
     "name": "stdout",
     "output_type": "stream",
     "text": [
      "1/1 [==============================] - 0s 126ms/step\n",
      "예상 평점 2점 -> 부정 리뷰입니다.\n",
      "\n"
     ]
    }
   ],
   "source": [
    "review_predict('공간이 넓어서 셋이 지내기도 불편하지 않았다')"
   ]
  },
  {
   "cell_type": "code",
   "execution_count": 38,
   "metadata": {},
   "outputs": [
    {
     "name": "stdout",
     "output_type": "stream",
     "text": [
      "1/1 [==============================] - 0s 18ms/step\n",
      "예상 평점 1점 -> 매우 부정 리뷰입니다.\n",
      "\n"
     ]
    }
   ],
   "source": [
    "review_predict('2박동안 조식메뉴가 똑같았다는게 조금 아쉽습니다')"
   ]
  },
  {
   "cell_type": "code",
   "execution_count": 39,
   "metadata": {},
   "outputs": [
    {
     "name": "stdout",
     "output_type": "stream",
     "text": [
      "1/1 [==============================] - 0s 18ms/step\n",
      "예상 평점 2점 -> 부정 리뷰입니다.\n",
      "\n"
     ]
    }
   ],
   "source": [
    "review_predict('1층이 좀 답답하게 느껴졌음')"
   ]
  },
  {
   "cell_type": "code",
   "execution_count": 40,
   "metadata": {},
   "outputs": [
    {
     "name": "stdout",
     "output_type": "stream",
     "text": [
      "1/1 [==============================] - 0s 18ms/step\n",
      "예상 평점 2점 -> 부정 리뷰입니다.\n",
      "\n"
     ]
    }
   ],
   "source": [
    "review_predict('공간이 좁아서 혼자 지내기도 불편했다')"
   ]
  },
  {
   "cell_type": "code",
   "execution_count": 41,
   "metadata": {},
   "outputs": [
    {
     "name": "stdout",
     "output_type": "stream",
     "text": [
      "1/1 [==============================] - 0s 17ms/step\n",
      "예상 평점 2점 -> 부정 리뷰입니다.\n",
      "\n"
     ]
    }
   ],
   "source": [
    "review_predict('공간은 좁지만 혼자 지내기 충분했다')"
   ]
  },
  {
   "cell_type": "code",
   "execution_count": 42,
   "metadata": {},
   "outputs": [
    {
     "name": "stdout",
     "output_type": "stream",
     "text": [
      "1/1 [==============================] - 0s 24ms/step\n",
      "예상 평점 6점 -> 보통 리뷰입니다.\n",
      "\n"
     ]
    }
   ],
   "source": [
    "review_predict('수영장이 좋고 단지내에 할 수 있는 것이 많았다')"
   ]
  },
  {
   "cell_type": "code",
   "execution_count": 43,
   "metadata": {},
   "outputs": [
    {
     "name": "stdout",
     "output_type": "stream",
     "text": [
      "1/1 [==============================] - 0s 17ms/step\n",
      "예상 평점 1점 -> 매우 부정 리뷰입니다.\n",
      "\n"
     ]
    }
   ],
   "source": [
    "review_predict('신회월드는 숙소도 좋지만 식당가가 훌륭합니다.한식당 선은 매우 훌륭한데. 육전 강추입니다.')"
   ]
  },
  {
   "cell_type": "code",
   "execution_count": 44,
   "metadata": {},
   "outputs": [
    {
     "name": "stdout",
     "output_type": "stream",
     "text": [
      "1/1 [==============================] - 0s 18ms/step\n",
      "예상 평점 2점 -> 부정 리뷰입니다.\n",
      "\n"
     ]
    }
   ],
   "source": [
    "review_predict('잘 선택했다는 좋은 하루였습니다')"
   ]
  },
  {
   "cell_type": "code",
   "execution_count": 45,
   "metadata": {},
   "outputs": [
    {
     "name": "stdout",
     "output_type": "stream",
     "text": [
      "1/1 [==============================] - 0s 18ms/step\n",
      "예상 평점 7점 -> 긍정 리뷰입니다.\n",
      "\n"
     ]
    }
   ],
   "source": [
    "review_predict('해외나가지 않아도 호텔안에만 있으니 해외 간 느낌이 들고 시설이 좋아서 편안')"
   ]
  },
  {
   "cell_type": "code",
   "execution_count": 46,
   "metadata": {},
   "outputs": [
    {
     "name": "stdout",
     "output_type": "stream",
     "text": [
      "1/1 [==============================] - 0s 18ms/step\n",
      "예상 평점 2점 -> 부정 리뷰입니다.\n",
      "\n"
     ]
    }
   ],
   "source": [
    "review_predict('사이트와 다르게 조식은 제공 되지 않습니다. 해당 사항을 사전에 고지해주지 않습니다.')"
   ]
  },
  {
   "cell_type": "code",
   "execution_count": 47,
   "metadata": {},
   "outputs": [
    {
     "name": "stdout",
     "output_type": "stream",
     "text": [
      "1/1 [==============================] - 0s 17ms/step\n",
      "예상 평점 0점 -> 매우 부정 리뷰입니다.\n",
      "\n"
     ]
    }
   ],
   "source": [
    "review_predict('청소가 아쉽습니다. 객실 및 침구 청소는 하시는데 화장실 및 욕조 청소는 안 되어있더라구요.')"
   ]
  },
  {
   "cell_type": "code",
   "execution_count": 48,
   "metadata": {},
   "outputs": [
    {
     "name": "stdout",
     "output_type": "stream",
     "text": [
      "1/1 [==============================] - 0s 18ms/step\n",
      "예상 평점 4점 -> 부정 리뷰입니다.\n",
      "\n"
     ]
    }
   ],
   "source": [
    "review_predict('직원들의 서비스, 주방장님의 정갈한 음식. 분위기도 조용하고.퀄러티는 초특급 5급인데요.')"
   ]
  },
  {
   "cell_type": "code",
   "execution_count": 49,
   "metadata": {},
   "outputs": [
    {
     "name": "stdout",
     "output_type": "stream",
     "text": [
      "1/1 [==============================] - 0s 26ms/step\n",
      "예상 평점 6점 -> 보통 리뷰입니다.\n",
      "\n"
     ]
    }
   ],
   "source": [
    "review_predict('아주 깨끗하고 청결하며 주인장이 너무 너무 친절함')"
   ]
  }
 ],
 "metadata": {
  "kernelspec": {
   "display_name": "base",
   "language": "python",
   "name": "python3"
  },
  "language_info": {
   "codemirror_mode": {
    "name": "ipython",
    "version": 3
   },
   "file_extension": ".py",
   "mimetype": "text/x-python",
   "name": "python",
   "nbconvert_exporter": "python",
   "pygments_lexer": "ipython3",
   "version": "3.9.16"
  },
  "orig_nbformat": 4
 },
 "nbformat": 4,
 "nbformat_minor": 2
}
